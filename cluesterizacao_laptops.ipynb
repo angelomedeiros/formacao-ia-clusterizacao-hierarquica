{
 "cells": [
  {
   "cell_type": "code",
   "execution_count": 27,
   "metadata": {},
   "outputs": [],
   "source": [
    "# EDA\n",
    "import pandas as pd\n",
    "import seaborn as sns\n",
    "import plotly.express as px\n",
    "from matplotlib import pyplot as plt\n",
    "\n",
    "# ML\n",
    "from sklearn.cluster import AgglomerativeClustering, BisectingKMeans\n",
    "from sklearn.metrics import silhouette_score\n",
    "from sklearn.preprocessing import StandardScaler, OneHotEncoder\n",
    "from sklearn.compose import ColumnTransformer\n",
    "import numpy as np\n",
    "from scipy.cluster.hierarchy import dendrogram, linkage, cut_tree\n",
    "\n",
    "# Otimização\n",
    "import optuna"
   ]
  },
  {
   "cell_type": "markdown",
   "metadata": {},
   "source": [
    "# Carregar os dados"
   ]
  },
  {
   "cell_type": "code",
   "execution_count": 28,
   "metadata": {},
   "outputs": [],
   "source": [
    "# Carregar Dataframe\n",
    "df_laptops = pd.read_csv('datasets/laptops_new.csv')"
   ]
  },
  {
   "cell_type": "code",
   "execution_count": 29,
   "metadata": {},
   "outputs": [
    {
     "name": "stdout",
     "output_type": "stream",
     "text": [
      "<class 'pandas.core.frame.DataFrame'>\n",
      "RangeIndex: 991 entries, 0 to 990\n",
      "Data columns (total 20 columns):\n",
      " #   Column                    Non-Null Count  Dtype  \n",
      "---  ------                    --------------  -----  \n",
      " 0   index                     991 non-null    int64  \n",
      " 1   brand                     991 non-null    object \n",
      " 2   model                     991 non-null    object \n",
      " 3   price                     991 non-null    float64\n",
      " 4   rating                    991 non-null    int64  \n",
      " 5   processor_brand           991 non-null    object \n",
      " 6   processor_tier            991 non-null    object \n",
      " 7   num_cores                 991 non-null    int64  \n",
      " 8   num_threads               991 non-null    int64  \n",
      " 9   ram_memory                991 non-null    int64  \n",
      " 10  primary_storage_type      991 non-null    object \n",
      " 11  primary_storage_capacity  991 non-null    int64  \n",
      " 12  gpu_brand                 991 non-null    object \n",
      " 13  gpu_type                  991 non-null    object \n",
      " 14  is_touch_screen           991 non-null    bool   \n",
      " 15  display_size              991 non-null    float64\n",
      " 16  resolution_width          991 non-null    int64  \n",
      " 17  resolution_height         991 non-null    int64  \n",
      " 18  os                        991 non-null    object \n",
      " 19  year_of_warranty          991 non-null    object \n",
      "dtypes: bool(1), float64(2), int64(8), object(9)\n",
      "memory usage: 148.2+ KB\n"
     ]
    }
   ],
   "source": [
    "# Analisar a estrututra\n",
    "df_laptops.info()"
   ]
  },
  {
   "cell_type": "code",
   "execution_count": 30,
   "metadata": {},
   "outputs": [
    {
     "data": {
      "text/html": [
       "<div>\n",
       "<style scoped>\n",
       "    .dataframe tbody tr th:only-of-type {\n",
       "        vertical-align: middle;\n",
       "    }\n",
       "\n",
       "    .dataframe tbody tr th {\n",
       "        vertical-align: top;\n",
       "    }\n",
       "\n",
       "    .dataframe thead th {\n",
       "        text-align: right;\n",
       "    }\n",
       "</style>\n",
       "<table border=\"1\" class=\"dataframe\">\n",
       "  <thead>\n",
       "    <tr style=\"text-align: right;\">\n",
       "      <th></th>\n",
       "      <th>index</th>\n",
       "      <th>brand</th>\n",
       "      <th>model</th>\n",
       "      <th>price</th>\n",
       "      <th>rating</th>\n",
       "      <th>processor_brand</th>\n",
       "      <th>processor_tier</th>\n",
       "      <th>num_cores</th>\n",
       "      <th>num_threads</th>\n",
       "      <th>ram_memory</th>\n",
       "      <th>primary_storage_type</th>\n",
       "      <th>primary_storage_capacity</th>\n",
       "      <th>gpu_brand</th>\n",
       "      <th>gpu_type</th>\n",
       "      <th>is_touch_screen</th>\n",
       "      <th>display_size</th>\n",
       "      <th>resolution_width</th>\n",
       "      <th>resolution_height</th>\n",
       "      <th>os</th>\n",
       "      <th>year_of_warranty</th>\n",
       "    </tr>\n",
       "  </thead>\n",
       "  <tbody>\n",
       "    <tr>\n",
       "      <th>0</th>\n",
       "      <td>1</td>\n",
       "      <td>tecno</td>\n",
       "      <td>Tecno Megabook T1 Laptop (11th Gen Core i3/ 8G...</td>\n",
       "      <td>287.72</td>\n",
       "      <td>63</td>\n",
       "      <td>intel</td>\n",
       "      <td>core i3</td>\n",
       "      <td>2</td>\n",
       "      <td>4</td>\n",
       "      <td>8</td>\n",
       "      <td>SSD</td>\n",
       "      <td>512</td>\n",
       "      <td>intel</td>\n",
       "      <td>integrated</td>\n",
       "      <td>False</td>\n",
       "      <td>15.6</td>\n",
       "      <td>1920</td>\n",
       "      <td>1080</td>\n",
       "      <td>windows</td>\n",
       "      <td>1</td>\n",
       "    </tr>\n",
       "    <tr>\n",
       "      <th>1</th>\n",
       "      <td>2</td>\n",
       "      <td>tecno</td>\n",
       "      <td>Tecno Megabook T1 Laptop (11th Gen Core i7/ 16...</td>\n",
       "      <td>431.64</td>\n",
       "      <td>67</td>\n",
       "      <td>intel</td>\n",
       "      <td>core i7</td>\n",
       "      <td>4</td>\n",
       "      <td>8</td>\n",
       "      <td>16</td>\n",
       "      <td>SSD</td>\n",
       "      <td>1024</td>\n",
       "      <td>intel</td>\n",
       "      <td>integrated</td>\n",
       "      <td>False</td>\n",
       "      <td>15.6</td>\n",
       "      <td>1920</td>\n",
       "      <td>1080</td>\n",
       "      <td>windows</td>\n",
       "      <td>1</td>\n",
       "    </tr>\n",
       "    <tr>\n",
       "      <th>2</th>\n",
       "      <td>3</td>\n",
       "      <td>hp</td>\n",
       "      <td>HP Victus 15-fb0157AX Gaming Laptop (AMD Ryzen...</td>\n",
       "      <td>612.86</td>\n",
       "      <td>73</td>\n",
       "      <td>amd</td>\n",
       "      <td>ryzen 5</td>\n",
       "      <td>6</td>\n",
       "      <td>12</td>\n",
       "      <td>8</td>\n",
       "      <td>SSD</td>\n",
       "      <td>512</td>\n",
       "      <td>amd</td>\n",
       "      <td>dedicated</td>\n",
       "      <td>False</td>\n",
       "      <td>15.6</td>\n",
       "      <td>1920</td>\n",
       "      <td>1080</td>\n",
       "      <td>windows</td>\n",
       "      <td>1</td>\n",
       "    </tr>\n",
       "    <tr>\n",
       "      <th>3</th>\n",
       "      <td>4</td>\n",
       "      <td>acer</td>\n",
       "      <td>Acer Extensa EX214-53 Laptop (12th Gen Core i5...</td>\n",
       "      <td>479.62</td>\n",
       "      <td>62</td>\n",
       "      <td>intel</td>\n",
       "      <td>core i5</td>\n",
       "      <td>12</td>\n",
       "      <td>16</td>\n",
       "      <td>8</td>\n",
       "      <td>SSD</td>\n",
       "      <td>512</td>\n",
       "      <td>intel</td>\n",
       "      <td>integrated</td>\n",
       "      <td>False</td>\n",
       "      <td>14.0</td>\n",
       "      <td>1920</td>\n",
       "      <td>1080</td>\n",
       "      <td>windows</td>\n",
       "      <td>1</td>\n",
       "    </tr>\n",
       "    <tr>\n",
       "      <th>4</th>\n",
       "      <td>5</td>\n",
       "      <td>lenovo</td>\n",
       "      <td>Lenovo V15 82KDA01BIH Laptop (AMD Ryzen 3 5300...</td>\n",
       "      <td>342.77</td>\n",
       "      <td>62</td>\n",
       "      <td>amd</td>\n",
       "      <td>ryzen 3</td>\n",
       "      <td>4</td>\n",
       "      <td>8</td>\n",
       "      <td>8</td>\n",
       "      <td>SSD</td>\n",
       "      <td>512</td>\n",
       "      <td>amd</td>\n",
       "      <td>integrated</td>\n",
       "      <td>False</td>\n",
       "      <td>15.6</td>\n",
       "      <td>1920</td>\n",
       "      <td>1080</td>\n",
       "      <td>windows</td>\n",
       "      <td>1</td>\n",
       "    </tr>\n",
       "    <tr>\n",
       "      <th>5</th>\n",
       "      <td>6</td>\n",
       "      <td>apple</td>\n",
       "      <td>Apple MacBook Air 2020 MGND3HN Laptop (Apple M...</td>\n",
       "      <td>851.41</td>\n",
       "      <td>45</td>\n",
       "      <td>apple</td>\n",
       "      <td>m1</td>\n",
       "      <td>8</td>\n",
       "      <td>8</td>\n",
       "      <td>8</td>\n",
       "      <td>SSD</td>\n",
       "      <td>256</td>\n",
       "      <td>apple</td>\n",
       "      <td>apple</td>\n",
       "      <td>False</td>\n",
       "      <td>13.3</td>\n",
       "      <td>2560</td>\n",
       "      <td>1600</td>\n",
       "      <td>mac</td>\n",
       "      <td>1</td>\n",
       "    </tr>\n",
       "    <tr>\n",
       "      <th>6</th>\n",
       "      <td>7</td>\n",
       "      <td>infinix</td>\n",
       "      <td>Infinix INBook Y2 Plus Laptop (11th Gen Core i...</td>\n",
       "      <td>419.65</td>\n",
       "      <td>56</td>\n",
       "      <td>intel</td>\n",
       "      <td>core i5</td>\n",
       "      <td>4</td>\n",
       "      <td>8</td>\n",
       "      <td>16</td>\n",
       "      <td>SSD</td>\n",
       "      <td>512</td>\n",
       "      <td>intel</td>\n",
       "      <td>integrated</td>\n",
       "      <td>False</td>\n",
       "      <td>15.6</td>\n",
       "      <td>1920</td>\n",
       "      <td>1080</td>\n",
       "      <td>windows</td>\n",
       "      <td>1</td>\n",
       "    </tr>\n",
       "    <tr>\n",
       "      <th>7</th>\n",
       "      <td>8</td>\n",
       "      <td>asus</td>\n",
       "      <td>Asus TUF Gaming F15 FX506HF-HN024W Gaming Lapt...</td>\n",
       "      <td>599.55</td>\n",
       "      <td>70</td>\n",
       "      <td>intel</td>\n",
       "      <td>core i5</td>\n",
       "      <td>6</td>\n",
       "      <td>12</td>\n",
       "      <td>8</td>\n",
       "      <td>SSD</td>\n",
       "      <td>512</td>\n",
       "      <td>nvidia</td>\n",
       "      <td>dedicated</td>\n",
       "      <td>False</td>\n",
       "      <td>15.6</td>\n",
       "      <td>1920</td>\n",
       "      <td>1080</td>\n",
       "      <td>windows</td>\n",
       "      <td>1</td>\n",
       "    </tr>\n",
       "    <tr>\n",
       "      <th>8</th>\n",
       "      <td>9</td>\n",
       "      <td>hp</td>\n",
       "      <td>HP 15s-fq5007TU Laptop (12th Gen Core i3/ 8GB/...</td>\n",
       "      <td>443.64</td>\n",
       "      <td>60</td>\n",
       "      <td>intel</td>\n",
       "      <td>core i3</td>\n",
       "      <td>6</td>\n",
       "      <td>8</td>\n",
       "      <td>8</td>\n",
       "      <td>SSD</td>\n",
       "      <td>512</td>\n",
       "      <td>intel</td>\n",
       "      <td>integrated</td>\n",
       "      <td>False</td>\n",
       "      <td>15.6</td>\n",
       "      <td>1920</td>\n",
       "      <td>1080</td>\n",
       "      <td>windows</td>\n",
       "      <td>1</td>\n",
       "    </tr>\n",
       "    <tr>\n",
       "      <th>9</th>\n",
       "      <td>10</td>\n",
       "      <td>infinix</td>\n",
       "      <td>Infinix Zerobook 2023 Laptop (13th Gen Core i9...</td>\n",
       "      <td>719.48</td>\n",
       "      <td>71</td>\n",
       "      <td>intel</td>\n",
       "      <td>core i9</td>\n",
       "      <td>14</td>\n",
       "      <td>20</td>\n",
       "      <td>32</td>\n",
       "      <td>SSD</td>\n",
       "      <td>1024</td>\n",
       "      <td>intel</td>\n",
       "      <td>integrated</td>\n",
       "      <td>False</td>\n",
       "      <td>15.6</td>\n",
       "      <td>1920</td>\n",
       "      <td>1080</td>\n",
       "      <td>windows</td>\n",
       "      <td>1</td>\n",
       "    </tr>\n",
       "  </tbody>\n",
       "</table>\n",
       "</div>"
      ],
      "text/plain": [
       "   index    brand                                              model   price  \\\n",
       "0      1    tecno  Tecno Megabook T1 Laptop (11th Gen Core i3/ 8G...  287.72   \n",
       "1      2    tecno  Tecno Megabook T1 Laptop (11th Gen Core i7/ 16...  431.64   \n",
       "2      3       hp  HP Victus 15-fb0157AX Gaming Laptop (AMD Ryzen...  612.86   \n",
       "3      4     acer  Acer Extensa EX214-53 Laptop (12th Gen Core i5...  479.62   \n",
       "4      5   lenovo  Lenovo V15 82KDA01BIH Laptop (AMD Ryzen 3 5300...  342.77   \n",
       "5      6    apple  Apple MacBook Air 2020 MGND3HN Laptop (Apple M...  851.41   \n",
       "6      7  infinix  Infinix INBook Y2 Plus Laptop (11th Gen Core i...  419.65   \n",
       "7      8     asus  Asus TUF Gaming F15 FX506HF-HN024W Gaming Lapt...  599.55   \n",
       "8      9       hp  HP 15s-fq5007TU Laptop (12th Gen Core i3/ 8GB/...  443.64   \n",
       "9     10  infinix  Infinix Zerobook 2023 Laptop (13th Gen Core i9...  719.48   \n",
       "\n",
       "   rating processor_brand processor_tier  num_cores  num_threads  ram_memory  \\\n",
       "0      63           intel        core i3          2            4           8   \n",
       "1      67           intel        core i7          4            8          16   \n",
       "2      73             amd        ryzen 5          6           12           8   \n",
       "3      62           intel        core i5         12           16           8   \n",
       "4      62             amd        ryzen 3          4            8           8   \n",
       "5      45           apple             m1          8            8           8   \n",
       "6      56           intel        core i5          4            8          16   \n",
       "7      70           intel        core i5          6           12           8   \n",
       "8      60           intel        core i3          6            8           8   \n",
       "9      71           intel        core i9         14           20          32   \n",
       "\n",
       "  primary_storage_type  primary_storage_capacity gpu_brand    gpu_type  \\\n",
       "0                  SSD                       512     intel  integrated   \n",
       "1                  SSD                      1024     intel  integrated   \n",
       "2                  SSD                       512       amd   dedicated   \n",
       "3                  SSD                       512     intel  integrated   \n",
       "4                  SSD                       512       amd  integrated   \n",
       "5                  SSD                       256     apple       apple   \n",
       "6                  SSD                       512     intel  integrated   \n",
       "7                  SSD                       512    nvidia   dedicated   \n",
       "8                  SSD                       512     intel  integrated   \n",
       "9                  SSD                      1024     intel  integrated   \n",
       "\n",
       "   is_touch_screen  display_size  resolution_width  resolution_height  \\\n",
       "0            False          15.6              1920               1080   \n",
       "1            False          15.6              1920               1080   \n",
       "2            False          15.6              1920               1080   \n",
       "3            False          14.0              1920               1080   \n",
       "4            False          15.6              1920               1080   \n",
       "5            False          13.3              2560               1600   \n",
       "6            False          15.6              1920               1080   \n",
       "7            False          15.6              1920               1080   \n",
       "8            False          15.6              1920               1080   \n",
       "9            False          15.6              1920               1080   \n",
       "\n",
       "        os year_of_warranty  \n",
       "0  windows                1  \n",
       "1  windows                1  \n",
       "2  windows                1  \n",
       "3  windows                1  \n",
       "4  windows                1  \n",
       "5      mac                1  \n",
       "6  windows                1  \n",
       "7  windows                1  \n",
       "8  windows                1  \n",
       "9  windows                1  "
      ]
     },
     "execution_count": 30,
     "metadata": {},
     "output_type": "execute_result"
    }
   ],
   "source": [
    "# Visualizar os primeiros registros\n",
    "df_laptops.head(10)"
   ]
  },
  {
   "cell_type": "code",
   "execution_count": 31,
   "metadata": {},
   "outputs": [
    {
     "data": {
      "text/html": [
       "<div>\n",
       "<style scoped>\n",
       "    .dataframe tbody tr th:only-of-type {\n",
       "        vertical-align: middle;\n",
       "    }\n",
       "\n",
       "    .dataframe tbody tr th {\n",
       "        vertical-align: top;\n",
       "    }\n",
       "\n",
       "    .dataframe thead th {\n",
       "        text-align: right;\n",
       "    }\n",
       "</style>\n",
       "<table border=\"1\" class=\"dataframe\">\n",
       "  <thead>\n",
       "    <tr style=\"text-align: right;\">\n",
       "      <th></th>\n",
       "      <th>index</th>\n",
       "      <th>brand</th>\n",
       "      <th>model</th>\n",
       "      <th>price</th>\n",
       "      <th>rating</th>\n",
       "      <th>processor_brand</th>\n",
       "      <th>processor_tier</th>\n",
       "      <th>num_cores</th>\n",
       "      <th>num_threads</th>\n",
       "      <th>ram_memory</th>\n",
       "      <th>primary_storage_type</th>\n",
       "      <th>primary_storage_capacity</th>\n",
       "      <th>gpu_brand</th>\n",
       "      <th>gpu_type</th>\n",
       "      <th>is_touch_screen</th>\n",
       "      <th>display_size</th>\n",
       "      <th>resolution_width</th>\n",
       "      <th>resolution_height</th>\n",
       "      <th>os</th>\n",
       "      <th>year_of_warranty</th>\n",
       "    </tr>\n",
       "  </thead>\n",
       "  <tbody>\n",
       "    <tr>\n",
       "      <th>981</th>\n",
       "      <td>993</td>\n",
       "      <td>msi</td>\n",
       "      <td>MSI Katana 15 B13VFK-296IN Gaming Laptop (13th...</td>\n",
       "      <td>1439.09</td>\n",
       "      <td>76</td>\n",
       "      <td>intel</td>\n",
       "      <td>core i7</td>\n",
       "      <td>10</td>\n",
       "      <td>16</td>\n",
       "      <td>16</td>\n",
       "      <td>SSD</td>\n",
       "      <td>1024</td>\n",
       "      <td>nvidia</td>\n",
       "      <td>dedicated</td>\n",
       "      <td>False</td>\n",
       "      <td>15.6</td>\n",
       "      <td>1920</td>\n",
       "      <td>1080</td>\n",
       "      <td>windows</td>\n",
       "      <td>2</td>\n",
       "    </tr>\n",
       "    <tr>\n",
       "      <th>982</th>\n",
       "      <td>994</td>\n",
       "      <td>asus</td>\n",
       "      <td>Asus Zenbook 14 OLED 2023 UM3402YA-KM551WS Lap...</td>\n",
       "      <td>935.36</td>\n",
       "      <td>68</td>\n",
       "      <td>amd</td>\n",
       "      <td>ryzen 5</td>\n",
       "      <td>6</td>\n",
       "      <td>12</td>\n",
       "      <td>16</td>\n",
       "      <td>SSD</td>\n",
       "      <td>1024</td>\n",
       "      <td>amd</td>\n",
       "      <td>integrated</td>\n",
       "      <td>False</td>\n",
       "      <td>14.0</td>\n",
       "      <td>2880</td>\n",
       "      <td>1800</td>\n",
       "      <td>windows</td>\n",
       "      <td>1</td>\n",
       "    </tr>\n",
       "    <tr>\n",
       "      <th>983</th>\n",
       "      <td>995</td>\n",
       "      <td>asus</td>\n",
       "      <td>Asus Vivobook 16 2023 M1605YA-MB551WS Laptop (...</td>\n",
       "      <td>803.44</td>\n",
       "      <td>65</td>\n",
       "      <td>amd</td>\n",
       "      <td>ryzen 5</td>\n",
       "      <td>6</td>\n",
       "      <td>12</td>\n",
       "      <td>16</td>\n",
       "      <td>SSD</td>\n",
       "      <td>1024</td>\n",
       "      <td>amd</td>\n",
       "      <td>integrated</td>\n",
       "      <td>False</td>\n",
       "      <td>16.0</td>\n",
       "      <td>1920</td>\n",
       "      <td>1200</td>\n",
       "      <td>windows</td>\n",
       "      <td>1</td>\n",
       "    </tr>\n",
       "    <tr>\n",
       "      <th>984</th>\n",
       "      <td>996</td>\n",
       "      <td>asus</td>\n",
       "      <td>Asus Vivobook 16 2023 M1605YA-MB541WS Laptop (...</td>\n",
       "      <td>719.48</td>\n",
       "      <td>64</td>\n",
       "      <td>amd</td>\n",
       "      <td>ryzen 5</td>\n",
       "      <td>6</td>\n",
       "      <td>12</td>\n",
       "      <td>16</td>\n",
       "      <td>SSD</td>\n",
       "      <td>512</td>\n",
       "      <td>amd</td>\n",
       "      <td>integrated</td>\n",
       "      <td>False</td>\n",
       "      <td>16.0</td>\n",
       "      <td>1920</td>\n",
       "      <td>1200</td>\n",
       "      <td>windows</td>\n",
       "      <td>1</td>\n",
       "    </tr>\n",
       "    <tr>\n",
       "      <th>985</th>\n",
       "      <td>997</td>\n",
       "      <td>acer</td>\n",
       "      <td>Acer Nitro 5 AN515-47 NH.QL3SI.003 Gaming Lapt...</td>\n",
       "      <td>905.50</td>\n",
       "      <td>67</td>\n",
       "      <td>amd</td>\n",
       "      <td>ryzen 7</td>\n",
       "      <td>8</td>\n",
       "      <td>16</td>\n",
       "      <td>8</td>\n",
       "      <td>SSD</td>\n",
       "      <td>512</td>\n",
       "      <td>nvidia</td>\n",
       "      <td>dedicated</td>\n",
       "      <td>False</td>\n",
       "      <td>15.6</td>\n",
       "      <td>1920</td>\n",
       "      <td>1080</td>\n",
       "      <td>windows</td>\n",
       "      <td>1</td>\n",
       "    </tr>\n",
       "    <tr>\n",
       "      <th>986</th>\n",
       "      <td>998</td>\n",
       "      <td>asus</td>\n",
       "      <td>Asus Vivobook Pro 15 M6500QC-HN542WS Laptop (R...</td>\n",
       "      <td>791.44</td>\n",
       "      <td>68</td>\n",
       "      <td>amd</td>\n",
       "      <td>ryzen 5</td>\n",
       "      <td>6</td>\n",
       "      <td>12</td>\n",
       "      <td>16</td>\n",
       "      <td>SSD</td>\n",
       "      <td>512</td>\n",
       "      <td>nvidia</td>\n",
       "      <td>dedicated</td>\n",
       "      <td>False</td>\n",
       "      <td>15.6</td>\n",
       "      <td>1920</td>\n",
       "      <td>1080</td>\n",
       "      <td>windows</td>\n",
       "      <td>1</td>\n",
       "    </tr>\n",
       "    <tr>\n",
       "      <th>987</th>\n",
       "      <td>999</td>\n",
       "      <td>msi</td>\n",
       "      <td>MSI Thin GF63 12VE-070IN Gaming Laptop (12th G...</td>\n",
       "      <td>1103.27</td>\n",
       "      <td>73</td>\n",
       "      <td>intel</td>\n",
       "      <td>core i7</td>\n",
       "      <td>10</td>\n",
       "      <td>16</td>\n",
       "      <td>16</td>\n",
       "      <td>SSD</td>\n",
       "      <td>512</td>\n",
       "      <td>nvidia</td>\n",
       "      <td>dedicated</td>\n",
       "      <td>False</td>\n",
       "      <td>15.6</td>\n",
       "      <td>1920</td>\n",
       "      <td>1080</td>\n",
       "      <td>windows</td>\n",
       "      <td>2</td>\n",
       "    </tr>\n",
       "    <tr>\n",
       "      <th>988</th>\n",
       "      <td>1000</td>\n",
       "      <td>asus</td>\n",
       "      <td>Asus Vivobook Go 15 2023 E1504FA-NJ522WS Lapto...</td>\n",
       "      <td>539.58</td>\n",
       "      <td>59</td>\n",
       "      <td>amd</td>\n",
       "      <td>ryzen 5</td>\n",
       "      <td>4</td>\n",
       "      <td>8</td>\n",
       "      <td>8</td>\n",
       "      <td>SSD</td>\n",
       "      <td>512</td>\n",
       "      <td>amd</td>\n",
       "      <td>integrated</td>\n",
       "      <td>False</td>\n",
       "      <td>15.6</td>\n",
       "      <td>1920</td>\n",
       "      <td>1080</td>\n",
       "      <td>windows</td>\n",
       "      <td>1</td>\n",
       "    </tr>\n",
       "    <tr>\n",
       "      <th>989</th>\n",
       "      <td>1001</td>\n",
       "      <td>asus</td>\n",
       "      <td>Asus Zenbook 14 2023 UM3402YA-KP541WS Laptop (...</td>\n",
       "      <td>815.43</td>\n",
       "      <td>68</td>\n",
       "      <td>amd</td>\n",
       "      <td>ryzen 5</td>\n",
       "      <td>6</td>\n",
       "      <td>12</td>\n",
       "      <td>16</td>\n",
       "      <td>SSD</td>\n",
       "      <td>512</td>\n",
       "      <td>amd</td>\n",
       "      <td>integrated</td>\n",
       "      <td>False</td>\n",
       "      <td>14.0</td>\n",
       "      <td>2560</td>\n",
       "      <td>1600</td>\n",
       "      <td>windows</td>\n",
       "      <td>1</td>\n",
       "    </tr>\n",
       "    <tr>\n",
       "      <th>990</th>\n",
       "      <td>1002</td>\n",
       "      <td>hp</td>\n",
       "      <td>HP Chromebook 15a-na0008TU Laptop (Intel Celer...</td>\n",
       "      <td>251.74</td>\n",
       "      <td>37</td>\n",
       "      <td>intel</td>\n",
       "      <td>celeron</td>\n",
       "      <td>2</td>\n",
       "      <td>2</td>\n",
       "      <td>4</td>\n",
       "      <td>HDD</td>\n",
       "      <td>128</td>\n",
       "      <td>intel</td>\n",
       "      <td>integrated</td>\n",
       "      <td>False</td>\n",
       "      <td>15.6</td>\n",
       "      <td>1366</td>\n",
       "      <td>768</td>\n",
       "      <td>chrome</td>\n",
       "      <td>1</td>\n",
       "    </tr>\n",
       "  </tbody>\n",
       "</table>\n",
       "</div>"
      ],
      "text/plain": [
       "     index brand                                              model    price  \\\n",
       "981    993   msi  MSI Katana 15 B13VFK-296IN Gaming Laptop (13th...  1439.09   \n",
       "982    994  asus  Asus Zenbook 14 OLED 2023 UM3402YA-KM551WS Lap...   935.36   \n",
       "983    995  asus  Asus Vivobook 16 2023 M1605YA-MB551WS Laptop (...   803.44   \n",
       "984    996  asus  Asus Vivobook 16 2023 M1605YA-MB541WS Laptop (...   719.48   \n",
       "985    997  acer  Acer Nitro 5 AN515-47 NH.QL3SI.003 Gaming Lapt...   905.50   \n",
       "986    998  asus  Asus Vivobook Pro 15 M6500QC-HN542WS Laptop (R...   791.44   \n",
       "987    999   msi  MSI Thin GF63 12VE-070IN Gaming Laptop (12th G...  1103.27   \n",
       "988   1000  asus  Asus Vivobook Go 15 2023 E1504FA-NJ522WS Lapto...   539.58   \n",
       "989   1001  asus  Asus Zenbook 14 2023 UM3402YA-KP541WS Laptop (...   815.43   \n",
       "990   1002    hp  HP Chromebook 15a-na0008TU Laptop (Intel Celer...   251.74   \n",
       "\n",
       "     rating processor_brand processor_tier  num_cores  num_threads  \\\n",
       "981      76           intel        core i7         10           16   \n",
       "982      68             amd        ryzen 5          6           12   \n",
       "983      65             amd        ryzen 5          6           12   \n",
       "984      64             amd        ryzen 5          6           12   \n",
       "985      67             amd        ryzen 7          8           16   \n",
       "986      68             amd        ryzen 5          6           12   \n",
       "987      73           intel        core i7         10           16   \n",
       "988      59             amd        ryzen 5          4            8   \n",
       "989      68             amd        ryzen 5          6           12   \n",
       "990      37           intel        celeron          2            2   \n",
       "\n",
       "     ram_memory primary_storage_type  primary_storage_capacity gpu_brand  \\\n",
       "981          16                  SSD                      1024    nvidia   \n",
       "982          16                  SSD                      1024       amd   \n",
       "983          16                  SSD                      1024       amd   \n",
       "984          16                  SSD                       512       amd   \n",
       "985           8                  SSD                       512    nvidia   \n",
       "986          16                  SSD                       512    nvidia   \n",
       "987          16                  SSD                       512    nvidia   \n",
       "988           8                  SSD                       512       amd   \n",
       "989          16                  SSD                       512       amd   \n",
       "990           4                  HDD                       128     intel   \n",
       "\n",
       "       gpu_type  is_touch_screen  display_size  resolution_width  \\\n",
       "981   dedicated            False          15.6              1920   \n",
       "982  integrated            False          14.0              2880   \n",
       "983  integrated            False          16.0              1920   \n",
       "984  integrated            False          16.0              1920   \n",
       "985   dedicated            False          15.6              1920   \n",
       "986   dedicated            False          15.6              1920   \n",
       "987   dedicated            False          15.6              1920   \n",
       "988  integrated            False          15.6              1920   \n",
       "989  integrated            False          14.0              2560   \n",
       "990  integrated            False          15.6              1366   \n",
       "\n",
       "     resolution_height       os year_of_warranty  \n",
       "981               1080  windows                2  \n",
       "982               1800  windows                1  \n",
       "983               1200  windows                1  \n",
       "984               1200  windows                1  \n",
       "985               1080  windows                1  \n",
       "986               1080  windows                1  \n",
       "987               1080  windows                2  \n",
       "988               1080  windows                1  \n",
       "989               1600  windows                1  \n",
       "990                768   chrome                1  "
      ]
     },
     "execution_count": 31,
     "metadata": {},
     "output_type": "execute_result"
    }
   ],
   "source": [
    "# Visualizar os ultimos registros\n",
    "df_laptops.tail(10)"
   ]
  },
  {
   "cell_type": "code",
   "execution_count": 32,
   "metadata": {},
   "outputs": [
    {
     "data": {
      "text/html": [
       "<div>\n",
       "<style scoped>\n",
       "    .dataframe tbody tr th:only-of-type {\n",
       "        vertical-align: middle;\n",
       "    }\n",
       "\n",
       "    .dataframe tbody tr th {\n",
       "        vertical-align: top;\n",
       "    }\n",
       "\n",
       "    .dataframe thead th {\n",
       "        text-align: right;\n",
       "    }\n",
       "</style>\n",
       "<table border=\"1\" class=\"dataframe\">\n",
       "  <thead>\n",
       "    <tr style=\"text-align: right;\">\n",
       "      <th></th>\n",
       "      <th>index</th>\n",
       "      <th>price</th>\n",
       "      <th>rating</th>\n",
       "      <th>num_cores</th>\n",
       "      <th>num_threads</th>\n",
       "      <th>ram_memory</th>\n",
       "      <th>primary_storage_capacity</th>\n",
       "      <th>display_size</th>\n",
       "      <th>resolution_width</th>\n",
       "      <th>resolution_height</th>\n",
       "    </tr>\n",
       "  </thead>\n",
       "  <tbody>\n",
       "    <tr>\n",
       "      <th>count</th>\n",
       "      <td>991.000000</td>\n",
       "      <td>991.000000</td>\n",
       "      <td>991.000000</td>\n",
       "      <td>991.000000</td>\n",
       "      <td>991.000000</td>\n",
       "      <td>991.000000</td>\n",
       "      <td>991.000000</td>\n",
       "      <td>991.000000</td>\n",
       "      <td>991.000000</td>\n",
       "      <td>991.000000</td>\n",
       "    </tr>\n",
       "    <tr>\n",
       "      <th>mean</th>\n",
       "      <td>505.860747</td>\n",
       "      <td>926.687487</td>\n",
       "      <td>63.931382</td>\n",
       "      <td>8.128153</td>\n",
       "      <td>12.191726</td>\n",
       "      <td>13.047427</td>\n",
       "      <td>610.938446</td>\n",
       "      <td>15.171241</td>\n",
       "      <td>2003.503532</td>\n",
       "      <td>1181.227043</td>\n",
       "    </tr>\n",
       "    <tr>\n",
       "      <th>std</th>\n",
       "      <td>287.899458</td>\n",
       "      <td>688.239764</td>\n",
       "      <td>10.190575</td>\n",
       "      <td>4.215499</td>\n",
       "      <td>5.585115</td>\n",
       "      <td>5.591188</td>\n",
       "      <td>266.927666</td>\n",
       "      <td>0.938089</td>\n",
       "      <td>361.965292</td>\n",
       "      <td>263.884019</td>\n",
       "    </tr>\n",
       "    <tr>\n",
       "      <th>min</th>\n",
       "      <td>1.000000</td>\n",
       "      <td>117.540000</td>\n",
       "      <td>24.000000</td>\n",
       "      <td>2.000000</td>\n",
       "      <td>0.000000</td>\n",
       "      <td>2.000000</td>\n",
       "      <td>32.000000</td>\n",
       "      <td>10.100000</td>\n",
       "      <td>1080.000000</td>\n",
       "      <td>768.000000</td>\n",
       "    </tr>\n",
       "    <tr>\n",
       "      <th>25%</th>\n",
       "      <td>258.500000</td>\n",
       "      <td>522.850000</td>\n",
       "      <td>58.000000</td>\n",
       "      <td>6.000000</td>\n",
       "      <td>8.000000</td>\n",
       "      <td>8.000000</td>\n",
       "      <td>512.000000</td>\n",
       "      <td>14.000000</td>\n",
       "      <td>1920.000000</td>\n",
       "      <td>1080.000000</td>\n",
       "    </tr>\n",
       "    <tr>\n",
       "      <th>50%</th>\n",
       "      <td>507.000000</td>\n",
       "      <td>742.390000</td>\n",
       "      <td>64.000000</td>\n",
       "      <td>8.000000</td>\n",
       "      <td>12.000000</td>\n",
       "      <td>16.000000</td>\n",
       "      <td>512.000000</td>\n",
       "      <td>15.600000</td>\n",
       "      <td>1920.000000</td>\n",
       "      <td>1080.000000</td>\n",
       "    </tr>\n",
       "    <tr>\n",
       "      <th>75%</th>\n",
       "      <td>754.500000</td>\n",
       "      <td>1070.350000</td>\n",
       "      <td>71.000000</td>\n",
       "      <td>10.000000</td>\n",
       "      <td>16.000000</td>\n",
       "      <td>16.000000</td>\n",
       "      <td>512.000000</td>\n",
       "      <td>15.600000</td>\n",
       "      <td>1920.000000</td>\n",
       "      <td>1200.000000</td>\n",
       "    </tr>\n",
       "    <tr>\n",
       "      <th>max</th>\n",
       "      <td>1002.000000</td>\n",
       "      <td>5450.880000</td>\n",
       "      <td>89.000000</td>\n",
       "      <td>24.000000</td>\n",
       "      <td>32.000000</td>\n",
       "      <td>36.000000</td>\n",
       "      <td>2048.000000</td>\n",
       "      <td>18.000000</td>\n",
       "      <td>3840.000000</td>\n",
       "      <td>2560.000000</td>\n",
       "    </tr>\n",
       "  </tbody>\n",
       "</table>\n",
       "</div>"
      ],
      "text/plain": [
       "             index        price      rating   num_cores  num_threads  \\\n",
       "count   991.000000   991.000000  991.000000  991.000000   991.000000   \n",
       "mean    505.860747   926.687487   63.931382    8.128153    12.191726   \n",
       "std     287.899458   688.239764   10.190575    4.215499     5.585115   \n",
       "min       1.000000   117.540000   24.000000    2.000000     0.000000   \n",
       "25%     258.500000   522.850000   58.000000    6.000000     8.000000   \n",
       "50%     507.000000   742.390000   64.000000    8.000000    12.000000   \n",
       "75%     754.500000  1070.350000   71.000000   10.000000    16.000000   \n",
       "max    1002.000000  5450.880000   89.000000   24.000000    32.000000   \n",
       "\n",
       "       ram_memory  primary_storage_capacity  display_size  resolution_width  \\\n",
       "count  991.000000                991.000000    991.000000        991.000000   \n",
       "mean    13.047427                610.938446     15.171241       2003.503532   \n",
       "std      5.591188                266.927666      0.938089        361.965292   \n",
       "min      2.000000                 32.000000     10.100000       1080.000000   \n",
       "25%      8.000000                512.000000     14.000000       1920.000000   \n",
       "50%     16.000000                512.000000     15.600000       1920.000000   \n",
       "75%     16.000000                512.000000     15.600000       1920.000000   \n",
       "max     36.000000               2048.000000     18.000000       3840.000000   \n",
       "\n",
       "       resolution_height  \n",
       "count         991.000000  \n",
       "mean         1181.227043  \n",
       "std           263.884019  \n",
       "min           768.000000  \n",
       "25%          1080.000000  \n",
       "50%          1080.000000  \n",
       "75%          1200.000000  \n",
       "max          2560.000000  "
      ]
     },
     "execution_count": 32,
     "metadata": {},
     "output_type": "execute_result"
    }
   ],
   "source": [
    "df_laptops.describe()"
   ]
  },
  {
   "cell_type": "code",
   "execution_count": 33,
   "metadata": {},
   "outputs": [
    {
     "data": {
      "text/plain": [
       "array(['1', '2', 'No information', '3'], dtype=object)"
      ]
     },
     "execution_count": 33,
     "metadata": {},
     "output_type": "execute_result"
    }
   ],
   "source": [
    "# Checar a variável year_of_warranty\n",
    "df_laptops['year_of_warranty'].unique()"
   ]
  },
  {
   "cell_type": "code",
   "execution_count": 34,
   "metadata": {},
   "outputs": [],
   "source": [
    "# Ajustar a variável year_of_warranty para int e No information para 0\n",
    "# df_laptops['year_of_warranty'] = df_laptops['year_of_warranty'].replace('No information', 0).astype(int)\n",
    "df_laptops.loc[df_laptops['year_of_warranty'] == 'No information', 'year_of_warranty'] = 1\n",
    "df_laptops['year_of_warranty'] = df_laptops['year_of_warranty'].astype(int)"
   ]
  },
  {
   "cell_type": "code",
   "execution_count": 35,
   "metadata": {},
   "outputs": [
    {
     "data": {
      "text/plain": [
       "array([1, 2, 3])"
      ]
     },
     "execution_count": 35,
     "metadata": {},
     "output_type": "execute_result"
    }
   ],
   "source": [
    "# Checar a variável year_of_warranty\n",
    "df_laptops['year_of_warranty'].unique()"
   ]
  },
  {
   "cell_type": "code",
   "execution_count": 36,
   "metadata": {},
   "outputs": [
    {
     "data": {
      "text/html": [
       "<div>\n",
       "<style scoped>\n",
       "    .dataframe tbody tr th:only-of-type {\n",
       "        vertical-align: middle;\n",
       "    }\n",
       "\n",
       "    .dataframe tbody tr th {\n",
       "        vertical-align: top;\n",
       "    }\n",
       "\n",
       "    .dataframe thead th {\n",
       "        text-align: right;\n",
       "    }\n",
       "</style>\n",
       "<table border=\"1\" class=\"dataframe\">\n",
       "  <thead>\n",
       "    <tr style=\"text-align: right;\">\n",
       "      <th></th>\n",
       "      <th>index</th>\n",
       "      <th>price</th>\n",
       "      <th>rating</th>\n",
       "      <th>num_cores</th>\n",
       "      <th>num_threads</th>\n",
       "      <th>ram_memory</th>\n",
       "      <th>primary_storage_capacity</th>\n",
       "      <th>display_size</th>\n",
       "      <th>resolution_width</th>\n",
       "      <th>resolution_height</th>\n",
       "      <th>year_of_warranty</th>\n",
       "    </tr>\n",
       "  </thead>\n",
       "  <tbody>\n",
       "    <tr>\n",
       "      <th>count</th>\n",
       "      <td>991.000000</td>\n",
       "      <td>991.000000</td>\n",
       "      <td>991.000000</td>\n",
       "      <td>991.000000</td>\n",
       "      <td>991.000000</td>\n",
       "      <td>991.000000</td>\n",
       "      <td>991.000000</td>\n",
       "      <td>991.000000</td>\n",
       "      <td>991.000000</td>\n",
       "      <td>991.000000</td>\n",
       "      <td>991.000000</td>\n",
       "    </tr>\n",
       "    <tr>\n",
       "      <th>mean</th>\n",
       "      <td>505.860747</td>\n",
       "      <td>926.687487</td>\n",
       "      <td>63.931382</td>\n",
       "      <td>8.128153</td>\n",
       "      <td>12.191726</td>\n",
       "      <td>13.047427</td>\n",
       "      <td>610.938446</td>\n",
       "      <td>15.171241</td>\n",
       "      <td>2003.503532</td>\n",
       "      <td>1181.227043</td>\n",
       "      <td>1.083754</td>\n",
       "    </tr>\n",
       "    <tr>\n",
       "      <th>std</th>\n",
       "      <td>287.899458</td>\n",
       "      <td>688.239764</td>\n",
       "      <td>10.190575</td>\n",
       "      <td>4.215499</td>\n",
       "      <td>5.585115</td>\n",
       "      <td>5.591188</td>\n",
       "      <td>266.927666</td>\n",
       "      <td>0.938089</td>\n",
       "      <td>361.965292</td>\n",
       "      <td>263.884019</td>\n",
       "      <td>0.311478</td>\n",
       "    </tr>\n",
       "    <tr>\n",
       "      <th>min</th>\n",
       "      <td>1.000000</td>\n",
       "      <td>117.540000</td>\n",
       "      <td>24.000000</td>\n",
       "      <td>2.000000</td>\n",
       "      <td>0.000000</td>\n",
       "      <td>2.000000</td>\n",
       "      <td>32.000000</td>\n",
       "      <td>10.100000</td>\n",
       "      <td>1080.000000</td>\n",
       "      <td>768.000000</td>\n",
       "      <td>1.000000</td>\n",
       "    </tr>\n",
       "    <tr>\n",
       "      <th>25%</th>\n",
       "      <td>258.500000</td>\n",
       "      <td>522.850000</td>\n",
       "      <td>58.000000</td>\n",
       "      <td>6.000000</td>\n",
       "      <td>8.000000</td>\n",
       "      <td>8.000000</td>\n",
       "      <td>512.000000</td>\n",
       "      <td>14.000000</td>\n",
       "      <td>1920.000000</td>\n",
       "      <td>1080.000000</td>\n",
       "      <td>1.000000</td>\n",
       "    </tr>\n",
       "    <tr>\n",
       "      <th>50%</th>\n",
       "      <td>507.000000</td>\n",
       "      <td>742.390000</td>\n",
       "      <td>64.000000</td>\n",
       "      <td>8.000000</td>\n",
       "      <td>12.000000</td>\n",
       "      <td>16.000000</td>\n",
       "      <td>512.000000</td>\n",
       "      <td>15.600000</td>\n",
       "      <td>1920.000000</td>\n",
       "      <td>1080.000000</td>\n",
       "      <td>1.000000</td>\n",
       "    </tr>\n",
       "    <tr>\n",
       "      <th>75%</th>\n",
       "      <td>754.500000</td>\n",
       "      <td>1070.350000</td>\n",
       "      <td>71.000000</td>\n",
       "      <td>10.000000</td>\n",
       "      <td>16.000000</td>\n",
       "      <td>16.000000</td>\n",
       "      <td>512.000000</td>\n",
       "      <td>15.600000</td>\n",
       "      <td>1920.000000</td>\n",
       "      <td>1200.000000</td>\n",
       "      <td>1.000000</td>\n",
       "    </tr>\n",
       "    <tr>\n",
       "      <th>max</th>\n",
       "      <td>1002.000000</td>\n",
       "      <td>5450.880000</td>\n",
       "      <td>89.000000</td>\n",
       "      <td>24.000000</td>\n",
       "      <td>32.000000</td>\n",
       "      <td>36.000000</td>\n",
       "      <td>2048.000000</td>\n",
       "      <td>18.000000</td>\n",
       "      <td>3840.000000</td>\n",
       "      <td>2560.000000</td>\n",
       "      <td>3.000000</td>\n",
       "    </tr>\n",
       "  </tbody>\n",
       "</table>\n",
       "</div>"
      ],
      "text/plain": [
       "             index        price      rating   num_cores  num_threads  \\\n",
       "count   991.000000   991.000000  991.000000  991.000000   991.000000   \n",
       "mean    505.860747   926.687487   63.931382    8.128153    12.191726   \n",
       "std     287.899458   688.239764   10.190575    4.215499     5.585115   \n",
       "min       1.000000   117.540000   24.000000    2.000000     0.000000   \n",
       "25%     258.500000   522.850000   58.000000    6.000000     8.000000   \n",
       "50%     507.000000   742.390000   64.000000    8.000000    12.000000   \n",
       "75%     754.500000  1070.350000   71.000000   10.000000    16.000000   \n",
       "max    1002.000000  5450.880000   89.000000   24.000000    32.000000   \n",
       "\n",
       "       ram_memory  primary_storage_capacity  display_size  resolution_width  \\\n",
       "count  991.000000                991.000000    991.000000        991.000000   \n",
       "mean    13.047427                610.938446     15.171241       2003.503532   \n",
       "std      5.591188                266.927666      0.938089        361.965292   \n",
       "min      2.000000                 32.000000     10.100000       1080.000000   \n",
       "25%      8.000000                512.000000     14.000000       1920.000000   \n",
       "50%     16.000000                512.000000     15.600000       1920.000000   \n",
       "75%     16.000000                512.000000     15.600000       1920.000000   \n",
       "max     36.000000               2048.000000     18.000000       3840.000000   \n",
       "\n",
       "       resolution_height  year_of_warranty  \n",
       "count         991.000000        991.000000  \n",
       "mean         1181.227043          1.083754  \n",
       "std           263.884019          0.311478  \n",
       "min           768.000000          1.000000  \n",
       "25%          1080.000000          1.000000  \n",
       "50%          1080.000000          1.000000  \n",
       "75%          1200.000000          1.000000  \n",
       "max          2560.000000          3.000000  "
      ]
     },
     "execution_count": 36,
     "metadata": {},
     "output_type": "execute_result"
    }
   ],
   "source": [
    "df_laptops.describe()"
   ]
  },
  {
   "cell_type": "code",
   "execution_count": 37,
   "metadata": {},
   "outputs": [],
   "source": [
    "# Transformar variavel boolear em int (is_touch_screen)\n",
    "df_laptops['is_touch_screen'] = df_laptops['is_touch_screen'].astype(int) "
   ]
  },
  {
   "cell_type": "code",
   "execution_count": 38,
   "metadata": {},
   "outputs": [
    {
     "name": "stdout",
     "output_type": "stream",
     "text": [
      "<class 'pandas.core.frame.DataFrame'>\n",
      "RangeIndex: 991 entries, 0 to 990\n",
      "Data columns (total 20 columns):\n",
      " #   Column                    Non-Null Count  Dtype  \n",
      "---  ------                    --------------  -----  \n",
      " 0   index                     991 non-null    int64  \n",
      " 1   brand                     991 non-null    object \n",
      " 2   model                     991 non-null    object \n",
      " 3   price                     991 non-null    float64\n",
      " 4   rating                    991 non-null    int64  \n",
      " 5   processor_brand           991 non-null    object \n",
      " 6   processor_tier            991 non-null    object \n",
      " 7   num_cores                 991 non-null    int64  \n",
      " 8   num_threads               991 non-null    int64  \n",
      " 9   ram_memory                991 non-null    int64  \n",
      " 10  primary_storage_type      991 non-null    object \n",
      " 11  primary_storage_capacity  991 non-null    int64  \n",
      " 12  gpu_brand                 991 non-null    object \n",
      " 13  gpu_type                  991 non-null    object \n",
      " 14  is_touch_screen           991 non-null    int64  \n",
      " 15  display_size              991 non-null    float64\n",
      " 16  resolution_width          991 non-null    int64  \n",
      " 17  resolution_height         991 non-null    int64  \n",
      " 18  os                        991 non-null    object \n",
      " 19  year_of_warranty          991 non-null    int64  \n",
      "dtypes: float64(2), int64(10), object(8)\n",
      "memory usage: 155.0+ KB\n"
     ]
    }
   ],
   "source": [
    "df_laptops.info()"
   ]
  },
  {
   "cell_type": "code",
   "execution_count": 39,
   "metadata": {},
   "outputs": [
    {
     "data": {
      "application/vnd.plotly.v1+json": {
       "config": {
        "plotlyServerURL": "https://plot.ly"
       },
       "data": [
        {
         "alignmentgroup": "True",
         "hovertemplate": "brand=%{x}<br>value=%{y}<extra></extra>",
         "legendgroup": "asus",
         "marker": {
          "color": "#636efa",
          "pattern": {
           "shape": ""
          }
         },
         "name": "asus",
         "offsetgroup": "asus",
         "orientation": "v",
         "showlegend": true,
         "textposition": "auto",
         "type": "bar",
         "x": [
          "asus"
         ],
         "xaxis": "x",
         "y": [
          21.19071644803229
         ],
         "yaxis": "y"
        },
        {
         "alignmentgroup": "True",
         "hovertemplate": "brand=%{x}<br>value=%{y}<extra></extra>",
         "legendgroup": "hp",
         "marker": {
          "color": "#EF553B",
          "pattern": {
           "shape": ""
          }
         },
         "name": "hp",
         "offsetgroup": "hp",
         "orientation": "v",
         "showlegend": true,
         "textposition": "auto",
         "type": "bar",
         "x": [
          "hp"
         ],
         "xaxis": "x",
         "y": [
          20.686175580222
         ],
         "yaxis": "y"
        },
        {
         "alignmentgroup": "True",
         "hovertemplate": "brand=%{x}<br>value=%{y}<extra></extra>",
         "legendgroup": "lenovo",
         "marker": {
          "color": "#00cc96",
          "pattern": {
           "shape": ""
          }
         },
         "name": "lenovo",
         "offsetgroup": "lenovo",
         "orientation": "v",
         "showlegend": true,
         "textposition": "auto",
         "type": "bar",
         "x": [
          "lenovo"
         ],
         "xaxis": "x",
         "y": [
          20.282542885973765
         ],
         "yaxis": "y"
        },
        {
         "alignmentgroup": "True",
         "hovertemplate": "brand=%{x}<br>value=%{y}<extra></extra>",
         "legendgroup": "dell",
         "marker": {
          "color": "#ab63fa",
          "pattern": {
           "shape": ""
          }
         },
         "name": "dell",
         "offsetgroup": "dell",
         "orientation": "v",
         "showlegend": true,
         "textposition": "auto",
         "type": "bar",
         "x": [
          "dell"
         ],
         "xaxis": "x",
         "y": [
          10.696266397578205
         ],
         "yaxis": "y"
        },
        {
         "alignmentgroup": "True",
         "hovertemplate": "brand=%{x}<br>value=%{y}<extra></extra>",
         "legendgroup": "msi",
         "marker": {
          "color": "#FFA15A",
          "pattern": {
           "shape": ""
          }
         },
         "name": "msi",
         "offsetgroup": "msi",
         "orientation": "v",
         "showlegend": true,
         "textposition": "auto",
         "type": "bar",
         "x": [
          "msi"
         ],
         "xaxis": "x",
         "y": [
          9.081735620585267
         ],
         "yaxis": "y"
        },
        {
         "alignmentgroup": "True",
         "hovertemplate": "brand=%{x}<br>value=%{y}<extra></extra>",
         "legendgroup": "acer",
         "marker": {
          "color": "#19d3f3",
          "pattern": {
           "shape": ""
          }
         },
         "name": "acer",
         "offsetgroup": "acer",
         "orientation": "v",
         "showlegend": true,
         "textposition": "auto",
         "type": "bar",
         "x": [
          "acer"
         ],
         "xaxis": "x",
         "y": [
          8.980827447023207
         ],
         "yaxis": "y"
        },
        {
         "alignmentgroup": "True",
         "hovertemplate": "brand=%{x}<br>value=%{y}<extra></extra>",
         "legendgroup": "apple",
         "marker": {
          "color": "#FF6692",
          "pattern": {
           "shape": ""
          }
         },
         "name": "apple",
         "offsetgroup": "apple",
         "orientation": "v",
         "showlegend": true,
         "textposition": "auto",
         "type": "bar",
         "x": [
          "apple"
         ],
         "xaxis": "x",
         "y": [
          1.513622603430878
         ],
         "yaxis": "y"
        },
        {
         "alignmentgroup": "True",
         "hovertemplate": "brand=%{x}<br>value=%{y}<extra></extra>",
         "legendgroup": "infinix",
         "marker": {
          "color": "#B6E880",
          "pattern": {
           "shape": ""
          }
         },
         "name": "infinix",
         "offsetgroup": "infinix",
         "orientation": "v",
         "showlegend": true,
         "textposition": "auto",
         "type": "bar",
         "x": [
          "infinix"
         ],
         "xaxis": "x",
         "y": [
          1.3118062563067607
         ],
         "yaxis": "y"
        },
        {
         "alignmentgroup": "True",
         "hovertemplate": "brand=%{x}<br>value=%{y}<extra></extra>",
         "legendgroup": "samsung",
         "marker": {
          "color": "#FF97FF",
          "pattern": {
           "shape": ""
          }
         },
         "name": "samsung",
         "offsetgroup": "samsung",
         "orientation": "v",
         "showlegend": true,
         "textposition": "auto",
         "type": "bar",
         "x": [
          "samsung"
         ],
         "xaxis": "x",
         "y": [
          0.7063572149344097
         ],
         "yaxis": "y"
        },
        {
         "alignmentgroup": "True",
         "hovertemplate": "brand=%{x}<br>value=%{y}<extra></extra>",
         "legendgroup": "zebronics",
         "marker": {
          "color": "#FECB52",
          "pattern": {
           "shape": ""
          }
         },
         "name": "zebronics",
         "offsetgroup": "zebronics",
         "orientation": "v",
         "showlegend": true,
         "textposition": "auto",
         "type": "bar",
         "x": [
          "zebronics"
         ],
         "xaxis": "x",
         "y": [
          0.7063572149344097
         ],
         "yaxis": "y"
        },
        {
         "alignmentgroup": "True",
         "hovertemplate": "brand=%{x}<br>value=%{y}<extra></extra>",
         "legendgroup": "lg",
         "marker": {
          "color": "#636efa",
          "pattern": {
           "shape": ""
          }
         },
         "name": "lg",
         "offsetgroup": "lg",
         "orientation": "v",
         "showlegend": true,
         "textposition": "auto",
         "type": "bar",
         "x": [
          "lg"
         ],
         "xaxis": "x",
         "y": [
          0.7063572149344097
         ],
         "yaxis": "y"
        },
        {
         "alignmentgroup": "True",
         "hovertemplate": "brand=%{x}<br>value=%{y}<extra></extra>",
         "legendgroup": "ultimus",
         "marker": {
          "color": "#EF553B",
          "pattern": {
           "shape": ""
          }
         },
         "name": "ultimus",
         "offsetgroup": "ultimus",
         "orientation": "v",
         "showlegend": true,
         "textposition": "auto",
         "type": "bar",
         "x": [
          "ultimus"
         ],
         "xaxis": "x",
         "y": [
          0.6054490413723511
         ],
         "yaxis": "y"
        },
        {
         "alignmentgroup": "True",
         "hovertemplate": "brand=%{x}<br>value=%{y}<extra></extra>",
         "legendgroup": "fujitsu",
         "marker": {
          "color": "#00cc96",
          "pattern": {
           "shape": ""
          }
         },
         "name": "fujitsu",
         "offsetgroup": "fujitsu",
         "orientation": "v",
         "showlegend": true,
         "textposition": "auto",
         "type": "bar",
         "x": [
          "fujitsu"
         ],
         "xaxis": "x",
         "y": [
          0.5045408678102926
         ],
         "yaxis": "y"
        },
        {
         "alignmentgroup": "True",
         "hovertemplate": "brand=%{x}<br>value=%{y}<extra></extra>",
         "legendgroup": "avita",
         "marker": {
          "color": "#ab63fa",
          "pattern": {
           "shape": ""
          }
         },
         "name": "avita",
         "offsetgroup": "avita",
         "orientation": "v",
         "showlegend": true,
         "textposition": "auto",
         "type": "bar",
         "x": [
          "avita"
         ],
         "xaxis": "x",
         "y": [
          0.5045408678102926
         ],
         "yaxis": "y"
        },
        {
         "alignmentgroup": "True",
         "hovertemplate": "brand=%{x}<br>value=%{y}<extra></extra>",
         "legendgroup": "wings",
         "marker": {
          "color": "#FFA15A",
          "pattern": {
           "shape": ""
          }
         },
         "name": "wings",
         "offsetgroup": "wings",
         "orientation": "v",
         "showlegend": true,
         "textposition": "auto",
         "type": "bar",
         "x": [
          "wings"
         ],
         "xaxis": "x",
         "y": [
          0.4036326942482341
         ],
         "yaxis": "y"
        },
        {
         "alignmentgroup": "True",
         "hovertemplate": "brand=%{x}<br>value=%{y}<extra></extra>",
         "legendgroup": "chuwi",
         "marker": {
          "color": "#19d3f3",
          "pattern": {
           "shape": ""
          }
         },
         "name": "chuwi",
         "offsetgroup": "chuwi",
         "orientation": "v",
         "showlegend": true,
         "textposition": "auto",
         "type": "bar",
         "x": [
          "chuwi"
         ],
         "xaxis": "x",
         "y": [
          0.4036326942482341
         ],
         "yaxis": "y"
        },
        {
         "alignmentgroup": "True",
         "hovertemplate": "brand=%{x}<br>value=%{y}<extra></extra>",
         "legendgroup": "realme",
         "marker": {
          "color": "#FF6692",
          "pattern": {
           "shape": ""
          }
         },
         "name": "realme",
         "offsetgroup": "realme",
         "orientation": "v",
         "showlegend": true,
         "textposition": "auto",
         "type": "bar",
         "x": [
          "realme"
         ],
         "xaxis": "x",
         "y": [
          0.20181634712411706
         ],
         "yaxis": "y"
        },
        {
         "alignmentgroup": "True",
         "hovertemplate": "brand=%{x}<br>value=%{y}<extra></extra>",
         "legendgroup": "microsoft",
         "marker": {
          "color": "#B6E880",
          "pattern": {
           "shape": ""
          }
         },
         "name": "microsoft",
         "offsetgroup": "microsoft",
         "orientation": "v",
         "showlegend": true,
         "textposition": "auto",
         "type": "bar",
         "x": [
          "microsoft"
         ],
         "xaxis": "x",
         "y": [
          0.20181634712411706
         ],
         "yaxis": "y"
        },
        {
         "alignmentgroup": "True",
         "hovertemplate": "brand=%{x}<br>value=%{y}<extra></extra>",
         "legendgroup": "tecno",
         "marker": {
          "color": "#FF97FF",
          "pattern": {
           "shape": ""
          }
         },
         "name": "tecno",
         "offsetgroup": "tecno",
         "orientation": "v",
         "showlegend": true,
         "textposition": "auto",
         "type": "bar",
         "x": [
          "tecno"
         ],
         "xaxis": "x",
         "y": [
          0.20181634712411706
         ],
         "yaxis": "y"
        },
        {
         "alignmentgroup": "True",
         "hovertemplate": "brand=%{x}<br>value=%{y}<extra></extra>",
         "legendgroup": "axl",
         "marker": {
          "color": "#FECB52",
          "pattern": {
           "shape": ""
          }
         },
         "name": "axl",
         "offsetgroup": "axl",
         "orientation": "v",
         "showlegend": true,
         "textposition": "auto",
         "type": "bar",
         "x": [
          "axl"
         ],
         "xaxis": "x",
         "y": [
          0.20181634712411706
         ],
         "yaxis": "y"
        },
        {
         "alignmentgroup": "True",
         "hovertemplate": "brand=%{x}<br>value=%{y}<extra></extra>",
         "legendgroup": "honor",
         "marker": {
          "color": "#636efa",
          "pattern": {
           "shape": ""
          }
         },
         "name": "honor",
         "offsetgroup": "honor",
         "orientation": "v",
         "showlegend": true,
         "textposition": "auto",
         "type": "bar",
         "x": [
          "honor"
         ],
         "xaxis": "x",
         "y": [
          0.20181634712411706
         ],
         "yaxis": "y"
        },
        {
         "alignmentgroup": "True",
         "hovertemplate": "brand=%{x}<br>value=%{y}<extra></extra>",
         "legendgroup": "gigabyte",
         "marker": {
          "color": "#EF553B",
          "pattern": {
           "shape": ""
          }
         },
         "name": "gigabyte",
         "offsetgroup": "gigabyte",
         "orientation": "v",
         "showlegend": true,
         "textposition": "auto",
         "type": "bar",
         "x": [
          "gigabyte"
         ],
         "xaxis": "x",
         "y": [
          0.20181634712411706
         ],
         "yaxis": "y"
        },
        {
         "alignmentgroup": "True",
         "hovertemplate": "brand=%{x}<br>value=%{y}<extra></extra>",
         "legendgroup": "primebook",
         "marker": {
          "color": "#00cc96",
          "pattern": {
           "shape": ""
          }
         },
         "name": "primebook",
         "offsetgroup": "primebook",
         "orientation": "v",
         "showlegend": true,
         "textposition": "auto",
         "type": "bar",
         "x": [
          "primebook"
         ],
         "xaxis": "x",
         "y": [
          0.20181634712411706
         ],
         "yaxis": "y"
        },
        {
         "alignmentgroup": "True",
         "hovertemplate": "brand=%{x}<br>value=%{y}<extra></extra>",
         "legendgroup": "jio",
         "marker": {
          "color": "#ab63fa",
          "pattern": {
           "shape": ""
          }
         },
         "name": "jio",
         "offsetgroup": "jio",
         "orientation": "v",
         "showlegend": true,
         "textposition": "auto",
         "type": "bar",
         "x": [
          "jio"
         ],
         "xaxis": "x",
         "y": [
          0.10090817356205853
         ],
         "yaxis": "y"
        },
        {
         "alignmentgroup": "True",
         "hovertemplate": "brand=%{x}<br>value=%{y}<extra></extra>",
         "legendgroup": "walker",
         "marker": {
          "color": "#FFA15A",
          "pattern": {
           "shape": ""
          }
         },
         "name": "walker",
         "offsetgroup": "walker",
         "orientation": "v",
         "showlegend": true,
         "textposition": "auto",
         "type": "bar",
         "x": [
          "walker"
         ],
         "xaxis": "x",
         "y": [
          0.10090817356205853
         ],
         "yaxis": "y"
        },
        {
         "alignmentgroup": "True",
         "hovertemplate": "brand=%{x}<br>value=%{y}<extra></extra>",
         "legendgroup": "iball",
         "marker": {
          "color": "#19d3f3",
          "pattern": {
           "shape": ""
          }
         },
         "name": "iball",
         "offsetgroup": "iball",
         "orientation": "v",
         "showlegend": true,
         "textposition": "auto",
         "type": "bar",
         "x": [
          "iball"
         ],
         "xaxis": "x",
         "y": [
          0.10090817356205853
         ],
         "yaxis": "y"
        }
       ],
       "layout": {
        "barmode": "relative",
        "legend": {
         "title": {
          "text": "brand"
         },
         "tracegroupgap": 0
        },
        "template": {
         "data": {
          "bar": [
           {
            "error_x": {
             "color": "#2a3f5f"
            },
            "error_y": {
             "color": "#2a3f5f"
            },
            "marker": {
             "line": {
              "color": "#E5ECF6",
              "width": 0.5
             },
             "pattern": {
              "fillmode": "overlay",
              "size": 10,
              "solidity": 0.2
             }
            },
            "type": "bar"
           }
          ],
          "barpolar": [
           {
            "marker": {
             "line": {
              "color": "#E5ECF6",
              "width": 0.5
             },
             "pattern": {
              "fillmode": "overlay",
              "size": 10,
              "solidity": 0.2
             }
            },
            "type": "barpolar"
           }
          ],
          "carpet": [
           {
            "aaxis": {
             "endlinecolor": "#2a3f5f",
             "gridcolor": "white",
             "linecolor": "white",
             "minorgridcolor": "white",
             "startlinecolor": "#2a3f5f"
            },
            "baxis": {
             "endlinecolor": "#2a3f5f",
             "gridcolor": "white",
             "linecolor": "white",
             "minorgridcolor": "white",
             "startlinecolor": "#2a3f5f"
            },
            "type": "carpet"
           }
          ],
          "choropleth": [
           {
            "colorbar": {
             "outlinewidth": 0,
             "ticks": ""
            },
            "type": "choropleth"
           }
          ],
          "contour": [
           {
            "colorbar": {
             "outlinewidth": 0,
             "ticks": ""
            },
            "colorscale": [
             [
              0,
              "#0d0887"
             ],
             [
              0.1111111111111111,
              "#46039f"
             ],
             [
              0.2222222222222222,
              "#7201a8"
             ],
             [
              0.3333333333333333,
              "#9c179e"
             ],
             [
              0.4444444444444444,
              "#bd3786"
             ],
             [
              0.5555555555555556,
              "#d8576b"
             ],
             [
              0.6666666666666666,
              "#ed7953"
             ],
             [
              0.7777777777777778,
              "#fb9f3a"
             ],
             [
              0.8888888888888888,
              "#fdca26"
             ],
             [
              1,
              "#f0f921"
             ]
            ],
            "type": "contour"
           }
          ],
          "contourcarpet": [
           {
            "colorbar": {
             "outlinewidth": 0,
             "ticks": ""
            },
            "type": "contourcarpet"
           }
          ],
          "heatmap": [
           {
            "colorbar": {
             "outlinewidth": 0,
             "ticks": ""
            },
            "colorscale": [
             [
              0,
              "#0d0887"
             ],
             [
              0.1111111111111111,
              "#46039f"
             ],
             [
              0.2222222222222222,
              "#7201a8"
             ],
             [
              0.3333333333333333,
              "#9c179e"
             ],
             [
              0.4444444444444444,
              "#bd3786"
             ],
             [
              0.5555555555555556,
              "#d8576b"
             ],
             [
              0.6666666666666666,
              "#ed7953"
             ],
             [
              0.7777777777777778,
              "#fb9f3a"
             ],
             [
              0.8888888888888888,
              "#fdca26"
             ],
             [
              1,
              "#f0f921"
             ]
            ],
            "type": "heatmap"
           }
          ],
          "heatmapgl": [
           {
            "colorbar": {
             "outlinewidth": 0,
             "ticks": ""
            },
            "colorscale": [
             [
              0,
              "#0d0887"
             ],
             [
              0.1111111111111111,
              "#46039f"
             ],
             [
              0.2222222222222222,
              "#7201a8"
             ],
             [
              0.3333333333333333,
              "#9c179e"
             ],
             [
              0.4444444444444444,
              "#bd3786"
             ],
             [
              0.5555555555555556,
              "#d8576b"
             ],
             [
              0.6666666666666666,
              "#ed7953"
             ],
             [
              0.7777777777777778,
              "#fb9f3a"
             ],
             [
              0.8888888888888888,
              "#fdca26"
             ],
             [
              1,
              "#f0f921"
             ]
            ],
            "type": "heatmapgl"
           }
          ],
          "histogram": [
           {
            "marker": {
             "pattern": {
              "fillmode": "overlay",
              "size": 10,
              "solidity": 0.2
             }
            },
            "type": "histogram"
           }
          ],
          "histogram2d": [
           {
            "colorbar": {
             "outlinewidth": 0,
             "ticks": ""
            },
            "colorscale": [
             [
              0,
              "#0d0887"
             ],
             [
              0.1111111111111111,
              "#46039f"
             ],
             [
              0.2222222222222222,
              "#7201a8"
             ],
             [
              0.3333333333333333,
              "#9c179e"
             ],
             [
              0.4444444444444444,
              "#bd3786"
             ],
             [
              0.5555555555555556,
              "#d8576b"
             ],
             [
              0.6666666666666666,
              "#ed7953"
             ],
             [
              0.7777777777777778,
              "#fb9f3a"
             ],
             [
              0.8888888888888888,
              "#fdca26"
             ],
             [
              1,
              "#f0f921"
             ]
            ],
            "type": "histogram2d"
           }
          ],
          "histogram2dcontour": [
           {
            "colorbar": {
             "outlinewidth": 0,
             "ticks": ""
            },
            "colorscale": [
             [
              0,
              "#0d0887"
             ],
             [
              0.1111111111111111,
              "#46039f"
             ],
             [
              0.2222222222222222,
              "#7201a8"
             ],
             [
              0.3333333333333333,
              "#9c179e"
             ],
             [
              0.4444444444444444,
              "#bd3786"
             ],
             [
              0.5555555555555556,
              "#d8576b"
             ],
             [
              0.6666666666666666,
              "#ed7953"
             ],
             [
              0.7777777777777778,
              "#fb9f3a"
             ],
             [
              0.8888888888888888,
              "#fdca26"
             ],
             [
              1,
              "#f0f921"
             ]
            ],
            "type": "histogram2dcontour"
           }
          ],
          "mesh3d": [
           {
            "colorbar": {
             "outlinewidth": 0,
             "ticks": ""
            },
            "type": "mesh3d"
           }
          ],
          "parcoords": [
           {
            "line": {
             "colorbar": {
              "outlinewidth": 0,
              "ticks": ""
             }
            },
            "type": "parcoords"
           }
          ],
          "pie": [
           {
            "automargin": true,
            "type": "pie"
           }
          ],
          "scatter": [
           {
            "fillpattern": {
             "fillmode": "overlay",
             "size": 10,
             "solidity": 0.2
            },
            "type": "scatter"
           }
          ],
          "scatter3d": [
           {
            "line": {
             "colorbar": {
              "outlinewidth": 0,
              "ticks": ""
             }
            },
            "marker": {
             "colorbar": {
              "outlinewidth": 0,
              "ticks": ""
             }
            },
            "type": "scatter3d"
           }
          ],
          "scattercarpet": [
           {
            "marker": {
             "colorbar": {
              "outlinewidth": 0,
              "ticks": ""
             }
            },
            "type": "scattercarpet"
           }
          ],
          "scattergeo": [
           {
            "marker": {
             "colorbar": {
              "outlinewidth": 0,
              "ticks": ""
             }
            },
            "type": "scattergeo"
           }
          ],
          "scattergl": [
           {
            "marker": {
             "colorbar": {
              "outlinewidth": 0,
              "ticks": ""
             }
            },
            "type": "scattergl"
           }
          ],
          "scattermapbox": [
           {
            "marker": {
             "colorbar": {
              "outlinewidth": 0,
              "ticks": ""
             }
            },
            "type": "scattermapbox"
           }
          ],
          "scatterpolar": [
           {
            "marker": {
             "colorbar": {
              "outlinewidth": 0,
              "ticks": ""
             }
            },
            "type": "scatterpolar"
           }
          ],
          "scatterpolargl": [
           {
            "marker": {
             "colorbar": {
              "outlinewidth": 0,
              "ticks": ""
             }
            },
            "type": "scatterpolargl"
           }
          ],
          "scatterternary": [
           {
            "marker": {
             "colorbar": {
              "outlinewidth": 0,
              "ticks": ""
             }
            },
            "type": "scatterternary"
           }
          ],
          "surface": [
           {
            "colorbar": {
             "outlinewidth": 0,
             "ticks": ""
            },
            "colorscale": [
             [
              0,
              "#0d0887"
             ],
             [
              0.1111111111111111,
              "#46039f"
             ],
             [
              0.2222222222222222,
              "#7201a8"
             ],
             [
              0.3333333333333333,
              "#9c179e"
             ],
             [
              0.4444444444444444,
              "#bd3786"
             ],
             [
              0.5555555555555556,
              "#d8576b"
             ],
             [
              0.6666666666666666,
              "#ed7953"
             ],
             [
              0.7777777777777778,
              "#fb9f3a"
             ],
             [
              0.8888888888888888,
              "#fdca26"
             ],
             [
              1,
              "#f0f921"
             ]
            ],
            "type": "surface"
           }
          ],
          "table": [
           {
            "cells": {
             "fill": {
              "color": "#EBF0F8"
             },
             "line": {
              "color": "white"
             }
            },
            "header": {
             "fill": {
              "color": "#C8D4E3"
             },
             "line": {
              "color": "white"
             }
            },
            "type": "table"
           }
          ]
         },
         "layout": {
          "annotationdefaults": {
           "arrowcolor": "#2a3f5f",
           "arrowhead": 0,
           "arrowwidth": 1
          },
          "autotypenumbers": "strict",
          "coloraxis": {
           "colorbar": {
            "outlinewidth": 0,
            "ticks": ""
           }
          },
          "colorscale": {
           "diverging": [
            [
             0,
             "#8e0152"
            ],
            [
             0.1,
             "#c51b7d"
            ],
            [
             0.2,
             "#de77ae"
            ],
            [
             0.3,
             "#f1b6da"
            ],
            [
             0.4,
             "#fde0ef"
            ],
            [
             0.5,
             "#f7f7f7"
            ],
            [
             0.6,
             "#e6f5d0"
            ],
            [
             0.7,
             "#b8e186"
            ],
            [
             0.8,
             "#7fbc41"
            ],
            [
             0.9,
             "#4d9221"
            ],
            [
             1,
             "#276419"
            ]
           ],
           "sequential": [
            [
             0,
             "#0d0887"
            ],
            [
             0.1111111111111111,
             "#46039f"
            ],
            [
             0.2222222222222222,
             "#7201a8"
            ],
            [
             0.3333333333333333,
             "#9c179e"
            ],
            [
             0.4444444444444444,
             "#bd3786"
            ],
            [
             0.5555555555555556,
             "#d8576b"
            ],
            [
             0.6666666666666666,
             "#ed7953"
            ],
            [
             0.7777777777777778,
             "#fb9f3a"
            ],
            [
             0.8888888888888888,
             "#fdca26"
            ],
            [
             1,
             "#f0f921"
            ]
           ],
           "sequentialminus": [
            [
             0,
             "#0d0887"
            ],
            [
             0.1111111111111111,
             "#46039f"
            ],
            [
             0.2222222222222222,
             "#7201a8"
            ],
            [
             0.3333333333333333,
             "#9c179e"
            ],
            [
             0.4444444444444444,
             "#bd3786"
            ],
            [
             0.5555555555555556,
             "#d8576b"
            ],
            [
             0.6666666666666666,
             "#ed7953"
            ],
            [
             0.7777777777777778,
             "#fb9f3a"
            ],
            [
             0.8888888888888888,
             "#fdca26"
            ],
            [
             1,
             "#f0f921"
            ]
           ]
          },
          "colorway": [
           "#636efa",
           "#EF553B",
           "#00cc96",
           "#ab63fa",
           "#FFA15A",
           "#19d3f3",
           "#FF6692",
           "#B6E880",
           "#FF97FF",
           "#FECB52"
          ],
          "font": {
           "color": "#2a3f5f"
          },
          "geo": {
           "bgcolor": "white",
           "lakecolor": "white",
           "landcolor": "#E5ECF6",
           "showlakes": true,
           "showland": true,
           "subunitcolor": "white"
          },
          "hoverlabel": {
           "align": "left"
          },
          "hovermode": "closest",
          "mapbox": {
           "style": "light"
          },
          "paper_bgcolor": "white",
          "plot_bgcolor": "#E5ECF6",
          "polar": {
           "angularaxis": {
            "gridcolor": "white",
            "linecolor": "white",
            "ticks": ""
           },
           "bgcolor": "#E5ECF6",
           "radialaxis": {
            "gridcolor": "white",
            "linecolor": "white",
            "ticks": ""
           }
          },
          "scene": {
           "xaxis": {
            "backgroundcolor": "#E5ECF6",
            "gridcolor": "white",
            "gridwidth": 2,
            "linecolor": "white",
            "showbackground": true,
            "ticks": "",
            "zerolinecolor": "white"
           },
           "yaxis": {
            "backgroundcolor": "#E5ECF6",
            "gridcolor": "white",
            "gridwidth": 2,
            "linecolor": "white",
            "showbackground": true,
            "ticks": "",
            "zerolinecolor": "white"
           },
           "zaxis": {
            "backgroundcolor": "#E5ECF6",
            "gridcolor": "white",
            "gridwidth": 2,
            "linecolor": "white",
            "showbackground": true,
            "ticks": "",
            "zerolinecolor": "white"
           }
          },
          "shapedefaults": {
           "line": {
            "color": "#2a3f5f"
           }
          },
          "ternary": {
           "aaxis": {
            "gridcolor": "white",
            "linecolor": "white",
            "ticks": ""
           },
           "baxis": {
            "gridcolor": "white",
            "linecolor": "white",
            "ticks": ""
           },
           "bgcolor": "#E5ECF6",
           "caxis": {
            "gridcolor": "white",
            "linecolor": "white",
            "ticks": ""
           }
          },
          "title": {
           "x": 0.05
          },
          "xaxis": {
           "automargin": true,
           "gridcolor": "white",
           "linecolor": "white",
           "ticks": "",
           "title": {
            "standoff": 15
           },
           "zerolinecolor": "white",
           "zerolinewidth": 2
          },
          "yaxis": {
           "automargin": true,
           "gridcolor": "white",
           "linecolor": "white",
           "ticks": "",
           "title": {
            "standoff": 15
           },
           "zerolinecolor": "white",
           "zerolinewidth": 2
          }
         }
        },
        "title": {
         "text": "Distribuição da variável brand"
        },
        "xaxis": {
         "anchor": "y",
         "categoryarray": [
          "asus",
          "hp",
          "lenovo",
          "dell",
          "msi",
          "acer",
          "apple",
          "infinix",
          "samsung",
          "zebronics",
          "lg",
          "ultimus",
          "fujitsu",
          "avita",
          "wings",
          "chuwi",
          "realme",
          "microsoft",
          "tecno",
          "axl",
          "honor",
          "gigabyte",
          "primebook",
          "jio",
          "walker",
          "iball"
         ],
         "categoryorder": "array",
         "domain": [
          0,
          1
         ],
         "title": {
          "text": "brand"
         }
        },
        "yaxis": {
         "anchor": "x",
         "domain": [
          0,
          1
         ],
         "title": {
          "text": "value"
         }
        }
       }
      }
     },
     "metadata": {},
     "output_type": "display_data"
    }
   ],
   "source": [
    "# Distribuição da variável brand\n",
    "percentual_brand = df_laptops['brand'].value_counts(normalize=True) * 100\n",
    "px.bar(percentual_brand, title='Distribuição da variável brand', color=percentual_brand.index)"
   ]
  },
  {
   "cell_type": "code",
   "execution_count": 40,
   "metadata": {},
   "outputs": [
    {
     "data": {
      "application/vnd.plotly.v1+json": {
       "config": {
        "plotlyServerURL": "https://plot.ly"
       },
       "data": [
        {
         "alignmentgroup": "True",
         "hovertemplate": "processor_brand=%{x}<br>value=%{y}<extra></extra>",
         "legendgroup": "intel",
         "marker": {
          "color": "#636efa",
          "pattern": {
           "shape": ""
          }
         },
         "name": "intel",
         "offsetgroup": "intel",
         "orientation": "v",
         "showlegend": true,
         "textposition": "auto",
         "type": "bar",
         "x": [
          "intel"
         ],
         "xaxis": "x",
         "y": [
          71.14026236125126
         ],
         "yaxis": "y"
        },
        {
         "alignmentgroup": "True",
         "hovertemplate": "processor_brand=%{x}<br>value=%{y}<extra></extra>",
         "legendgroup": "amd",
         "marker": {
          "color": "#EF553B",
          "pattern": {
           "shape": ""
          }
         },
         "name": "amd",
         "offsetgroup": "amd",
         "orientation": "v",
         "showlegend": true,
         "textposition": "auto",
         "type": "bar",
         "x": [
          "amd"
         ],
         "xaxis": "x",
         "y": [
          26.942482341069628
         ],
         "yaxis": "y"
        },
        {
         "alignmentgroup": "True",
         "hovertemplate": "processor_brand=%{x}<br>value=%{y}<extra></extra>",
         "legendgroup": "apple",
         "marker": {
          "color": "#00cc96",
          "pattern": {
           "shape": ""
          }
         },
         "name": "apple",
         "offsetgroup": "apple",
         "orientation": "v",
         "showlegend": true,
         "textposition": "auto",
         "type": "bar",
         "x": [
          "apple"
         ],
         "xaxis": "x",
         "y": [
          1.513622603430878
         ],
         "yaxis": "y"
        },
        {
         "alignmentgroup": "True",
         "hovertemplate": "processor_brand=%{x}<br>value=%{y}<extra></extra>",
         "legendgroup": "other",
         "marker": {
          "color": "#ab63fa",
          "pattern": {
           "shape": ""
          }
         },
         "name": "other",
         "offsetgroup": "other",
         "orientation": "v",
         "showlegend": true,
         "textposition": "auto",
         "type": "bar",
         "x": [
          "other"
         ],
         "xaxis": "x",
         "y": [
          0.4036326942482341
         ],
         "yaxis": "y"
        }
       ],
       "layout": {
        "barmode": "relative",
        "legend": {
         "title": {
          "text": "processor_brand"
         },
         "tracegroupgap": 0
        },
        "template": {
         "data": {
          "bar": [
           {
            "error_x": {
             "color": "#2a3f5f"
            },
            "error_y": {
             "color": "#2a3f5f"
            },
            "marker": {
             "line": {
              "color": "#E5ECF6",
              "width": 0.5
             },
             "pattern": {
              "fillmode": "overlay",
              "size": 10,
              "solidity": 0.2
             }
            },
            "type": "bar"
           }
          ],
          "barpolar": [
           {
            "marker": {
             "line": {
              "color": "#E5ECF6",
              "width": 0.5
             },
             "pattern": {
              "fillmode": "overlay",
              "size": 10,
              "solidity": 0.2
             }
            },
            "type": "barpolar"
           }
          ],
          "carpet": [
           {
            "aaxis": {
             "endlinecolor": "#2a3f5f",
             "gridcolor": "white",
             "linecolor": "white",
             "minorgridcolor": "white",
             "startlinecolor": "#2a3f5f"
            },
            "baxis": {
             "endlinecolor": "#2a3f5f",
             "gridcolor": "white",
             "linecolor": "white",
             "minorgridcolor": "white",
             "startlinecolor": "#2a3f5f"
            },
            "type": "carpet"
           }
          ],
          "choropleth": [
           {
            "colorbar": {
             "outlinewidth": 0,
             "ticks": ""
            },
            "type": "choropleth"
           }
          ],
          "contour": [
           {
            "colorbar": {
             "outlinewidth": 0,
             "ticks": ""
            },
            "colorscale": [
             [
              0,
              "#0d0887"
             ],
             [
              0.1111111111111111,
              "#46039f"
             ],
             [
              0.2222222222222222,
              "#7201a8"
             ],
             [
              0.3333333333333333,
              "#9c179e"
             ],
             [
              0.4444444444444444,
              "#bd3786"
             ],
             [
              0.5555555555555556,
              "#d8576b"
             ],
             [
              0.6666666666666666,
              "#ed7953"
             ],
             [
              0.7777777777777778,
              "#fb9f3a"
             ],
             [
              0.8888888888888888,
              "#fdca26"
             ],
             [
              1,
              "#f0f921"
             ]
            ],
            "type": "contour"
           }
          ],
          "contourcarpet": [
           {
            "colorbar": {
             "outlinewidth": 0,
             "ticks": ""
            },
            "type": "contourcarpet"
           }
          ],
          "heatmap": [
           {
            "colorbar": {
             "outlinewidth": 0,
             "ticks": ""
            },
            "colorscale": [
             [
              0,
              "#0d0887"
             ],
             [
              0.1111111111111111,
              "#46039f"
             ],
             [
              0.2222222222222222,
              "#7201a8"
             ],
             [
              0.3333333333333333,
              "#9c179e"
             ],
             [
              0.4444444444444444,
              "#bd3786"
             ],
             [
              0.5555555555555556,
              "#d8576b"
             ],
             [
              0.6666666666666666,
              "#ed7953"
             ],
             [
              0.7777777777777778,
              "#fb9f3a"
             ],
             [
              0.8888888888888888,
              "#fdca26"
             ],
             [
              1,
              "#f0f921"
             ]
            ],
            "type": "heatmap"
           }
          ],
          "heatmapgl": [
           {
            "colorbar": {
             "outlinewidth": 0,
             "ticks": ""
            },
            "colorscale": [
             [
              0,
              "#0d0887"
             ],
             [
              0.1111111111111111,
              "#46039f"
             ],
             [
              0.2222222222222222,
              "#7201a8"
             ],
             [
              0.3333333333333333,
              "#9c179e"
             ],
             [
              0.4444444444444444,
              "#bd3786"
             ],
             [
              0.5555555555555556,
              "#d8576b"
             ],
             [
              0.6666666666666666,
              "#ed7953"
             ],
             [
              0.7777777777777778,
              "#fb9f3a"
             ],
             [
              0.8888888888888888,
              "#fdca26"
             ],
             [
              1,
              "#f0f921"
             ]
            ],
            "type": "heatmapgl"
           }
          ],
          "histogram": [
           {
            "marker": {
             "pattern": {
              "fillmode": "overlay",
              "size": 10,
              "solidity": 0.2
             }
            },
            "type": "histogram"
           }
          ],
          "histogram2d": [
           {
            "colorbar": {
             "outlinewidth": 0,
             "ticks": ""
            },
            "colorscale": [
             [
              0,
              "#0d0887"
             ],
             [
              0.1111111111111111,
              "#46039f"
             ],
             [
              0.2222222222222222,
              "#7201a8"
             ],
             [
              0.3333333333333333,
              "#9c179e"
             ],
             [
              0.4444444444444444,
              "#bd3786"
             ],
             [
              0.5555555555555556,
              "#d8576b"
             ],
             [
              0.6666666666666666,
              "#ed7953"
             ],
             [
              0.7777777777777778,
              "#fb9f3a"
             ],
             [
              0.8888888888888888,
              "#fdca26"
             ],
             [
              1,
              "#f0f921"
             ]
            ],
            "type": "histogram2d"
           }
          ],
          "histogram2dcontour": [
           {
            "colorbar": {
             "outlinewidth": 0,
             "ticks": ""
            },
            "colorscale": [
             [
              0,
              "#0d0887"
             ],
             [
              0.1111111111111111,
              "#46039f"
             ],
             [
              0.2222222222222222,
              "#7201a8"
             ],
             [
              0.3333333333333333,
              "#9c179e"
             ],
             [
              0.4444444444444444,
              "#bd3786"
             ],
             [
              0.5555555555555556,
              "#d8576b"
             ],
             [
              0.6666666666666666,
              "#ed7953"
             ],
             [
              0.7777777777777778,
              "#fb9f3a"
             ],
             [
              0.8888888888888888,
              "#fdca26"
             ],
             [
              1,
              "#f0f921"
             ]
            ],
            "type": "histogram2dcontour"
           }
          ],
          "mesh3d": [
           {
            "colorbar": {
             "outlinewidth": 0,
             "ticks": ""
            },
            "type": "mesh3d"
           }
          ],
          "parcoords": [
           {
            "line": {
             "colorbar": {
              "outlinewidth": 0,
              "ticks": ""
             }
            },
            "type": "parcoords"
           }
          ],
          "pie": [
           {
            "automargin": true,
            "type": "pie"
           }
          ],
          "scatter": [
           {
            "fillpattern": {
             "fillmode": "overlay",
             "size": 10,
             "solidity": 0.2
            },
            "type": "scatter"
           }
          ],
          "scatter3d": [
           {
            "line": {
             "colorbar": {
              "outlinewidth": 0,
              "ticks": ""
             }
            },
            "marker": {
             "colorbar": {
              "outlinewidth": 0,
              "ticks": ""
             }
            },
            "type": "scatter3d"
           }
          ],
          "scattercarpet": [
           {
            "marker": {
             "colorbar": {
              "outlinewidth": 0,
              "ticks": ""
             }
            },
            "type": "scattercarpet"
           }
          ],
          "scattergeo": [
           {
            "marker": {
             "colorbar": {
              "outlinewidth": 0,
              "ticks": ""
             }
            },
            "type": "scattergeo"
           }
          ],
          "scattergl": [
           {
            "marker": {
             "colorbar": {
              "outlinewidth": 0,
              "ticks": ""
             }
            },
            "type": "scattergl"
           }
          ],
          "scattermapbox": [
           {
            "marker": {
             "colorbar": {
              "outlinewidth": 0,
              "ticks": ""
             }
            },
            "type": "scattermapbox"
           }
          ],
          "scatterpolar": [
           {
            "marker": {
             "colorbar": {
              "outlinewidth": 0,
              "ticks": ""
             }
            },
            "type": "scatterpolar"
           }
          ],
          "scatterpolargl": [
           {
            "marker": {
             "colorbar": {
              "outlinewidth": 0,
              "ticks": ""
             }
            },
            "type": "scatterpolargl"
           }
          ],
          "scatterternary": [
           {
            "marker": {
             "colorbar": {
              "outlinewidth": 0,
              "ticks": ""
             }
            },
            "type": "scatterternary"
           }
          ],
          "surface": [
           {
            "colorbar": {
             "outlinewidth": 0,
             "ticks": ""
            },
            "colorscale": [
             [
              0,
              "#0d0887"
             ],
             [
              0.1111111111111111,
              "#46039f"
             ],
             [
              0.2222222222222222,
              "#7201a8"
             ],
             [
              0.3333333333333333,
              "#9c179e"
             ],
             [
              0.4444444444444444,
              "#bd3786"
             ],
             [
              0.5555555555555556,
              "#d8576b"
             ],
             [
              0.6666666666666666,
              "#ed7953"
             ],
             [
              0.7777777777777778,
              "#fb9f3a"
             ],
             [
              0.8888888888888888,
              "#fdca26"
             ],
             [
              1,
              "#f0f921"
             ]
            ],
            "type": "surface"
           }
          ],
          "table": [
           {
            "cells": {
             "fill": {
              "color": "#EBF0F8"
             },
             "line": {
              "color": "white"
             }
            },
            "header": {
             "fill": {
              "color": "#C8D4E3"
             },
             "line": {
              "color": "white"
             }
            },
            "type": "table"
           }
          ]
         },
         "layout": {
          "annotationdefaults": {
           "arrowcolor": "#2a3f5f",
           "arrowhead": 0,
           "arrowwidth": 1
          },
          "autotypenumbers": "strict",
          "coloraxis": {
           "colorbar": {
            "outlinewidth": 0,
            "ticks": ""
           }
          },
          "colorscale": {
           "diverging": [
            [
             0,
             "#8e0152"
            ],
            [
             0.1,
             "#c51b7d"
            ],
            [
             0.2,
             "#de77ae"
            ],
            [
             0.3,
             "#f1b6da"
            ],
            [
             0.4,
             "#fde0ef"
            ],
            [
             0.5,
             "#f7f7f7"
            ],
            [
             0.6,
             "#e6f5d0"
            ],
            [
             0.7,
             "#b8e186"
            ],
            [
             0.8,
             "#7fbc41"
            ],
            [
             0.9,
             "#4d9221"
            ],
            [
             1,
             "#276419"
            ]
           ],
           "sequential": [
            [
             0,
             "#0d0887"
            ],
            [
             0.1111111111111111,
             "#46039f"
            ],
            [
             0.2222222222222222,
             "#7201a8"
            ],
            [
             0.3333333333333333,
             "#9c179e"
            ],
            [
             0.4444444444444444,
             "#bd3786"
            ],
            [
             0.5555555555555556,
             "#d8576b"
            ],
            [
             0.6666666666666666,
             "#ed7953"
            ],
            [
             0.7777777777777778,
             "#fb9f3a"
            ],
            [
             0.8888888888888888,
             "#fdca26"
            ],
            [
             1,
             "#f0f921"
            ]
           ],
           "sequentialminus": [
            [
             0,
             "#0d0887"
            ],
            [
             0.1111111111111111,
             "#46039f"
            ],
            [
             0.2222222222222222,
             "#7201a8"
            ],
            [
             0.3333333333333333,
             "#9c179e"
            ],
            [
             0.4444444444444444,
             "#bd3786"
            ],
            [
             0.5555555555555556,
             "#d8576b"
            ],
            [
             0.6666666666666666,
             "#ed7953"
            ],
            [
             0.7777777777777778,
             "#fb9f3a"
            ],
            [
             0.8888888888888888,
             "#fdca26"
            ],
            [
             1,
             "#f0f921"
            ]
           ]
          },
          "colorway": [
           "#636efa",
           "#EF553B",
           "#00cc96",
           "#ab63fa",
           "#FFA15A",
           "#19d3f3",
           "#FF6692",
           "#B6E880",
           "#FF97FF",
           "#FECB52"
          ],
          "font": {
           "color": "#2a3f5f"
          },
          "geo": {
           "bgcolor": "white",
           "lakecolor": "white",
           "landcolor": "#E5ECF6",
           "showlakes": true,
           "showland": true,
           "subunitcolor": "white"
          },
          "hoverlabel": {
           "align": "left"
          },
          "hovermode": "closest",
          "mapbox": {
           "style": "light"
          },
          "paper_bgcolor": "white",
          "plot_bgcolor": "#E5ECF6",
          "polar": {
           "angularaxis": {
            "gridcolor": "white",
            "linecolor": "white",
            "ticks": ""
           },
           "bgcolor": "#E5ECF6",
           "radialaxis": {
            "gridcolor": "white",
            "linecolor": "white",
            "ticks": ""
           }
          },
          "scene": {
           "xaxis": {
            "backgroundcolor": "#E5ECF6",
            "gridcolor": "white",
            "gridwidth": 2,
            "linecolor": "white",
            "showbackground": true,
            "ticks": "",
            "zerolinecolor": "white"
           },
           "yaxis": {
            "backgroundcolor": "#E5ECF6",
            "gridcolor": "white",
            "gridwidth": 2,
            "linecolor": "white",
            "showbackground": true,
            "ticks": "",
            "zerolinecolor": "white"
           },
           "zaxis": {
            "backgroundcolor": "#E5ECF6",
            "gridcolor": "white",
            "gridwidth": 2,
            "linecolor": "white",
            "showbackground": true,
            "ticks": "",
            "zerolinecolor": "white"
           }
          },
          "shapedefaults": {
           "line": {
            "color": "#2a3f5f"
           }
          },
          "ternary": {
           "aaxis": {
            "gridcolor": "white",
            "linecolor": "white",
            "ticks": ""
           },
           "baxis": {
            "gridcolor": "white",
            "linecolor": "white",
            "ticks": ""
           },
           "bgcolor": "#E5ECF6",
           "caxis": {
            "gridcolor": "white",
            "linecolor": "white",
            "ticks": ""
           }
          },
          "title": {
           "x": 0.05
          },
          "xaxis": {
           "automargin": true,
           "gridcolor": "white",
           "linecolor": "white",
           "ticks": "",
           "title": {
            "standoff": 15
           },
           "zerolinecolor": "white",
           "zerolinewidth": 2
          },
          "yaxis": {
           "automargin": true,
           "gridcolor": "white",
           "linecolor": "white",
           "ticks": "",
           "title": {
            "standoff": 15
           },
           "zerolinecolor": "white",
           "zerolinewidth": 2
          }
         }
        },
        "title": {
         "text": "Distribuição da variável processor_brand"
        },
        "xaxis": {
         "anchor": "y",
         "categoryarray": [
          "intel",
          "amd",
          "apple",
          "other"
         ],
         "categoryorder": "array",
         "domain": [
          0,
          1
         ],
         "title": {
          "text": "processor_brand"
         }
        },
        "yaxis": {
         "anchor": "x",
         "domain": [
          0,
          1
         ],
         "title": {
          "text": "value"
         }
        }
       }
      }
     },
     "metadata": {},
     "output_type": "display_data"
    }
   ],
   "source": [
    "# Distribuição da variavel processor_brand\n",
    "percentual_processor_brand = df_laptops['processor_brand'].value_counts(normalize=True) * 100\n",
    "px.bar(percentual_processor_brand, title='Distribuição da variável processor_brand', color=percentual_processor_brand.index)"
   ]
  },
  {
   "cell_type": "code",
   "execution_count": 41,
   "metadata": {},
   "outputs": [
    {
     "data": {
      "text/plain": [
       "<Axes: xlabel='price', ylabel='Count'>"
      ]
     },
     "execution_count": 41,
     "metadata": {},
     "output_type": "execute_result"
    },
    {
     "data": {
      "image/png": "[encoded data removed]",
      "text/plain": [
       "<Figure size 640x480 with 1 Axes>"
      ]
     },
     "metadata": {},
     "output_type": "display_data"
    }
   ],
   "source": [
    "# Distribuição da variável price\n",
    "sns.histplot(df_laptops['price'], kde=True, color='blue')"
   ]
  },
  {
   "cell_type": "code",
   "execution_count": 42,
   "metadata": {},
   "outputs": [
    {
     "data": {
      "text/plain": [
       "<Axes: xlabel='rating', ylabel='Count'>"
      ]
     },
     "execution_count": 42,
     "metadata": {},
     "output_type": "execute_result"
    },
    {
     "data": {
      "image/png": "[encoded data removed]",
      "text/plain": [
       "<Figure size 640x480 with 1 Axes>"
      ]
     },
     "metadata": {},
     "output_type": "display_data"
    }
   ],
   "source": [
    "# Distribuição da variável Rating\n",
    "sns.histplot(df_laptops['rating'], kde=True, color='red')"
   ]
  },
  {
   "cell_type": "code",
   "execution_count": 43,
   "metadata": {},
   "outputs": [
    {
     "data": {
      "application/vnd.plotly.v1+json": {
       "config": {
        "plotlyServerURL": "https://plot.ly"
       },
       "data": [
        {
         "alignmentgroup": "True",
         "hovertemplate": "brand=%{y}<br>price=%{x}<extra></extra>",
         "legendgroup": "tecno",
         "marker": {
          "color": "#636efa"
         },
         "name": "tecno",
         "notched": false,
         "offsetgroup": "tecno",
         "orientation": "h",
         "showlegend": true,
         "type": "box",
         "x": [
          287.72,
          431.64
         ],
         "x0": " ",
         "xaxis": "x",
         "y": [
          "tecno",
          "tecno"
         ],
         "y0": " ",
         "yaxis": "y"
        },
        {
         "alignmentgroup": "True",
         "hovertemplate": "brand=%{y}<br>price=%{x}<extra></extra>",
         "legendgroup": "hp",
         "marker": {
          "color": "#EF553B"
         },
         "name": "hp",
         "notched": false,
         "offsetgroup": "hp",
         "orientation": "h",
         "showlegend": true,
         "type": "box",
         "x": [
          612.86,
          443.64,
          1846.86,
          665.51,
          231.46,
          947.36,
          863.51,
          647.52,
          1065.01,
          642.49,
          1403.11,
          849.25,
          1002.53,
          653.52,
          509.71,
          1774.9,
          839.53,
          863.4,
          934.27,
          695.5,
          599.66,
          731.48,
          803.44,
          623.54,
          671.51,
          621.26,
          596.97,
          524.11,
          418.45,
          389.67,
          520.51,
          372.87,
          485.72,
          2426.74,
          1989.7,
          731.48,
          611.65,
          1989.7,
          476.14,
          824.07,
          731.48,
          287.83,
          383.78,
          1112.99,
          875.51,
          1044.5,
          419.65,
          773.57,
          2116.82,
          1139.25,
          671.51,
          875.76,
          599.55,
          629.53,
          482.01,
          743.47,
          1073.29,
          419.65,
          611.54,
          563.57,
          851.41,
          623.54,
          695.5,
          581.08,
          959.35,
          767.46,
          231.46,
          718.06,
          683.61,
          487.04,
          767.46,
          299.71,
          500.72,
          1084.97,
          953.08,
          689.62,
          654.83,
          622.47,
          807.01,
          1862.56,
          1342.58,
          918.68,
          491.61,
          1192.98,
          1355.13,
          1091.39,
          430.56,
          4107.74,
          637.93,
          1110.47,
          3112.27,
          3514.05,
          1990.89,
          2020.89,
          467.62,
          347.69,
          1079.39,
          899.49,
          1367.23,
          623.54,
          1087.67,
          480.93,
          910.18,
          335.7,
          731.58,
          533.59,
          2194.67,
          696.46,
          383.67,
          1834.87,
          898.9,
          1432.01,
          1199.33,
          2870.01,
          1590.31,
          611.65,
          1259.74,
          1220.93,
          677.51,
          936.68,
          441.24,
          1762.91,
          1475.31,
          1678.95,
          275.73,
          524.53,
          520.51,
          311.71,
          1520.76,
          1598.35,
          395.66,
          1444.59,
          2759.2,
          611.54,
          287.83,
          1175.34,
          1158.44,
          1055.3,
          1039.71,
          1051.7,
          946.16,
          1007.32,
          467.62,
          611.54,
          1292.44,
          935.71,
          1387.71,
          1319.15,
          539.58,
          575.56,
          635.53,
          1391.11,
          539.58,
          644.03,
          467.62,
          1574.92,
          780.77,
          701.6,
          344.81,
          338.29,
          887.39,
          550.48,
          821.42,
          759.35,
          467.62,
          779.45,
          353.69,
          743.47,
          905.9,
          1104.23,
          839.42,
          808.35,
          779.45,
          395.66,
          737.47,
          1415.22,
          954.55,
          635.53,
          480.93,
          557.57,
          571.49,
          563.57,
          725.48,
          599.55,
          786.65,
          851.53,
          1319.15,
          630.73,
          773.57,
          623.54,
          407.64,
          1439.09,
          1724.94,
          449.63,
          1749.82,
          1661.22,
          517.99,
          695.5,
          394.46,
          474.35,
          251.74,
          323.81,
          371.78,
          1858.96,
          251.74
         ],
         "x0": " ",
         "xaxis": "x",
         "y": [
          "hp",
          "hp",
          "hp",
          "hp",
          "hp",
          "hp",
          "hp",
          "hp",
          "hp",
          "hp",
          "hp",
          "hp",
          "hp",
          "hp",
          "hp",
          "hp",
          "hp",
          "hp",
          "hp",
          "hp",
          "hp",
          "hp",
          "hp",
          "hp",
          "hp",
          "hp",
          "hp",
          "hp",
          "hp",
          "hp",
          "hp",
          "hp",
          "hp",
          "hp",
          "hp",
          "hp",
          "hp",
          "hp",
          "hp",
          "hp",
          "hp",
          "hp",
          "hp",
          "hp",
          "hp",
          "hp",
          "hp",
          "hp",
          "hp",
          "hp",
          "hp",
          "hp",
          "hp",
          "hp",
          "hp",
          "hp",
          "hp",
          "hp",
          "hp",
          "hp",
          "hp",
          "hp",
          "hp",
          "hp",
          "hp",
          "hp",
          "hp",
          "hp",
          "hp",
          "hp",
          "hp",
          "hp",
          "hp",
          "hp",
          "hp",
          "hp",
          "hp",
          "hp",
          "hp",
          "hp",
          "hp",
          "hp",
          "hp",
          "hp",
          "hp",
          "hp",
          "hp",
          "hp",
          "hp",
          "hp",
          "hp",
          "hp",
          "hp",
          "hp",
          "hp",
          "hp",
          "hp",
          "hp",
          "hp",
          "hp",
          "hp",
          "hp",
          "hp",
          "hp",
          "hp",
          "hp",
          "hp",
          "hp",
          "hp",
          "hp",
          "hp",
          "hp",
          "hp",
          "hp",
          "hp",
          "hp",
          "hp",
          "hp",
          "hp",
          "hp",
          "hp",
          "hp",
          "hp",
          "hp",
          "hp",
          "hp",
          "hp",
          "hp",
          "hp",
          "hp",
          "hp",
          "hp",
          "hp",
          "hp",
          "hp",
          "hp",
          "hp",
          "hp",
          "hp",
          "hp",
          "hp",
          "hp",
          "hp",
          "hp",
          "hp",
          "hp",
          "hp",
          "hp",
          "hp",
          "hp",
          "hp",
          "hp",
          "hp",
          "hp",
          "hp",
          "hp",
          "hp",
          "hp",
          "hp",
          "hp",
          "hp",
          "hp",
          "hp",
          "hp",
          "hp",
          "hp",
          "hp",
          "hp",
          "hp",
          "hp",
          "hp",
          "hp",
          "hp",
          "hp",
          "hp",
          "hp",
          "hp",
          "hp",
          "hp",
          "hp",
          "hp",
          "hp",
          "hp",
          "hp",
          "hp",
          "hp",
          "hp",
          "hp",
          "hp",
          "hp",
          "hp",
          "hp",
          "hp",
          "hp",
          "hp",
          "hp",
          "hp",
          "hp",
          "hp",
          "hp",
          "hp",
          "hp",
          "hp",
          "hp",
          "hp"
         ],
         "y0": " ",
         "yaxis": "y"
        },
        {
         "alignmentgroup": "True",
         "hovertemplate": "brand=%{y}<br>price=%{x}<extra></extra>",
         "legendgroup": "acer",
         "marker": {
          "color": "#00cc96"
         },
         "name": "acer",
         "notched": false,
         "offsetgroup": "acer",
         "orientation": "h",
         "showlegend": true,
         "type": "box",
         "x": [
          479.62,
          935.36,
          563.57,
          419.65,
          395.66,
          683.5,
          455.63,
          473.73,
          1139.25,
          575.56,
          1439.09,
          1259.19,
          371.68,
          467.62,
          395.66,
          875.4,
          2158.69,
          383.67,
          359.68,
          731.48,
          683.5,
          1439.09,
          335.7,
          563.57,
          359.68,
          557.69,
          599.55,
          539.69,
          515.7,
          563.57,
          557.57,
          683.5,
          477.34,
          287.72,
          767.57,
          791.44,
          599.55,
          739.99,
          305.71,
          479.62,
          419.65,
          515.6,
          683.5,
          635.53,
          443.64,
          503.6,
          497.61,
          1918.82,
          809.54,
          431.64,
          1559.02,
          905.49,
          503.6,
          863.4,
          369.28,
          359.56,
          353.69,
          515.6,
          491.61,
          659.52,
          394.46,
          347.8,
          479.62,
          599.55,
          698.84,
          677.51,
          670.43,
          1719.85,
          707.49,
          1715.04,
          479.62,
          441.36,
          1259.29,
          1379.12,
          539.63,
          1067.29,
          827.42,
          2399.76,
          934.17,
          551.58,
          395.66,
          384.87,
          2218.77,
          2998.23,
          335.7,
          917.48,
          359.68,
          827.53,
          905.5
         ],
         "x0": " ",
         "xaxis": "x",
         "y": [
          "acer",
          "acer",
          "acer",
          "acer",
          "acer",
          "acer",
          "acer",
          "acer",
          "acer",
          "acer",
          "acer",
          "acer",
          "acer",
          "acer",
          "acer",
          "acer",
          "acer",
          "acer",
          "acer",
          "acer",
          "acer",
          "acer",
          "acer",
          "acer",
          "acer",
          "acer",
          "acer",
          "acer",
          "acer",
          "acer",
          "acer",
          "acer",
          "acer",
          "acer",
          "acer",
          "acer",
          "acer",
          "acer",
          "acer",
          "acer",
          "acer",
          "acer",
          "acer",
          "acer",
          "acer",
          "acer",
          "acer",
          "acer",
          "acer",
          "acer",
          "acer",
          "acer",
          "acer",
          "acer",
          "acer",
          "acer",
          "acer",
          "acer",
          "acer",
          "acer",
          "acer",
          "acer",
          "acer",
          "acer",
          "acer",
          "acer",
          "acer",
          "acer",
          "acer",
          "acer",
          "acer",
          "acer",
          "acer",
          "acer",
          "acer",
          "acer",
          "acer",
          "acer",
          "acer",
          "acer",
          "acer",
          "acer",
          "acer",
          "acer",
          "acer",
          "acer",
          "acer",
          "acer",
          "acer"
         ],
         "y0": " ",
         "yaxis": "y"
        },
        {
         "alignmentgroup": "True",
         "hovertemplate": "brand=%{y}<br>price=%{x}<extra></extra>",
         "legendgroup": "lenovo",
         "marker": {
          "color": "#ab63fa"
         },
         "name": "lenovo",
         "notched": false,
         "offsetgroup": "lenovo",
         "orientation": "h",
         "showlegend": true,
         "type": "box",
         "x": [
          342.77,
          569.57,
          599.55,
          335.7,
          575.56,
          683.5,
          539.58,
          419.65,
          293.12,
          587.56,
          766.25,
          444.24,
          1139.25,
          959.35,
          491.61,
          491.61,
          547.51,
          431.64,
          539.58,
          1834.87,
          1585.41,
          740.14,
          309.31,
          587.56,
          846.61,
          803.44,
          1379.12,
          1199.22,
          395.54,
          263.73,
          400.58,
          1199.22,
          779.45,
          299.71,
          1799.01,
          683.5,
          659.52,
          755.57,
          437.64,
          551.58,
          563.57,
          755.46,
          887.39,
          743.47,
          898.3,
          383.67,
          2626.43,
          1477.47,
          827.42,
          1294.22,
          622.39,
          563.57,
          4306.77,
          661.92,
          743.47,
          593.66,
          443.64,
          414.85,
          389.67,
          668.03,
          841.82,
          1105.67,
          623.54,
          1019.32,
          961.75,
          1309.56,
          649.92,
          649.92,
          937.76,
          479.62,
          1117.66,
          1969.19,
          3585.9,
          1669.36,
          841.82,
          1240.06,
          479.62,
          1079.41,
          419.65,
          395.66,
          599.55,
          479.62,
          764.12,
          599.55,
          395.66,
          362.08,
          359.68,
          563.57,
          659.52,
          509.71,
          815.43,
          439.56,
          587.56,
          599.55,
          1043.31,
          791.44,
          2230.65,
          1547.03,
          1367.13,
          623.54,
          839.42,
          575.56,
          1201.62,
          1648.97,
          647.52,
          443.76,
          1057.7,
          755.46,
          796.23,
          863.4,
          741.9,
          443.64,
          745.87,
          707.49,
          721.88,
          769.86,
          503.6,
          539.58,
          545.58,
          569.57,
          705.81,
          767.46,
          841.82,
          440.04,
          805.84,
          563.57,
          1009.72,
          1043.31,
          935.36,
          449.75,
          707.49,
          527.59,
          833.47,
          1175.23,
          1097.28,
          1061.74,
          1199.22,
          1319.15,
          2700.79,
          1078.07,
          899.38,
          779.45,
          486.81,
          791.44,
          290.12,
          635.53,
          755.46,
          394.57,
          299.71,
          635.53,
          831.68,
          539.58,
          875.4,
          680.03,
          791.44,
          647.52,
          688.3,
          599.55,
          725.48,
          425.65,
          863.4,
          545.7,
          599.66,
          793.95,
          401.66,
          803.56,
          1499.17,
          905.49,
          491.61,
          563.57,
          457.8,
          335.7,
          886.31,
          419.65,
          419.65,
          562.49,
          359.68,
          557.57,
          624.87,
          898.17,
          377.67,
          634.45,
          633.18,
          757.86,
          971.46,
          1478.44,
          266.72,
          263.73,
          263.73,
          551.58,
          401.66,
          430.44,
          437.64,
          551.58,
          791.55,
          407.66,
          1754.29,
          521.71,
          371.68,
          386.19,
          719.48
         ],
         "x0": " ",
         "xaxis": "x",
         "y": [
          "lenovo",
          "lenovo",
          "lenovo",
          "lenovo",
          "lenovo",
          "lenovo",
          "lenovo",
          "lenovo",
          "lenovo",
          "lenovo",
          "lenovo",
          "lenovo",
          "lenovo",
          "lenovo",
          "lenovo",
          "lenovo",
          "lenovo",
          "lenovo",
          "lenovo",
          "lenovo",
          "lenovo",
          "lenovo",
          "lenovo",
          "lenovo",
          "lenovo",
          "lenovo",
          "lenovo",
          "lenovo",
          "lenovo",
          "lenovo",
          "lenovo",
          "lenovo",
          "lenovo",
          "lenovo",
          "lenovo",
          "lenovo",
          "lenovo",
          "lenovo",
          "lenovo",
          "lenovo",
          "lenovo",
          "lenovo",
          "lenovo",
          "lenovo",
          "lenovo",
          "lenovo",
          "lenovo",
          "lenovo",
          "lenovo",
          "lenovo",
          "lenovo",
          "lenovo",
          "lenovo",
          "lenovo",
          "lenovo",
          "lenovo",
          "lenovo",
          "lenovo",
          "lenovo",
          "lenovo",
          "lenovo",
          "lenovo",
          "lenovo",
          "lenovo",
          "lenovo",
          "lenovo",
          "lenovo",
          "lenovo",
          "lenovo",
          "lenovo",
          "lenovo",
          "lenovo",
          "lenovo",
          "lenovo",
          "lenovo",
          "lenovo",
          "lenovo",
          "lenovo",
          "lenovo",
          "lenovo",
          "lenovo",
          "lenovo",
          "lenovo",
          "lenovo",
          "lenovo",
          "lenovo",
          "lenovo",
          "lenovo",
          "lenovo",
          "lenovo",
          "lenovo",
          "lenovo",
          "lenovo",
          "lenovo",
          "lenovo",
          "lenovo",
          "lenovo",
          "lenovo",
          "lenovo",
          "lenovo",
          "lenovo",
          "lenovo",
          "lenovo",
          "lenovo",
          "lenovo",
          "lenovo",
          "lenovo",
          "lenovo",
          "lenovo",
          "lenovo",
          "lenovo",
          "lenovo",
          "lenovo",
          "lenovo",
          "lenovo",
          "lenovo",
          "lenovo",
          "lenovo",
          "lenovo",
          "lenovo",
          "lenovo",
          "lenovo",
          "lenovo",
          "lenovo",
          "lenovo",
          "lenovo",
          "lenovo",
          "lenovo",
          "lenovo",
          "lenovo",
          "lenovo",
          "lenovo",
          "lenovo",
          "lenovo",
          "lenovo",
          "lenovo",
          "lenovo",
          "lenovo",
          "lenovo",
          "lenovo",
          "lenovo",
          "lenovo",
          "lenovo",
          "lenovo",
          "lenovo",
          "lenovo",
          "lenovo",
          "lenovo",
          "lenovo",
          "lenovo",
          "lenovo",
          "lenovo",
          "lenovo",
          "lenovo",
          "lenovo",
          "lenovo",
          "lenovo",
          "lenovo",
          "lenovo",
          "lenovo",
          "lenovo",
          "lenovo",
          "lenovo",
          "lenovo",
          "lenovo",
          "lenovo",
          "lenovo",
          "lenovo",
          "lenovo",
          "lenovo",
          "lenovo",
          "lenovo",
          "lenovo",
          "lenovo",
          "lenovo",
          "lenovo",
          "lenovo",
          "lenovo",
          "lenovo",
          "lenovo",
          "lenovo",
          "lenovo",
          "lenovo",
          "lenovo",
          "lenovo",
          "lenovo",
          "lenovo",
          "lenovo",
          "lenovo",
          "lenovo",
          "lenovo",
          "lenovo",
          "lenovo",
          "lenovo",
          "lenovo",
          "lenovo",
          "lenovo",
          "lenovo",
          "lenovo",
          "lenovo",
          "lenovo"
         ],
         "y0": " ",
         "yaxis": "y"
        },
        {
         "alignmentgroup": "True",
         "hovertemplate": "brand=%{y}<br>price=%{x}<extra></extra>",
         "legendgroup": "apple",
         "marker": {
          "color": "#FFA15A"
         },
         "name": "apple",
         "notched": false,
         "offsetgroup": "apple",
         "orientation": "h",
         "showlegend": true,
         "type": "box",
         "x": [
          851.41,
          4796.16,
          1235.2,
          1439.09,
          1319.15,
          3476.88,
          4196.49,
          2997.15,
          2397.48,
          1738.92,
          1595,
          1642.97,
          2277.54,
          2877.21,
          2037.68
         ],
         "x0": " ",
         "xaxis": "x",
         "y": [
          "apple",
          "apple",
          "apple",
          "apple",
          "apple",
          "apple",
          "apple",
          "apple",
          "apple",
          "apple",
          "apple",
          "apple",
          "apple",
          "apple",
          "apple"
         ],
         "y0": " ",
         "yaxis": "y"
        },
        {
         "alignmentgroup": "True",
         "hovertemplate": "brand=%{y}<br>price=%{x}<extra></extra>",
         "legendgroup": "infinix",
         "marker": {
          "color": "#19d3f3"
         },
         "name": "infinix",
         "notched": false,
         "offsetgroup": "infinix",
         "orientation": "h",
         "showlegend": true,
         "type": "box",
         "x": [
          419.65,
          719.48,
          359.68,
          335.7,
          323.7,
          431.64,
          695.5,
          467.62,
          587.56,
          311.71,
          299.71,
          539.58,
          467.62
         ],
         "x0": " ",
         "xaxis": "x",
         "y": [
          "infinix",
          "infinix",
          "infinix",
          "infinix",
          "infinix",
          "infinix",
          "infinix",
          "infinix",
          "infinix",
          "infinix",
          "infinix",
          "infinix",
          "infinix"
         ],
         "y0": " ",
         "yaxis": "y"
        },
        {
         "alignmentgroup": "True",
         "hovertemplate": "brand=%{y}<br>price=%{x}<extra></extra>",
         "legendgroup": "asus",
         "marker": {
          "color": "#FF6692"
         },
         "name": "asus",
         "notched": false,
         "offsetgroup": "asus",
         "orientation": "h",
         "showlegend": true,
         "type": "box",
         "x": [
          599.55,
          688.3,
          911.38,
          479.62,
          335.7,
          563.57,
          767.46,
          1362.1,
          3238.1,
          888.53,
          731.48,
          431.64,
          1307.16,
          695.5,
          869.4,
          835.81,
          563.57,
          647.52,
          979.73,
          1139.25,
          875.4,
          647.52,
          1031.31,
          815.43,
          902.5,
          803.44,
          1858.86,
          1156.03,
          527.59,
          635.53,
          401.66,
          875.4,
          575.56,
          1103.27,
          1019.32,
          215.76,
          875.4,
          899.38,
          1259.19,
          1080.12,
          1029.03,
          695.5,
          731.48,
          719.48,
          383.67,
          677.63,
          683.5,
          1439.09,
          2158.69,
          2278.62,
          1457.07,
          573.64,
          1079.29,
          667.9,
          839.42,
          947.36,
          1268.17,
          515.6,
          647.52,
          582.63,
          851.41,
          370.48,
          750.79,
          1738.92,
          393.68,
          362.19,
          1037.43,
          570.29,
          779.45,
          1188.68,
          335.7,
          959.11,
          1031.31,
          179.78,
          800.18,
          647.52,
          251.74,
          1039.7,
          832.79,
          887.39,
          1199.22,
          1033.7,
          338.09,
          881.07,
          539.58,
          724.15,
          887.39,
          839.42,
          1187.23,
          1091.28,
          1379.12,
          203.77,
          308.84,
          227.75,
          535.37,
          275.74,
          1180.97,
          911.38,
          911.38,
          1131.8,
          490.84,
          858.73,
          407.66,
          695.5,
          719.48,
          1079.29,
          450.81,
          443.64,
          1139.25,
          839.42,
          875.4,
          393.26,
          719.48,
          311.71,
          472.42,
          779.45,
          1067.41,
          839.54,
          1702.93,
          918.69,
          1559.02,
          767.46,
          887.39,
          1199.22,
          743.47,
          671.51,
          1002.64,
          1678.95,
          707.49,
          575.44,
          839.42,
          779.45,
          1142.97,
          420.76,
          335.7,
          593.55,
          587.56,
          923.37,
          479.62,
          1256.3,
          1521.84,
          2398.56,
          1583.01,
          1605.8,
          1858.86,
          1731.92,
          1139.25,
          3130.16,
          1798.89,
          1618.99,
          724.15,
          2517.29,
          1858.86,
          839.42,
          1018.84,
          1360.06,
          1271.18,
          1336.53,
          918.92,
          1127.37,
          1937.09,
          2398.56,
          431.64,
          370.92,
          555.15,
          1499.05,
          707.49,
          383.67,
          1583.13,
          1391.11,
          1079.29,
          1094.28,
          755.46,
          862.78,
          477.22,
          467.5,
          671.51,
          851.41,
          749.59,
          825.15,
          1031.31,
          551.58,
          719.48,
          1259.19,
          820.23,
          1175.23,
          1115.27,
          779.45,
          899.38,
          527.59,
          767.46,
          470.64,
          1559.02,
          707.49,
          953.47,
          609.08,
          742.39,
          2998.23,
          539.34,
          547.98,
          386.07,
          827.42,
          3358.03,
          659.52,
          935.36,
          803.44,
          719.48,
          791.44,
          539.58,
          815.43
         ],
         "x0": " ",
         "xaxis": "x",
         "y": [
          "asus",
          "asus",
          "asus",
          "asus",
          "asus",
          "asus",
          "asus",
          "asus",
          "asus",
          "asus",
          "asus",
          "asus",
          "asus",
          "asus",
          "asus",
          "asus",
          "asus",
          "asus",
          "asus",
          "asus",
          "asus",
          "asus",
          "asus",
          "asus",
          "asus",
          "asus",
          "asus",
          "asus",
          "asus",
          "asus",
          "asus",
          "asus",
          "asus",
          "asus",
          "asus",
          "asus",
          "asus",
          "asus",
          "asus",
          "asus",
          "asus",
          "asus",
          "asus",
          "asus",
          "asus",
          "asus",
          "asus",
          "asus",
          "asus",
          "asus",
          "asus",
          "asus",
          "asus",
          "asus",
          "asus",
          "asus",
          "asus",
          "asus",
          "asus",
          "asus",
          "asus",
          "asus",
          "asus",
          "asus",
          "asus",
          "asus",
          "asus",
          "asus",
          "asus",
          "asus",
          "asus",
          "asus",
          "asus",
          "asus",
          "asus",
          "asus",
          "asus",
          "asus",
          "asus",
          "asus",
          "asus",
          "asus",
          "asus",
          "asus",
          "asus",
          "asus",
          "asus",
          "asus",
          "asus",
          "asus",
          "asus",
          "asus",
          "asus",
          "asus",
          "asus",
          "asus",
          "asus",
          "asus",
          "asus",
          "asus",
          "asus",
          "asus",
          "asus",
          "asus",
          "asus",
          "asus",
          "asus",
          "asus",
          "asus",
          "asus",
          "asus",
          "asus",
          "asus",
          "asus",
          "asus",
          "asus",
          "asus",
          "asus",
          "asus",
          "asus",
          "asus",
          "asus",
          "asus",
          "asus",
          "asus",
          "asus",
          "asus",
          "asus",
          "asus",
          "asus",
          "asus",
          "asus",
          "asus",
          "asus",
          "asus",
          "asus",
          "asus",
          "asus",
          "asus",
          "asus",
          "asus",
          "asus",
          "asus",
          "asus",
          "asus",
          "asus",
          "asus",
          "asus",
          "asus",
          "asus",
          "asus",
          "asus",
          "asus",
          "asus",
          "asus",
          "asus",
          "asus",
          "asus",
          "asus",
          "asus",
          "asus",
          "asus",
          "asus",
          "asus",
          "asus",
          "asus",
          "asus",
          "asus",
          "asus",
          "asus",
          "asus",
          "asus",
          "asus",
          "asus",
          "asus",
          "asus",
          "asus",
          "asus",
          "asus",
          "asus",
          "asus",
          "asus",
          "asus",
          "asus",
          "asus",
          "asus",
          "asus",
          "asus",
          "asus",
          "asus",
          "asus",
          "asus",
          "asus",
          "asus",
          "asus",
          "asus",
          "asus",
          "asus",
          "asus",
          "asus",
          "asus",
          "asus",
          "asus",
          "asus",
          "asus",
          "asus",
          "asus",
          "asus",
          "asus",
          "asus"
         ],
         "y0": " ",
         "yaxis": "y"
        },
        {
         "alignmentgroup": "True",
         "hovertemplate": "brand=%{y}<br>price=%{x}<extra></extra>",
         "legendgroup": "dell",
         "marker": {
          "color": "#B6E880"
         },
         "name": "dell",
         "notched": false,
         "offsetgroup": "dell",
         "orientation": "h",
         "showlegend": true,
         "type": "box",
         "x": [
          419.65,
          818.42,
          974.94,
          475.53,
          1037.31,
          869.4,
          599.67,
          1007.32,
          827.42,
          1780.9,
          455.63,
          791.44,
          929.37,
          470.62,
          687.22,
          611.54,
          839.53,
          626.04,
          1055.3,
          2500.5,
          440.53,
          718.28,
          419.65,
          1823,
          1067.29,
          1265.18,
          617.5,
          683.5,
          743.47,
          815.89,
          675.71,
          682.18,
          683.5,
          611.54,
          467.62,
          791.44,
          1193.1,
          719.48,
          449.63,
          1031.31,
          2677.82,
          550.14,
          459.93,
          1187.23,
          395.66,
          1049.3,
          575.56,
          929.37,
          496.92,
          1046.9,
          725.48,
          447.13,
          1013.32,
          3088.18,
          1151.25,
          730.4,
          5450.88,
          814.23,
          3885.74,
          2266.63,
          5408.9,
          3597.9,
          785.57,
          887.39,
          471.22,
          719.48,
          501.42,
          1055.3,
          1085.28,
          491.61,
          523.99,
          671.51,
          575.56,
          955.75,
          3352.03,
          2422.55,
          490.41,
          2464.52,
          1138.17,
          743.47,
          1894.84,
          1996.78,
          1193.22,
          959.71,
          515.6,
          1067.17,
          863.4,
          887.39,
          743.47,
          1790.49,
          515.72,
          2254.64,
          1319.15,
          1559.02,
          976.29,
          2704.39,
          2650.42,
          4659.31,
          4419.44,
          575.56,
          623.54,
          461.63,
          539.58,
          670.43,
          1434.41,
          1055.3
         ],
         "x0": " ",
         "xaxis": "x",
         "y": [
          "dell",
          "dell",
          "dell",
          "dell",
          "dell",
          "dell",
          "dell",
          "dell",
          "dell",
          "dell",
          "dell",
          "dell",
          "dell",
          "dell",
          "dell",
          "dell",
          "dell",
          "dell",
          "dell",
          "dell",
          "dell",
          "dell",
          "dell",
          "dell",
          "dell",
          "dell",
          "dell",
          "dell",
          "dell",
          "dell",
          "dell",
          "dell",
          "dell",
          "dell",
          "dell",
          "dell",
          "dell",
          "dell",
          "dell",
          "dell",
          "dell",
          "dell",
          "dell",
          "dell",
          "dell",
          "dell",
          "dell",
          "dell",
          "dell",
          "dell",
          "dell",
          "dell",
          "dell",
          "dell",
          "dell",
          "dell",
          "dell",
          "dell",
          "dell",
          "dell",
          "dell",
          "dell",
          "dell",
          "dell",
          "dell",
          "dell",
          "dell",
          "dell",
          "dell",
          "dell",
          "dell",
          "dell",
          "dell",
          "dell",
          "dell",
          "dell",
          "dell",
          "dell",
          "dell",
          "dell",
          "dell",
          "dell",
          "dell",
          "dell",
          "dell",
          "dell",
          "dell",
          "dell",
          "dell",
          "dell",
          "dell",
          "dell",
          "dell",
          "dell",
          "dell",
          "dell",
          "dell",
          "dell",
          "dell",
          "dell",
          "dell",
          "dell",
          "dell",
          "dell",
          "dell",
          "dell"
         ],
         "y0": " ",
         "yaxis": "y"
        },
        {
         "alignmentgroup": "True",
         "hovertemplate": "brand=%{y}<br>price=%{x}<extra></extra>",
         "legendgroup": "samsung",
         "marker": {
          "color": "#FF97FF"
         },
         "name": "samsung",
         "notched": false,
         "offsetgroup": "samsung",
         "orientation": "h",
         "showlegend": true,
         "type": "box",
         "x": [
          779.45,
          539.58,
          575.56,
          839.42,
          911.38,
          659.52,
          1403.11
         ],
         "x0": " ",
         "xaxis": "x",
         "y": [
          "samsung",
          "samsung",
          "samsung",
          "samsung",
          "samsung",
          "samsung",
          "samsung"
         ],
         "y0": " ",
         "yaxis": "y"
        },
        {
         "alignmentgroup": "True",
         "hovertemplate": "brand=%{y}<br>price=%{x}<extra></extra>",
         "legendgroup": "msi",
         "marker": {
          "color": "#FECB52"
         },
         "name": "msi",
         "notched": false,
         "offsetgroup": "msi",
         "orientation": "h",
         "showlegend": true,
         "type": "box",
         "x": [
          635.53,
          800.92,
          431.16,
          839.42,
          659.52,
          899.38,
          599.55,
          503.6,
          659.52,
          743.47,
          635.53,
          755.46,
          479.62,
          647.52,
          683.5,
          443.64,
          815.43,
          785.45,
          527.59,
          1271.18,
          1007.32,
          795.76,
          2398.56,
          5396.91,
          959.35,
          2357.66,
          755.46,
          1139.25,
          1163.24,
          1259.19,
          1798.89,
          1798.89,
          1379.12,
          671.51,
          707.49,
          671.51,
          2398.56,
          1439.09,
          3597.9,
          983.34,
          443.64,
          1912.07,
          1079.29,
          887.39,
          575.56,
          1343.14,
          695.5,
          659.52,
          1259.19,
          899.38,
          1139.25,
          611.54,
          1139.25,
          1019.32,
          731.48,
          623.54,
          635.53,
          1103.27,
          1055.3,
          3358.03,
          923.37,
          875.4,
          1043.31,
          2998.23,
          767.46,
          1163.24,
          983.34,
          839.42,
          3130.16,
          781.85,
          875.4,
          2638.43,
          2590.45,
          2062.74,
          839.42,
          743.47,
          527.59,
          587.56,
          503.6,
          455.63,
          569.57,
          1115.27,
          995.33,
          1048.11,
          606.76,
          731.48,
          647.52,
          491.61,
          1439.09,
          1103.27
         ],
         "x0": " ",
         "xaxis": "x",
         "y": [
          "msi",
          "msi",
          "msi",
          "msi",
          "msi",
          "msi",
          "msi",
          "msi",
          "msi",
          "msi",
          "msi",
          "msi",
          "msi",
          "msi",
          "msi",
          "msi",
          "msi",
          "msi",
          "msi",
          "msi",
          "msi",
          "msi",
          "msi",
          "msi",
          "msi",
          "msi",
          "msi",
          "msi",
          "msi",
          "msi",
          "msi",
          "msi",
          "msi",
          "msi",
          "msi",
          "msi",
          "msi",
          "msi",
          "msi",
          "msi",
          "msi",
          "msi",
          "msi",
          "msi",
          "msi",
          "msi",
          "msi",
          "msi",
          "msi",
          "msi",
          "msi",
          "msi",
          "msi",
          "msi",
          "msi",
          "msi",
          "msi",
          "msi",
          "msi",
          "msi",
          "msi",
          "msi",
          "msi",
          "msi",
          "msi",
          "msi",
          "msi",
          "msi",
          "msi",
          "msi",
          "msi",
          "msi",
          "msi",
          "msi",
          "msi",
          "msi",
          "msi",
          "msi",
          "msi",
          "msi",
          "msi",
          "msi",
          "msi",
          "msi",
          "msi",
          "msi",
          "msi",
          "msi",
          "msi",
          "msi"
         ],
         "y0": " ",
         "yaxis": "y"
        },
        {
         "alignmentgroup": "True",
         "hovertemplate": "brand=%{y}<br>price=%{x}<extra></extra>",
         "legendgroup": "wings",
         "marker": {
          "color": "#636efa"
         },
         "name": "wings",
         "notched": false,
         "offsetgroup": "wings",
         "orientation": "h",
         "showlegend": true,
         "type": "box",
         "x": [
          335.7,
          479.62,
          299.71,
          323.7
         ],
         "x0": " ",
         "xaxis": "x",
         "y": [
          "wings",
          "wings",
          "wings",
          "wings"
         ],
         "y0": " ",
         "yaxis": "y"
        },
        {
         "alignmentgroup": "True",
         "hovertemplate": "brand=%{y}<br>price=%{x}<extra></extra>",
         "legendgroup": "ultimus",
         "marker": {
          "color": "#EF553B"
         },
         "name": "ultimus",
         "notched": false,
         "offsetgroup": "ultimus",
         "orientation": "h",
         "showlegend": true,
         "type": "box",
         "x": [
          239.75,
          191.77,
          143.8,
          179.78,
          197.77,
          274.8
         ],
         "x0": " ",
         "xaxis": "x",
         "y": [
          "ultimus",
          "ultimus",
          "ultimus",
          "ultimus",
          "ultimus",
          "ultimus"
         ],
         "y0": " ",
         "yaxis": "y"
        },
        {
         "alignmentgroup": "True",
         "hovertemplate": "brand=%{y}<br>price=%{x}<extra></extra>",
         "legendgroup": "primebook",
         "marker": {
          "color": "#00cc96"
         },
         "name": "primebook",
         "notched": false,
         "offsetgroup": "primebook",
         "orientation": "h",
         "showlegend": true,
         "type": "box",
         "x": [
          179.78,
          155.79
         ],
         "x0": " ",
         "xaxis": "x",
         "y": [
          "primebook",
          "primebook"
         ],
         "y0": " ",
         "yaxis": "y"
        },
        {
         "alignmentgroup": "True",
         "hovertemplate": "brand=%{y}<br>price=%{x}<extra></extra>",
         "legendgroup": "iball",
         "marker": {
          "color": "#ab63fa"
         },
         "name": "iball",
         "notched": false,
         "offsetgroup": "iball",
         "orientation": "h",
         "showlegend": true,
         "type": "box",
         "x": [
          117.54
         ],
         "x0": " ",
         "xaxis": "x",
         "y": [
          "iball"
         ],
         "y0": " ",
         "yaxis": "y"
        },
        {
         "alignmentgroup": "True",
         "hovertemplate": "brand=%{y}<br>price=%{x}<extra></extra>",
         "legendgroup": "zebronics",
         "marker": {
          "color": "#FFA15A"
         },
         "name": "zebronics",
         "notched": false,
         "offsetgroup": "zebronics",
         "orientation": "h",
         "showlegend": true,
         "type": "box",
         "x": [
          407.66,
          395.66,
          635.53,
          359.68,
          479.62,
          395.66,
          611.54
         ],
         "x0": " ",
         "xaxis": "x",
         "y": [
          "zebronics",
          "zebronics",
          "zebronics",
          "zebronics",
          "zebronics",
          "zebronics",
          "zebronics"
         ],
         "y0": " ",
         "yaxis": "y"
        },
        {
         "alignmentgroup": "True",
         "hovertemplate": "brand=%{y}<br>price=%{x}<extra></extra>",
         "legendgroup": "chuwi",
         "marker": {
          "color": "#19d3f3"
         },
         "name": "chuwi",
         "notched": false,
         "offsetgroup": "chuwi",
         "orientation": "h",
         "showlegend": true,
         "type": "box",
         "x": [
          395.66,
          299.71,
          263.73,
          419.65
         ],
         "x0": " ",
         "xaxis": "x",
         "y": [
          "chuwi",
          "chuwi",
          "chuwi",
          "chuwi"
         ],
         "y0": " ",
         "yaxis": "y"
        },
        {
         "alignmentgroup": "True",
         "hovertemplate": "brand=%{y}<br>price=%{x}<extra></extra>",
         "legendgroup": "gigabyte",
         "marker": {
          "color": "#FF6692"
         },
         "name": "gigabyte",
         "notched": false,
         "offsetgroup": "gigabyte",
         "orientation": "h",
         "showlegend": true,
         "type": "box",
         "x": [
          863.4,
          1079.29
         ],
         "x0": " ",
         "xaxis": "x",
         "y": [
          "gigabyte",
          "gigabyte"
         ],
         "y0": " ",
         "yaxis": "y"
        },
        {
         "alignmentgroup": "True",
         "hovertemplate": "brand=%{y}<br>price=%{x}<extra></extra>",
         "legendgroup": "jio",
         "marker": {
          "color": "#B6E880"
         },
         "name": "jio",
         "notched": false,
         "offsetgroup": "jio",
         "orientation": "h",
         "showlegend": true,
         "type": "box",
         "x": [
          176.31
         ],
         "x0": " ",
         "xaxis": "x",
         "y": [
          "jio"
         ],
         "y0": " ",
         "yaxis": "y"
        },
        {
         "alignmentgroup": "True",
         "hovertemplate": "brand=%{y}<br>price=%{x}<extra></extra>",
         "legendgroup": "honor",
         "marker": {
          "color": "#FF97FF"
         },
         "name": "honor",
         "notched": false,
         "offsetgroup": "honor",
         "orientation": "h",
         "showlegend": true,
         "type": "box",
         "x": [
          659.52,
          527.59
         ],
         "x0": " ",
         "xaxis": "x",
         "y": [
          "honor",
          "honor"
         ],
         "y0": " ",
         "yaxis": "y"
        },
        {
         "alignmentgroup": "True",
         "hovertemplate": "brand=%{y}<br>price=%{x}<extra></extra>",
         "legendgroup": "realme",
         "marker": {
          "color": "#FECB52"
         },
         "name": "realme",
         "notched": false,
         "offsetgroup": "realme",
         "orientation": "h",
         "showlegend": true,
         "type": "box",
         "x": [
          443.64,
          515.6
         ],
         "x0": " ",
         "xaxis": "x",
         "y": [
          "realme",
          "realme"
         ],
         "y0": " ",
         "yaxis": "y"
        },
        {
         "alignmentgroup": "True",
         "hovertemplate": "brand=%{y}<br>price=%{x}<extra></extra>",
         "legendgroup": "avita",
         "marker": {
          "color": "#636efa"
         },
         "name": "avita",
         "notched": false,
         "offsetgroup": "avita",
         "orientation": "h",
         "showlegend": true,
         "type": "box",
         "x": [
          256.54,
          395.17,
          390.38,
          232.92,
          251.85
         ],
         "x0": " ",
         "xaxis": "x",
         "y": [
          "avita",
          "avita",
          "avita",
          "avita",
          "avita"
         ],
         "y0": " ",
         "yaxis": "y"
        },
        {
         "alignmentgroup": "True",
         "hovertemplate": "brand=%{y}<br>price=%{x}<extra></extra>",
         "legendgroup": "microsoft",
         "marker": {
          "color": "#EF553B"
         },
         "name": "microsoft",
         "notched": false,
         "offsetgroup": "microsoft",
         "orientation": "h",
         "showlegend": true,
         "type": "box",
         "x": [
          959.35,
          1169.24
         ],
         "x0": " ",
         "xaxis": "x",
         "y": [
          "microsoft",
          "microsoft"
         ],
         "y0": " ",
         "yaxis": "y"
        },
        {
         "alignmentgroup": "True",
         "hovertemplate": "brand=%{y}<br>price=%{x}<extra></extra>",
         "legendgroup": "fujitsu",
         "marker": {
          "color": "#00cc96"
         },
         "name": "fujitsu",
         "notched": false,
         "offsetgroup": "fujitsu",
         "orientation": "h",
         "showlegend": true,
         "type": "box",
         "x": [
          887.39,
          887.39,
          1319.15,
          1199.22,
          677.55
         ],
         "x0": " ",
         "xaxis": "x",
         "y": [
          "fujitsu",
          "fujitsu",
          "fujitsu",
          "fujitsu",
          "fujitsu"
         ],
         "y0": " ",
         "yaxis": "y"
        },
        {
         "alignmentgroup": "True",
         "hovertemplate": "brand=%{y}<br>price=%{x}<extra></extra>",
         "legendgroup": "lg",
         "marker": {
          "color": "#ab63fa"
         },
         "name": "lg",
         "notched": false,
         "offsetgroup": "lg",
         "orientation": "h",
         "showlegend": true,
         "type": "box",
         "x": [
          1187.33,
          939.07,
          1828.98,
          1414.01,
          1076.99,
          1810.99,
          1421.2
         ],
         "x0": " ",
         "xaxis": "x",
         "y": [
          "lg",
          "lg",
          "lg",
          "lg",
          "lg",
          "lg",
          "lg"
         ],
         "y0": " ",
         "yaxis": "y"
        },
        {
         "alignmentgroup": "True",
         "hovertemplate": "brand=%{y}<br>price=%{x}<extra></extra>",
         "legendgroup": "walker",
         "marker": {
          "color": "#FFA15A"
         },
         "name": "walker",
         "notched": false,
         "offsetgroup": "walker",
         "orientation": "h",
         "showlegend": true,
         "type": "box",
         "x": [
          191.77
         ],
         "x0": " ",
         "xaxis": "x",
         "y": [
          "walker"
         ],
         "y0": " ",
         "yaxis": "y"
        },
        {
         "alignmentgroup": "True",
         "hovertemplate": "brand=%{y}<br>price=%{x}<extra></extra>",
         "legendgroup": "axl",
         "marker": {
          "color": "#19d3f3"
         },
         "name": "axl",
         "notched": false,
         "offsetgroup": "axl",
         "orientation": "h",
         "showlegend": true,
         "type": "box",
         "x": [
          215.76,
          179.78
         ],
         "x0": " ",
         "xaxis": "x",
         "y": [
          "axl",
          "axl"
         ],
         "y0": " ",
         "yaxis": "y"
        }
       ],
       "layout": {
        "boxmode": "overlay",
        "legend": {
         "title": {
          "text": "brand"
         },
         "tracegroupgap": 0
        },
        "template": {
         "data": {
          "bar": [
           {
            "error_x": {
             "color": "#2a3f5f"
            },
            "error_y": {
             "color": "#2a3f5f"
            },
            "marker": {
             "line": {
              "color": "#E5ECF6",
              "width": 0.5
             },
             "pattern": {
              "fillmode": "overlay",
              "size": 10,
              "solidity": 0.2
             }
            },
            "type": "bar"
           }
          ],
          "barpolar": [
           {
            "marker": {
             "line": {
              "color": "#E5ECF6",
              "width": 0.5
             },
             "pattern": {
              "fillmode": "overlay",
              "size": 10,
              "solidity": 0.2
             }
            },
            "type": "barpolar"
           }
          ],
          "carpet": [
           {
            "aaxis": {
             "endlinecolor": "#2a3f5f",
             "gridcolor": "white",
             "linecolor": "white",
             "minorgridcolor": "white",
             "startlinecolor": "#2a3f5f"
            },
            "baxis": {
             "endlinecolor": "#2a3f5f",
             "gridcolor": "white",
             "linecolor": "white",
             "minorgridcolor": "white",
             "startlinecolor": "#2a3f5f"
            },
            "type": "carpet"
           }
          ],
          "choropleth": [
           {
            "colorbar": {
             "outlinewidth": 0,
             "ticks": ""
            },
            "type": "choropleth"
           }
          ],
          "contour": [
           {
            "colorbar": {
             "outlinewidth": 0,
             "ticks": ""
            },
            "colorscale": [
             [
              0,
              "#0d0887"
             ],
             [
              0.1111111111111111,
              "#46039f"
             ],
             [
              0.2222222222222222,
              "#7201a8"
             ],
             [
              0.3333333333333333,
              "#9c179e"
             ],
             [
              0.4444444444444444,
              "#bd3786"
             ],
             [
              0.5555555555555556,
              "#d8576b"
             ],
             [
              0.6666666666666666,
              "#ed7953"
             ],
             [
              0.7777777777777778,
              "#fb9f3a"
             ],
             [
              0.8888888888888888,
              "#fdca26"
             ],
             [
              1,
              "#f0f921"
             ]
            ],
            "type": "contour"
           }
          ],
          "contourcarpet": [
           {
            "colorbar": {
             "outlinewidth": 0,
             "ticks": ""
            },
            "type": "contourcarpet"
           }
          ],
          "heatmap": [
           {
            "colorbar": {
             "outlinewidth": 0,
             "ticks": ""
            },
            "colorscale": [
             [
              0,
              "#0d0887"
             ],
             [
              0.1111111111111111,
              "#46039f"
             ],
             [
              0.2222222222222222,
              "#7201a8"
             ],
             [
              0.3333333333333333,
              "#9c179e"
             ],
             [
              0.4444444444444444,
              "#bd3786"
             ],
             [
              0.5555555555555556,
              "#d8576b"
             ],
             [
              0.6666666666666666,
              "#ed7953"
             ],
             [
              0.7777777777777778,
              "#fb9f3a"
             ],
             [
              0.8888888888888888,
              "#fdca26"
             ],
             [
              1,
              "#f0f921"
             ]
            ],
            "type": "heatmap"
           }
          ],
          "heatmapgl": [
           {
            "colorbar": {
             "outlinewidth": 0,
             "ticks": ""
            },
            "colorscale": [
             [
              0,
              "#0d0887"
             ],
             [
              0.1111111111111111,
              "#46039f"
             ],
             [
              0.2222222222222222,
              "#7201a8"
             ],
             [
              0.3333333333333333,
              "#9c179e"
             ],
             [
              0.4444444444444444,
              "#bd3786"
             ],
             [
              0.5555555555555556,
              "#d8576b"
             ],
             [
              0.6666666666666666,
              "#ed7953"
             ],
             [
              0.7777777777777778,
              "#fb9f3a"
             ],
             [
              0.8888888888888888,
              "#fdca26"
             ],
             [
              1,
              "#f0f921"
             ]
            ],
            "type": "heatmapgl"
           }
          ],
          "histogram": [
           {
            "marker": {
             "pattern": {
              "fillmode": "overlay",
              "size": 10,
              "solidity": 0.2
             }
            },
            "type": "histogram"
           }
          ],
          "histogram2d": [
           {
            "colorbar": {
             "outlinewidth": 0,
             "ticks": ""
            },
            "colorscale": [
             [
              0,
              "#0d0887"
             ],
             [
              0.1111111111111111,
              "#46039f"
             ],
             [
              0.2222222222222222,
              "#7201a8"
             ],
             [
              0.3333333333333333,
              "#9c179e"
             ],
             [
              0.4444444444444444,
              "#bd3786"
             ],
             [
              0.5555555555555556,
              "#d8576b"
             ],
             [
              0.6666666666666666,
              "#ed7953"
             ],
             [
              0.7777777777777778,
              "#fb9f3a"
             ],
             [
              0.8888888888888888,
              "#fdca26"
             ],
             [
              1,
              "#f0f921"
             ]
            ],
            "type": "histogram2d"
           }
          ],
          "histogram2dcontour": [
           {
            "colorbar": {
             "outlinewidth": 0,
             "ticks": ""
            },
            "colorscale": [
             [
              0,
              "#0d0887"
             ],
             [
              0.1111111111111111,
              "#46039f"
             ],
             [
              0.2222222222222222,
              "#7201a8"
             ],
             [
              0.3333333333333333,
              "#9c179e"
             ],
             [
              0.4444444444444444,
              "#bd3786"
             ],
             [
              0.5555555555555556,
              "#d8576b"
             ],
             [
              0.6666666666666666,
              "#ed7953"
             ],
             [
              0.7777777777777778,
              "#fb9f3a"
             ],
             [
              0.8888888888888888,
              "#fdca26"
             ],
             [
              1,
              "#f0f921"
             ]
            ],
            "type": "histogram2dcontour"
           }
          ],
          "mesh3d": [
           {
            "colorbar": {
             "outlinewidth": 0,
             "ticks": ""
            },
            "type": "mesh3d"
           }
          ],
          "parcoords": [
           {
            "line": {
             "colorbar": {
              "outlinewidth": 0,
              "ticks": ""
             }
            },
            "type": "parcoords"
           }
          ],
          "pie": [
           {
            "automargin": true,
            "type": "pie"
           }
          ],
          "scatter": [
           {
            "fillpattern": {
             "fillmode": "overlay",
             "size": 10,
             "solidity": 0.2
            },
            "type": "scatter"
           }
          ],
          "scatter3d": [
           {
            "line": {
             "colorbar": {
              "outlinewidth": 0,
              "ticks": ""
             }
            },
            "marker": {
             "colorbar": {
              "outlinewidth": 0,
              "ticks": ""
             }
            },
            "type": "scatter3d"
           }
          ],
          "scattercarpet": [
           {
            "marker": {
             "colorbar": {
              "outlinewidth": 0,
              "ticks": ""
             }
            },
            "type": "scattercarpet"
           }
          ],
          "scattergeo": [
           {
            "marker": {
             "colorbar": {
              "outlinewidth": 0,
              "ticks": ""
             }
            },
            "type": "scattergeo"
           }
          ],
          "scattergl": [
           {
            "marker": {
             "colorbar": {
              "outlinewidth": 0,
              "ticks": ""
             }
            },
            "type": "scattergl"
           }
          ],
          "scattermapbox": [
           {
            "marker": {
             "colorbar": {
              "outlinewidth": 0,
              "ticks": ""
             }
            },
            "type": "scattermapbox"
           }
          ],
          "scatterpolar": [
           {
            "marker": {
             "colorbar": {
              "outlinewidth": 0,
              "ticks": ""
             }
            },
            "type": "scatterpolar"
           }
          ],
          "scatterpolargl": [
           {
            "marker": {
             "colorbar": {
              "outlinewidth": 0,
              "ticks": ""
             }
            },
            "type": "scatterpolargl"
           }
          ],
          "scatterternary": [
           {
            "marker": {
             "colorbar": {
              "outlinewidth": 0,
              "ticks": ""
             }
            },
            "type": "scatterternary"
           }
          ],
          "surface": [
           {
            "colorbar": {
             "outlinewidth": 0,
             "ticks": ""
            },
            "colorscale": [
             [
              0,
              "#0d0887"
             ],
             [
              0.1111111111111111,
              "#46039f"
             ],
             [
              0.2222222222222222,
              "#7201a8"
             ],
             [
              0.3333333333333333,
              "#9c179e"
             ],
             [
              0.4444444444444444,
              "#bd3786"
             ],
             [
              0.5555555555555556,
              "#d8576b"
             ],
             [
              0.6666666666666666,
              "#ed7953"
             ],
             [
              0.7777777777777778,
              "#fb9f3a"
             ],
             [
              0.8888888888888888,
              "#fdca26"
             ],
             [
              1,
              "#f0f921"
             ]
            ],
            "type": "surface"
           }
          ],
          "table": [
           {
            "cells": {
             "fill": {
              "color": "#EBF0F8"
             },
             "line": {
              "color": "white"
             }
            },
            "header": {
             "fill": {
              "color": "#C8D4E3"
             },
             "line": {
              "color": "white"
             }
            },
            "type": "table"
           }
          ]
         },
         "layout": {
          "annotationdefaults": {
           "arrowcolor": "#2a3f5f",
           "arrowhead": 0,
           "arrowwidth": 1
          },
          "autotypenumbers": "strict",
          "coloraxis": {
           "colorbar": {
            "outlinewidth": 0,
            "ticks": ""
           }
          },
          "colorscale": {
           "diverging": [
            [
             0,
             "#8e0152"
            ],
            [
             0.1,
             "#c51b7d"
            ],
            [
             0.2,
             "#de77ae"
            ],
            [
             0.3,
             "#f1b6da"
            ],
            [
             0.4,
             "#fde0ef"
            ],
            [
             0.5,
             "#f7f7f7"
            ],
            [
             0.6,
             "#e6f5d0"
            ],
            [
             0.7,
             "#b8e186"
            ],
            [
             0.8,
             "#7fbc41"
            ],
            [
             0.9,
             "#4d9221"
            ],
            [
             1,
             "#276419"
            ]
           ],
           "sequential": [
            [
             0,
             "#0d0887"
            ],
            [
             0.1111111111111111,
             "#46039f"
            ],
            [
             0.2222222222222222,
             "#7201a8"
            ],
            [
             0.3333333333333333,
             "#9c179e"
            ],
            [
             0.4444444444444444,
             "#bd3786"
            ],
            [
             0.5555555555555556,
             "#d8576b"
            ],
            [
             0.6666666666666666,
             "#ed7953"
            ],
            [
             0.7777777777777778,
             "#fb9f3a"
            ],
            [
             0.8888888888888888,
             "#fdca26"
            ],
            [
             1,
             "#f0f921"
            ]
           ],
           "sequentialminus": [
            [
             0,
             "#0d0887"
            ],
            [
             0.1111111111111111,
             "#46039f"
            ],
            [
             0.2222222222222222,
             "#7201a8"
            ],
            [
             0.3333333333333333,
             "#9c179e"
            ],
            [
             0.4444444444444444,
             "#bd3786"
            ],
            [
             0.5555555555555556,
             "#d8576b"
            ],
            [
             0.6666666666666666,
             "#ed7953"
            ],
            [
             0.7777777777777778,
             "#fb9f3a"
            ],
            [
             0.8888888888888888,
             "#fdca26"
            ],
            [
             1,
             "#f0f921"
            ]
           ]
          },
          "colorway": [
           "#636efa",
           "#EF553B",
           "#00cc96",
           "#ab63fa",
           "#FFA15A",
           "#19d3f3",
           "#FF6692",
           "#B6E880",
           "#FF97FF",
           "#FECB52"
          ],
          "font": {
           "color": "#2a3f5f"
          },
          "geo": {
           "bgcolor": "white",
           "lakecolor": "white",
           "landcolor": "#E5ECF6",
           "showlakes": true,
           "showland": true,
           "subunitcolor": "white"
          },
          "hoverlabel": {
           "align": "left"
          },
          "hovermode": "closest",
          "mapbox": {
           "style": "light"
          },
          "paper_bgcolor": "white",
          "plot_bgcolor": "#E5ECF6",
          "polar": {
           "angularaxis": {
            "gridcolor": "white",
            "linecolor": "white",
            "ticks": ""
           },
           "bgcolor": "#E5ECF6",
           "radialaxis": {
            "gridcolor": "white",
            "linecolor": "white",
            "ticks": ""
           }
          },
          "scene": {
           "xaxis": {
            "backgroundcolor": "#E5ECF6",
            "gridcolor": "white",
            "gridwidth": 2,
            "linecolor": "white",
            "showbackground": true,
            "ticks": "",
            "zerolinecolor": "white"
           },
           "yaxis": {
            "backgroundcolor": "#E5ECF6",
            "gridcolor": "white",
            "gridwidth": 2,
            "linecolor": "white",
            "showbackground": true,
            "ticks": "",
            "zerolinecolor": "white"
           },
           "zaxis": {
            "backgroundcolor": "#E5ECF6",
            "gridcolor": "white",
            "gridwidth": 2,
            "linecolor": "white",
            "showbackground": true,
            "ticks": "",
            "zerolinecolor": "white"
           }
          },
          "shapedefaults": {
           "line": {
            "color": "#2a3f5f"
           }
          },
          "ternary": {
           "aaxis": {
            "gridcolor": "white",
            "linecolor": "white",
            "ticks": ""
           },
           "baxis": {
            "gridcolor": "white",
            "linecolor": "white",
            "ticks": ""
           },
           "bgcolor": "#E5ECF6",
           "caxis": {
            "gridcolor": "white",
            "linecolor": "white",
            "ticks": ""
           }
          },
          "title": {
           "x": 0.05
          },
          "xaxis": {
           "automargin": true,
           "gridcolor": "white",
           "linecolor": "white",
           "ticks": "",
           "title": {
            "standoff": 15
           },
           "zerolinecolor": "white",
           "zerolinewidth": 2
          },
          "yaxis": {
           "automargin": true,
           "gridcolor": "white",
           "linecolor": "white",
           "ticks": "",
           "title": {
            "standoff": 15
           },
           "zerolinecolor": "white",
           "zerolinewidth": 2
          }
         }
        },
        "title": {
         "text": "Distribuição da variável price por brand"
        },
        "xaxis": {
         "anchor": "y",
         "domain": [
          0,
          1
         ],
         "title": {
          "text": "price"
         }
        },
        "yaxis": {
         "anchor": "x",
         "categoryarray": [
          "axl",
          "walker",
          "lg",
          "fujitsu",
          "microsoft",
          "avita",
          "realme",
          "honor",
          "jio",
          "gigabyte",
          "chuwi",
          "zebronics",
          "iball",
          "primebook",
          "ultimus",
          "wings",
          "msi",
          "samsung",
          "dell",
          "asus",
          "infinix",
          "apple",
          "lenovo",
          "acer",
          "hp",
          "tecno"
         ],
         "categoryorder": "array",
         "domain": [
          0,
          1
         ],
         "title": {
          "text": "brand"
         }
        }
       }
      }
     },
     "metadata": {},
     "output_type": "display_data"
    }
   ],
   "source": [
    "# Plot de distribuição da variável price por brand\n",
    "px.box(df_laptops, x='price', y='brand', title='Distribuição da variável price por brand', color='brand')"
   ]
  },
  {
   "cell_type": "code",
   "execution_count": 44,
   "metadata": {},
   "outputs": [
    {
     "data": {
      "application/vnd.plotly.v1+json": {
       "config": {
        "plotlyServerURL": "https://plot.ly"
       },
       "data": [
        {
         "alignmentgroup": "True",
         "hovertemplate": "brand=%{y}<br>rating=%{x}<extra></extra>",
         "legendgroup": "tecno",
         "marker": {
          "color": "#636efa"
         },
         "name": "tecno",
         "notched": false,
         "offsetgroup": "tecno",
         "orientation": "h",
         "showlegend": true,
         "type": "box",
         "x": [
          63,
          67
         ],
         "x0": " ",
         "xaxis": "x",
         "y": [
          "tecno",
          "tecno"
         ],
         "y0": " ",
         "yaxis": "y"
        },
        {
         "alignmentgroup": "True",
         "hovertemplate": "brand=%{y}<br>rating=%{x}<extra></extra>",
         "legendgroup": "hp",
         "marker": {
          "color": "#EF553B"
         },
         "name": "hp",
         "notched": false,
         "offsetgroup": "hp",
         "orientation": "h",
         "showlegend": true,
         "type": "box",
         "x": [
          73,
          60,
          85,
          71,
          49,
          77,
          66,
          62,
          71,
          71,
          80,
          71,
          76,
          70,
          63,
          80,
          72,
          65,
          70,
          70,
          70,
          54,
          72,
          70,
          67,
          57,
          62,
          62,
          58,
          54,
          52,
          60,
          60,
          82,
          76,
          64,
          58,
          76,
          59,
          67,
          66,
          49,
          56,
          76,
          63,
          76,
          63,
          75,
          85,
          70,
          63,
          66,
          65,
          65,
          59,
          57,
          69,
          54,
          67,
          68,
          69,
          67,
          73,
          62,
          71,
          64,
          39,
          71,
          54,
          58,
          62,
          52,
          64,
          56,
          64,
          51,
          58,
          62,
          52,
          70,
          78,
          69,
          57,
          77,
          76,
          72,
          60,
          88,
          62,
          70,
          85,
          88,
          79,
          78,
          57,
          47,
          70,
          64,
          75,
          67,
          70,
          57,
          59,
          51,
          58,
          62,
          78,
          63,
          51,
          70,
          71,
          72,
          71,
          86,
          75,
          67,
          67,
          72,
          70,
          67,
          60,
          77,
          73,
          77,
          44,
          56,
          57,
          44,
          69,
          69,
          46,
          67,
          80,
          38,
          52,
          73,
          66,
          66,
          66,
          70,
          66,
          72,
          57,
          60,
          71,
          69,
          71,
          69,
          58,
          53,
          60,
          70,
          58,
          62,
          63,
          72,
          66,
          71,
          49,
          50,
          67,
          63,
          65,
          67,
          47,
          66,
          50,
          64,
          66,
          71,
          65,
          57,
          59,
          58,
          57,
          75,
          66,
          57,
          54,
          54,
          51,
          51,
          54,
          67,
          56,
          67,
          71,
          60,
          75,
          67,
          56,
          77,
          75,
          64,
          79,
          72,
          58,
          59,
          52,
          43,
          37,
          59,
          47,
          73,
          37
         ],
         "x0": " ",
         "xaxis": "x",
         "y": [
          "hp",
          "hp",
          "hp",
          "hp",
          "hp",
          "hp",
          "hp",
          "hp",
          "hp",
          "hp",
          "hp",
          "hp",
          "hp",
          "hp",
          "hp",
          "hp",
          "hp",
          "hp",
          "hp",
          "hp",
          "hp",
          "hp",
          "hp",
          "hp",
          "hp",
          "hp",
          "hp",
          "hp",
          "hp",
          "hp",
          "hp",
          "hp",
          "hp",
          "hp",
          "hp",
          "hp",
          "hp",
          "hp",
          "hp",
          "hp",
          "hp",
          "hp",
          "hp",
          "hp",
          "hp",
          "hp",
          "hp",
          "hp",
          "hp",
          "hp",
          "hp",
          "hp",
          "hp",
          "hp",
          "hp",
          "hp",
          "hp",
          "hp",
          "hp",
          "hp",
          "hp",
          "hp",
          "hp",
          "hp",
          "hp",
          "hp",
          "hp",
          "hp",
          "hp",
          "hp",
          "hp",
          "hp",
          "hp",
          "hp",
          "hp",
          "hp",
          "hp",
          "hp",
          "hp",
          "hp",
          "hp",
          "hp",
          "hp",
          "hp",
          "hp",
          "hp",
          "hp",
          "hp",
          "hp",
          "hp",
          "hp",
          "hp",
          "hp",
          "hp",
          "hp",
          "hp",
          "hp",
          "hp",
          "hp",
          "hp",
          "hp",
          "hp",
          "hp",
          "hp",
          "hp",
          "hp",
          "hp",
          "hp",
          "hp",
          "hp",
          "hp",
          "hp",
          "hp",
          "hp",
          "hp",
          "hp",
          "hp",
          "hp",
          "hp",
          "hp",
          "hp",
          "hp",
          "hp",
          "hp",
          "hp",
          "hp",
          "hp",
          "hp",
          "hp",
          "hp",
          "hp",
          "hp",
          "hp",
          "hp",
          "hp",
          "hp",
          "hp",
          "hp",
          "hp",
          "hp",
          "hp",
          "hp",
          "hp",
          "hp",
          "hp",
          "hp",
          "hp",
          "hp",
          "hp",
          "hp",
          "hp",
          "hp",
          "hp",
          "hp",
          "hp",
          "hp",
          "hp",
          "hp",
          "hp",
          "hp",
          "hp",
          "hp",
          "hp",
          "hp",
          "hp",
          "hp",
          "hp",
          "hp",
          "hp",
          "hp",
          "hp",
          "hp",
          "hp",
          "hp",
          "hp",
          "hp",
          "hp",
          "hp",
          "hp",
          "hp",
          "hp",
          "hp",
          "hp",
          "hp",
          "hp",
          "hp",
          "hp",
          "hp",
          "hp",
          "hp",
          "hp",
          "hp",
          "hp",
          "hp",
          "hp",
          "hp",
          "hp",
          "hp",
          "hp",
          "hp",
          "hp",
          "hp",
          "hp",
          "hp",
          "hp"
         ],
         "y0": " ",
         "yaxis": "y"
        },
        {
         "alignmentgroup": "True",
         "hovertemplate": "brand=%{y}<br>rating=%{x}<extra></extra>",
         "legendgroup": "acer",
         "marker": {
          "color": "#00cc96"
         },
         "name": "acer",
         "notched": false,
         "offsetgroup": "acer",
         "orientation": "h",
         "showlegend": true,
         "type": "box",
         "x": [
          62,
          63,
          64,
          60,
          58,
          71,
          60,
          62,
          72,
          67,
          75,
          70,
          49,
          64,
          54,
          64,
          78,
          57,
          59,
          70,
          67,
          75,
          49,
          67,
          47,
          64,
          64,
          64,
          62,
          63,
          63,
          56,
          62,
          38,
          65,
          62,
          67,
          65,
          38,
          58,
          62,
          50,
          72,
          70,
          63,
          60,
          45,
          79,
          65,
          58,
          80,
          59,
          64,
          70,
          59,
          50,
          57,
          50,
          60,
          69,
          56,
          53,
          51,
          50,
          59,
          52,
          50,
          70,
          62,
          78,
          58,
          47,
          65,
          66,
          64,
          65,
          73,
          74,
          72,
          59,
          50,
          44,
          71,
          77,
          52,
          71,
          54,
          71,
          67
         ],
         "x0": " ",
         "xaxis": "x",
         "y": [
          "acer",
          "acer",
          "acer",
          "acer",
          "acer",
          "acer",
          "acer",
          "acer",
          "acer",
          "acer",
          "acer",
          "acer",
          "acer",
          "acer",
          "acer",
          "acer",
          "acer",
          "acer",
          "acer",
          "acer",
          "acer",
          "acer",
          "acer",
          "acer",
          "acer",
          "acer",
          "acer",
          "acer",
          "acer",
          "acer",
          "acer",
          "acer",
          "acer",
          "acer",
          "acer",
          "acer",
          "acer",
          "acer",
          "acer",
          "acer",
          "acer",
          "acer",
          "acer",
          "acer",
          "acer",
          "acer",
          "acer",
          "acer",
          "acer",
          "acer",
          "acer",
          "acer",
          "acer",
          "acer",
          "acer",
          "acer",
          "acer",
          "acer",
          "acer",
          "acer",
          "acer",
          "acer",
          "acer",
          "acer",
          "acer",
          "acer",
          "acer",
          "acer",
          "acer",
          "acer",
          "acer",
          "acer",
          "acer",
          "acer",
          "acer",
          "acer",
          "acer",
          "acer",
          "acer",
          "acer",
          "acer",
          "acer",
          "acer",
          "acer",
          "acer",
          "acer",
          "acer",
          "acer",
          "acer"
         ],
         "y0": " ",
         "yaxis": "y"
        },
        {
         "alignmentgroup": "True",
         "hovertemplate": "brand=%{y}<br>rating=%{x}<extra></extra>",
         "legendgroup": "lenovo",
         "marker": {
          "color": "#ab63fa"
         },
         "name": "lenovo",
         "notched": false,
         "offsetgroup": "lenovo",
         "orientation": "h",
         "showlegend": true,
         "type": "box",
         "x": [
          62,
          66,
          59,
          59,
          71,
          69,
          51,
          66,
          47,
          70,
          63,
          59,
          80,
          70,
          66,
          64,
          67,
          60,
          64,
          77,
          83,
          60,
          50,
          64,
          62,
          69,
          63,
          67,
          53,
          53,
          53,
          78,
          74,
          49,
          64,
          57,
          58,
          62,
          50,
          58,
          62,
          66,
          57,
          60,
          63,
          51,
          64,
          67,
          66,
          75,
          65,
          57,
          86,
          70,
          69,
          54,
          53,
          57,
          56,
          69,
          67,
          75,
          63,
          58,
          57,
          63,
          65,
          69,
          64,
          56,
          58,
          84,
          85,
          78,
          58,
          77,
          57,
          65,
          57,
          57,
          67,
          58,
          60,
          62,
          51,
          46,
          51,
          63,
          64,
          43,
          69,
          58,
          59,
          65,
          71,
          63,
          89,
          83,
          79,
          67,
          66,
          56,
          65,
          83,
          69,
          52,
          58,
          60,
          62,
          58,
          58,
          53,
          63,
          58,
          59,
          69,
          58,
          60,
          56,
          65,
          64,
          60,
          60,
          60,
          62,
          65,
          64,
          62,
          60,
          59,
          64,
          58,
          60,
          72,
          71,
          73,
          73,
          75,
          73,
          63,
          69,
          72,
          57,
          69,
          38,
          62,
          65,
          59,
          50,
          70,
          62,
          58,
          69,
          64,
          67,
          66,
          67,
          64,
          67,
          59,
          70,
          57,
          62,
          62,
          57,
          63,
          75,
          62,
          57,
          57,
          59,
          54,
          64,
          53,
          54,
          56,
          59,
          57,
          66,
          64,
          50,
          67,
          58,
          67,
          71,
          78,
          47,
          43,
          45,
          58,
          56,
          56,
          60,
          66,
          55,
          52,
          75,
          54,
          50,
          48,
          64
         ],
         "x0": " ",
         "xaxis": "x",
         "y": [
          "lenovo",
          "lenovo",
          "lenovo",
          "lenovo",
          "lenovo",
          "lenovo",
          "lenovo",
          "lenovo",
          "lenovo",
          "lenovo",
          "lenovo",
          "lenovo",
          "lenovo",
          "lenovo",
          "lenovo",
          "lenovo",
          "lenovo",
          "lenovo",
          "lenovo",
          "lenovo",
          "lenovo",
          "lenovo",
          "lenovo",
          "lenovo",
          "lenovo",
          "lenovo",
          "lenovo",
          "lenovo",
          "lenovo",
          "lenovo",
          "lenovo",
          "lenovo",
          "lenovo",
          "lenovo",
          "lenovo",
          "lenovo",
          "lenovo",
          "lenovo",
          "lenovo",
          "lenovo",
          "lenovo",
          "lenovo",
          "lenovo",
          "lenovo",
          "lenovo",
          "lenovo",
          "lenovo",
          "lenovo",
          "lenovo",
          "lenovo",
          "lenovo",
          "lenovo",
          "lenovo",
          "lenovo",
          "lenovo",
          "lenovo",
          "lenovo",
          "lenovo",
          "lenovo",
          "lenovo",
          "lenovo",
          "lenovo",
          "lenovo",
          "lenovo",
          "lenovo",
          "lenovo",
          "lenovo",
          "lenovo",
          "lenovo",
          "lenovo",
          "lenovo",
          "lenovo",
          "lenovo",
          "lenovo",
          "lenovo",
          "lenovo",
          "lenovo",
          "lenovo",
          "lenovo",
          "lenovo",
          "lenovo",
          "lenovo",
          "lenovo",
          "lenovo",
          "lenovo",
          "lenovo",
          "lenovo",
          "lenovo",
          "lenovo",
          "lenovo",
          "lenovo",
          "lenovo",
          "lenovo",
          "lenovo",
          "lenovo",
          "lenovo",
          "lenovo",
          "lenovo",
          "lenovo",
          "lenovo",
          "lenovo",
          "lenovo",
          "lenovo",
          "lenovo",
          "lenovo",
          "lenovo",
          "lenovo",
          "lenovo",
          "lenovo",
          "lenovo",
          "lenovo",
          "lenovo",
          "lenovo",
          "lenovo",
          "lenovo",
          "lenovo",
          "lenovo",
          "lenovo",
          "lenovo",
          "lenovo",
          "lenovo",
          "lenovo",
          "lenovo",
          "lenovo",
          "lenovo",
          "lenovo",
          "lenovo",
          "lenovo",
          "lenovo",
          "lenovo",
          "lenovo",
          "lenovo",
          "lenovo",
          "lenovo",
          "lenovo",
          "lenovo",
          "lenovo",
          "lenovo",
          "lenovo",
          "lenovo",
          "lenovo",
          "lenovo",
          "lenovo",
          "lenovo",
          "lenovo",
          "lenovo",
          "lenovo",
          "lenovo",
          "lenovo",
          "lenovo",
          "lenovo",
          "lenovo",
          "lenovo",
          "lenovo",
          "lenovo",
          "lenovo",
          "lenovo",
          "lenovo",
          "lenovo",
          "lenovo",
          "lenovo",
          "lenovo",
          "lenovo",
          "lenovo",
          "lenovo",
          "lenovo",
          "lenovo",
          "lenovo",
          "lenovo",
          "lenovo",
          "lenovo",
          "lenovo",
          "lenovo",
          "lenovo",
          "lenovo",
          "lenovo",
          "lenovo",
          "lenovo",
          "lenovo",
          "lenovo",
          "lenovo",
          "lenovo",
          "lenovo",
          "lenovo",
          "lenovo",
          "lenovo",
          "lenovo",
          "lenovo",
          "lenovo",
          "lenovo",
          "lenovo",
          "lenovo",
          "lenovo",
          "lenovo",
          "lenovo",
          "lenovo",
          "lenovo",
          "lenovo",
          "lenovo",
          "lenovo",
          "lenovo"
         ],
         "y0": " ",
         "yaxis": "y"
        },
        {
         "alignmentgroup": "True",
         "hovertemplate": "brand=%{y}<br>rating=%{x}<extra></extra>",
         "legendgroup": "apple",
         "marker": {
          "color": "#FFA15A"
         },
         "name": "apple",
         "notched": false,
         "offsetgroup": "apple",
         "orientation": "h",
         "showlegend": true,
         "type": "box",
         "x": [
          45,
          65,
          48,
          53,
          43,
          63,
          64,
          58,
          56,
          56,
          45,
          45,
          53,
          58,
          51
         ],
         "x0": " ",
         "xaxis": "x",
         "y": [
          "apple",
          "apple",
          "apple",
          "apple",
          "apple",
          "apple",
          "apple",
          "apple",
          "apple",
          "apple",
          "apple",
          "apple",
          "apple",
          "apple",
          "apple"
         ],
         "y0": " ",
         "yaxis": "y"
        },
        {
         "alignmentgroup": "True",
         "hovertemplate": "brand=%{y}<br>rating=%{x}<extra></extra>",
         "legendgroup": "infinix",
         "marker": {
          "color": "#19d3f3"
         },
         "name": "infinix",
         "notched": false,
         "offsetgroup": "infinix",
         "orientation": "h",
         "showlegend": true,
         "type": "box",
         "x": [
          56,
          71,
          54,
          50,
          53,
          60,
          63,
          56,
          57,
          57,
          52,
          57,
          58
         ],
         "x0": " ",
         "xaxis": "x",
         "y": [
          "infinix",
          "infinix",
          "infinix",
          "infinix",
          "infinix",
          "infinix",
          "infinix",
          "infinix",
          "infinix",
          "infinix",
          "infinix",
          "infinix",
          "infinix"
         ],
         "y0": " ",
         "yaxis": "y"
        },
        {
         "alignmentgroup": "True",
         "hovertemplate": "brand=%{y}<br>rating=%{x}<extra></extra>",
         "legendgroup": "asus",
         "marker": {
          "color": "#FF6692"
         },
         "name": "asus",
         "notched": false,
         "offsetgroup": "asus",
         "orientation": "h",
         "showlegend": true,
         "type": "box",
         "x": [
          70,
          71,
          76,
          57,
          57,
          65,
          72,
          77,
          83,
          75,
          67,
          64,
          78,
          72,
          62,
          64,
          57,
          63,
          71,
          70,
          70,
          66,
          75,
          72,
          72,
          64,
          88,
          79,
          60,
          65,
          56,
          70,
          62,
          71,
          69,
          35,
          71,
          65,
          76,
          77,
          76,
          70,
          66,
          60,
          59,
          64,
          58,
          80,
          77,
          79,
          78,
          64,
          67,
          64,
          70,
          65,
          71,
          59,
          65,
          60,
          65,
          50,
          73,
          85,
          37,
          44,
          67,
          58,
          65,
          69,
          45,
          63,
          70,
          38,
          66,
          51,
          38,
          73,
          58,
          62,
          70,
          71,
          43,
          67,
          59,
          60,
          64,
          63,
          73,
          64,
          72,
          37,
          41,
          37,
          57,
          37,
          72,
          65,
          66,
          70,
          57,
          62,
          56,
          69,
          63,
          76,
          59,
          57,
          72,
          66,
          72,
          54,
          64,
          45,
          57,
          72,
          75,
          70,
          82,
          72,
          71,
          65,
          60,
          75,
          64,
          60,
          72,
          83,
          71,
          59,
          69,
          64,
          66,
          53,
          45,
          58,
          63,
          64,
          54,
          71,
          73,
          89,
          84,
          75,
          83,
          73,
          77,
          89,
          76,
          80,
          67,
          73,
          82,
          66,
          72,
          75,
          66,
          76,
          66,
          70,
          84,
          71,
          56,
          45,
          56,
          78,
          60,
          59,
          73,
          73,
          70,
          75,
          59,
          64,
          52,
          48,
          59,
          63,
          56,
          62,
          60,
          57,
          56,
          71,
          64,
          64,
          70,
          62,
          60,
          53,
          58,
          51,
          74,
          62,
          67,
          59,
          67,
          89,
          58,
          59,
          53,
          72,
          83,
          68,
          68,
          65,
          64,
          68,
          59,
          68
         ],
         "x0": " ",
         "xaxis": "x",
         "y": [
          "asus",
          "asus",
          "asus",
          "asus",
          "asus",
          "asus",
          "asus",
          "asus",
          "asus",
          "asus",
          "asus",
          "asus",
          "asus",
          "asus",
          "asus",
          "asus",
          "asus",
          "asus",
          "asus",
          "asus",
          "asus",
          "asus",
          "asus",
          "asus",
          "asus",
          "asus",
          "asus",
          "asus",
          "asus",
          "asus",
          "asus",
          "asus",
          "asus",
          "asus",
          "asus",
          "asus",
          "asus",
          "asus",
          "asus",
          "asus",
          "asus",
          "asus",
          "asus",
          "asus",
          "asus",
          "asus",
          "asus",
          "asus",
          "asus",
          "asus",
          "asus",
          "asus",
          "asus",
          "asus",
          "asus",
          "asus",
          "asus",
          "asus",
          "asus",
          "asus",
          "asus",
          "asus",
          "asus",
          "asus",
          "asus",
          "asus",
          "asus",
          "asus",
          "asus",
          "asus",
          "asus",
          "asus",
          "asus",
          "asus",
          "asus",
          "asus",
          "asus",
          "asus",
          "asus",
          "asus",
          "asus",
          "asus",
          "asus",
          "asus",
          "asus",
          "asus",
          "asus",
          "asus",
          "asus",
          "asus",
          "asus",
          "asus",
          "asus",
          "asus",
          "asus",
          "asus",
          "asus",
          "asus",
          "asus",
          "asus",
          "asus",
          "asus",
          "asus",
          "asus",
          "asus",
          "asus",
          "asus",
          "asus",
          "asus",
          "asus",
          "asus",
          "asus",
          "asus",
          "asus",
          "asus",
          "asus",
          "asus",
          "asus",
          "asus",
          "asus",
          "asus",
          "asus",
          "asus",
          "asus",
          "asus",
          "asus",
          "asus",
          "asus",
          "asus",
          "asus",
          "asus",
          "asus",
          "asus",
          "asus",
          "asus",
          "asus",
          "asus",
          "asus",
          "asus",
          "asus",
          "asus",
          "asus",
          "asus",
          "asus",
          "asus",
          "asus",
          "asus",
          "asus",
          "asus",
          "asus",
          "asus",
          "asus",
          "asus",
          "asus",
          "asus",
          "asus",
          "asus",
          "asus",
          "asus",
          "asus",
          "asus",
          "asus",
          "asus",
          "asus",
          "asus",
          "asus",
          "asus",
          "asus",
          "asus",
          "asus",
          "asus",
          "asus",
          "asus",
          "asus",
          "asus",
          "asus",
          "asus",
          "asus",
          "asus",
          "asus",
          "asus",
          "asus",
          "asus",
          "asus",
          "asus",
          "asus",
          "asus",
          "asus",
          "asus",
          "asus",
          "asus",
          "asus",
          "asus",
          "asus",
          "asus",
          "asus",
          "asus",
          "asus",
          "asus",
          "asus",
          "asus",
          "asus",
          "asus",
          "asus",
          "asus",
          "asus",
          "asus",
          "asus",
          "asus",
          "asus"
         ],
         "y0": " ",
         "yaxis": "y"
        },
        {
         "alignmentgroup": "True",
         "hovertemplate": "brand=%{y}<br>rating=%{x}<extra></extra>",
         "legendgroup": "dell",
         "marker": {
          "color": "#B6E880"
         },
         "name": "dell",
         "notched": false,
         "offsetgroup": "dell",
         "orientation": "h",
         "showlegend": true,
         "type": "box",
         "x": [
          60,
          66,
          71,
          66,
          66,
          70,
          60,
          72,
          74,
          78,
          59,
          53,
          73,
          63,
          62,
          68,
          62,
          56,
          67,
          80,
          53,
          58,
          49,
          59,
          64,
          75,
          58,
          57,
          53,
          53,
          57,
          57,
          56,
          57,
          56,
          57,
          62,
          53,
          58,
          57,
          78,
          56,
          58,
          63,
          58,
          62,
          54,
          59,
          57,
          60,
          63,
          58,
          60,
          85,
          63,
          65,
          83,
          65,
          85,
          80,
          83,
          89,
          60,
          63,
          60,
          56,
          53,
          56,
          67,
          58,
          52,
          60,
          60,
          70,
          88,
          82,
          54,
          72,
          71,
          56,
          78,
          82,
          59,
          58,
          57,
          56,
          52,
          57,
          56,
          76,
          52,
          79,
          73,
          75,
          69,
          78,
          83,
          82,
          83,
          63,
          63,
          59,
          62,
          59,
          68,
          72
         ],
         "x0": " ",
         "xaxis": "x",
         "y": [
          "dell",
          "dell",
          "dell",
          "dell",
          "dell",
          "dell",
          "dell",
          "dell",
          "dell",
          "dell",
          "dell",
          "dell",
          "dell",
          "dell",
          "dell",
          "dell",
          "dell",
          "dell",
          "dell",
          "dell",
          "dell",
          "dell",
          "dell",
          "dell",
          "dell",
          "dell",
          "dell",
          "dell",
          "dell",
          "dell",
          "dell",
          "dell",
          "dell",
          "dell",
          "dell",
          "dell",
          "dell",
          "dell",
          "dell",
          "dell",
          "dell",
          "dell",
          "dell",
          "dell",
          "dell",
          "dell",
          "dell",
          "dell",
          "dell",
          "dell",
          "dell",
          "dell",
          "dell",
          "dell",
          "dell",
          "dell",
          "dell",
          "dell",
          "dell",
          "dell",
          "dell",
          "dell",
          "dell",
          "dell",
          "dell",
          "dell",
          "dell",
          "dell",
          "dell",
          "dell",
          "dell",
          "dell",
          "dell",
          "dell",
          "dell",
          "dell",
          "dell",
          "dell",
          "dell",
          "dell",
          "dell",
          "dell",
          "dell",
          "dell",
          "dell",
          "dell",
          "dell",
          "dell",
          "dell",
          "dell",
          "dell",
          "dell",
          "dell",
          "dell",
          "dell",
          "dell",
          "dell",
          "dell",
          "dell",
          "dell",
          "dell",
          "dell",
          "dell",
          "dell",
          "dell",
          "dell"
         ],
         "y0": " ",
         "yaxis": "y"
        },
        {
         "alignmentgroup": "True",
         "hovertemplate": "brand=%{y}<br>rating=%{x}<extra></extra>",
         "legendgroup": "samsung",
         "marker": {
          "color": "#FF97FF"
         },
         "name": "samsung",
         "notched": false,
         "offsetgroup": "samsung",
         "orientation": "h",
         "showlegend": true,
         "type": "box",
         "x": [
          68,
          59,
          62,
          56,
          60,
          59,
          68
         ],
         "x0": " ",
         "xaxis": "x",
         "y": [
          "samsung",
          "samsung",
          "samsung",
          "samsung",
          "samsung",
          "samsung",
          "samsung"
         ],
         "y0": " ",
         "yaxis": "y"
        },
        {
         "alignmentgroup": "True",
         "hovertemplate": "brand=%{y}<br>rating=%{x}<extra></extra>",
         "legendgroup": "msi",
         "marker": {
          "color": "#FECB52"
         },
         "name": "msi",
         "notched": false,
         "offsetgroup": "msi",
         "orientation": "h",
         "showlegend": true,
         "type": "box",
         "x": [
          71,
          76,
          58,
          70,
          65,
          75,
          65,
          63,
          60,
          73,
          65,
          73,
          62,
          65,
          72,
          62,
          73,
          69,
          62,
          79,
          78,
          69,
          80,
          89,
          70,
          83,
          71,
          76,
          76,
          77,
          79,
          76,
          77,
          69,
          71,
          70,
          83,
          73,
          89,
          63,
          58,
          77,
          71,
          65,
          67,
          78,
          67,
          65,
          78,
          69,
          77,
          66,
          77,
          75,
          63,
          70,
          65,
          75,
          75,
          85,
          69,
          71,
          73,
          86,
          71,
          77,
          65,
          70,
          89,
          65,
          71,
          84,
          87,
          80,
          70,
          72,
          53,
          54,
          60,
          58,
          59,
          72,
          74,
          67,
          59,
          61,
          58,
          56,
          76,
          73
         ],
         "x0": " ",
         "xaxis": "x",
         "y": [
          "msi",
          "msi",
          "msi",
          "msi",
          "msi",
          "msi",
          "msi",
          "msi",
          "msi",
          "msi",
          "msi",
          "msi",
          "msi",
          "msi",
          "msi",
          "msi",
          "msi",
          "msi",
          "msi",
          "msi",
          "msi",
          "msi",
          "msi",
          "msi",
          "msi",
          "msi",
          "msi",
          "msi",
          "msi",
          "msi",
          "msi",
          "msi",
          "msi",
          "msi",
          "msi",
          "msi",
          "msi",
          "msi",
          "msi",
          "msi",
          "msi",
          "msi",
          "msi",
          "msi",
          "msi",
          "msi",
          "msi",
          "msi",
          "msi",
          "msi",
          "msi",
          "msi",
          "msi",
          "msi",
          "msi",
          "msi",
          "msi",
          "msi",
          "msi",
          "msi",
          "msi",
          "msi",
          "msi",
          "msi",
          "msi",
          "msi",
          "msi",
          "msi",
          "msi",
          "msi",
          "msi",
          "msi",
          "msi",
          "msi",
          "msi",
          "msi",
          "msi",
          "msi",
          "msi",
          "msi",
          "msi",
          "msi",
          "msi",
          "msi",
          "msi",
          "msi",
          "msi",
          "msi",
          "msi",
          "msi"
         ],
         "y0": " ",
         "yaxis": "y"
        },
        {
         "alignmentgroup": "True",
         "hovertemplate": "brand=%{y}<br>rating=%{x}<extra></extra>",
         "legendgroup": "wings",
         "marker": {
          "color": "#636efa"
         },
         "name": "wings",
         "notched": false,
         "offsetgroup": "wings",
         "orientation": "h",
         "showlegend": true,
         "type": "box",
         "x": [
          56,
          58,
          49,
          51
         ],
         "x0": " ",
         "xaxis": "x",
         "y": [
          "wings",
          "wings",
          "wings",
          "wings"
         ],
         "y0": " ",
         "yaxis": "y"
        },
        {
         "alignmentgroup": "True",
         "hovertemplate": "brand=%{y}<br>rating=%{x}<extra></extra>",
         "legendgroup": "ultimus",
         "marker": {
          "color": "#EF553B"
         },
         "name": "ultimus",
         "notched": false,
         "offsetgroup": "ultimus",
         "orientation": "h",
         "showlegend": true,
         "type": "box",
         "x": [
          54,
          46,
          41,
          45,
          47,
          52
         ],
         "x0": " ",
         "xaxis": "x",
         "y": [
          "ultimus",
          "ultimus",
          "ultimus",
          "ultimus",
          "ultimus",
          "ultimus"
         ],
         "y0": " ",
         "yaxis": "y"
        },
        {
         "alignmentgroup": "True",
         "hovertemplate": "brand=%{y}<br>rating=%{x}<extra></extra>",
         "legendgroup": "primebook",
         "marker": {
          "color": "#00cc96"
         },
         "name": "primebook",
         "notched": false,
         "offsetgroup": "primebook",
         "orientation": "h",
         "showlegend": true,
         "type": "box",
         "x": [
          26,
          31
         ],
         "x0": " ",
         "xaxis": "x",
         "y": [
          "primebook",
          "primebook"
         ],
         "y0": " ",
         "yaxis": "y"
        },
        {
         "alignmentgroup": "True",
         "hovertemplate": "brand=%{y}<br>rating=%{x}<extra></extra>",
         "legendgroup": "iball",
         "marker": {
          "color": "#ab63fa"
         },
         "name": "iball",
         "notched": false,
         "offsetgroup": "iball",
         "orientation": "h",
         "showlegend": true,
         "type": "box",
         "x": [
          41
         ],
         "x0": " ",
         "xaxis": "x",
         "y": [
          "iball"
         ],
         "y0": " ",
         "yaxis": "y"
        },
        {
         "alignmentgroup": "True",
         "hovertemplate": "brand=%{y}<br>rating=%{x}<extra></extra>",
         "legendgroup": "zebronics",
         "marker": {
          "color": "#FFA15A"
         },
         "name": "zebronics",
         "notched": false,
         "offsetgroup": "zebronics",
         "orientation": "h",
         "showlegend": true,
         "type": "box",
         "x": [
          65,
          63,
          72,
          56,
          66,
          60,
          72
         ],
         "x0": " ",
         "xaxis": "x",
         "y": [
          "zebronics",
          "zebronics",
          "zebronics",
          "zebronics",
          "zebronics",
          "zebronics",
          "zebronics"
         ],
         "y0": " ",
         "yaxis": "y"
        },
        {
         "alignmentgroup": "True",
         "hovertemplate": "brand=%{y}<br>rating=%{x}<extra></extra>",
         "legendgroup": "chuwi",
         "marker": {
          "color": "#19d3f3"
         },
         "name": "chuwi",
         "notched": false,
         "offsetgroup": "chuwi",
         "orientation": "h",
         "showlegend": true,
         "type": "box",
         "x": [
          50,
          50,
          50,
          54
         ],
         "x0": " ",
         "xaxis": "x",
         "y": [
          "chuwi",
          "chuwi",
          "chuwi",
          "chuwi"
         ],
         "y0": " ",
         "yaxis": "y"
        },
        {
         "alignmentgroup": "True",
         "hovertemplate": "brand=%{y}<br>rating=%{x}<extra></extra>",
         "legendgroup": "gigabyte",
         "marker": {
          "color": "#FF6692"
         },
         "name": "gigabyte",
         "notched": false,
         "offsetgroup": "gigabyte",
         "orientation": "h",
         "showlegend": true,
         "type": "box",
         "x": [
          67,
          73
         ],
         "x0": " ",
         "xaxis": "x",
         "y": [
          "gigabyte",
          "gigabyte"
         ],
         "y0": " ",
         "yaxis": "y"
        },
        {
         "alignmentgroup": "True",
         "hovertemplate": "brand=%{y}<br>rating=%{x}<extra></extra>",
         "legendgroup": "jio",
         "marker": {
          "color": "#B6E880"
         },
         "name": "jio",
         "notched": false,
         "offsetgroup": "jio",
         "orientation": "h",
         "showlegend": true,
         "type": "box",
         "x": [
          24
         ],
         "x0": " ",
         "xaxis": "x",
         "y": [
          "jio"
         ],
         "y0": " ",
         "yaxis": "y"
        },
        {
         "alignmentgroup": "True",
         "hovertemplate": "brand=%{y}<br>rating=%{x}<extra></extra>",
         "legendgroup": "honor",
         "marker": {
          "color": "#FF97FF"
         },
         "name": "honor",
         "notched": false,
         "offsetgroup": "honor",
         "orientation": "h",
         "showlegend": true,
         "type": "box",
         "x": [
          66,
          59
         ],
         "x0": " ",
         "xaxis": "x",
         "y": [
          "honor",
          "honor"
         ],
         "y0": " ",
         "yaxis": "y"
        },
        {
         "alignmentgroup": "True",
         "hovertemplate": "brand=%{y}<br>rating=%{x}<extra></extra>",
         "legendgroup": "realme",
         "marker": {
          "color": "#FECB52"
         },
         "name": "realme",
         "notched": false,
         "offsetgroup": "realme",
         "orientation": "h",
         "showlegend": true,
         "type": "box",
         "x": [
          52,
          62
         ],
         "x0": " ",
         "xaxis": "x",
         "y": [
          "realme",
          "realme"
         ],
         "y0": " ",
         "yaxis": "y"
        },
        {
         "alignmentgroup": "True",
         "hovertemplate": "brand=%{y}<br>rating=%{x}<extra></extra>",
         "legendgroup": "avita",
         "marker": {
          "color": "#636efa"
         },
         "name": "avita",
         "notched": false,
         "offsetgroup": "avita",
         "orientation": "h",
         "showlegend": true,
         "type": "box",
         "x": [
          56,
          50,
          51,
          41,
          43
         ],
         "x0": " ",
         "xaxis": "x",
         "y": [
          "avita",
          "avita",
          "avita",
          "avita",
          "avita"
         ],
         "y0": " ",
         "yaxis": "y"
        },
        {
         "alignmentgroup": "True",
         "hovertemplate": "brand=%{y}<br>rating=%{x}<extra></extra>",
         "legendgroup": "microsoft",
         "marker": {
          "color": "#EF553B"
         },
         "name": "microsoft",
         "notched": false,
         "offsetgroup": "microsoft",
         "orientation": "h",
         "showlegend": true,
         "type": "box",
         "x": [
          58,
          60
         ],
         "x0": " ",
         "xaxis": "x",
         "y": [
          "microsoft",
          "microsoft"
         ],
         "y0": " ",
         "yaxis": "y"
        },
        {
         "alignmentgroup": "True",
         "hovertemplate": "brand=%{y}<br>rating=%{x}<extra></extra>",
         "legendgroup": "fujitsu",
         "marker": {
          "color": "#00cc96"
         },
         "name": "fujitsu",
         "notched": false,
         "offsetgroup": "fujitsu",
         "orientation": "h",
         "showlegend": true,
         "type": "box",
         "x": [
          67,
          65,
          76,
          73,
          70
         ],
         "x0": " ",
         "xaxis": "x",
         "y": [
          "fujitsu",
          "fujitsu",
          "fujitsu",
          "fujitsu",
          "fujitsu"
         ],
         "y0": " ",
         "yaxis": "y"
        },
        {
         "alignmentgroup": "True",
         "hovertemplate": "brand=%{y}<br>rating=%{x}<extra></extra>",
         "legendgroup": "lg",
         "marker": {
          "color": "#ab63fa"
         },
         "name": "lg",
         "notched": false,
         "offsetgroup": "lg",
         "orientation": "h",
         "showlegend": true,
         "type": "box",
         "x": [
          67,
          72,
          78,
          69,
          75,
          72,
          72
         ],
         "x0": " ",
         "xaxis": "x",
         "y": [
          "lg",
          "lg",
          "lg",
          "lg",
          "lg",
          "lg",
          "lg"
         ],
         "y0": " ",
         "yaxis": "y"
        },
        {
         "alignmentgroup": "True",
         "hovertemplate": "brand=%{y}<br>rating=%{x}<extra></extra>",
         "legendgroup": "walker",
         "marker": {
          "color": "#FFA15A"
         },
         "name": "walker",
         "notched": false,
         "offsetgroup": "walker",
         "orientation": "h",
         "showlegend": true,
         "type": "box",
         "x": [
          37
         ],
         "x0": " ",
         "xaxis": "x",
         "y": [
          "walker"
         ],
         "y0": " ",
         "yaxis": "y"
        },
        {
         "alignmentgroup": "True",
         "hovertemplate": "brand=%{y}<br>rating=%{x}<extra></extra>",
         "legendgroup": "axl",
         "marker": {
          "color": "#19d3f3"
         },
         "name": "axl",
         "notched": false,
         "offsetgroup": "axl",
         "orientation": "h",
         "showlegend": true,
         "type": "box",
         "x": [
          38,
          37
         ],
         "x0": " ",
         "xaxis": "x",
         "y": [
          "axl",
          "axl"
         ],
         "y0": " ",
         "yaxis": "y"
        }
       ],
       "layout": {
        "boxmode": "overlay",
        "legend": {
         "title": {
          "text": "brand"
         },
         "tracegroupgap": 0
        },
        "template": {
         "data": {
          "bar": [
           {
            "error_x": {
             "color": "#2a3f5f"
            },
            "error_y": {
             "color": "#2a3f5f"
            },
            "marker": {
             "line": {
              "color": "#E5ECF6",
              "width": 0.5
             },
             "pattern": {
              "fillmode": "overlay",
              "size": 10,
              "solidity": 0.2
             }
            },
            "type": "bar"
           }
          ],
          "barpolar": [
           {
            "marker": {
             "line": {
              "color": "#E5ECF6",
              "width": 0.5
             },
             "pattern": {
              "fillmode": "overlay",
              "size": 10,
              "solidity": 0.2
             }
            },
            "type": "barpolar"
           }
          ],
          "carpet": [
           {
            "aaxis": {
             "endlinecolor": "#2a3f5f",
             "gridcolor": "white",
             "linecolor": "white",
             "minorgridcolor": "white",
             "startlinecolor": "#2a3f5f"
            },
            "baxis": {
             "endlinecolor": "#2a3f5f",
             "gridcolor": "white",
             "linecolor": "white",
             "minorgridcolor": "white",
             "startlinecolor": "#2a3f5f"
            },
            "type": "carpet"
           }
          ],
          "choropleth": [
           {
            "colorbar": {
             "outlinewidth": 0,
             "ticks": ""
            },
            "type": "choropleth"
           }
          ],
          "contour": [
           {
            "colorbar": {
             "outlinewidth": 0,
             "ticks": ""
            },
            "colorscale": [
             [
              0,
              "#0d0887"
             ],
             [
              0.1111111111111111,
              "#46039f"
             ],
             [
              0.2222222222222222,
              "#7201a8"
             ],
             [
              0.3333333333333333,
              "#9c179e"
             ],
             [
              0.4444444444444444,
              "#bd3786"
             ],
             [
              0.5555555555555556,
              "#d8576b"
             ],
             [
              0.6666666666666666,
              "#ed7953"
             ],
             [
              0.7777777777777778,
              "#fb9f3a"
             ],
             [
              0.8888888888888888,
              "#fdca26"
             ],
             [
              1,
              "#f0f921"
             ]
            ],
            "type": "contour"
           }
          ],
          "contourcarpet": [
           {
            "colorbar": {
             "outlinewidth": 0,
             "ticks": ""
            },
            "type": "contourcarpet"
           }
          ],
          "heatmap": [
           {
            "colorbar": {
             "outlinewidth": 0,
             "ticks": ""
            },
            "colorscale": [
             [
              0,
              "#0d0887"
             ],
             [
              0.1111111111111111,
              "#46039f"
             ],
             [
              0.2222222222222222,
              "#7201a8"
             ],
             [
              0.3333333333333333,
              "#9c179e"
             ],
             [
              0.4444444444444444,
              "#bd3786"
             ],
             [
              0.5555555555555556,
              "#d8576b"
             ],
             [
              0.6666666666666666,
              "#ed7953"
             ],
             [
              0.7777777777777778,
              "#fb9f3a"
             ],
             [
              0.8888888888888888,
              "#fdca26"
             ],
             [
              1,
              "#f0f921"
             ]
            ],
            "type": "heatmap"
           }
          ],
          "heatmapgl": [
           {
            "colorbar": {
             "outlinewidth": 0,
             "ticks": ""
            },
            "colorscale": [
             [
              0,
              "#0d0887"
             ],
             [
              0.1111111111111111,
              "#46039f"
             ],
             [
              0.2222222222222222,
              "#7201a8"
             ],
             [
              0.3333333333333333,
              "#9c179e"
             ],
             [
              0.4444444444444444,
              "#bd3786"
             ],
             [
              0.5555555555555556,
              "#d8576b"
             ],
             [
              0.6666666666666666,
              "#ed7953"
             ],
             [
              0.7777777777777778,
              "#fb9f3a"
             ],
             [
              0.8888888888888888,
              "#fdca26"
             ],
             [
              1,
              "#f0f921"
             ]
            ],
            "type": "heatmapgl"
           }
          ],
          "histogram": [
           {
            "marker": {
             "pattern": {
              "fillmode": "overlay",
              "size": 10,
              "solidity": 0.2
             }
            },
            "type": "histogram"
           }
          ],
          "histogram2d": [
           {
            "colorbar": {
             "outlinewidth": 0,
             "ticks": ""
            },
            "colorscale": [
             [
              0,
              "#0d0887"
             ],
             [
              0.1111111111111111,
              "#46039f"
             ],
             [
              0.2222222222222222,
              "#7201a8"
             ],
             [
              0.3333333333333333,
              "#9c179e"
             ],
             [
              0.4444444444444444,
              "#bd3786"
             ],
             [
              0.5555555555555556,
              "#d8576b"
             ],
             [
              0.6666666666666666,
              "#ed7953"
             ],
             [
              0.7777777777777778,
              "#fb9f3a"
             ],
             [
              0.8888888888888888,
              "#fdca26"
             ],
             [
              1,
              "#f0f921"
             ]
            ],
            "type": "histogram2d"
           }
          ],
          "histogram2dcontour": [
           {
            "colorbar": {
             "outlinewidth": 0,
             "ticks": ""
            },
            "colorscale": [
             [
              0,
              "#0d0887"
             ],
             [
              0.1111111111111111,
              "#46039f"
             ],
             [
              0.2222222222222222,
              "#7201a8"
             ],
             [
              0.3333333333333333,
              "#9c179e"
             ],
             [
              0.4444444444444444,
              "#bd3786"
             ],
             [
              0.5555555555555556,
              "#d8576b"
             ],
             [
              0.6666666666666666,
              "#ed7953"
             ],
             [
              0.7777777777777778,
              "#fb9f3a"
             ],
             [
              0.8888888888888888,
              "#fdca26"
             ],
             [
              1,
              "#f0f921"
             ]
            ],
            "type": "histogram2dcontour"
           }
          ],
          "mesh3d": [
           {
            "colorbar": {
             "outlinewidth": 0,
             "ticks": ""
            },
            "type": "mesh3d"
           }
          ],
          "parcoords": [
           {
            "line": {
             "colorbar": {
              "outlinewidth": 0,
              "ticks": ""
             }
            },
            "type": "parcoords"
           }
          ],
          "pie": [
           {
            "automargin": true,
            "type": "pie"
           }
          ],
          "scatter": [
           {
            "fillpattern": {
             "fillmode": "overlay",
             "size": 10,
             "solidity": 0.2
            },
            "type": "scatter"
           }
          ],
          "scatter3d": [
           {
            "line": {
             "colorbar": {
              "outlinewidth": 0,
              "ticks": ""
             }
            },
            "marker": {
             "colorbar": {
              "outlinewidth": 0,
              "ticks": ""
             }
            },
            "type": "scatter3d"
           }
          ],
          "scattercarpet": [
           {
            "marker": {
             "colorbar": {
              "outlinewidth": 0,
              "ticks": ""
             }
            },
            "type": "scattercarpet"
           }
          ],
          "scattergeo": [
           {
            "marker": {
             "colorbar": {
              "outlinewidth": 0,
              "ticks": ""
             }
            },
            "type": "scattergeo"
           }
          ],
          "scattergl": [
           {
            "marker": {
             "colorbar": {
              "outlinewidth": 0,
              "ticks": ""
             }
            },
            "type": "scattergl"
           }
          ],
          "scattermapbox": [
           {
            "marker": {
             "colorbar": {
              "outlinewidth": 0,
              "ticks": ""
             }
            },
            "type": "scattermapbox"
           }
          ],
          "scatterpolar": [
           {
            "marker": {
             "colorbar": {
              "outlinewidth": 0,
              "ticks": ""
             }
            },
            "type": "scatterpolar"
           }
          ],
          "scatterpolargl": [
           {
            "marker": {
             "colorbar": {
              "outlinewidth": 0,
              "ticks": ""
             }
            },
            "type": "scatterpolargl"
           }
          ],
          "scatterternary": [
           {
            "marker": {
             "colorbar": {
              "outlinewidth": 0,
              "ticks": ""
             }
            },
            "type": "scatterternary"
           }
          ],
          "surface": [
           {
            "colorbar": {
             "outlinewidth": 0,
             "ticks": ""
            },
            "colorscale": [
             [
              0,
              "#0d0887"
             ],
             [
              0.1111111111111111,
              "#46039f"
             ],
             [
              0.2222222222222222,
              "#7201a8"
             ],
             [
              0.3333333333333333,
              "#9c179e"
             ],
             [
              0.4444444444444444,
              "#bd3786"
             ],
             [
              0.5555555555555556,
              "#d8576b"
             ],
             [
              0.6666666666666666,
              "#ed7953"
             ],
             [
              0.7777777777777778,
              "#fb9f3a"
             ],
             [
              0.8888888888888888,
              "#fdca26"
             ],
             [
              1,
              "#f0f921"
             ]
            ],
            "type": "surface"
           }
          ],
          "table": [
           {
            "cells": {
             "fill": {
              "color": "#EBF0F8"
             },
             "line": {
              "color": "white"
             }
            },
            "header": {
             "fill": {
              "color": "#C8D4E3"
             },
             "line": {
              "color": "white"
             }
            },
            "type": "table"
           }
          ]
         },
         "layout": {
          "annotationdefaults": {
           "arrowcolor": "#2a3f5f",
           "arrowhead": 0,
           "arrowwidth": 1
          },
          "autotypenumbers": "strict",
          "coloraxis": {
           "colorbar": {
            "outlinewidth": 0,
            "ticks": ""
           }
          },
          "colorscale": {
           "diverging": [
            [
             0,
             "#8e0152"
            ],
            [
             0.1,
             "#c51b7d"
            ],
            [
             0.2,
             "#de77ae"
            ],
            [
             0.3,
             "#f1b6da"
            ],
            [
             0.4,
             "#fde0ef"
            ],
            [
             0.5,
             "#f7f7f7"
            ],
            [
             0.6,
             "#e6f5d0"
            ],
            [
             0.7,
             "#b8e186"
            ],
            [
             0.8,
             "#7fbc41"
            ],
            [
             0.9,
             "#4d9221"
            ],
            [
             1,
             "#276419"
            ]
           ],
           "sequential": [
            [
             0,
             "#0d0887"
            ],
            [
             0.1111111111111111,
             "#46039f"
            ],
            [
             0.2222222222222222,
             "#7201a8"
            ],
            [
             0.3333333333333333,
             "#9c179e"
            ],
            [
             0.4444444444444444,
             "#bd3786"
            ],
            [
             0.5555555555555556,
             "#d8576b"
            ],
            [
             0.6666666666666666,
             "#ed7953"
            ],
            [
             0.7777777777777778,
             "#fb9f3a"
            ],
            [
             0.8888888888888888,
             "#fdca26"
            ],
            [
             1,
             "#f0f921"
            ]
           ],
           "sequentialminus": [
            [
             0,
             "#0d0887"
            ],
            [
             0.1111111111111111,
             "#46039f"
            ],
            [
             0.2222222222222222,
             "#7201a8"
            ],
            [
             0.3333333333333333,
             "#9c179e"
            ],
            [
             0.4444444444444444,
             "#bd3786"
            ],
            [
             0.5555555555555556,
             "#d8576b"
            ],
            [
             0.6666666666666666,
             "#ed7953"
            ],
            [
             0.7777777777777778,
             "#fb9f3a"
            ],
            [
             0.8888888888888888,
             "#fdca26"
            ],
            [
             1,
             "#f0f921"
            ]
           ]
          },
          "colorway": [
           "#636efa",
           "#EF553B",
           "#00cc96",
           "#ab63fa",
           "#FFA15A",
           "#19d3f3",
           "#FF6692",
           "#B6E880",
           "#FF97FF",
           "#FECB52"
          ],
          "font": {
           "color": "#2a3f5f"
          },
          "geo": {
           "bgcolor": "white",
           "lakecolor": "white",
           "landcolor": "#E5ECF6",
           "showlakes": true,
           "showland": true,
           "subunitcolor": "white"
          },
          "hoverlabel": {
           "align": "left"
          },
          "hovermode": "closest",
          "mapbox": {
           "style": "light"
          },
          "paper_bgcolor": "white",
          "plot_bgcolor": "#E5ECF6",
          "polar": {
           "angularaxis": {
            "gridcolor": "white",
            "linecolor": "white",
            "ticks": ""
           },
           "bgcolor": "#E5ECF6",
           "radialaxis": {
            "gridcolor": "white",
            "linecolor": "white",
            "ticks": ""
           }
          },
          "scene": {
           "xaxis": {
            "backgroundcolor": "#E5ECF6",
            "gridcolor": "white",
            "gridwidth": 2,
            "linecolor": "white",
            "showbackground": true,
            "ticks": "",
            "zerolinecolor": "white"
           },
           "yaxis": {
            "backgroundcolor": "#E5ECF6",
            "gridcolor": "white",
            "gridwidth": 2,
            "linecolor": "white",
            "showbackground": true,
            "ticks": "",
            "zerolinecolor": "white"
           },
           "zaxis": {
            "backgroundcolor": "#E5ECF6",
            "gridcolor": "white",
            "gridwidth": 2,
            "linecolor": "white",
            "showbackground": true,
            "ticks": "",
            "zerolinecolor": "white"
           }
          },
          "shapedefaults": {
           "line": {
            "color": "#2a3f5f"
           }
          },
          "ternary": {
           "aaxis": {
            "gridcolor": "white",
            "linecolor": "white",
            "ticks": ""
           },
           "baxis": {
            "gridcolor": "white",
            "linecolor": "white",
            "ticks": ""
           },
           "bgcolor": "#E5ECF6",
           "caxis": {
            "gridcolor": "white",
            "linecolor": "white",
            "ticks": ""
           }
          },
          "title": {
           "x": 0.05
          },
          "xaxis": {
           "automargin": true,
           "gridcolor": "white",
           "linecolor": "white",
           "ticks": "",
           "title": {
            "standoff": 15
           },
           "zerolinecolor": "white",
           "zerolinewidth": 2
          },
          "yaxis": {
           "automargin": true,
           "gridcolor": "white",
           "linecolor": "white",
           "ticks": "",
           "title": {
            "standoff": 15
           },
           "zerolinecolor": "white",
           "zerolinewidth": 2
          }
         }
        },
        "title": {
         "text": "Distribuição da variável rating por brand"
        },
        "xaxis": {
         "anchor": "y",
         "domain": [
          0,
          1
         ],
         "title": {
          "text": "rating"
         }
        },
        "yaxis": {
         "anchor": "x",
         "categoryarray": [
          "axl",
          "walker",
          "lg",
          "fujitsu",
          "microsoft",
          "avita",
          "realme",
          "honor",
          "jio",
          "gigabyte",
          "chuwi",
          "zebronics",
          "iball",
          "primebook",
          "ultimus",
          "wings",
          "msi",
          "samsung",
          "dell",
          "asus",
          "infinix",
          "apple",
          "lenovo",
          "acer",
          "hp",
          "tecno"
         ],
         "categoryorder": "array",
         "domain": [
          0,
          1
         ],
         "title": {
          "text": "brand"
         }
        }
       }
      }
     },
     "metadata": {},
     "output_type": "display_data"
    }
   ],
   "source": [
    "# Plot de distribuição da variável rating por brand\n",
    "px.box(df_laptops, x='rating', y='brand', title='Distribuição da variável rating por brand', color='brand')"
   ]
  },
  {
   "cell_type": "code",
   "execution_count": 45,
   "metadata": {},
   "outputs": [
    {
     "data": {
      "application/vnd.plotly.v1+json": {
       "config": {
        "plotlyServerURL": "https://plot.ly"
       },
       "data": [
        {
         "hovertemplate": "brand=tecno<br>price=%{x}<br>rating=%{y}<extra></extra>",
         "legendgroup": "tecno",
         "marker": {
          "color": "#636efa",
          "symbol": "circle"
         },
         "mode": "markers",
         "name": "tecno",
         "orientation": "v",
         "showlegend": true,
         "type": "scatter",
         "x": [
          287.72,
          431.64
         ],
         "xaxis": "x",
         "y": [
          63,
          67
         ],
         "yaxis": "y"
        },
        {
         "hovertemplate": "brand=hp<br>price=%{x}<br>rating=%{y}<extra></extra>",
         "legendgroup": "hp",
         "marker": {
          "color": "#EF553B",
          "symbol": "circle"
         },
         "mode": "markers",
         "name": "hp",
         "orientation": "v",
         "showlegend": true,
         "type": "scatter",
         "x": [
          612.86,
          443.64,
          1846.86,
          665.51,
          231.46,
          947.36,
          863.51,
          647.52,
          1065.01,
          642.49,
          1403.11,
          849.25,
          1002.53,
          653.52,
          509.71,
          1774.9,
          839.53,
          863.4,
          934.27,
          695.5,
          599.66,
          731.48,
          803.44,
          623.54,
          671.51,
          621.26,
          596.97,
          524.11,
          418.45,
          389.67,
          520.51,
          372.87,
          485.72,
          2426.74,
          1989.7,
          731.48,
          611.65,
          1989.7,
          476.14,
          824.07,
          731.48,
          287.83,
          383.78,
          1112.99,
          875.51,
          1044.5,
          419.65,
          773.57,
          2116.82,
          1139.25,
          671.51,
          875.76,
          599.55,
          629.53,
          482.01,
          743.47,
          1073.29,
          419.65,
          611.54,
          563.57,
          851.41,
          623.54,
          695.5,
          581.08,
          959.35,
          767.46,
          231.46,
          718.06,
          683.61,
          487.04,
          767.46,
          299.71,
          500.72,
          1084.97,
          953.08,
          689.62,
          654.83,
          622.47,
          807.01,
          1862.56,
          1342.58,
          918.68,
          491.61,
          1192.98,
          1355.13,
          1091.39,
          430.56,
          4107.74,
          637.93,
          1110.47,
          3112.27,
          3514.05,
          1990.89,
          2020.89,
          467.62,
          347.69,
          1079.39,
          899.49,
          1367.23,
          623.54,
          1087.67,
          480.93,
          910.18,
          335.7,
          731.58,
          533.59,
          2194.67,
          696.46,
          383.67,
          1834.87,
          898.9,
          1432.01,
          1199.33,
          2870.01,
          1590.31,
          611.65,
          1259.74,
          1220.93,
          677.51,
          936.68,
          441.24,
          1762.91,
          1475.31,
          1678.95,
          275.73,
          524.53,
          520.51,
          311.71,
          1520.76,
          1598.35,
          395.66,
          1444.59,
          2759.2,
          611.54,
          287.83,
          1175.34,
          1158.44,
          1055.3,
          1039.71,
          1051.7,
          946.16,
          1007.32,
          467.62,
          611.54,
          1292.44,
          935.71,
          1387.71,
          1319.15,
          539.58,
          575.56,
          635.53,
          1391.11,
          539.58,
          644.03,
          467.62,
          1574.92,
          780.77,
          701.6,
          344.81,
          338.29,
          887.39,
          550.48,
          821.42,
          759.35,
          467.62,
          779.45,
          353.69,
          743.47,
          905.9,
          1104.23,
          839.42,
          808.35,
          779.45,
          395.66,
          737.47,
          1415.22,
          954.55,
          635.53,
          480.93,
          557.57,
          571.49,
          563.57,
          725.48,
          599.55,
          786.65,
          851.53,
          1319.15,
          630.73,
          773.57,
          623.54,
          407.64,
          1439.09,
          1724.94,
          449.63,
          1749.82,
          1661.22,
          517.99,
          695.5,
          394.46,
          474.35,
          251.74,
          323.81,
          371.78,
          1858.96,
          251.74
         ],
         "xaxis": "x",
         "y": [
          73,
          60,
          85,
          71,
          49,
          77,
          66,
          62,
          71,
          71,
          80,
          71,
          76,
          70,
          63,
          80,
          72,
          65,
          70,
          70,
          70,
          54,
          72,
          70,
          67,
          57,
          62,
          62,
          58,
          54,
          52,
          60,
          60,
          82,
          76,
          64,
          58,
          76,
          59,
          67,
          66,
          49,
          56,
          76,
          63,
          76,
          63,
          75,
          85,
          70,
          63,
          66,
          65,
          65,
          59,
          57,
          69,
          54,
          67,
          68,
          69,
          67,
          73,
          62,
          71,
          64,
          39,
          71,
          54,
          58,
          62,
          52,
          64,
          56,
          64,
          51,
          58,
          62,
          52,
          70,
          78,
          69,
          57,
          77,
          76,
          72,
          60,
          88,
          62,
          70,
          85,
          88,
          79,
          78,
          57,
          47,
          70,
          64,
          75,
          67,
          70,
          57,
          59,
          51,
          58,
          62,
          78,
          63,
          51,
          70,
          71,
          72,
          71,
          86,
          75,
          67,
          67,
          72,
          70,
          67,
          60,
          77,
          73,
          77,
          44,
          56,
          57,
          44,
          69,
          69,
          46,
          67,
          80,
          38,
          52,
          73,
          66,
          66,
          66,
          70,
          66,
          72,
          57,
          60,
          71,
          69,
          71,
          69,
          58,
          53,
          60,
          70,
          58,
          62,
          63,
          72,
          66,
          71,
          49,
          50,
          67,
          63,
          65,
          67,
          47,
          66,
          50,
          64,
          66,
          71,
          65,
          57,
          59,
          58,
          57,
          75,
          66,
          57,
          54,
          54,
          51,
          51,
          54,
          67,
          56,
          67,
          71,
          60,
          75,
          67,
          56,
          77,
          75,
          64,
          79,
          72,
          58,
          59,
          52,
          43,
          37,
          59,
          47,
          73,
          37
         ],
         "yaxis": "y"
        },
        {
         "hovertemplate": "brand=acer<br>price=%{x}<br>rating=%{y}<extra></extra>",
         "legendgroup": "acer",
         "marker": {
          "color": "#00cc96",
          "symbol": "circle"
         },
         "mode": "markers",
         "name": "acer",
         "orientation": "v",
         "showlegend": true,
         "type": "scatter",
         "x": [
          479.62,
          935.36,
          563.57,
          419.65,
          395.66,
          683.5,
          455.63,
          473.73,
          1139.25,
          575.56,
          1439.09,
          1259.19,
          371.68,
          467.62,
          395.66,
          875.4,
          2158.69,
          383.67,
          359.68,
          731.48,
          683.5,
          1439.09,
          335.7,
          563.57,
          359.68,
          557.69,
          599.55,
          539.69,
          515.7,
          563.57,
          557.57,
          683.5,
          477.34,
          287.72,
          767.57,
          791.44,
          599.55,
          739.99,
          305.71,
          479.62,
          419.65,
          515.6,
          683.5,
          635.53,
          443.64,
          503.6,
          497.61,
          1918.82,
          809.54,
          431.64,
          1559.02,
          905.49,
          503.6,
          863.4,
          369.28,
          359.56,
          353.69,
          515.6,
          491.61,
          659.52,
          394.46,
          347.8,
          479.62,
          599.55,
          698.84,
          677.51,
          670.43,
          1719.85,
          707.49,
          1715.04,
          479.62,
          441.36,
          1259.29,
          1379.12,
          539.63,
          1067.29,
          827.42,
          2399.76,
          934.17,
          551.58,
          395.66,
          384.87,
          2218.77,
          2998.23,
          335.7,
          917.48,
          359.68,
          827.53,
          905.5
         ],
         "xaxis": "x",
         "y": [
          62,
          63,
          64,
          60,
          58,
          71,
          60,
          62,
          72,
          67,
          75,
          70,
          49,
          64,
          54,
          64,
          78,
          57,
          59,
          70,
          67,
          75,
          49,
          67,
          47,
          64,
          64,
          64,
          62,
          63,
          63,
          56,
          62,
          38,
          65,
          62,
          67,
          65,
          38,
          58,
          62,
          50,
          72,
          70,
          63,
          60,
          45,
          79,
          65,
          58,
          80,
          59,
          64,
          70,
          59,
          50,
          57,
          50,
          60,
          69,
          56,
          53,
          51,
          50,
          59,
          52,
          50,
          70,
          62,
          78,
          58,
          47,
          65,
          66,
          64,
          65,
          73,
          74,
          72,
          59,
          50,
          44,
          71,
          77,
          52,
          71,
          54,
          71,
          67
         ],
         "yaxis": "y"
        },
        {
         "hovertemplate": "brand=lenovo<br>price=%{x}<br>rating=%{y}<extra></extra>",
         "legendgroup": "lenovo",
         "marker": {
          "color": "#ab63fa",
          "symbol": "circle"
         },
         "mode": "markers",
         "name": "lenovo",
         "orientation": "v",
         "showlegend": true,
         "type": "scatter",
         "x": [
          342.77,
          569.57,
          599.55,
          335.7,
          575.56,
          683.5,
          539.58,
          419.65,
          293.12,
          587.56,
          766.25,
          444.24,
          1139.25,
          959.35,
          491.61,
          491.61,
          547.51,
          431.64,
          539.58,
          1834.87,
          1585.41,
          740.14,
          309.31,
          587.56,
          846.61,
          803.44,
          1379.12,
          1199.22,
          395.54,
          263.73,
          400.58,
          1199.22,
          779.45,
          299.71,
          1799.01,
          683.5,
          659.52,
          755.57,
          437.64,
          551.58,
          563.57,
          755.46,
          887.39,
          743.47,
          898.3,
          383.67,
          2626.43,
          1477.47,
          827.42,
          1294.22,
          622.39,
          563.57,
          4306.77,
          661.92,
          743.47,
          593.66,
          443.64,
          414.85,
          389.67,
          668.03,
          841.82,
          1105.67,
          623.54,
          1019.32,
          961.75,
          1309.56,
          649.92,
          649.92,
          937.76,
          479.62,
          1117.66,
          1969.19,
          3585.9,
          1669.36,
          841.82,
          1240.06,
          479.62,
          1079.41,
          419.65,
          395.66,
          599.55,
          479.62,
          764.12,
          599.55,
          395.66,
          362.08,
          359.68,
          563.57,
          659.52,
          509.71,
          815.43,
          439.56,
          587.56,
          599.55,
          1043.31,
          791.44,
          2230.65,
          1547.03,
          1367.13,
          623.54,
          839.42,
          575.56,
          1201.62,
          1648.97,
          647.52,
          443.76,
          1057.7,
          755.46,
          796.23,
          863.4,
          741.9,
          443.64,
          745.87,
          707.49,
          721.88,
          769.86,
          503.6,
          539.58,
          545.58,
          569.57,
          705.81,
          767.46,
          841.82,
          440.04,
          805.84,
          563.57,
          1009.72,
          1043.31,
          935.36,
          449.75,
          707.49,
          527.59,
          833.47,
          1175.23,
          1097.28,
          1061.74,
          1199.22,
          1319.15,
          2700.79,
          1078.07,
          899.38,
          779.45,
          486.81,
          791.44,
          290.12,
          635.53,
          755.46,
          394.57,
          299.71,
          635.53,
          831.68,
          539.58,
          875.4,
          680.03,
          791.44,
          647.52,
          688.3,
          599.55,
          725.48,
          425.65,
          863.4,
          545.7,
          599.66,
          793.95,
          401.66,
          803.56,
          1499.17,
          905.49,
          491.61,
          563.57,
          457.8,
          335.7,
          886.31,
          419.65,
          419.65,
          562.49,
          359.68,
          557.57,
          624.87,
          898.17,
          377.67,
          634.45,
          633.18,
          757.86,
          971.46,
          1478.44,
          266.72,
          263.73,
          263.73,
          551.58,
          401.66,
          430.44,
          437.64,
          551.58,
          791.55,
          407.66,
          1754.29,
          521.71,
          371.68,
          386.19,
          719.48
         ],
         "xaxis": "x",
         "y": [
          62,
          66,
          59,
          59,
          71,
          69,
          51,
          66,
          47,
          70,
          63,
          59,
          80,
          70,
          66,
          64,
          67,
          60,
          64,
          77,
          83,
          60,
          50,
          64,
          62,
          69,
          63,
          67,
          53,
          53,
          53,
          78,
          74,
          49,
          64,
          57,
          58,
          62,
          50,
          58,
          62,
          66,
          57,
          60,
          63,
          51,
          64,
          67,
          66,
          75,
          65,
          57,
          86,
          70,
          69,
          54,
          53,
          57,
          56,
          69,
          67,
          75,
          63,
          58,
          57,
          63,
          65,
          69,
          64,
          56,
          58,
          84,
          85,
          78,
          58,
          77,
          57,
          65,
          57,
          57,
          67,
          58,
          60,
          62,
          51,
          46,
          51,
          63,
          64,
          43,
          69,
          58,
          59,
          65,
          71,
          63,
          89,
          83,
          79,
          67,
          66,
          56,
          65,
          83,
          69,
          52,
          58,
          60,
          62,
          58,
          58,
          53,
          63,
          58,
          59,
          69,
          58,
          60,
          56,
          65,
          64,
          60,
          60,
          60,
          62,
          65,
          64,
          62,
          60,
          59,
          64,
          58,
          60,
          72,
          71,
          73,
          73,
          75,
          73,
          63,
          69,
          72,
          57,
          69,
          38,
          62,
          65,
          59,
          50,
          70,
          62,
          58,
          69,
          64,
          67,
          66,
          67,
          64,
          67,
          59,
          70,
          57,
          62,
          62,
          57,
          63,
          75,
          62,
          57,
          57,
          59,
          54,
          64,
          53,
          54,
          56,
          59,
          57,
          66,
          64,
          50,
          67,
          58,
          67,
          71,
          78,
          47,
          43,
          45,
          58,
          56,
          56,
          60,
          66,
          55,
          52,
          75,
          54,
          50,
          48,
          64
         ],
         "yaxis": "y"
        },
        {
         "hovertemplate": "brand=apple<br>price=%{x}<br>rating=%{y}<extra></extra>",
         "legendgroup": "apple",
         "marker": {
          "color": "#FFA15A",
          "symbol": "circle"
         },
         "mode": "markers",
         "name": "apple",
         "orientation": "v",
         "showlegend": true,
         "type": "scatter",
         "x": [
          851.41,
          4796.16,
          1235.2,
          1439.09,
          1319.15,
          3476.88,
          4196.49,
          2997.15,
          2397.48,
          1738.92,
          1595,
          1642.97,
          2277.54,
          2877.21,
          2037.68
         ],
         "xaxis": "x",
         "y": [
          45,
          65,
          48,
          53,
          43,
          63,
          64,
          58,
          56,
          56,
          45,
          45,
          53,
          58,
          51
         ],
         "yaxis": "y"
        },
        {
         "hovertemplate": "brand=infinix<br>price=%{x}<br>rating=%{y}<extra></extra>",
         "legendgroup": "infinix",
         "marker": {
          "color": "#19d3f3",
          "symbol": "circle"
         },
         "mode": "markers",
         "name": "infinix",
         "orientation": "v",
         "showlegend": true,
         "type": "scatter",
         "x": [
          419.65,
          719.48,
          359.68,
          335.7,
          323.7,
          431.64,
          695.5,
          467.62,
          587.56,
          311.71,
          299.71,
          539.58,
          467.62
         ],
         "xaxis": "x",
         "y": [
          56,
          71,
          54,
          50,
          53,
          60,
          63,
          56,
          57,
          57,
          52,
          57,
          58
         ],
         "yaxis": "y"
        },
        {
         "hovertemplate": "brand=asus<br>price=%{x}<br>rating=%{y}<extra></extra>",
         "legendgroup": "asus",
         "marker": {
          "color": "#FF6692",
          "symbol": "circle"
         },
         "mode": "markers",
         "name": "asus",
         "orientation": "v",
         "showlegend": true,
         "type": "scatter",
         "x": [
          599.55,
          688.3,
          911.38,
          479.62,
          335.7,
          563.57,
          767.46,
          1362.1,
          3238.1,
          888.53,
          731.48,
          431.64,
          1307.16,
          695.5,
          869.4,
          835.81,
          563.57,
          647.52,
          979.73,
          1139.25,
          875.4,
          647.52,
          1031.31,
          815.43,
          902.5,
          803.44,
          1858.86,
          1156.03,
          527.59,
          635.53,
          401.66,
          875.4,
          575.56,
          1103.27,
          1019.32,
          215.76,
          875.4,
          899.38,
          1259.19,
          1080.12,
          1029.03,
          695.5,
          731.48,
          719.48,
          383.67,
          677.63,
          683.5,
          1439.09,
          2158.69,
          2278.62,
          1457.07,
          573.64,
          1079.29,
          667.9,
          839.42,
          947.36,
          1268.17,
          515.6,
          647.52,
          582.63,
          851.41,
          370.48,
          750.79,
          1738.92,
          393.68,
          362.19,
          1037.43,
          570.29,
          779.45,
          1188.68,
          335.7,
          959.11,
          1031.31,
          179.78,
          800.18,
          647.52,
          251.74,
          1039.7,
          832.79,
          887.39,
          1199.22,
          1033.7,
          338.09,
          881.07,
          539.58,
          724.15,
          887.39,
          839.42,
          1187.23,
          1091.28,
          1379.12,
          203.77,
          308.84,
          227.75,
          535.37,
          275.74,
          1180.97,
          911.38,
          911.38,
          1131.8,
          490.84,
          858.73,
          407.66,
          695.5,
          719.48,
          1079.29,
          450.81,
          443.64,
          1139.25,
          839.42,
          875.4,
          393.26,
          719.48,
          311.71,
          472.42,
          779.45,
          1067.41,
          839.54,
          1702.93,
          918.69,
          1559.02,
          767.46,
          887.39,
          1199.22,
          743.47,
          671.51,
          1002.64,
          1678.95,
          707.49,
          575.44,
          839.42,
          779.45,
          1142.97,
          420.76,
          335.7,
          593.55,
          587.56,
          923.37,
          479.62,
          1256.3,
          1521.84,
          2398.56,
          1583.01,
          1605.8,
          1858.86,
          1731.92,
          1139.25,
          3130.16,
          1798.89,
          1618.99,
          724.15,
          2517.29,
          1858.86,
          839.42,
          1018.84,
          1360.06,
          1271.18,
          1336.53,
          918.92,
          1127.37,
          1937.09,
          2398.56,
          431.64,
          370.92,
          555.15,
          1499.05,
          707.49,
          383.67,
          1583.13,
          1391.11,
          1079.29,
          1094.28,
          755.46,
          862.78,
          477.22,
          467.5,
          671.51,
          851.41,
          749.59,
          825.15,
          1031.31,
          551.58,
          719.48,
          1259.19,
          820.23,
          1175.23,
          1115.27,
          779.45,
          899.38,
          527.59,
          767.46,
          470.64,
          1559.02,
          707.49,
          953.47,
          609.08,
          742.39,
          2998.23,
          539.34,
          547.98,
          386.07,
          827.42,
          3358.03,
          659.52,
          935.36,
          803.44,
          719.48,
          791.44,
          539.58,
          815.43
         ],
         "xaxis": "x",
         "y": [
          70,
          71,
          76,
          57,
          57,
          65,
          72,
          77,
          83,
          75,
          67,
          64,
          78,
          72,
          62,
          64,
          57,
          63,
          71,
          70,
          70,
          66,
          75,
          72,
          72,
          64,
          88,
          79,
          60,
          65,
          56,
          70,
          62,
          71,
          69,
          35,
          71,
          65,
          76,
          77,
          76,
          70,
          66,
          60,
          59,
          64,
          58,
          80,
          77,
          79,
          78,
          64,
          67,
          64,
          70,
          65,
          71,
          59,
          65,
          60,
          65,
          50,
          73,
          85,
          37,
          44,
          67,
          58,
          65,
          69,
          45,
          63,
          70,
          38,
          66,
          51,
          38,
          73,
          58,
          62,
          70,
          71,
          43,
          67,
          59,
          60,
          64,
          63,
          73,
          64,
          72,
          37,
          41,
          37,
          57,
          37,
          72,
          65,
          66,
          70,
          57,
          62,
          56,
          69,
          63,
          76,
          59,
          57,
          72,
          66,
          72,
          54,
          64,
          45,
          57,
          72,
          75,
          70,
          82,
          72,
          71,
          65,
          60,
          75,
          64,
          60,
          72,
          83,
          71,
          59,
          69,
          64,
          66,
          53,
          45,
          58,
          63,
          64,
          54,
          71,
          73,
          89,
          84,
          75,
          83,
          73,
          77,
          89,
          76,
          80,
          67,
          73,
          82,
          66,
          72,
          75,
          66,
          76,
          66,
          70,
          84,
          71,
          56,
          45,
          56,
          78,
          60,
          59,
          73,
          73,
          70,
          75,
          59,
          64,
          52,
          48,
          59,
          63,
          56,
          62,
          60,
          57,
          56,
          71,
          64,
          64,
          70,
          62,
          60,
          53,
          58,
          51,
          74,
          62,
          67,
          59,
          67,
          89,
          58,
          59,
          53,
          72,
          83,
          68,
          68,
          65,
          64,
          68,
          59,
          68
         ],
         "yaxis": "y"
        },
        {
         "hovertemplate": "brand=dell<br>price=%{x}<br>rating=%{y}<extra></extra>",
         "legendgroup": "dell",
         "marker": {
          "color": "#B6E880",
          "symbol": "circle"
         },
         "mode": "markers",
         "name": "dell",
         "orientation": "v",
         "showlegend": true,
         "type": "scatter",
         "x": [
          419.65,
          818.42,
          974.94,
          475.53,
          1037.31,
          869.4,
          599.67,
          1007.32,
          827.42,
          1780.9,
          455.63,
          791.44,
          929.37,
          470.62,
          687.22,
          611.54,
          839.53,
          626.04,
          1055.3,
          2500.5,
          440.53,
          718.28,
          419.65,
          1823,
          1067.29,
          1265.18,
          617.5,
          683.5,
          743.47,
          815.89,
          675.71,
          682.18,
          683.5,
          611.54,
          467.62,
          791.44,
          1193.1,
          719.48,
          449.63,
          1031.31,
          2677.82,
          550.14,
          459.93,
          1187.23,
          395.66,
          1049.3,
          575.56,
          929.37,
          496.92,
          1046.9,
          725.48,
          447.13,
          1013.32,
          3088.18,
          1151.25,
          730.4,
          5450.88,
          814.23,
          3885.74,
          2266.63,
          5408.9,
          3597.9,
          785.57,
          887.39,
          471.22,
          719.48,
          501.42,
          1055.3,
          1085.28,
          491.61,
          523.99,
          671.51,
          575.56,
          955.75,
          3352.03,
          2422.55,
          490.41,
          2464.52,
          1138.17,
          743.47,
          1894.84,
          1996.78,
          1193.22,
          959.71,
          515.6,
          1067.17,
          863.4,
          887.39,
          743.47,
          1790.49,
          515.72,
          2254.64,
          1319.15,
          1559.02,
          976.29,
          2704.39,
          2650.42,
          4659.31,
          4419.44,
          575.56,
          623.54,
          461.63,
          539.58,
          670.43,
          1434.41,
          1055.3
         ],
         "xaxis": "x",
         "y": [
          60,
          66,
          71,
          66,
          66,
          70,
          60,
          72,
          74,
          78,
          59,
          53,
          73,
          63,
          62,
          68,
          62,
          56,
          67,
          80,
          53,
          58,
          49,
          59,
          64,
          75,
          58,
          57,
          53,
          53,
          57,
          57,
          56,
          57,
          56,
          57,
          62,
          53,
          58,
          57,
          78,
          56,
          58,
          63,
          58,
          62,
          54,
          59,
          57,
          60,
          63,
          58,
          60,
          85,
          63,
          65,
          83,
          65,
          85,
          80,
          83,
          89,
          60,
          63,
          60,
          56,
          53,
          56,
          67,
          58,
          52,
          60,
          60,
          70,
          88,
          82,
          54,
          72,
          71,
          56,
          78,
          82,
          59,
          58,
          57,
          56,
          52,
          57,
          56,
          76,
          52,
          79,
          73,
          75,
          69,
          78,
          83,
          82,
          83,
          63,
          63,
          59,
          62,
          59,
          68,
          72
         ],
         "yaxis": "y"
        },
        {
         "hovertemplate": "brand=samsung<br>price=%{x}<br>rating=%{y}<extra></extra>",
         "legendgroup": "samsung",
         "marker": {
          "color": "#FF97FF",
          "symbol": "circle"
         },
         "mode": "markers",
         "name": "samsung",
         "orientation": "v",
         "showlegend": true,
         "type": "scatter",
         "x": [
          779.45,
          539.58,
          575.56,
          839.42,
          911.38,
          659.52,
          1403.11
         ],
         "xaxis": "x",
         "y": [
          68,
          59,
          62,
          56,
          60,
          59,
          68
         ],
         "yaxis": "y"
        },
        {
         "hovertemplate": "brand=msi<br>price=%{x}<br>rating=%{y}<extra></extra>",
         "legendgroup": "msi",
         "marker": {
          "color": "#FECB52",
          "symbol": "circle"
         },
         "mode": "markers",
         "name": "msi",
         "orientation": "v",
         "showlegend": true,
         "type": "scatter",
         "x": [
          635.53,
          800.92,
          431.16,
          839.42,
          659.52,
          899.38,
          599.55,
          503.6,
          659.52,
          743.47,
          635.53,
          755.46,
          479.62,
          647.52,
          683.5,
          443.64,
          815.43,
          785.45,
          527.59,
          1271.18,
          1007.32,
          795.76,
          2398.56,
          5396.91,
          959.35,
          2357.66,
          755.46,
          1139.25,
          1163.24,
          1259.19,
          1798.89,
          1798.89,
          1379.12,
          671.51,
          707.49,
          671.51,
          2398.56,
          1439.09,
          3597.9,
          983.34,
          443.64,
          1912.07,
          1079.29,
          887.39,
          575.56,
          1343.14,
          695.5,
          659.52,
          1259.19,
          899.38,
          1139.25,
          611.54,
          1139.25,
          1019.32,
          731.48,
          623.54,
          635.53,
          1103.27,
          1055.3,
          3358.03,
          923.37,
          875.4,
          1043.31,
          2998.23,
          767.46,
          1163.24,
          983.34,
          839.42,
          3130.16,
          781.85,
          875.4,
          2638.43,
          2590.45,
          2062.74,
          839.42,
          743.47,
          527.59,
          587.56,
          503.6,
          455.63,
          569.57,
          1115.27,
          995.33,
          1048.11,
          606.76,
          731.48,
          647.52,
          491.61,
          1439.09,
          1103.27
         ],
         "xaxis": "x",
         "y": [
          71,
          76,
          58,
          70,
          65,
          75,
          65,
          63,
          60,
          73,
          65,
          73,
          62,
          65,
          72,
          62,
          73,
          69,
          62,
          79,
          78,
          69,
          80,
          89,
          70,
          83,
          71,
          76,
          76,
          77,
          79,
          76,
          77,
          69,
          71,
          70,
          83,
          73,
          89,
          63,
          58,
          77,
          71,
          65,
          67,
          78,
          67,
          65,
          78,
          69,
          77,
          66,
          77,
          75,
          63,
          70,
          65,
          75,
          75,
          85,
          69,
          71,
          73,
          86,
          71,
          77,
          65,
          70,
          89,
          65,
          71,
          84,
          87,
          80,
          70,
          72,
          53,
          54,
          60,
          58,
          59,
          72,
          74,
          67,
          59,
          61,
          58,
          56,
          76,
          73
         ],
         "yaxis": "y"
        },
        {
         "hovertemplate": "brand=wings<br>price=%{x}<br>rating=%{y}<extra></extra>",
         "legendgroup": "wings",
         "marker": {
          "color": "#636efa",
          "symbol": "circle"
         },
         "mode": "markers",
         "name": "wings",
         "orientation": "v",
         "showlegend": true,
         "type": "scatter",
         "x": [
          335.7,
          479.62,
          299.71,
          323.7
         ],
         "xaxis": "x",
         "y": [
          56,
          58,
          49,
          51
         ],
         "yaxis": "y"
        },
        {
         "hovertemplate": "brand=ultimus<br>price=%{x}<br>rating=%{y}<extra></extra>",
         "legendgroup": "ultimus",
         "marker": {
          "color": "#EF553B",
          "symbol": "circle"
         },
         "mode": "markers",
         "name": "ultimus",
         "orientation": "v",
         "showlegend": true,
         "type": "scatter",
         "x": [
          239.75,
          191.77,
          143.8,
          179.78,
          197.77,
          274.8
         ],
         "xaxis": "x",
         "y": [
          54,
          46,
          41,
          45,
          47,
          52
         ],
         "yaxis": "y"
        },
        {
         "hovertemplate": "brand=primebook<br>price=%{x}<br>rating=%{y}<extra></extra>",
         "legendgroup": "primebook",
         "marker": {
          "color": "#00cc96",
          "symbol": "circle"
         },
         "mode": "markers",
         "name": "primebook",
         "orientation": "v",
         "showlegend": true,
         "type": "scatter",
         "x": [
          179.78,
          155.79
         ],
         "xaxis": "x",
         "y": [
          26,
          31
         ],
         "yaxis": "y"
        },
        {
         "hovertemplate": "brand=iball<br>price=%{x}<br>rating=%{y}<extra></extra>",
         "legendgroup": "iball",
         "marker": {
          "color": "#ab63fa",
          "symbol": "circle"
         },
         "mode": "markers",
         "name": "iball",
         "orientation": "v",
         "showlegend": true,
         "type": "scatter",
         "x": [
          117.54
         ],
         "xaxis": "x",
         "y": [
          41
         ],
         "yaxis": "y"
        },
        {
         "hovertemplate": "brand=zebronics<br>price=%{x}<br>rating=%{y}<extra></extra>",
         "legendgroup": "zebronics",
         "marker": {
          "color": "#FFA15A",
          "symbol": "circle"
         },
         "mode": "markers",
         "name": "zebronics",
         "orientation": "v",
         "showlegend": true,
         "type": "scatter",
         "x": [
          407.66,
          395.66,
          635.53,
          359.68,
          479.62,
          395.66,
          611.54
         ],
         "xaxis": "x",
         "y": [
          65,
          63,
          72,
          56,
          66,
          60,
          72
         ],
         "yaxis": "y"
        },
        {
         "hovertemplate": "brand=chuwi<br>price=%{x}<br>rating=%{y}<extra></extra>",
         "legendgroup": "chuwi",
         "marker": {
          "color": "#19d3f3",
          "symbol": "circle"
         },
         "mode": "markers",
         "name": "chuwi",
         "orientation": "v",
         "showlegend": true,
         "type": "scatter",
         "x": [
          395.66,
          299.71,
          263.73,
          419.65
         ],
         "xaxis": "x",
         "y": [
          50,
          50,
          50,
          54
         ],
         "yaxis": "y"
        },
        {
         "hovertemplate": "brand=gigabyte<br>price=%{x}<br>rating=%{y}<extra></extra>",
         "legendgroup": "gigabyte",
         "marker": {
          "color": "#FF6692",
          "symbol": "circle"
         },
         "mode": "markers",
         "name": "gigabyte",
         "orientation": "v",
         "showlegend": true,
         "type": "scatter",
         "x": [
          863.4,
          1079.29
         ],
         "xaxis": "x",
         "y": [
          67,
          73
         ],
         "yaxis": "y"
        },
        {
         "hovertemplate": "brand=jio<br>price=%{x}<br>rating=%{y}<extra></extra>",
         "legendgroup": "jio",
         "marker": {
          "color": "#B6E880",
          "symbol": "circle"
         },
         "mode": "markers",
         "name": "jio",
         "orientation": "v",
         "showlegend": true,
         "type": "scatter",
         "x": [
          176.31
         ],
         "xaxis": "x",
         "y": [
          24
         ],
         "yaxis": "y"
        },
        {
         "hovertemplate": "brand=honor<br>price=%{x}<br>rating=%{y}<extra></extra>",
         "legendgroup": "honor",
         "marker": {
          "color": "#FF97FF",
          "symbol": "circle"
         },
         "mode": "markers",
         "name": "honor",
         "orientation": "v",
         "showlegend": true,
         "type": "scatter",
         "x": [
          659.52,
          527.59
         ],
         "xaxis": "x",
         "y": [
          66,
          59
         ],
         "yaxis": "y"
        },
        {
         "hovertemplate": "brand=realme<br>price=%{x}<br>rating=%{y}<extra></extra>",
         "legendgroup": "realme",
         "marker": {
          "color": "#FECB52",
          "symbol": "circle"
         },
         "mode": "markers",
         "name": "realme",
         "orientation": "v",
         "showlegend": true,
         "type": "scatter",
         "x": [
          443.64,
          515.6
         ],
         "xaxis": "x",
         "y": [
          52,
          62
         ],
         "yaxis": "y"
        },
        {
         "hovertemplate": "brand=avita<br>price=%{x}<br>rating=%{y}<extra></extra>",
         "legendgroup": "avita",
         "marker": {
          "color": "#636efa",
          "symbol": "circle"
         },
         "mode": "markers",
         "name": "avita",
         "orientation": "v",
         "showlegend": true,
         "type": "scatter",
         "x": [
          256.54,
          395.17,
          390.38,
          232.92,
          251.85
         ],
         "xaxis": "x",
         "y": [
          56,
          50,
          51,
          41,
          43
         ],
         "yaxis": "y"
        },
        {
         "hovertemplate": "brand=microsoft<br>price=%{x}<br>rating=%{y}<extra></extra>",
         "legendgroup": "microsoft",
         "marker": {
          "color": "#EF553B",
          "symbol": "circle"
         },
         "mode": "markers",
         "name": "microsoft",
         "orientation": "v",
         "showlegend": true,
         "type": "scatter",
         "x": [
          959.35,
          1169.24
         ],
         "xaxis": "x",
         "y": [
          58,
          60
         ],
         "yaxis": "y"
        },
        {
         "hovertemplate": "brand=fujitsu<br>price=%{x}<br>rating=%{y}<extra></extra>",
         "legendgroup": "fujitsu",
         "marker": {
          "color": "#00cc96",
          "symbol": "circle"
         },
         "mode": "markers",
         "name": "fujitsu",
         "orientation": "v",
         "showlegend": true,
         "type": "scatter",
         "x": [
          887.39,
          887.39,
          1319.15,
          1199.22,
          677.55
         ],
         "xaxis": "x",
         "y": [
          67,
          65,
          76,
          73,
          70
         ],
         "yaxis": "y"
        },
        {
         "hovertemplate": "brand=lg<br>price=%{x}<br>rating=%{y}<extra></extra>",
         "legendgroup": "lg",
         "marker": {
          "color": "#ab63fa",
          "symbol": "circle"
         },
         "mode": "markers",
         "name": "lg",
         "orientation": "v",
         "showlegend": true,
         "type": "scatter",
         "x": [
          1187.33,
          939.07,
          1828.98,
          1414.01,
          1076.99,
          1810.99,
          1421.2
         ],
         "xaxis": "x",
         "y": [
          67,
          72,
          78,
          69,
          75,
          72,
          72
         ],
         "yaxis": "y"
        },
        {
         "hovertemplate": "brand=walker<br>price=%{x}<br>rating=%{y}<extra></extra>",
         "legendgroup": "walker",
         "marker": {
          "color": "#FFA15A",
          "symbol": "circle"
         },
         "mode": "markers",
         "name": "walker",
         "orientation": "v",
         "showlegend": true,
         "type": "scatter",
         "x": [
          191.77
         ],
         "xaxis": "x",
         "y": [
          37
         ],
         "yaxis": "y"
        },
        {
         "hovertemplate": "brand=axl<br>price=%{x}<br>rating=%{y}<extra></extra>",
         "legendgroup": "axl",
         "marker": {
          "color": "#19d3f3",
          "symbol": "circle"
         },
         "mode": "markers",
         "name": "axl",
         "orientation": "v",
         "showlegend": true,
         "type": "scatter",
         "x": [
          215.76,
          179.78
         ],
         "xaxis": "x",
         "y": [
          38,
          37
         ],
         "yaxis": "y"
        }
       ],
       "layout": {
        "legend": {
         "title": {
          "text": "brand"
         },
         "tracegroupgap": 0
        },
        "template": {
         "data": {
          "bar": [
           {
            "error_x": {
             "color": "#2a3f5f"
            },
            "error_y": {
             "color": "#2a3f5f"
            },
            "marker": {
             "line": {
              "color": "#E5ECF6",
              "width": 0.5
             },
             "pattern": {
              "fillmode": "overlay",
              "size": 10,
              "solidity": 0.2
             }
            },
            "type": "bar"
           }
          ],
          "barpolar": [
           {
            "marker": {
             "line": {
              "color": "#E5ECF6",
              "width": 0.5
             },
             "pattern": {
              "fillmode": "overlay",
              "size": 10,
              "solidity": 0.2
             }
            },
            "type": "barpolar"
           }
          ],
          "carpet": [
           {
            "aaxis": {
             "endlinecolor": "#2a3f5f",
             "gridcolor": "white",
             "linecolor": "white",
             "minorgridcolor": "white",
             "startlinecolor": "#2a3f5f"
            },
            "baxis": {
             "endlinecolor": "#2a3f5f",
             "gridcolor": "white",
             "linecolor": "white",
             "minorgridcolor": "white",
             "startlinecolor": "#2a3f5f"
            },
            "type": "carpet"
           }
          ],
          "choropleth": [
           {
            "colorbar": {
             "outlinewidth": 0,
             "ticks": ""
            },
            "type": "choropleth"
           }
          ],
          "contour": [
           {
            "colorbar": {
             "outlinewidth": 0,
             "ticks": ""
            },
            "colorscale": [
             [
              0,
              "#0d0887"
             ],
             [
              0.1111111111111111,
              "#46039f"
             ],
             [
              0.2222222222222222,
              "#7201a8"
             ],
             [
              0.3333333333333333,
              "#9c179e"
             ],
             [
              0.4444444444444444,
              "#bd3786"
             ],
             [
              0.5555555555555556,
              "#d8576b"
             ],
             [
              0.6666666666666666,
              "#ed7953"
             ],
             [
              0.7777777777777778,
              "#fb9f3a"
             ],
             [
              0.8888888888888888,
              "#fdca26"
             ],
             [
              1,
              "#f0f921"
             ]
            ],
            "type": "contour"
           }
          ],
          "contourcarpet": [
           {
            "colorbar": {
             "outlinewidth": 0,
             "ticks": ""
            },
            "type": "contourcarpet"
           }
          ],
          "heatmap": [
           {
            "colorbar": {
             "outlinewidth": 0,
             "ticks": ""
            },
            "colorscale": [
             [
              0,
              "#0d0887"
             ],
             [
              0.1111111111111111,
              "#46039f"
             ],
             [
              0.2222222222222222,
              "#7201a8"
             ],
             [
              0.3333333333333333,
              "#9c179e"
             ],
             [
              0.4444444444444444,
              "#bd3786"
             ],
             [
              0.5555555555555556,
              "#d8576b"
             ],
             [
              0.6666666666666666,
              "#ed7953"
             ],
             [
              0.7777777777777778,
              "#fb9f3a"
             ],
             [
              0.8888888888888888,
              "#fdca26"
             ],
             [
              1,
              "#f0f921"
             ]
            ],
            "type": "heatmap"
           }
          ],
          "heatmapgl": [
           {
            "colorbar": {
             "outlinewidth": 0,
             "ticks": ""
            },
            "colorscale": [
             [
              0,
              "#0d0887"
             ],
             [
              0.1111111111111111,
              "#46039f"
             ],
             [
              0.2222222222222222,
              "#7201a8"
             ],
             [
              0.3333333333333333,
              "#9c179e"
             ],
             [
              0.4444444444444444,
              "#bd3786"
             ],
             [
              0.5555555555555556,
              "#d8576b"
             ],
             [
              0.6666666666666666,
              "#ed7953"
             ],
             [
              0.7777777777777778,
              "#fb9f3a"
             ],
             [
              0.8888888888888888,
              "#fdca26"
             ],
             [
              1,
              "#f0f921"
             ]
            ],
            "type": "heatmapgl"
           }
          ],
          "histogram": [
           {
            "marker": {
             "pattern": {
              "fillmode": "overlay",
              "size": 10,
              "solidity": 0.2
             }
            },
            "type": "histogram"
           }
          ],
          "histogram2d": [
           {
            "colorbar": {
             "outlinewidth": 0,
             "ticks": ""
            },
            "colorscale": [
             [
              0,
              "#0d0887"
             ],
             [
              0.1111111111111111,
              "#46039f"
             ],
             [
              0.2222222222222222,
              "#7201a8"
             ],
             [
              0.3333333333333333,
              "#9c179e"
             ],
             [
              0.4444444444444444,
              "#bd3786"
             ],
             [
              0.5555555555555556,
              "#d8576b"
             ],
             [
              0.6666666666666666,
              "#ed7953"
             ],
             [
              0.7777777777777778,
              "#fb9f3a"
             ],
             [
              0.8888888888888888,
              "#fdca26"
             ],
             [
              1,
              "#f0f921"
             ]
            ],
            "type": "histogram2d"
           }
          ],
          "histogram2dcontour": [
           {
            "colorbar": {
             "outlinewidth": 0,
             "ticks": ""
            },
            "colorscale": [
             [
              0,
              "#0d0887"
             ],
             [
              0.1111111111111111,
              "#46039f"
             ],
             [
              0.2222222222222222,
              "#7201a8"
             ],
             [
              0.3333333333333333,
              "#9c179e"
             ],
             [
              0.4444444444444444,
              "#bd3786"
             ],
             [
              0.5555555555555556,
              "#d8576b"
             ],
             [
              0.6666666666666666,
              "#ed7953"
             ],
             [
              0.7777777777777778,
              "#fb9f3a"
             ],
             [
              0.8888888888888888,
              "#fdca26"
             ],
             [
              1,
              "#f0f921"
             ]
            ],
            "type": "histogram2dcontour"
           }
          ],
          "mesh3d": [
           {
            "colorbar": {
             "outlinewidth": 0,
             "ticks": ""
            },
            "type": "mesh3d"
           }
          ],
          "parcoords": [
           {
            "line": {
             "colorbar": {
              "outlinewidth": 0,
              "ticks": ""
             }
            },
            "type": "parcoords"
           }
          ],
          "pie": [
           {
            "automargin": true,
            "type": "pie"
           }
          ],
          "scatter": [
           {
            "fillpattern": {
             "fillmode": "overlay",
             "size": 10,
             "solidity": 0.2
            },
            "type": "scatter"
           }
          ],
          "scatter3d": [
           {
            "line": {
             "colorbar": {
              "outlinewidth": 0,
              "ticks": ""
             }
            },
            "marker": {
             "colorbar": {
              "outlinewidth": 0,
              "ticks": ""
             }
            },
            "type": "scatter3d"
           }
          ],
          "scattercarpet": [
           {
            "marker": {
             "colorbar": {
              "outlinewidth": 0,
              "ticks": ""
             }
            },
            "type": "scattercarpet"
           }
          ],
          "scattergeo": [
           {
            "marker": {
             "colorbar": {
              "outlinewidth": 0,
              "ticks": ""
             }
            },
            "type": "scattergeo"
           }
          ],
          "scattergl": [
           {
            "marker": {
             "colorbar": {
              "outlinewidth": 0,
              "ticks": ""
             }
            },
            "type": "scattergl"
           }
          ],
          "scattermapbox": [
           {
            "marker": {
             "colorbar": {
              "outlinewidth": 0,
              "ticks": ""
             }
            },
            "type": "scattermapbox"
           }
          ],
          "scatterpolar": [
           {
            "marker": {
             "colorbar": {
              "outlinewidth": 0,
              "ticks": ""
             }
            },
            "type": "scatterpolar"
           }
          ],
          "scatterpolargl": [
           {
            "marker": {
             "colorbar": {
              "outlinewidth": 0,
              "ticks": ""
             }
            },
            "type": "scatterpolargl"
           }
          ],
          "scatterternary": [
           {
            "marker": {
             "colorbar": {
              "outlinewidth": 0,
              "ticks": ""
             }
            },
            "type": "scatterternary"
           }
          ],
          "surface": [
           {
            "colorbar": {
             "outlinewidth": 0,
             "ticks": ""
            },
            "colorscale": [
             [
              0,
              "#0d0887"
             ],
             [
              0.1111111111111111,
              "#46039f"
             ],
             [
              0.2222222222222222,
              "#7201a8"
             ],
             [
              0.3333333333333333,
              "#9c179e"
             ],
             [
              0.4444444444444444,
              "#bd3786"
             ],
             [
              0.5555555555555556,
              "#d8576b"
             ],
             [
              0.6666666666666666,
              "#ed7953"
             ],
             [
              0.7777777777777778,
              "#fb9f3a"
             ],
             [
              0.8888888888888888,
              "#fdca26"
             ],
             [
              1,
              "#f0f921"
             ]
            ],
            "type": "surface"
           }
          ],
          "table": [
           {
            "cells": {
             "fill": {
              "color": "#EBF0F8"
             },
             "line": {
              "color": "white"
             }
            },
            "header": {
             "fill": {
              "color": "#C8D4E3"
             },
             "line": {
              "color": "white"
             }
            },
            "type": "table"
           }
          ]
         },
         "layout": {
          "annotationdefaults": {
           "arrowcolor": "#2a3f5f",
           "arrowhead": 0,
           "arrowwidth": 1
          },
          "autotypenumbers": "strict",
          "coloraxis": {
           "colorbar": {
            "outlinewidth": 0,
            "ticks": ""
           }
          },
          "colorscale": {
           "diverging": [
            [
             0,
             "#8e0152"
            ],
            [
             0.1,
             "#c51b7d"
            ],
            [
             0.2,
             "#de77ae"
            ],
            [
             0.3,
             "#f1b6da"
            ],
            [
             0.4,
             "#fde0ef"
            ],
            [
             0.5,
             "#f7f7f7"
            ],
            [
             0.6,
             "#e6f5d0"
            ],
            [
             0.7,
             "#b8e186"
            ],
            [
             0.8,
             "#7fbc41"
            ],
            [
             0.9,
             "#4d9221"
            ],
            [
             1,
             "#276419"
            ]
           ],
           "sequential": [
            [
             0,
             "#0d0887"
            ],
            [
             0.1111111111111111,
             "#46039f"
            ],
            [
             0.2222222222222222,
             "#7201a8"
            ],
            [
             0.3333333333333333,
             "#9c179e"
            ],
            [
             0.4444444444444444,
             "#bd3786"
            ],
            [
             0.5555555555555556,
             "#d8576b"
            ],
            [
             0.6666666666666666,
             "#ed7953"
            ],
            [
             0.7777777777777778,
             "#fb9f3a"
            ],
            [
             0.8888888888888888,
             "#fdca26"
            ],
            [
             1,
             "#f0f921"
            ]
           ],
           "sequentialminus": [
            [
             0,
             "#0d0887"
            ],
            [
             0.1111111111111111,
             "#46039f"
            ],
            [
             0.2222222222222222,
             "#7201a8"
            ],
            [
             0.3333333333333333,
             "#9c179e"
            ],
            [
             0.4444444444444444,
             "#bd3786"
            ],
            [
             0.5555555555555556,
             "#d8576b"
            ],
            [
             0.6666666666666666,
             "#ed7953"
            ],
            [
             0.7777777777777778,
             "#fb9f3a"
            ],
            [
             0.8888888888888888,
             "#fdca26"
            ],
            [
             1,
             "#f0f921"
            ]
           ]
          },
          "colorway": [
           "#636efa",
           "#EF553B",
           "#00cc96",
           "#ab63fa",
           "#FFA15A",
           "#19d3f3",
           "#FF6692",
           "#B6E880",
           "#FF97FF",
           "#FECB52"
          ],
          "font": {
           "color": "#2a3f5f"
          },
          "geo": {
           "bgcolor": "white",
           "lakecolor": "white",
           "landcolor": "#E5ECF6",
           "showlakes": true,
           "showland": true,
           "subunitcolor": "white"
          },
          "hoverlabel": {
           "align": "left"
          },
          "hovermode": "closest",
          "mapbox": {
           "style": "light"
          },
          "paper_bgcolor": "white",
          "plot_bgcolor": "#E5ECF6",
          "polar": {
           "angularaxis": {
            "gridcolor": "white",
            "linecolor": "white",
            "ticks": ""
           },
           "bgcolor": "#E5ECF6",
           "radialaxis": {
            "gridcolor": "white",
            "linecolor": "white",
            "ticks": ""
           }
          },
          "scene": {
           "xaxis": {
            "backgroundcolor": "#E5ECF6",
            "gridcolor": "white",
            "gridwidth": 2,
            "linecolor": "white",
            "showbackground": true,
            "ticks": "",
            "zerolinecolor": "white"
           },
           "yaxis": {
            "backgroundcolor": "#E5ECF6",
            "gridcolor": "white",
            "gridwidth": 2,
            "linecolor": "white",
            "showbackground": true,
            "ticks": "",
            "zerolinecolor": "white"
           },
           "zaxis": {
            "backgroundcolor": "#E5ECF6",
            "gridcolor": "white",
            "gridwidth": 2,
            "linecolor": "white",
            "showbackground": true,
            "ticks": "",
            "zerolinecolor": "white"
           }
          },
          "shapedefaults": {
           "line": {
            "color": "#2a3f5f"
           }
          },
          "ternary": {
           "aaxis": {
            "gridcolor": "white",
            "linecolor": "white",
            "ticks": ""
           },
           "baxis": {
            "gridcolor": "white",
            "linecolor": "white",
            "ticks": ""
           },
           "bgcolor": "#E5ECF6",
           "caxis": {
            "gridcolor": "white",
            "linecolor": "white",
            "ticks": ""
           }
          },
          "title": {
           "x": 0.05
          },
          "xaxis": {
           "automargin": true,
           "gridcolor": "white",
           "linecolor": "white",
           "ticks": "",
           "title": {
            "standoff": 15
           },
           "zerolinecolor": "white",
           "zerolinewidth": 2
          },
          "yaxis": {
           "automargin": true,
           "gridcolor": "white",
           "linecolor": "white",
           "ticks": "",
           "title": {
            "standoff": 15
           },
           "zerolinecolor": "white",
           "zerolinewidth": 2
          }
         }
        },
        "title": {
         "text": "Scatterplot de price e rating"
        },
        "xaxis": {
         "anchor": "y",
         "domain": [
          0,
          1
         ],
         "title": {
          "text": "price"
         }
        },
        "yaxis": {
         "anchor": "x",
         "domain": [
          0,
          1
         ],
         "title": {
          "text": "rating"
         }
        }
       }
      }
     },
     "metadata": {},
     "output_type": "display_data"
    }
   ],
   "source": [
    "# Scatterplot de price e rating\n",
    "px.scatter(df_laptops, x='price', y='rating', title='Scatterplot de price e rating', color='brand')"
   ]
  },
  {
   "cell_type": "markdown",
   "metadata": {},
   "source": [
    "# Treinar modelos clustering hierárquico"
   ]
  },
  {
   "cell_type": "code",
   "execution_count": 46,
   "metadata": {},
   "outputs": [
    {
     "data": {
      "text/html": [
       "<div>\n",
       "<style scoped>\n",
       "    .dataframe tbody tr th:only-of-type {\n",
       "        vertical-align: middle;\n",
       "    }\n",
       "\n",
       "    .dataframe tbody tr th {\n",
       "        vertical-align: top;\n",
       "    }\n",
       "\n",
       "    .dataframe thead th {\n",
       "        text-align: right;\n",
       "    }\n",
       "</style>\n",
       "<table border=\"1\" class=\"dataframe\">\n",
       "  <thead>\n",
       "    <tr style=\"text-align: right;\">\n",
       "      <th></th>\n",
       "      <th>index</th>\n",
       "      <th>brand</th>\n",
       "      <th>model</th>\n",
       "      <th>price</th>\n",
       "      <th>rating</th>\n",
       "      <th>processor_brand</th>\n",
       "      <th>processor_tier</th>\n",
       "      <th>num_cores</th>\n",
       "      <th>num_threads</th>\n",
       "      <th>ram_memory</th>\n",
       "      <th>primary_storage_type</th>\n",
       "      <th>primary_storage_capacity</th>\n",
       "      <th>gpu_brand</th>\n",
       "      <th>gpu_type</th>\n",
       "      <th>is_touch_screen</th>\n",
       "      <th>display_size</th>\n",
       "      <th>resolution_width</th>\n",
       "      <th>resolution_height</th>\n",
       "      <th>os</th>\n",
       "      <th>year_of_warranty</th>\n",
       "    </tr>\n",
       "  </thead>\n",
       "  <tbody>\n",
       "    <tr>\n",
       "      <th>0</th>\n",
       "      <td>1</td>\n",
       "      <td>tecno</td>\n",
       "      <td>Tecno Megabook T1 Laptop (11th Gen Core i3/ 8G...</td>\n",
       "      <td>287.72</td>\n",
       "      <td>63</td>\n",
       "      <td>intel</td>\n",
       "      <td>core i3</td>\n",
       "      <td>2</td>\n",
       "      <td>4</td>\n",
       "      <td>8</td>\n",
       "      <td>SSD</td>\n",
       "      <td>512</td>\n",
       "      <td>intel</td>\n",
       "      <td>integrated</td>\n",
       "      <td>0</td>\n",
       "      <td>15.6</td>\n",
       "      <td>1920</td>\n",
       "      <td>1080</td>\n",
       "      <td>windows</td>\n",
       "      <td>1</td>\n",
       "    </tr>\n",
       "    <tr>\n",
       "      <th>1</th>\n",
       "      <td>2</td>\n",
       "      <td>tecno</td>\n",
       "      <td>Tecno Megabook T1 Laptop (11th Gen Core i7/ 16...</td>\n",
       "      <td>431.64</td>\n",
       "      <td>67</td>\n",
       "      <td>intel</td>\n",
       "      <td>core i7</td>\n",
       "      <td>4</td>\n",
       "      <td>8</td>\n",
       "      <td>16</td>\n",
       "      <td>SSD</td>\n",
       "      <td>1024</td>\n",
       "      <td>intel</td>\n",
       "      <td>integrated</td>\n",
       "      <td>0</td>\n",
       "      <td>15.6</td>\n",
       "      <td>1920</td>\n",
       "      <td>1080</td>\n",
       "      <td>windows</td>\n",
       "      <td>1</td>\n",
       "    </tr>\n",
       "    <tr>\n",
       "      <th>2</th>\n",
       "      <td>3</td>\n",
       "      <td>hp</td>\n",
       "      <td>HP Victus 15-fb0157AX Gaming Laptop (AMD Ryzen...</td>\n",
       "      <td>612.86</td>\n",
       "      <td>73</td>\n",
       "      <td>amd</td>\n",
       "      <td>ryzen 5</td>\n",
       "      <td>6</td>\n",
       "      <td>12</td>\n",
       "      <td>8</td>\n",
       "      <td>SSD</td>\n",
       "      <td>512</td>\n",
       "      <td>amd</td>\n",
       "      <td>dedicated</td>\n",
       "      <td>0</td>\n",
       "      <td>15.6</td>\n",
       "      <td>1920</td>\n",
       "      <td>1080</td>\n",
       "      <td>windows</td>\n",
       "      <td>1</td>\n",
       "    </tr>\n",
       "    <tr>\n",
       "      <th>3</th>\n",
       "      <td>4</td>\n",
       "      <td>acer</td>\n",
       "      <td>Acer Extensa EX214-53 Laptop (12th Gen Core i5...</td>\n",
       "      <td>479.62</td>\n",
       "      <td>62</td>\n",
       "      <td>intel</td>\n",
       "      <td>core i5</td>\n",
       "      <td>12</td>\n",
       "      <td>16</td>\n",
       "      <td>8</td>\n",
       "      <td>SSD</td>\n",
       "      <td>512</td>\n",
       "      <td>intel</td>\n",
       "      <td>integrated</td>\n",
       "      <td>0</td>\n",
       "      <td>14.0</td>\n",
       "      <td>1920</td>\n",
       "      <td>1080</td>\n",
       "      <td>windows</td>\n",
       "      <td>1</td>\n",
       "    </tr>\n",
       "    <tr>\n",
       "      <th>4</th>\n",
       "      <td>5</td>\n",
       "      <td>lenovo</td>\n",
       "      <td>Lenovo V15 82KDA01BIH Laptop (AMD Ryzen 3 5300...</td>\n",
       "      <td>342.77</td>\n",
       "      <td>62</td>\n",
       "      <td>amd</td>\n",
       "      <td>ryzen 3</td>\n",
       "      <td>4</td>\n",
       "      <td>8</td>\n",
       "      <td>8</td>\n",
       "      <td>SSD</td>\n",
       "      <td>512</td>\n",
       "      <td>amd</td>\n",
       "      <td>integrated</td>\n",
       "      <td>0</td>\n",
       "      <td>15.6</td>\n",
       "      <td>1920</td>\n",
       "      <td>1080</td>\n",
       "      <td>windows</td>\n",
       "      <td>1</td>\n",
       "    </tr>\n",
       "    <tr>\n",
       "      <th>...</th>\n",
       "      <td>...</td>\n",
       "      <td>...</td>\n",
       "      <td>...</td>\n",
       "      <td>...</td>\n",
       "      <td>...</td>\n",
       "      <td>...</td>\n",
       "      <td>...</td>\n",
       "      <td>...</td>\n",
       "      <td>...</td>\n",
       "      <td>...</td>\n",
       "      <td>...</td>\n",
       "      <td>...</td>\n",
       "      <td>...</td>\n",
       "      <td>...</td>\n",
       "      <td>...</td>\n",
       "      <td>...</td>\n",
       "      <td>...</td>\n",
       "      <td>...</td>\n",
       "      <td>...</td>\n",
       "      <td>...</td>\n",
       "    </tr>\n",
       "    <tr>\n",
       "      <th>986</th>\n",
       "      <td>998</td>\n",
       "      <td>asus</td>\n",
       "      <td>Asus Vivobook Pro 15 M6500QC-HN542WS Laptop (R...</td>\n",
       "      <td>791.44</td>\n",
       "      <td>68</td>\n",
       "      <td>amd</td>\n",
       "      <td>ryzen 5</td>\n",
       "      <td>6</td>\n",
       "      <td>12</td>\n",
       "      <td>16</td>\n",
       "      <td>SSD</td>\n",
       "      <td>512</td>\n",
       "      <td>nvidia</td>\n",
       "      <td>dedicated</td>\n",
       "      <td>0</td>\n",
       "      <td>15.6</td>\n",
       "      <td>1920</td>\n",
       "      <td>1080</td>\n",
       "      <td>windows</td>\n",
       "      <td>1</td>\n",
       "    </tr>\n",
       "    <tr>\n",
       "      <th>987</th>\n",
       "      <td>999</td>\n",
       "      <td>msi</td>\n",
       "      <td>MSI Thin GF63 12VE-070IN Gaming Laptop (12th G...</td>\n",
       "      <td>1103.27</td>\n",
       "      <td>73</td>\n",
       "      <td>intel</td>\n",
       "      <td>core i7</td>\n",
       "      <td>10</td>\n",
       "      <td>16</td>\n",
       "      <td>16</td>\n",
       "      <td>SSD</td>\n",
       "      <td>512</td>\n",
       "      <td>nvidia</td>\n",
       "      <td>dedicated</td>\n",
       "      <td>0</td>\n",
       "      <td>15.6</td>\n",
       "      <td>1920</td>\n",
       "      <td>1080</td>\n",
       "      <td>windows</td>\n",
       "      <td>2</td>\n",
       "    </tr>\n",
       "    <tr>\n",
       "      <th>988</th>\n",
       "      <td>1000</td>\n",
       "      <td>asus</td>\n",
       "      <td>Asus Vivobook Go 15 2023 E1504FA-NJ522WS Lapto...</td>\n",
       "      <td>539.58</td>\n",
       "      <td>59</td>\n",
       "      <td>amd</td>\n",
       "      <td>ryzen 5</td>\n",
       "      <td>4</td>\n",
       "      <td>8</td>\n",
       "      <td>8</td>\n",
       "      <td>SSD</td>\n",
       "      <td>512</td>\n",
       "      <td>amd</td>\n",
       "      <td>integrated</td>\n",
       "      <td>0</td>\n",
       "      <td>15.6</td>\n",
       "      <td>1920</td>\n",
       "      <td>1080</td>\n",
       "      <td>windows</td>\n",
       "      <td>1</td>\n",
       "    </tr>\n",
       "    <tr>\n",
       "      <th>989</th>\n",
       "      <td>1001</td>\n",
       "      <td>asus</td>\n",
       "      <td>Asus Zenbook 14 2023 UM3402YA-KP541WS Laptop (...</td>\n",
       "      <td>815.43</td>\n",
       "      <td>68</td>\n",
       "      <td>amd</td>\n",
       "      <td>ryzen 5</td>\n",
       "      <td>6</td>\n",
       "      <td>12</td>\n",
       "      <td>16</td>\n",
       "      <td>SSD</td>\n",
       "      <td>512</td>\n",
       "      <td>amd</td>\n",
       "      <td>integrated</td>\n",
       "      <td>0</td>\n",
       "      <td>14.0</td>\n",
       "      <td>2560</td>\n",
       "      <td>1600</td>\n",
       "      <td>windows</td>\n",
       "      <td>1</td>\n",
       "    </tr>\n",
       "    <tr>\n",
       "      <th>990</th>\n",
       "      <td>1002</td>\n",
       "      <td>hp</td>\n",
       "      <td>HP Chromebook 15a-na0008TU Laptop (Intel Celer...</td>\n",
       "      <td>251.74</td>\n",
       "      <td>37</td>\n",
       "      <td>intel</td>\n",
       "      <td>celeron</td>\n",
       "      <td>2</td>\n",
       "      <td>2</td>\n",
       "      <td>4</td>\n",
       "      <td>HDD</td>\n",
       "      <td>128</td>\n",
       "      <td>intel</td>\n",
       "      <td>integrated</td>\n",
       "      <td>0</td>\n",
       "      <td>15.6</td>\n",
       "      <td>1366</td>\n",
       "      <td>768</td>\n",
       "      <td>chrome</td>\n",
       "      <td>1</td>\n",
       "    </tr>\n",
       "  </tbody>\n",
       "</table>\n",
       "<p>991 rows × 20 columns</p>\n",
       "</div>"
      ],
      "text/plain": [
       "     index   brand                                              model  \\\n",
       "0        1   tecno  Tecno Megabook T1 Laptop (11th Gen Core i3/ 8G...   \n",
       "1        2   tecno  Tecno Megabook T1 Laptop (11th Gen Core i7/ 16...   \n",
       "2        3      hp  HP Victus 15-fb0157AX Gaming Laptop (AMD Ryzen...   \n",
       "3        4    acer  Acer Extensa EX214-53 Laptop (12th Gen Core i5...   \n",
       "4        5  lenovo  Lenovo V15 82KDA01BIH Laptop (AMD Ryzen 3 5300...   \n",
       "..     ...     ...                                                ...   \n",
       "986    998    asus  Asus Vivobook Pro 15 M6500QC-HN542WS Laptop (R...   \n",
       "987    999     msi  MSI Thin GF63 12VE-070IN Gaming Laptop (12th G...   \n",
       "988   1000    asus  Asus Vivobook Go 15 2023 E1504FA-NJ522WS Lapto...   \n",
       "989   1001    asus  Asus Zenbook 14 2023 UM3402YA-KP541WS Laptop (...   \n",
       "990   1002      hp  HP Chromebook 15a-na0008TU Laptop (Intel Celer...   \n",
       "\n",
       "       price  rating processor_brand processor_tier  num_cores  num_threads  \\\n",
       "0     287.72      63           intel        core i3          2            4   \n",
       "1     431.64      67           intel        core i7          4            8   \n",
       "2     612.86      73             amd        ryzen 5          6           12   \n",
       "3     479.62      62           intel        core i5         12           16   \n",
       "4     342.77      62             amd        ryzen 3          4            8   \n",
       "..       ...     ...             ...            ...        ...          ...   \n",
       "986   791.44      68             amd        ryzen 5          6           12   \n",
       "987  1103.27      73           intel        core i7         10           16   \n",
       "988   539.58      59             amd        ryzen 5          4            8   \n",
       "989   815.43      68             amd        ryzen 5          6           12   \n",
       "990   251.74      37           intel        celeron          2            2   \n",
       "\n",
       "     ram_memory primary_storage_type  primary_storage_capacity gpu_brand  \\\n",
       "0             8                  SSD                       512     intel   \n",
       "1            16                  SSD                      1024     intel   \n",
       "2             8                  SSD                       512       amd   \n",
       "3             8                  SSD                       512     intel   \n",
       "4             8                  SSD                       512       amd   \n",
       "..          ...                  ...                       ...       ...   \n",
       "986          16                  SSD                       512    nvidia   \n",
       "987          16                  SSD                       512    nvidia   \n",
       "988           8                  SSD                       512       amd   \n",
       "989          16                  SSD                       512       amd   \n",
       "990           4                  HDD                       128     intel   \n",
       "\n",
       "       gpu_type  is_touch_screen  display_size  resolution_width  \\\n",
       "0    integrated                0          15.6              1920   \n",
       "1    integrated                0          15.6              1920   \n",
       "2     dedicated                0          15.6              1920   \n",
       "3    integrated                0          14.0              1920   \n",
       "4    integrated                0          15.6              1920   \n",
       "..          ...              ...           ...               ...   \n",
       "986   dedicated                0          15.6              1920   \n",
       "987   dedicated                0          15.6              1920   \n",
       "988  integrated                0          15.6              1920   \n",
       "989  integrated                0          14.0              2560   \n",
       "990  integrated                0          15.6              1366   \n",
       "\n",
       "     resolution_height       os  year_of_warranty  \n",
       "0                 1080  windows                 1  \n",
       "1                 1080  windows                 1  \n",
       "2                 1080  windows                 1  \n",
       "3                 1080  windows                 1  \n",
       "4                 1080  windows                 1  \n",
       "..                 ...      ...               ...  \n",
       "986               1080  windows                 1  \n",
       "987               1080  windows                 2  \n",
       "988               1080  windows                 1  \n",
       "989               1600  windows                 1  \n",
       "990                768   chrome                 1  \n",
       "\n",
       "[991 rows x 20 columns]"
      ]
     },
     "execution_count": 46,
     "metadata": {},
     "output_type": "execute_result"
    }
   ],
   "source": [
    "df_laptops"
   ]
  },
  {
   "cell_type": "code",
   "execution_count": 47,
   "metadata": {},
   "outputs": [],
   "source": [
    "# Selecionar as colunas para a clusterização\n",
    "X = df_laptops.copy()\n",
    "\n",
    "# Remover as colunas que não serão utilizadas\n",
    "X.drop(['index', 'model'], axis=1, inplace=True)"
   ]
  },
  {
   "cell_type": "code",
   "execution_count": 48,
   "metadata": {},
   "outputs": [],
   "source": [
    "# Separando as variáveis categóricas e numéricas\n",
    "numeric_features = ['price', 'rating', 'num_cores', 'num_threads', 'ram_memory', 'primary_storage_capacity', 'display_size', 'resolution_width', 'resolution_height']\n",
    "categorical_features = ['brand', 'processor_brand', 'gpu_brand', 'gpu_type', 'os']"
   ]
  },
  {
   "cell_type": "code",
   "execution_count": 49,
   "metadata": {},
   "outputs": [],
   "source": [
    "# Definir transformações\n",
    "numeric_transformer = StandardScaler()\n",
    "categorical_transformer = OneHotEncoder()"
   ]
  },
  {
   "cell_type": "code",
   "execution_count": 50,
   "metadata": {},
   "outputs": [],
   "source": [
    "# Aplicar transformações\n",
    "preprocessor = ColumnTransformer(\n",
    "    transformers=[\n",
    "        ('num', numeric_transformer, numeric_features),\n",
    "        ('cat', categorical_transformer, categorical_features)\n",
    "    ]\n",
    ")"
   ]
  },
  {
   "cell_type": "code",
   "execution_count": 51,
   "metadata": {},
   "outputs": [],
   "source": [
    "# Transformar os dados\n",
    "X_transformed = preprocessor.fit_transform(X)"
   ]
  },
  {
   "cell_type": "code",
   "execution_count": 52,
   "metadata": {},
   "outputs": [
    {
     "data": {
      "text/plain": [
       "<991x54 sparse matrix of type '<class 'numpy.float64'>'\n",
       "\twith 13874 stored elements in Compressed Sparse Row format>"
      ]
     },
     "execution_count": 52,
     "metadata": {},
     "output_type": "execute_result"
    }
   ],
   "source": [
    "X_transformed"
   ]
  },
  {
   "cell_type": "code",
   "execution_count": 53,
   "metadata": {},
   "outputs": [],
   "source": [
    "import optuna\n",
    "\n",
    "def hierarquical_aglomerative_objective(trial: optuna.Trial):\n",
    "    # Definir os hipermarametros a serem ajustados\n",
    "    n_clusters = trial.suggest_int('n_clusters', 10, 150)\n",
    "    # Linkage = Critério de distância entre dois conjuntos para formar os clusters\n",
    "    # ward = minimiza a variância dos clusters\n",
    "    # average = minimiza a média das distâncias entre os clusters\n",
    "    # complete = minimiza a máxima distância entre os clusters\n",
    "    # single = minimiza a distância entre os clusters mais próximos\n",
    "    linkage = trial.suggest_categorical('linkage', ['ward', 'average', 'complete', 'single'])\n",
    "\n",
    "    # Instanciar o modelo\n",
    "    hierarquical_model = AgglomerativeClustering(n_clusters=n_clusters, linkage=linkage)\n",
    "\n",
    "    # Treinar o modelo\n",
    "    y = hierarquical_model.fit_predict(X_transformed.toarray())\n",
    "\n",
    "    # Calcular o silhouette_score\n",
    "    silhouette_avg = silhouette_score(X_transformed, y)\n",
    "\n",
    "    return silhouette_avg"
   ]
  },
  {
   "cell_type": "code",
   "execution_count": 54,
   "metadata": {},
   "outputs": [
    {
     "name": "stderr",
     "output_type": "stream",
     "text": [
      "[I 2024-06-17 22:26:36,179] A new study created in memory with name: no-name-05dcb2f5-5e4e-421b-ae35-ca27a89e6ec7\n"
     ]
    }
   ],
   "source": [
    "# Criar um estudo de otimização\n",
    "search_space_ag = {\n",
    "    'n_clusters': range(10, 151),\n",
    "    'linkage': ['ward', 'average', 'complete', 'single']\n",
    "}\n",
    "\n",
    "sampler_ag = optuna.samplers.GridSampler(search_space=search_space_ag)\n",
    "\n",
    "study_ag = optuna.create_study(direction='maximize', sampler=sampler_ag)"
   ]
  },
  {
   "cell_type": "code",
   "execution_count": 55,
   "metadata": {},
   "outputs": [
    {
     "name": "stderr",
     "output_type": "stream",
     "text": [
      "[I 2024-06-17 22:26:36,231] Trial 0 finished with value: 0.23342747758705054 and parameters: {'n_clusters': 59, 'linkage': 'ward'}. Best is trial 0 with value: 0.23342747758705054.\n",
      "[I 2024-06-17 22:26:36,265] Trial 1 finished with value: 0.23828051215019258 and parameters: {'n_clusters': 131, 'linkage': 'average'}. Best is trial 1 with value: 0.23828051215019258.\n",
      "[I 2024-06-17 22:26:36,298] Trial 2 finished with value: 0.21041782467273695 and parameters: {'n_clusters': 87, 'linkage': 'complete'}. Best is trial 1 with value: 0.23828051215019258.\n",
      "[I 2024-06-17 22:26:36,335] Trial 3 finished with value: -0.03819171837578918 and parameters: {'n_clusters': 75, 'linkage': 'single'}. Best is trial 1 with value: 0.23828051215019258.\n",
      "[I 2024-06-17 22:26:36,368] Trial 4 finished with value: 0.18989917089382646 and parameters: {'n_clusters': 51, 'linkage': 'average'}. Best is trial 1 with value: 0.23828051215019258.\n",
      "[I 2024-06-17 22:26:36,400] Trial 5 finished with value: 0.16949061368130935 and parameters: {'n_clusters': 40, 'linkage': 'complete'}. Best is trial 1 with value: 0.23828051215019258.\n",
      "[I 2024-06-17 22:26:36,433] Trial 6 finished with value: 0.20118106842471006 and parameters: {'n_clusters': 74, 'linkage': 'complete'}. Best is trial 1 with value: 0.23828051215019258.\n",
      "[I 2024-06-17 22:26:36,468] Trial 7 finished with value: 0.1496765844586353 and parameters: {'n_clusters': 22, 'linkage': 'average'}. Best is trial 1 with value: 0.23828051215019258.\n",
      "[I 2024-06-17 22:26:36,515] Trial 8 finished with value: -0.028065810336298902 and parameters: {'n_clusters': 47, 'linkage': 'single'}. Best is trial 1 with value: 0.23828051215019258.\n",
      "[I 2024-06-17 22:26:36,561] Trial 9 finished with value: -0.044769524799501186 and parameters: {'n_clusters': 81, 'linkage': 'single'}. Best is trial 1 with value: 0.23828051215019258.\n",
      "[I 2024-06-17 22:26:36,601] Trial 10 finished with value: 0.2089756362131686 and parameters: {'n_clusters': 37, 'linkage': 'ward'}. Best is trial 1 with value: 0.23828051215019258.\n",
      "[I 2024-06-17 22:26:36,644] Trial 11 finished with value: 0.2357822255542613 and parameters: {'n_clusters': 125, 'linkage': 'average'}. Best is trial 1 with value: 0.23828051215019258.\n",
      "[I 2024-06-17 22:26:36,706] Trial 12 finished with value: 0.3187099175280095 and parameters: {'n_clusters': 142, 'linkage': 'ward'}. Best is trial 12 with value: 0.3187099175280095.\n",
      "[I 2024-06-17 22:26:36,783] Trial 13 finished with value: 0.2071459872852789 and parameters: {'n_clusters': 74, 'linkage': 'average'}. Best is trial 12 with value: 0.3187099175280095.\n",
      "[I 2024-06-17 22:26:36,831] Trial 14 finished with value: 0.296481161151402 and parameters: {'n_clusters': 128, 'linkage': 'ward'}. Best is trial 12 with value: 0.3187099175280095.\n",
      "[I 2024-06-17 22:26:36,905] Trial 15 finished with value: 0.2923372647462709 and parameters: {'n_clusters': 13, 'linkage': 'single'}. Best is trial 12 with value: 0.3187099175280095.\n",
      "[I 2024-06-17 22:26:36,945] Trial 16 finished with value: 0.22776753334741912 and parameters: {'n_clusters': 139, 'linkage': 'complete'}. Best is trial 12 with value: 0.3187099175280095.\n",
      "[I 2024-06-17 22:26:36,984] Trial 17 finished with value: 0.12746853108008652 and parameters: {'n_clusters': 26, 'linkage': 'complete'}. Best is trial 12 with value: 0.3187099175280095.\n",
      "[I 2024-06-17 22:26:37,022] Trial 18 finished with value: 0.18004032453377464 and parameters: {'n_clusters': 54, 'linkage': 'complete'}. Best is trial 12 with value: 0.3187099175280095.\n",
      "[I 2024-06-17 22:26:37,060] Trial 19 finished with value: 0.23213341699096415 and parameters: {'n_clusters': 57, 'linkage': 'ward'}. Best is trial 12 with value: 0.3187099175280095.\n",
      "[I 2024-06-17 22:26:37,104] Trial 20 finished with value: 0.030679830280590598 and parameters: {'n_clusters': 123, 'linkage': 'single'}. Best is trial 12 with value: 0.3187099175280095.\n",
      "[I 2024-06-17 22:26:37,143] Trial 21 finished with value: 0.22969857420862358 and parameters: {'n_clusters': 46, 'linkage': 'ward'}. Best is trial 12 with value: 0.3187099175280095.\n",
      "[I 2024-06-17 22:26:37,179] Trial 22 finished with value: 0.20416843219378486 and parameters: {'n_clusters': 61, 'linkage': 'average'}. Best is trial 12 with value: 0.3187099175280095.\n",
      "[I 2024-06-17 22:26:37,216] Trial 23 finished with value: 0.21657261440320918 and parameters: {'n_clusters': 89, 'linkage': 'average'}. Best is trial 12 with value: 0.3187099175280095.\n",
      "[I 2024-06-17 22:26:37,288] Trial 24 finished with value: -0.026931829799925297 and parameters: {'n_clusters': 114, 'linkage': 'single'}. Best is trial 12 with value: 0.3187099175280095.\n",
      "[I 2024-06-17 22:26:37,334] Trial 25 finished with value: 0.2273522361563746 and parameters: {'n_clusters': 49, 'linkage': 'ward'}. Best is trial 12 with value: 0.3187099175280095.\n",
      "[I 2024-06-17 22:26:37,374] Trial 26 finished with value: 0.15945262065529955 and parameters: {'n_clusters': 32, 'linkage': 'complete'}. Best is trial 12 with value: 0.3187099175280095.\n",
      "[I 2024-06-17 22:26:37,415] Trial 27 finished with value: 0.28143962903438463 and parameters: {'n_clusters': 13, 'linkage': 'average'}. Best is trial 12 with value: 0.3187099175280095.\n",
      "[I 2024-06-17 22:26:37,456] Trial 28 finished with value: -0.05300215835511742 and parameters: {'n_clusters': 64, 'linkage': 'single'}. Best is trial 12 with value: 0.3187099175280095.\n",
      "[I 2024-06-17 22:26:37,500] Trial 29 finished with value: -0.006074726212901362 and parameters: {'n_clusters': 96, 'linkage': 'single'}. Best is trial 12 with value: 0.3187099175280095.\n",
      "[I 2024-06-17 22:26:37,540] Trial 30 finished with value: 0.21123125207408916 and parameters: {'n_clusters': 18, 'linkage': 'average'}. Best is trial 12 with value: 0.3187099175280095.\n",
      "[I 2024-06-17 22:26:37,581] Trial 31 finished with value: 0.04907455107975556 and parameters: {'n_clusters': 143, 'linkage': 'single'}. Best is trial 12 with value: 0.3187099175280095.\n",
      "[I 2024-06-17 22:26:37,618] Trial 32 finished with value: 0.285766926409627 and parameters: {'n_clusters': 114, 'linkage': 'ward'}. Best is trial 12 with value: 0.3187099175280095.\n",
      "[I 2024-06-17 22:26:37,655] Trial 33 finished with value: 0.2956386759464443 and parameters: {'n_clusters': 126, 'linkage': 'ward'}. Best is trial 12 with value: 0.3187099175280095.\n",
      "[I 2024-06-17 22:26:37,729] Trial 34 finished with value: 0.22227577387921685 and parameters: {'n_clusters': 94, 'linkage': 'average'}. Best is trial 12 with value: 0.3187099175280095.\n",
      "[I 2024-06-17 22:26:37,784] Trial 35 finished with value: -0.046880571140107095 and parameters: {'n_clusters': 94, 'linkage': 'single'}. Best is trial 12 with value: 0.3187099175280095.\n",
      "[I 2024-06-17 22:26:37,824] Trial 36 finished with value: 0.2946698679679079 and parameters: {'n_clusters': 11, 'linkage': 'average'}. Best is trial 12 with value: 0.3187099175280095.\n",
      "[I 2024-06-17 22:26:37,865] Trial 37 finished with value: 0.08492238352974087 and parameters: {'n_clusters': 128, 'linkage': 'single'}. Best is trial 12 with value: 0.3187099175280095.\n",
      "[I 2024-06-17 22:26:37,902] Trial 38 finished with value: 0.2318880104031542 and parameters: {'n_clusters': 145, 'linkage': 'complete'}. Best is trial 12 with value: 0.3187099175280095.\n",
      "[I 2024-06-17 22:26:37,940] Trial 39 finished with value: 0.20747010581787478 and parameters: {'n_clusters': 79, 'linkage': 'average'}. Best is trial 12 with value: 0.3187099175280095.\n",
      "[I 2024-06-17 22:26:37,979] Trial 40 finished with value: 0.17524794730527618 and parameters: {'n_clusters': 44, 'linkage': 'complete'}. Best is trial 12 with value: 0.3187099175280095.\n",
      "[I 2024-06-17 22:26:38,025] Trial 41 finished with value: 0.2092478212327144 and parameters: {'n_clusters': 99, 'linkage': 'complete'}. Best is trial 12 with value: 0.3187099175280095.\n",
      "[I 2024-06-17 22:26:38,068] Trial 42 finished with value: 0.13826163193289398 and parameters: {'n_clusters': 23, 'linkage': 'complete'}. Best is trial 12 with value: 0.3187099175280095.\n",
      "[I 2024-06-17 22:26:38,116] Trial 43 finished with value: -0.03152241181855995 and parameters: {'n_clusters': 120, 'linkage': 'single'}. Best is trial 12 with value: 0.3187099175280095.\n",
      "[I 2024-06-17 22:26:38,157] Trial 44 finished with value: 0.2206249869557132 and parameters: {'n_clusters': 97, 'linkage': 'average'}. Best is trial 12 with value: 0.3187099175280095.\n",
      "[I 2024-06-17 22:26:38,198] Trial 45 finished with value: 0.2372938641357815 and parameters: {'n_clusters': 148, 'linkage': 'average'}. Best is trial 12 with value: 0.3187099175280095.\n",
      "[I 2024-06-17 22:26:38,243] Trial 46 finished with value: -0.03760639474543916 and parameters: {'n_clusters': 87, 'linkage': 'single'}. Best is trial 12 with value: 0.3187099175280095.\n",
      "[I 2024-06-17 22:26:38,286] Trial 47 finished with value: 0.2107792986583094 and parameters: {'n_clusters': 38, 'linkage': 'ward'}. Best is trial 12 with value: 0.3187099175280095.\n",
      "[I 2024-06-17 22:26:38,329] Trial 48 finished with value: 0.20899510686338457 and parameters: {'n_clusters': 89, 'linkage': 'complete'}. Best is trial 12 with value: 0.3187099175280095.\n",
      "[I 2024-06-17 22:26:38,373] Trial 49 finished with value: 0.21050138323315698 and parameters: {'n_clusters': 82, 'linkage': 'complete'}. Best is trial 12 with value: 0.3187099175280095.\n",
      "[I 2024-06-17 22:26:38,416] Trial 50 finished with value: 0.18287417537978612 and parameters: {'n_clusters': 12, 'linkage': 'ward'}. Best is trial 12 with value: 0.3187099175280095.\n",
      "[I 2024-06-17 22:26:38,457] Trial 51 finished with value: 0.21826098503493074 and parameters: {'n_clusters': 133, 'linkage': 'complete'}. Best is trial 12 with value: 0.3187099175280095.\n",
      "[I 2024-06-17 22:26:38,500] Trial 52 finished with value: 0.21675325979778234 and parameters: {'n_clusters': 117, 'linkage': 'complete'}. Best is trial 12 with value: 0.3187099175280095.\n",
      "[I 2024-06-17 22:26:38,544] Trial 53 finished with value: 0.3204332782301434 and parameters: {'n_clusters': 146, 'linkage': 'ward'}. Best is trial 53 with value: 0.3204332782301434.\n",
      "[I 2024-06-17 22:26:38,585] Trial 54 finished with value: 0.21464282161237228 and parameters: {'n_clusters': 123, 'linkage': 'complete'}. Best is trial 53 with value: 0.3204332782301434.\n",
      "[I 2024-06-17 22:26:38,666] Trial 55 finished with value: 0.2104267644104242 and parameters: {'n_clusters': 84, 'linkage': 'average'}. Best is trial 53 with value: 0.3204332782301434.\n",
      "[I 2024-06-17 22:26:38,720] Trial 56 finished with value: 0.17556818511761565 and parameters: {'n_clusters': 48, 'linkage': 'complete'}. Best is trial 53 with value: 0.3204332782301434.\n",
      "[I 2024-06-17 22:26:38,769] Trial 57 finished with value: 0.27789886320676294 and parameters: {'n_clusters': 15, 'linkage': 'average'}. Best is trial 53 with value: 0.3204332782301434.\n",
      "[I 2024-06-17 22:26:38,814] Trial 58 finished with value: 0.23971536429833912 and parameters: {'n_clusters': 134, 'linkage': 'average'}. Best is trial 53 with value: 0.3204332782301434.\n",
      "[I 2024-06-17 22:26:38,859] Trial 59 finished with value: 0.29008336675191704 and parameters: {'n_clusters': 118, 'linkage': 'ward'}. Best is trial 53 with value: 0.3204332782301434.\n",
      "[I 2024-06-17 22:26:38,912] Trial 60 finished with value: 0.062110220658953316 and parameters: {'n_clusters': 32, 'linkage': 'single'}. Best is trial 53 with value: 0.3204332782301434.\n",
      "[I 2024-06-17 22:26:38,959] Trial 61 finished with value: 0.16758133639394757 and parameters: {'n_clusters': 11, 'linkage': 'complete'}. Best is trial 53 with value: 0.3204332782301434.\n",
      "[I 2024-06-17 22:26:39,004] Trial 62 finished with value: 0.2231187433709101 and parameters: {'n_clusters': 120, 'linkage': 'average'}. Best is trial 53 with value: 0.3204332782301434.\n",
      "[I 2024-06-17 22:26:39,052] Trial 63 finished with value: 0.2364079449466678 and parameters: {'n_clusters': 69, 'linkage': 'ward'}. Best is trial 53 with value: 0.3204332782301434.\n",
      "[I 2024-06-17 22:26:39,096] Trial 64 finished with value: 0.23763470760149702 and parameters: {'n_clusters': 138, 'linkage': 'average'}. Best is trial 53 with value: 0.3204332782301434.\n",
      "[I 2024-06-17 22:26:39,144] Trial 65 finished with value: 0.17449053848375684 and parameters: {'n_clusters': 15, 'linkage': 'complete'}. Best is trial 53 with value: 0.3204332782301434.\n",
      "[I 2024-06-17 22:26:39,191] Trial 66 finished with value: 0.23770445344917815 and parameters: {'n_clusters': 147, 'linkage': 'average'}. Best is trial 53 with value: 0.3204332782301434.\n",
      "[I 2024-06-17 22:26:39,249] Trial 67 finished with value: -0.01099742437794464 and parameters: {'n_clusters': 104, 'linkage': 'single'}. Best is trial 53 with value: 0.3204332782301434.\n",
      "[I 2024-06-17 22:26:39,298] Trial 68 finished with value: 0.22532081418842428 and parameters: {'n_clusters': 48, 'linkage': 'ward'}. Best is trial 53 with value: 0.3204332782301434.\n",
      "[I 2024-06-17 22:26:39,350] Trial 69 finished with value: 0.2303972380305493 and parameters: {'n_clusters': 143, 'linkage': 'complete'}. Best is trial 53 with value: 0.3204332782301434.\n",
      "[I 2024-06-17 22:26:39,407] Trial 70 finished with value: 0.22507005420329737 and parameters: {'n_clusters': 113, 'linkage': 'average'}. Best is trial 53 with value: 0.3204332782301434.\n",
      "[I 2024-06-17 22:26:39,467] Trial 71 finished with value: 0.2517482372292341 and parameters: {'n_clusters': 90, 'linkage': 'ward'}. Best is trial 53 with value: 0.3204332782301434.\n",
      "[I 2024-06-17 22:26:39,635] Trial 72 finished with value: 0.1471080436822514 and parameters: {'n_clusters': 43, 'linkage': 'average'}. Best is trial 53 with value: 0.3204332782301434.\n",
      "[I 2024-06-17 22:26:39,696] Trial 73 finished with value: 0.08114752335527253 and parameters: {'n_clusters': 127, 'linkage': 'single'}. Best is trial 53 with value: 0.3204332782301434.\n",
      "[I 2024-06-17 22:26:39,747] Trial 74 finished with value: 0.28249440216065264 and parameters: {'n_clusters': 113, 'linkage': 'ward'}. Best is trial 53 with value: 0.3204332782301434.\n",
      "[I 2024-06-17 22:26:39,792] Trial 75 finished with value: 0.23801067555877786 and parameters: {'n_clusters': 137, 'linkage': 'average'}. Best is trial 53 with value: 0.3204332782301434.\n",
      "[I 2024-06-17 22:26:39,841] Trial 76 finished with value: 0.3200005720218765 and parameters: {'n_clusters': 10, 'linkage': 'single'}. Best is trial 53 with value: 0.3204332782301434.\n",
      "[I 2024-06-17 22:26:39,892] Trial 77 finished with value: 0.05468754282834491 and parameters: {'n_clusters': 142, 'linkage': 'single'}. Best is trial 53 with value: 0.3204332782301434.\n",
      "[I 2024-06-17 22:26:39,943] Trial 78 finished with value: 0.055793152112915884 and parameters: {'n_clusters': 137, 'linkage': 'single'}. Best is trial 53 with value: 0.3204332782301434.\n",
      "[I 2024-06-17 22:26:39,991] Trial 79 finished with value: 0.2212420302678087 and parameters: {'n_clusters': 42, 'linkage': 'ward'}. Best is trial 53 with value: 0.3204332782301434.\n",
      "[I 2024-06-17 22:26:40,040] Trial 80 finished with value: -0.025769392486356003 and parameters: {'n_clusters': 112, 'linkage': 'single'}. Best is trial 53 with value: 0.3204332782301434.\n",
      "[I 2024-06-17 22:26:40,086] Trial 81 finished with value: 0.31060760634148205 and parameters: {'n_clusters': 136, 'linkage': 'ward'}. Best is trial 53 with value: 0.3204332782301434.\n",
      "[I 2024-06-17 22:26:40,131] Trial 82 finished with value: 0.23233867421306736 and parameters: {'n_clusters': 150, 'linkage': 'complete'}. Best is trial 53 with value: 0.3204332782301434.\n",
      "[I 2024-06-17 22:26:40,180] Trial 83 finished with value: -0.01891206943639229 and parameters: {'n_clusters': 40, 'linkage': 'single'}. Best is trial 53 with value: 0.3204332782301434.\n",
      "[I 2024-06-17 22:26:40,230] Trial 84 finished with value: -0.04661846843884509 and parameters: {'n_clusters': 79, 'linkage': 'single'}. Best is trial 53 with value: 0.3204332782301434.\n",
      "[I 2024-06-17 22:26:40,278] Trial 85 finished with value: -0.02198714628827744 and parameters: {'n_clusters': 44, 'linkage': 'single'}. Best is trial 53 with value: 0.3204332782301434.\n",
      "[I 2024-06-17 22:26:40,327] Trial 86 finished with value: -0.07701134141319305 and parameters: {'n_clusters': 55, 'linkage': 'single'}. Best is trial 53 with value: 0.3204332782301434.\n",
      "[I 2024-06-17 22:26:40,375] Trial 87 finished with value: 0.21099706125190115 and parameters: {'n_clusters': 104, 'linkage': 'complete'}. Best is trial 53 with value: 0.3204332782301434.\n",
      "[I 2024-06-17 22:26:40,422] Trial 88 finished with value: 0.19630927012822172 and parameters: {'n_clusters': 66, 'linkage': 'complete'}. Best is trial 53 with value: 0.3204332782301434.\n",
      "[I 2024-06-17 22:26:40,468] Trial 89 finished with value: 0.218438378476893 and parameters: {'n_clusters': 104, 'linkage': 'average'}. Best is trial 53 with value: 0.3204332782301434.\n",
      "[I 2024-06-17 22:26:40,514] Trial 90 finished with value: 0.20848797637787528 and parameters: {'n_clusters': 95, 'linkage': 'complete'}. Best is trial 53 with value: 0.3204332782301434.\n",
      "[I 2024-06-17 22:26:40,563] Trial 91 finished with value: -0.011994014626722553 and parameters: {'n_clusters': 101, 'linkage': 'single'}. Best is trial 53 with value: 0.3204332782301434.\n",
      "[I 2024-06-17 22:26:40,612] Trial 92 finished with value: 0.15019463148388285 and parameters: {'n_clusters': 21, 'linkage': 'average'}. Best is trial 53 with value: 0.3204332782301434.\n",
      "[I 2024-06-17 22:26:40,660] Trial 93 finished with value: 0.22921777942654054 and parameters: {'n_clusters': 45, 'linkage': 'ward'}. Best is trial 53 with value: 0.3204332782301434.\n",
      "[I 2024-06-17 22:26:40,707] Trial 94 finished with value: 0.19625549740769382 and parameters: {'n_clusters': 70, 'linkage': 'complete'}. Best is trial 53 with value: 0.3204332782301434.\n",
      "[I 2024-06-17 22:26:40,756] Trial 95 finished with value: 0.22024033598063295 and parameters: {'n_clusters': 96, 'linkage': 'average'}. Best is trial 53 with value: 0.3204332782301434.\n",
      "[I 2024-06-17 22:26:40,806] Trial 96 finished with value: 0.21732771311478005 and parameters: {'n_clusters': 127, 'linkage': 'complete'}. Best is trial 53 with value: 0.3204332782301434.\n",
      "[I 2024-06-17 22:26:40,859] Trial 97 finished with value: -0.025480137594859995 and parameters: {'n_clusters': 46, 'linkage': 'single'}. Best is trial 53 with value: 0.3204332782301434.\n",
      "[I 2024-06-17 22:26:40,911] Trial 98 finished with value: 0.23985293218676346 and parameters: {'n_clusters': 76, 'linkage': 'ward'}. Best is trial 53 with value: 0.3204332782301434.\n",
      "[I 2024-06-17 22:26:40,990] Trial 99 finished with value: 0.21929060617600848 and parameters: {'n_clusters': 15, 'linkage': 'single'}. Best is trial 53 with value: 0.3204332782301434.\n",
      "[I 2024-06-17 22:26:41,044] Trial 100 finished with value: 0.06671615467116433 and parameters: {'n_clusters': 136, 'linkage': 'single'}. Best is trial 53 with value: 0.3204332782301434.\n",
      "[I 2024-06-17 22:26:41,094] Trial 101 finished with value: 0.20728220223778873 and parameters: {'n_clusters': 36, 'linkage': 'ward'}. Best is trial 53 with value: 0.3204332782301434.\n",
      "[I 2024-06-17 22:26:41,148] Trial 102 finished with value: -0.0058448696331558974 and parameters: {'n_clusters': 95, 'linkage': 'single'}. Best is trial 53 with value: 0.3204332782301434.\n",
      "[I 2024-06-17 22:26:41,196] Trial 103 finished with value: 0.19441956623313555 and parameters: {'n_clusters': 24, 'linkage': 'ward'}. Best is trial 53 with value: 0.3204332782301434.\n",
      "[I 2024-06-17 22:26:41,248] Trial 104 finished with value: -0.03942822953607893 and parameters: {'n_clusters': 83, 'linkage': 'single'}. Best is trial 53 with value: 0.3204332782301434.\n",
      "[I 2024-06-17 22:26:41,300] Trial 105 finished with value: -0.01863791720728408 and parameters: {'n_clusters': 39, 'linkage': 'single'}. Best is trial 53 with value: 0.3204332782301434.\n",
      "[I 2024-06-17 22:26:41,353] Trial 106 finished with value: 0.14835122918546384 and parameters: {'n_clusters': 22, 'linkage': 'complete'}. Best is trial 53 with value: 0.3204332782301434.\n",
      "[I 2024-06-17 22:26:41,409] Trial 107 finished with value: -0.07796209866847384 and parameters: {'n_clusters': 58, 'linkage': 'single'}. Best is trial 53 with value: 0.3204332782301434.\n",
      "[I 2024-06-17 22:26:41,464] Trial 108 finished with value: -0.017694887401745404 and parameters: {'n_clusters': 41, 'linkage': 'single'}. Best is trial 53 with value: 0.3204332782301434.\n",
      "[I 2024-06-17 22:26:41,516] Trial 109 finished with value: 0.2345102135850503 and parameters: {'n_clusters': 67, 'linkage': 'ward'}. Best is trial 53 with value: 0.3204332782301434.\n",
      "[I 2024-06-17 22:26:41,567] Trial 110 finished with value: 0.29239117200185616 and parameters: {'n_clusters': 120, 'linkage': 'ward'}. Best is trial 53 with value: 0.3204332782301434.\n",
      "[I 2024-06-17 22:26:41,624] Trial 111 finished with value: -0.02677574800780329 and parameters: {'n_clusters': 49, 'linkage': 'single'}. Best is trial 53 with value: 0.3204332782301434.\n",
      "[I 2024-06-17 22:26:41,676] Trial 112 finished with value: 0.23057486969816465 and parameters: {'n_clusters': 148, 'linkage': 'complete'}. Best is trial 53 with value: 0.3204332782301434.\n",
      "[I 2024-06-17 22:26:41,729] Trial 113 finished with value: 0.2641823440567754 and parameters: {'n_clusters': 99, 'linkage': 'ward'}. Best is trial 53 with value: 0.3204332782301434.\n",
      "[I 2024-06-17 22:26:41,780] Trial 114 finished with value: 0.21761579399372444 and parameters: {'n_clusters': 86, 'linkage': 'average'}. Best is trial 53 with value: 0.3204332782301434.\n",
      "[I 2024-06-17 22:26:41,832] Trial 115 finished with value: 0.22522817587557467 and parameters: {'n_clusters': 116, 'linkage': 'average'}. Best is trial 53 with value: 0.3204332782301434.\n",
      "[I 2024-06-17 22:26:41,888] Trial 116 finished with value: -0.010897187582202225 and parameters: {'n_clusters': 109, 'linkage': 'single'}. Best is trial 53 with value: 0.3204332782301434.\n",
      "[I 2024-06-17 22:26:41,941] Trial 117 finished with value: 0.23590347853781166 and parameters: {'n_clusters': 149, 'linkage': 'average'}. Best is trial 53 with value: 0.3204332782301434.\n",
      "[I 2024-06-17 22:26:41,996] Trial 118 finished with value: -0.03299442210897982 and parameters: {'n_clusters': 121, 'linkage': 'single'}. Best is trial 53 with value: 0.3204332782301434.\n",
      "[I 2024-06-17 22:26:42,050] Trial 119 finished with value: -0.029456468959011113 and parameters: {'n_clusters': 51, 'linkage': 'single'}. Best is trial 53 with value: 0.3204332782301434.\n",
      "[I 2024-06-17 22:26:42,101] Trial 120 finished with value: 0.15837508669646316 and parameters: {'n_clusters': 36, 'linkage': 'complete'}. Best is trial 53 with value: 0.3204332782301434.\n",
      "[I 2024-06-17 22:26:42,152] Trial 121 finished with value: 0.19102978702593287 and parameters: {'n_clusters': 54, 'linkage': 'average'}. Best is trial 53 with value: 0.3204332782301434.\n",
      "[I 2024-06-17 22:26:42,202] Trial 122 finished with value: 0.2302511296057063 and parameters: {'n_clusters': 149, 'linkage': 'complete'}. Best is trial 53 with value: 0.3204332782301434.\n",
      "[I 2024-06-17 22:26:42,257] Trial 123 finished with value: 0.10122400803621198 and parameters: {'n_clusters': 31, 'linkage': 'single'}. Best is trial 53 with value: 0.3204332782301434.\n",
      "[I 2024-06-17 22:26:42,308] Trial 124 finished with value: 0.3185445128986241 and parameters: {'n_clusters': 143, 'linkage': 'ward'}. Best is trial 53 with value: 0.3204332782301434.\n",
      "[I 2024-06-17 22:26:42,359] Trial 125 finished with value: 0.2181453004054725 and parameters: {'n_clusters': 134, 'linkage': 'complete'}. Best is trial 53 with value: 0.3204332782301434.\n",
      "[I 2024-06-17 22:26:42,411] Trial 126 finished with value: 0.1493610233148692 and parameters: {'n_clusters': 44, 'linkage': 'average'}. Best is trial 53 with value: 0.3204332782301434.\n",
      "[I 2024-06-17 22:26:42,463] Trial 127 finished with value: 0.22844218551884143 and parameters: {'n_clusters': 141, 'linkage': 'complete'}. Best is trial 53 with value: 0.3204332782301434.\n",
      "[I 2024-06-17 22:26:42,516] Trial 128 finished with value: 0.17197885718042494 and parameters: {'n_clusters': 13, 'linkage': 'complete'}. Best is trial 53 with value: 0.3204332782301434.\n",
      "[I 2024-06-17 22:26:42,568] Trial 129 finished with value: 0.24696326549421782 and parameters: {'n_clusters': 80, 'linkage': 'ward'}. Best is trial 53 with value: 0.3204332782301434.\n",
      "[I 2024-06-17 22:26:42,620] Trial 130 finished with value: 0.19909488308169482 and parameters: {'n_clusters': 66, 'linkage': 'average'}. Best is trial 53 with value: 0.3204332782301434.\n",
      "[I 2024-06-17 22:26:42,674] Trial 131 finished with value: 0.15065460744693257 and parameters: {'n_clusters': 25, 'linkage': 'average'}. Best is trial 53 with value: 0.3204332782301434.\n",
      "[I 2024-06-17 22:26:42,726] Trial 132 finished with value: 0.1751502223367616 and parameters: {'n_clusters': 43, 'linkage': 'complete'}. Best is trial 53 with value: 0.3204332782301434.\n",
      "[I 2024-06-17 22:26:42,779] Trial 133 finished with value: 0.24209625997965914 and parameters: {'n_clusters': 83, 'linkage': 'ward'}. Best is trial 53 with value: 0.3204332782301434.\n",
      "[I 2024-06-17 22:26:42,833] Trial 134 finished with value: 0.24700514261089737 and parameters: {'n_clusters': 87, 'linkage': 'ward'}. Best is trial 53 with value: 0.3204332782301434.\n",
      "[I 2024-06-17 22:26:42,889] Trial 135 finished with value: -0.009159193014717112 and parameters: {'n_clusters': 106, 'linkage': 'single'}. Best is trial 53 with value: 0.3204332782301434.\n",
      "[I 2024-06-17 22:26:42,942] Trial 136 finished with value: 0.2205740945846991 and parameters: {'n_clusters': 105, 'linkage': 'average'}. Best is trial 53 with value: 0.3204332782301434.\n",
      "[I 2024-06-17 22:26:42,995] Trial 137 finished with value: 0.29473073125325594 and parameters: {'n_clusters': 125, 'linkage': 'ward'}. Best is trial 53 with value: 0.3204332782301434.\n",
      "[I 2024-06-17 22:26:43,053] Trial 138 finished with value: -0.024167036350975824 and parameters: {'n_clusters': 42, 'linkage': 'single'}. Best is trial 53 with value: 0.3204332782301434.\n",
      "[I 2024-06-17 22:26:43,110] Trial 139 finished with value: 0.1367988848991185 and parameters: {'n_clusters': 20, 'linkage': 'single'}. Best is trial 53 with value: 0.3204332782301434.\n",
      "[I 2024-06-17 22:26:43,164] Trial 140 finished with value: 0.22434354853874838 and parameters: {'n_clusters': 107, 'linkage': 'average'}. Best is trial 53 with value: 0.3204332782301434.\n",
      "[I 2024-06-17 22:26:43,217] Trial 141 finished with value: 0.17426651499876014 and parameters: {'n_clusters': 46, 'linkage': 'complete'}. Best is trial 53 with value: 0.3204332782301434.\n",
      "[I 2024-06-17 22:26:43,271] Trial 142 finished with value: 0.23640664080740859 and parameters: {'n_clusters': 62, 'linkage': 'ward'}. Best is trial 53 with value: 0.3204332782301434.\n",
      "[I 2024-06-17 22:26:43,329] Trial 143 finished with value: -0.04956810457931769 and parameters: {'n_clusters': 63, 'linkage': 'single'}. Best is trial 53 with value: 0.3204332782301434.\n",
      "[I 2024-06-17 22:26:43,387] Trial 144 finished with value: 0.15710043691356465 and parameters: {'n_clusters': 24, 'linkage': 'single'}. Best is trial 53 with value: 0.3204332782301434.\n",
      "[I 2024-06-17 22:26:43,442] Trial 145 finished with value: 0.2165504171990897 and parameters: {'n_clusters': 130, 'linkage': 'complete'}. Best is trial 53 with value: 0.3204332782301434.\n",
      "[I 2024-06-17 22:26:43,496] Trial 146 finished with value: 0.24772433335480548 and parameters: {'n_clusters': 86, 'linkage': 'ward'}. Best is trial 53 with value: 0.3204332782301434.\n",
      "[I 2024-06-17 22:26:43,550] Trial 147 finished with value: 0.20209964266736868 and parameters: {'n_clusters': 76, 'linkage': 'complete'}. Best is trial 53 with value: 0.3204332782301434.\n",
      "[I 2024-06-17 22:26:43,605] Trial 148 finished with value: 0.23995021578588382 and parameters: {'n_clusters': 75, 'linkage': 'ward'}. Best is trial 53 with value: 0.3204332782301434.\n",
      "[I 2024-06-17 22:26:43,666] Trial 149 finished with value: -0.07753448991406102 and parameters: {'n_clusters': 57, 'linkage': 'single'}. Best is trial 53 with value: 0.3204332782301434.\n",
      "[I 2024-06-17 22:26:43,721] Trial 150 finished with value: 0.22590420165997852 and parameters: {'n_clusters': 47, 'linkage': 'ward'}. Best is trial 53 with value: 0.3204332782301434.\n",
      "[I 2024-06-17 22:26:43,784] Trial 151 finished with value: 0.23407030327917897 and parameters: {'n_clusters': 60, 'linkage': 'ward'}. Best is trial 53 with value: 0.3204332782301434.\n",
      "[I 2024-06-17 22:26:43,855] Trial 152 finished with value: 0.1830989374674115 and parameters: {'n_clusters': 55, 'linkage': 'complete'}. Best is trial 53 with value: 0.3204332782301434.\n",
      "[I 2024-06-17 22:26:43,946] Trial 153 finished with value: 0.21029420080680658 and parameters: {'n_clusters': 91, 'linkage': 'complete'}. Best is trial 53 with value: 0.3204332782301434.\n",
      "[I 2024-06-17 22:26:44,019] Trial 154 finished with value: 0.19986047010366845 and parameters: {'n_clusters': 69, 'linkage': 'average'}. Best is trial 53 with value: 0.3204332782301434.\n",
      "[I 2024-06-17 22:26:44,084] Trial 155 finished with value: -0.05960595120726147 and parameters: {'n_clusters': 92, 'linkage': 'single'}. Best is trial 53 with value: 0.3204332782301434.\n",
      "[I 2024-06-17 22:26:44,145] Trial 156 finished with value: 0.22276180456553146 and parameters: {'n_clusters': 121, 'linkage': 'average'}. Best is trial 53 with value: 0.3204332782301434.\n",
      "[I 2024-06-17 22:26:44,204] Trial 157 finished with value: 0.17062847079327287 and parameters: {'n_clusters': 10, 'linkage': 'ward'}. Best is trial 53 with value: 0.3204332782301434.\n",
      "[I 2024-06-17 22:26:44,262] Trial 158 finished with value: 0.2205641363735282 and parameters: {'n_clusters': 125, 'linkage': 'complete'}. Best is trial 53 with value: 0.3204332782301434.\n",
      "[I 2024-06-17 22:26:44,319] Trial 159 finished with value: 0.19299700592044125 and parameters: {'n_clusters': 32, 'linkage': 'ward'}. Best is trial 53 with value: 0.3204332782301434.\n",
      "[I 2024-06-17 22:26:44,400] Trial 160 finished with value: 0.27711623382901307 and parameters: {'n_clusters': 110, 'linkage': 'ward'}. Best is trial 53 with value: 0.3204332782301434.\n",
      "[I 2024-06-17 22:26:44,459] Trial 161 finished with value: 0.20569809787015683 and parameters: {'n_clusters': 80, 'linkage': 'complete'}. Best is trial 53 with value: 0.3204332782301434.\n",
      "[I 2024-06-17 22:26:44,520] Trial 162 finished with value: 0.05384456515506293 and parameters: {'n_clusters': 148, 'linkage': 'single'}. Best is trial 53 with value: 0.3204332782301434.\n",
      "[I 2024-06-17 22:26:44,581] Trial 163 finished with value: 0.19890053387823367 and parameters: {'n_clusters': 73, 'linkage': 'average'}. Best is trial 53 with value: 0.3204332782301434.\n",
      "[I 2024-06-17 22:26:44,646] Trial 164 finished with value: -0.05556656269236455 and parameters: {'n_clusters': 65, 'linkage': 'single'}. Best is trial 53 with value: 0.3204332782301434.\n",
      "[I 2024-06-17 22:26:44,705] Trial 165 finished with value: 0.2163785258642579 and parameters: {'n_clusters': 112, 'linkage': 'complete'}. Best is trial 53 with value: 0.3204332782301434.\n",
      "[I 2024-06-17 22:26:44,770] Trial 166 finished with value: -0.03108042258707473 and parameters: {'n_clusters': 119, 'linkage': 'single'}. Best is trial 53 with value: 0.3204332782301434.\n",
      "[I 2024-06-17 22:26:44,830] Trial 167 finished with value: 0.2383516863963981 and parameters: {'n_clusters': 139, 'linkage': 'average'}. Best is trial 53 with value: 0.3204332782301434.\n",
      "[I 2024-06-17 22:26:44,893] Trial 168 finished with value: 0.2732319034268592 and parameters: {'n_clusters': 105, 'linkage': 'ward'}. Best is trial 53 with value: 0.3204332782301434.\n",
      "[I 2024-06-17 22:26:44,958] Trial 169 finished with value: 0.08484921195324115 and parameters: {'n_clusters': 130, 'linkage': 'single'}. Best is trial 53 with value: 0.3204332782301434.\n",
      "[I 2024-06-17 22:26:45,018] Trial 170 finished with value: 0.19138666209641597 and parameters: {'n_clusters': 49, 'linkage': 'average'}. Best is trial 53 with value: 0.3204332782301434.\n",
      "[I 2024-06-17 22:26:45,083] Trial 171 finished with value: -0.011608217066892655 and parameters: {'n_clusters': 99, 'linkage': 'single'}. Best is trial 53 with value: 0.3204332782301434.\n",
      "[I 2024-06-17 22:26:45,146] Trial 172 finished with value: 0.14670480341016381 and parameters: {'n_clusters': 42, 'linkage': 'average'}. Best is trial 53 with value: 0.3204332782301434.\n",
      "[I 2024-06-17 22:26:45,208] Trial 173 finished with value: 0.2405955833588235 and parameters: {'n_clusters': 77, 'linkage': 'ward'}. Best is trial 53 with value: 0.3204332782301434.\n",
      "[I 2024-06-17 22:26:45,270] Trial 174 finished with value: 0.26361667359163005 and parameters: {'n_clusters': 100, 'linkage': 'ward'}. Best is trial 53 with value: 0.3204332782301434.\n",
      "[I 2024-06-17 22:26:45,330] Trial 175 finished with value: 0.1706689810230835 and parameters: {'n_clusters': 12, 'linkage': 'complete'}. Best is trial 53 with value: 0.3204332782301434.\n",
      "[I 2024-06-17 22:26:45,393] Trial 176 finished with value: 0.23812647915950066 and parameters: {'n_clusters': 73, 'linkage': 'ward'}. Best is trial 53 with value: 0.3204332782301434.\n",
      "[I 2024-06-17 22:26:45,453] Trial 177 finished with value: 0.1960773087240788 and parameters: {'n_clusters': 60, 'linkage': 'complete'}. Best is trial 53 with value: 0.3204332782301434.\n",
      "[I 2024-06-17 22:26:45,517] Trial 178 finished with value: -0.015198055476582182 and parameters: {'n_clusters': 35, 'linkage': 'single'}. Best is trial 53 with value: 0.3204332782301434.\n",
      "[I 2024-06-17 22:26:45,576] Trial 179 finished with value: 0.21857559022020456 and parameters: {'n_clusters': 119, 'linkage': 'average'}. Best is trial 53 with value: 0.3204332782301434.\n",
      "[I 2024-06-17 22:26:45,651] Trial 180 finished with value: 0.21857403123522165 and parameters: {'n_clusters': 102, 'linkage': 'average'}. Best is trial 53 with value: 0.3204332782301434.\n",
      "[I 2024-06-17 22:26:45,721] Trial 181 finished with value: 0.259008820188013 and parameters: {'n_clusters': 95, 'linkage': 'ward'}. Best is trial 53 with value: 0.3204332782301434.\n",
      "[I 2024-06-17 22:26:45,787] Trial 182 finished with value: 0.2396814593198889 and parameters: {'n_clusters': 130, 'linkage': 'average'}. Best is trial 53 with value: 0.3204332782301434.\n",
      "[I 2024-06-17 22:26:45,853] Trial 183 finished with value: 0.17534479171586276 and parameters: {'n_clusters': 46, 'linkage': 'average'}. Best is trial 53 with value: 0.3204332782301434.\n",
      "[I 2024-06-17 22:26:45,916] Trial 184 finished with value: 0.1598661682801904 and parameters: {'n_clusters': 30, 'linkage': 'complete'}. Best is trial 53 with value: 0.3204332782301434.\n",
      "[I 2024-06-17 22:26:45,990] Trial 185 finished with value: 0.31473768706155214 and parameters: {'n_clusters': 138, 'linkage': 'ward'}. Best is trial 53 with value: 0.3204332782301434.\n",
      "[I 2024-06-17 22:26:46,065] Trial 186 finished with value: 0.1981129477494152 and parameters: {'n_clusters': 71, 'linkage': 'average'}. Best is trial 53 with value: 0.3204332782301434.\n",
      "[I 2024-06-17 22:26:46,135] Trial 187 finished with value: 0.08495517697536205 and parameters: {'n_clusters': 131, 'linkage': 'single'}. Best is trial 53 with value: 0.3204332782301434.\n",
      "[I 2024-06-17 22:26:46,198] Trial 188 finished with value: 0.19965022171261804 and parameters: {'n_clusters': 68, 'linkage': 'average'}. Best is trial 53 with value: 0.3204332782301434.\n",
      "[I 2024-06-17 22:26:46,260] Trial 189 finished with value: 0.23862257607943446 and parameters: {'n_clusters': 140, 'linkage': 'average'}. Best is trial 53 with value: 0.3204332782301434.\n",
      "[I 2024-06-17 22:26:46,322] Trial 190 finished with value: 0.18291403053577054 and parameters: {'n_clusters': 20, 'linkage': 'ward'}. Best is trial 53 with value: 0.3204332782301434.\n",
      "[I 2024-06-17 22:26:46,394] Trial 191 finished with value: 0.2452069856918441 and parameters: {'n_clusters': 79, 'linkage': 'ward'}. Best is trial 53 with value: 0.3204332782301434.\n",
      "[I 2024-06-17 22:26:46,462] Trial 192 finished with value: 0.23545274163784508 and parameters: {'n_clusters': 128, 'linkage': 'average'}. Best is trial 53 with value: 0.3204332782301434.\n",
      "[I 2024-06-17 22:26:46,530] Trial 193 finished with value: 0.29770322107144354 and parameters: {'n_clusters': 10, 'linkage': 'average'}. Best is trial 53 with value: 0.3204332782301434.\n",
      "[I 2024-06-17 22:26:46,593] Trial 194 finished with value: 0.22506074047177663 and parameters: {'n_clusters': 112, 'linkage': 'average'}. Best is trial 53 with value: 0.3204332782301434.\n",
      "[I 2024-06-17 22:26:46,669] Trial 195 finished with value: -0.029099277066885077 and parameters: {'n_clusters': 54, 'linkage': 'single'}. Best is trial 53 with value: 0.3204332782301434.\n",
      "[I 2024-06-17 22:26:46,736] Trial 196 finished with value: 0.23928187369321935 and parameters: {'n_clusters': 133, 'linkage': 'average'}. Best is trial 53 with value: 0.3204332782301434.\n",
      "[I 2024-06-17 22:26:46,808] Trial 197 finished with value: 0.22380660507267977 and parameters: {'n_clusters': 114, 'linkage': 'average'}. Best is trial 53 with value: 0.3204332782301434.\n",
      "[I 2024-06-17 22:26:46,968] Trial 198 finished with value: 0.19974693370091323 and parameters: {'n_clusters': 67, 'linkage': 'average'}. Best is trial 53 with value: 0.3204332782301434.\n",
      "[I 2024-06-17 22:26:47,044] Trial 199 finished with value: 0.23863587248186907 and parameters: {'n_clusters': 132, 'linkage': 'average'}. Best is trial 53 with value: 0.3204332782301434.\n",
      "[I 2024-06-17 22:26:47,117] Trial 200 finished with value: -0.01786090050235381 and parameters: {'n_clusters': 37, 'linkage': 'single'}. Best is trial 53 with value: 0.3204332782301434.\n",
      "[I 2024-06-17 22:26:47,190] Trial 201 finished with value: -0.012385366737670734 and parameters: {'n_clusters': 103, 'linkage': 'single'}. Best is trial 53 with value: 0.3204332782301434.\n",
      "[I 2024-06-17 22:26:47,263] Trial 202 finished with value: -0.02832599195324681 and parameters: {'n_clusters': 48, 'linkage': 'single'}. Best is trial 53 with value: 0.3204332782301434.\n",
      "[I 2024-06-17 22:26:47,363] Trial 203 finished with value: 0.15856059367953346 and parameters: {'n_clusters': 35, 'linkage': 'complete'}. Best is trial 53 with value: 0.3204332782301434.\n",
      "[I 2024-06-17 22:26:47,455] Trial 204 finished with value: 0.1341021376087075 and parameters: {'n_clusters': 28, 'linkage': 'complete'}. Best is trial 53 with value: 0.3204332782301434.\n",
      "[I 2024-06-17 22:26:47,532] Trial 205 finished with value: -0.01102337235064867 and parameters: {'n_clusters': 105, 'linkage': 'single'}. Best is trial 53 with value: 0.3204332782301434.\n",
      "[I 2024-06-17 22:26:47,602] Trial 206 finished with value: 0.23036390690771108 and parameters: {'n_clusters': 147, 'linkage': 'complete'}. Best is trial 53 with value: 0.3204332782301434.\n",
      "[I 2024-06-17 22:26:47,668] Trial 207 finished with value: 0.20440126686475438 and parameters: {'n_clusters': 79, 'linkage': 'complete'}. Best is trial 53 with value: 0.3204332782301434.\n",
      "[I 2024-06-17 22:26:47,736] Trial 208 finished with value: 0.32244836125274445 and parameters: {'n_clusters': 147, 'linkage': 'ward'}. Best is trial 208 with value: 0.32244836125274445.\n",
      "[I 2024-06-17 22:26:47,806] Trial 209 finished with value: -0.010835928868282487 and parameters: {'n_clusters': 108, 'linkage': 'single'}. Best is trial 208 with value: 0.32244836125274445.\n",
      "[I 2024-06-17 22:26:47,873] Trial 210 finished with value: 0.31859227356939174 and parameters: {'n_clusters': 141, 'linkage': 'ward'}. Best is trial 208 with value: 0.32244836125274445.\n",
      "[I 2024-06-17 22:26:47,937] Trial 211 finished with value: 0.21661623689564757 and parameters: {'n_clusters': 118, 'linkage': 'complete'}. Best is trial 208 with value: 0.32244836125274445.\n",
      "[I 2024-06-17 22:26:48,001] Trial 212 finished with value: 0.17190663432093317 and parameters: {'n_clusters': 17, 'linkage': 'ward'}. Best is trial 208 with value: 0.32244836125274445.\n",
      "[I 2024-06-17 22:26:48,074] Trial 213 finished with value: 0.19256075931716835 and parameters: {'n_clusters': 19, 'linkage': 'average'}. Best is trial 208 with value: 0.32244836125274445.\n",
      "[I 2024-06-17 22:26:48,155] Trial 214 finished with value: 0.21968558402008234 and parameters: {'n_clusters': 103, 'linkage': 'average'}. Best is trial 208 with value: 0.32244836125274445.\n",
      "[I 2024-06-17 22:26:48,237] Trial 215 finished with value: 0.1594277565592223 and parameters: {'n_clusters': 31, 'linkage': 'complete'}. Best is trial 208 with value: 0.32244836125274445.\n",
      "[I 2024-06-17 22:26:48,312] Trial 216 finished with value: 0.19365889500071226 and parameters: {'n_clusters': 28, 'linkage': 'ward'}. Best is trial 208 with value: 0.32244836125274445.\n",
      "[I 2024-06-17 22:26:48,383] Trial 217 finished with value: -0.0306907625046489 and parameters: {'n_clusters': 115, 'linkage': 'single'}. Best is trial 208 with value: 0.32244836125274445.\n",
      "[I 2024-06-17 22:26:48,451] Trial 218 finished with value: 0.15837835265277778 and parameters: {'n_clusters': 33, 'linkage': 'complete'}. Best is trial 208 with value: 0.32244836125274445.\n",
      "[I 2024-06-17 22:26:48,517] Trial 219 finished with value: 0.16645591861907544 and parameters: {'n_clusters': 39, 'linkage': 'complete'}. Best is trial 208 with value: 0.32244836125274445.\n",
      "[I 2024-06-17 22:26:48,585] Trial 220 finished with value: 0.13771321527911334 and parameters: {'n_clusters': 29, 'linkage': 'average'}. Best is trial 208 with value: 0.32244836125274445.\n",
      "[I 2024-06-17 22:26:48,655] Trial 221 finished with value: -0.059668341456311925 and parameters: {'n_clusters': 93, 'linkage': 'single'}. Best is trial 208 with value: 0.32244836125274445.\n",
      "[I 2024-06-17 22:26:48,721] Trial 222 finished with value: 0.27430650216838615 and parameters: {'n_clusters': 106, 'linkage': 'ward'}. Best is trial 208 with value: 0.32244836125274445.\n",
      "[I 2024-06-17 22:26:48,787] Trial 223 finished with value: 0.23777033103131473 and parameters: {'n_clusters': 71, 'linkage': 'ward'}. Best is trial 208 with value: 0.32244836125274445.\n",
      "[I 2024-06-17 22:26:48,853] Trial 224 finished with value: 0.21149809674918857 and parameters: {'n_clusters': 88, 'linkage': 'complete'}. Best is trial 208 with value: 0.32244836125274445.\n",
      "[I 2024-06-17 22:26:48,919] Trial 225 finished with value: 0.2193445555509662 and parameters: {'n_clusters': 137, 'linkage': 'complete'}. Best is trial 208 with value: 0.32244836125274445.\n",
      "[I 2024-06-17 22:26:48,985] Trial 226 finished with value: 0.19512227500396093 and parameters: {'n_clusters': 57, 'linkage': 'complete'}. Best is trial 208 with value: 0.32244836125274445.\n",
      "[I 2024-06-17 22:26:49,052] Trial 227 finished with value: 0.19863394357192318 and parameters: {'n_clusters': 72, 'linkage': 'average'}. Best is trial 208 with value: 0.32244836125274445.\n",
      "[I 2024-06-17 22:26:49,119] Trial 228 finished with value: 0.29217657249856216 and parameters: {'n_clusters': 119, 'linkage': 'ward'}. Best is trial 208 with value: 0.32244836125274445.\n",
      "[I 2024-06-17 22:26:49,187] Trial 229 finished with value: 0.3155947140978419 and parameters: {'n_clusters': 139, 'linkage': 'ward'}. Best is trial 208 with value: 0.32244836125274445.\n",
      "[I 2024-06-17 22:26:49,279] Trial 230 finished with value: 0.3192955435894072 and parameters: {'n_clusters': 145, 'linkage': 'ward'}. Best is trial 208 with value: 0.32244836125274445.\n",
      "[I 2024-06-17 22:26:49,349] Trial 231 finished with value: 0.0425820230710882 and parameters: {'n_clusters': 149, 'linkage': 'single'}. Best is trial 208 with value: 0.32244836125274445.\n",
      "[I 2024-06-17 22:26:49,418] Trial 232 finished with value: 0.21763449032666557 and parameters: {'n_clusters': 115, 'linkage': 'complete'}. Best is trial 208 with value: 0.32244836125274445.\n",
      "[I 2024-06-17 22:26:49,485] Trial 233 finished with value: 0.20088251312402894 and parameters: {'n_clusters': 75, 'linkage': 'complete'}. Best is trial 208 with value: 0.32244836125274445.\n",
      "[I 2024-06-17 22:26:49,553] Trial 234 finished with value: 0.17207909205329164 and parameters: {'n_clusters': 41, 'linkage': 'complete'}. Best is trial 208 with value: 0.32244836125274445.\n",
      "[I 2024-06-17 22:26:49,622] Trial 235 finished with value: 0.17100480884070085 and parameters: {'n_clusters': 20, 'linkage': 'complete'}. Best is trial 208 with value: 0.32244836125274445.\n",
      "[I 2024-06-17 22:26:49,694] Trial 236 finished with value: -0.05135152870340017 and parameters: {'n_clusters': 88, 'linkage': 'single'}. Best is trial 208 with value: 0.32244836125274445.\n",
      "[I 2024-06-17 22:26:49,767] Trial 237 finished with value: -0.02591153654877353 and parameters: {'n_clusters': 111, 'linkage': 'single'}. Best is trial 208 with value: 0.32244836125274445.\n",
      "[I 2024-06-17 22:26:49,837] Trial 238 finished with value: 0.142549778957606 and parameters: {'n_clusters': 10, 'linkage': 'complete'}. Best is trial 208 with value: 0.32244836125274445.\n",
      "[I 2024-06-17 22:26:49,907] Trial 239 finished with value: 0.06651963949212174 and parameters: {'n_clusters': 135, 'linkage': 'single'}. Best is trial 208 with value: 0.32244836125274445.\n",
      "[I 2024-06-17 22:26:49,980] Trial 240 finished with value: -0.048559057897969375 and parameters: {'n_clusters': 62, 'linkage': 'single'}. Best is trial 208 with value: 0.32244836125274445.\n",
      "[I 2024-06-17 22:26:50,051] Trial 241 finished with value: 0.212006762052661 and parameters: {'n_clusters': 17, 'linkage': 'average'}. Best is trial 208 with value: 0.32244836125274445.\n",
      "[I 2024-06-17 22:26:50,124] Trial 242 finished with value: -0.0329545699730839 and parameters: {'n_clusters': 118, 'linkage': 'single'}. Best is trial 208 with value: 0.32244836125274445.\n",
      "[I 2024-06-17 22:26:50,195] Trial 243 finished with value: 0.17527818052814975 and parameters: {'n_clusters': 45, 'linkage': 'complete'}. Best is trial 208 with value: 0.32244836125274445.\n",
      "[I 2024-06-17 22:26:50,266] Trial 244 finished with value: 0.295751671966386 and parameters: {'n_clusters': 127, 'linkage': 'ward'}. Best is trial 208 with value: 0.32244836125274445.\n",
      "[I 2024-06-17 22:26:50,335] Trial 245 finished with value: 0.1796021103542218 and parameters: {'n_clusters': 51, 'linkage': 'complete'}. Best is trial 208 with value: 0.32244836125274445.\n",
      "[I 2024-06-17 22:26:50,407] Trial 246 finished with value: 0.03339151492616131 and parameters: {'n_clusters': 124, 'linkage': 'single'}. Best is trial 208 with value: 0.32244836125274445.\n",
      "[I 2024-06-17 22:26:50,477] Trial 247 finished with value: 0.21696980940624003 and parameters: {'n_clusters': 40, 'linkage': 'ward'}. Best is trial 208 with value: 0.32244836125274445.\n",
      "[I 2024-06-17 22:26:50,549] Trial 248 finished with value: 0.24284616181657162 and parameters: {'n_clusters': 141, 'linkage': 'average'}. Best is trial 208 with value: 0.32244836125274445.\n",
      "[I 2024-06-17 22:26:50,625] Trial 249 finished with value: 0.26987093777448085 and parameters: {'n_clusters': 103, 'linkage': 'ward'}. Best is trial 208 with value: 0.32244836125274445.\n",
      "[I 2024-06-17 22:26:50,698] Trial 250 finished with value: 0.05695767553871481 and parameters: {'n_clusters': 138, 'linkage': 'single'}. Best is trial 208 with value: 0.32244836125274445.\n",
      "[I 2024-06-17 22:26:50,768] Trial 251 finished with value: 0.21095040426466705 and parameters: {'n_clusters': 85, 'linkage': 'average'}. Best is trial 208 with value: 0.32244836125274445.\n",
      "[I 2024-06-17 22:26:50,839] Trial 252 finished with value: 0.21857661382519195 and parameters: {'n_clusters': 136, 'linkage': 'complete'}. Best is trial 208 with value: 0.32244836125274445.\n",
      "[I 2024-06-17 22:26:50,912] Trial 253 finished with value: 0.1438018234925794 and parameters: {'n_clusters': 27, 'linkage': 'average'}. Best is trial 208 with value: 0.32244836125274445.\n",
      "[I 2024-06-17 22:26:50,984] Trial 254 finished with value: 0.27599883146584253 and parameters: {'n_clusters': 109, 'linkage': 'ward'}. Best is trial 208 with value: 0.32244836125274445.\n",
      "[I 2024-06-17 22:26:51,055] Trial 255 finished with value: 0.2036349425890777 and parameters: {'n_clusters': 60, 'linkage': 'average'}. Best is trial 208 with value: 0.32244836125274445.\n",
      "[I 2024-06-17 22:26:51,126] Trial 256 finished with value: 0.23213887647830417 and parameters: {'n_clusters': 55, 'linkage': 'ward'}. Best is trial 208 with value: 0.32244836125274445.\n",
      "[I 2024-06-17 22:26:51,202] Trial 257 finished with value: 0.1434740245937899 and parameters: {'n_clusters': 28, 'linkage': 'average'}. Best is trial 208 with value: 0.32244836125274445.\n",
      "[I 2024-06-17 22:26:51,273] Trial 258 finished with value: 0.22310120709854364 and parameters: {'n_clusters': 110, 'linkage': 'average'}. Best is trial 208 with value: 0.32244836125274445.\n",
      "[I 2024-06-17 22:26:51,345] Trial 259 finished with value: 0.23205902148315238 and parameters: {'n_clusters': 52, 'linkage': 'ward'}. Best is trial 208 with value: 0.32244836125274445.\n",
      "[I 2024-06-17 22:26:51,422] Trial 260 finished with value: 0.15238336343754627 and parameters: {'n_clusters': 26, 'linkage': 'average'}. Best is trial 208 with value: 0.32244836125274445.\n",
      "[I 2024-06-17 22:26:51,497] Trial 261 finished with value: 0.21973193981664024 and parameters: {'n_clusters': 110, 'linkage': 'complete'}. Best is trial 208 with value: 0.32244836125274445.\n",
      "[I 2024-06-17 22:26:51,575] Trial 262 finished with value: -0.026424248793092835 and parameters: {'n_clusters': 52, 'linkage': 'single'}. Best is trial 208 with value: 0.32244836125274445.\n",
      "[I 2024-06-17 22:26:51,654] Trial 263 finished with value: -0.02893637927964708 and parameters: {'n_clusters': 50, 'linkage': 'single'}. Best is trial 208 with value: 0.32244836125274445.\n",
      "[I 2024-06-17 22:26:51,731] Trial 264 finished with value: 0.27767761146435527 and parameters: {'n_clusters': 16, 'linkage': 'average'}. Best is trial 208 with value: 0.32244836125274445.\n",
      "[I 2024-06-17 22:26:51,807] Trial 265 finished with value: 0.16911780885450106 and parameters: {'n_clusters': 32, 'linkage': 'average'}. Best is trial 208 with value: 0.32244836125274445.\n",
      "[I 2024-06-17 22:26:51,883] Trial 266 finished with value: 0.1777082321449848 and parameters: {'n_clusters': 33, 'linkage': 'average'}. Best is trial 208 with value: 0.32244836125274445.\n",
      "[I 2024-06-17 22:26:51,957] Trial 267 finished with value: 0.18107402893566493 and parameters: {'n_clusters': 14, 'linkage': 'ward'}. Best is trial 208 with value: 0.32244836125274445.\n",
      "[I 2024-06-17 22:26:52,032] Trial 268 finished with value: 0.17517881267913998 and parameters: {'n_clusters': 42, 'linkage': 'complete'}. Best is trial 208 with value: 0.32244836125274445.\n",
      "[I 2024-06-17 22:26:52,108] Trial 269 finished with value: 0.17673537708817277 and parameters: {'n_clusters': 35, 'linkage': 'average'}. Best is trial 208 with value: 0.32244836125274445.\n",
      "[I 2024-06-17 22:26:52,184] Trial 270 finished with value: 0.3044219404738925 and parameters: {'n_clusters': 133, 'linkage': 'ward'}. Best is trial 208 with value: 0.32244836125274445.\n",
      "[I 2024-06-17 22:26:52,258] Trial 271 finished with value: 0.2234907963314824 and parameters: {'n_clusters': 108, 'linkage': 'average'}. Best is trial 208 with value: 0.32244836125274445.\n",
      "[I 2024-06-17 22:26:52,335] Trial 272 finished with value: 0.21046785689319697 and parameters: {'n_clusters': 101, 'linkage': 'complete'}. Best is trial 208 with value: 0.32244836125274445.\n",
      "[I 2024-06-17 22:26:52,428] Trial 273 finished with value: 0.21398164022541366 and parameters: {'n_clusters': 90, 'linkage': 'average'}. Best is trial 208 with value: 0.32244836125274445.\n",
      "[I 2024-06-17 22:26:52,520] Trial 274 finished with value: 0.21465578928808468 and parameters: {'n_clusters': 122, 'linkage': 'complete'}. Best is trial 208 with value: 0.32244836125274445.\n",
      "[I 2024-06-17 22:26:52,604] Trial 275 finished with value: -0.01221085869683865 and parameters: {'n_clusters': 102, 'linkage': 'single'}. Best is trial 208 with value: 0.32244836125274445.\n",
      "[I 2024-06-17 22:26:52,682] Trial 276 finished with value: 0.2354443546476447 and parameters: {'n_clusters': 150, 'linkage': 'average'}. Best is trial 208 with value: 0.32244836125274445.\n",
      "[I 2024-06-17 22:26:52,757] Trial 277 finished with value: 0.17321889728896364 and parameters: {'n_clusters': 13, 'linkage': 'ward'}. Best is trial 208 with value: 0.32244836125274445.\n",
      "[I 2024-06-17 22:26:52,891] Trial 278 finished with value: -0.06104161517543078 and parameters: {'n_clusters': 91, 'linkage': 'single'}. Best is trial 208 with value: 0.32244836125274445.\n",
      "[I 2024-06-17 22:26:53,011] Trial 279 finished with value: 0.21821868643207368 and parameters: {'n_clusters': 81, 'linkage': 'average'}. Best is trial 208 with value: 0.32244836125274445.\n",
      "[I 2024-06-17 22:26:53,093] Trial 280 finished with value: -0.03412415043821867 and parameters: {'n_clusters': 117, 'linkage': 'single'}. Best is trial 208 with value: 0.32244836125274445.\n",
      "[I 2024-06-17 22:26:53,169] Trial 281 finished with value: 0.215222428099377 and parameters: {'n_clusters': 82, 'linkage': 'average'}. Best is trial 208 with value: 0.32244836125274445.\n",
      "[I 2024-06-17 22:26:53,245] Trial 282 finished with value: 0.19781389307263358 and parameters: {'n_clusters': 59, 'linkage': 'complete'}. Best is trial 208 with value: 0.32244836125274445.\n",
      "[I 2024-06-17 22:26:53,323] Trial 283 finished with value: 0.26190027728624604 and parameters: {'n_clusters': 98, 'linkage': 'ward'}. Best is trial 208 with value: 0.32244836125274445.\n",
      "[I 2024-06-17 22:26:53,401] Trial 284 finished with value: 0.1735660966429939 and parameters: {'n_clusters': 14, 'linkage': 'complete'}. Best is trial 208 with value: 0.32244836125274445.\n",
      "[I 2024-06-17 22:26:53,478] Trial 285 finished with value: 0.19889951184034568 and parameters: {'n_clusters': 71, 'linkage': 'complete'}. Best is trial 208 with value: 0.32244836125274445.\n",
      "[I 2024-06-17 22:26:53,558] Trial 286 finished with value: -0.03350219766005385 and parameters: {'n_clusters': 116, 'linkage': 'single'}. Best is trial 208 with value: 0.32244836125274445.\n",
      "[I 2024-06-17 22:26:53,636] Trial 287 finished with value: 0.18203263689703747 and parameters: {'n_clusters': 19, 'linkage': 'ward'}. Best is trial 208 with value: 0.32244836125274445.\n",
      "[I 2024-06-17 22:26:53,716] Trial 288 finished with value: -0.0381038420406311 and parameters: {'n_clusters': 70, 'linkage': 'single'}. Best is trial 208 with value: 0.32244836125274445.\n",
      "[I 2024-06-17 22:26:53,796] Trial 289 finished with value: 0.132459532774763 and parameters: {'n_clusters': 30, 'linkage': 'average'}. Best is trial 208 with value: 0.32244836125274445.\n",
      "[I 2024-06-17 22:26:53,910] Trial 290 finished with value: 0.23625269589857809 and parameters: {'n_clusters': 68, 'linkage': 'ward'}. Best is trial 208 with value: 0.32244836125274445.\n",
      "[I 2024-06-17 22:26:53,995] Trial 291 finished with value: 0.09841825566449645 and parameters: {'n_clusters': 30, 'linkage': 'single'}. Best is trial 208 with value: 0.32244836125274445.\n",
      "[I 2024-06-17 22:26:54,079] Trial 292 finished with value: 0.26287598243004184 and parameters: {'n_clusters': 97, 'linkage': 'ward'}. Best is trial 208 with value: 0.32244836125274445.\n",
      "[I 2024-06-17 22:26:54,156] Trial 293 finished with value: 0.275968598242969 and parameters: {'n_clusters': 108, 'linkage': 'ward'}. Best is trial 208 with value: 0.32244836125274445.\n",
      "[I 2024-06-17 22:26:54,234] Trial 294 finished with value: 0.30635437868485926 and parameters: {'n_clusters': 134, 'linkage': 'ward'}. Best is trial 208 with value: 0.32244836125274445.\n",
      "[I 2024-06-17 22:26:54,313] Trial 295 finished with value: 0.20412988721406672 and parameters: {'n_clusters': 72, 'linkage': 'complete'}. Best is trial 208 with value: 0.32244836125274445.\n",
      "[I 2024-06-17 22:26:54,397] Trial 296 finished with value: -0.04034503810837412 and parameters: {'n_clusters': 77, 'linkage': 'single'}. Best is trial 208 with value: 0.32244836125274445.\n",
      "[I 2024-06-17 22:26:54,478] Trial 297 finished with value: 0.28109755907148515 and parameters: {'n_clusters': 12, 'linkage': 'average'}. Best is trial 208 with value: 0.32244836125274445.\n",
      "[I 2024-06-17 22:26:54,556] Trial 298 finished with value: 0.23172676949173843 and parameters: {'n_clusters': 146, 'linkage': 'complete'}. Best is trial 208 with value: 0.32244836125274445.\n",
      "[I 2024-06-17 22:26:54,634] Trial 299 finished with value: 0.21982110245597525 and parameters: {'n_clusters': 100, 'linkage': 'average'}. Best is trial 208 with value: 0.32244836125274445.\n",
      "[I 2024-06-17 22:26:54,718] Trial 300 finished with value: 0.25859259445657895 and parameters: {'n_clusters': 94, 'linkage': 'ward'}. Best is trial 208 with value: 0.32244836125274445.\n",
      "[I 2024-06-17 22:26:54,800] Trial 301 finished with value: 0.1969249538839011 and parameters: {'n_clusters': 33, 'linkage': 'ward'}. Best is trial 208 with value: 0.32244836125274445.\n",
      "[I 2024-06-17 22:26:54,880] Trial 302 finished with value: 0.21707723787640332 and parameters: {'n_clusters': 131, 'linkage': 'complete'}. Best is trial 208 with value: 0.32244836125274445.\n",
      "[I 2024-06-17 22:26:54,959] Trial 303 finished with value: 0.2812530450803303 and parameters: {'n_clusters': 112, 'linkage': 'ward'}. Best is trial 208 with value: 0.32244836125274445.\n",
      "[I 2024-06-17 22:26:55,044] Trial 304 finished with value: -0.01793912162338043 and parameters: {'n_clusters': 38, 'linkage': 'single'}. Best is trial 208 with value: 0.32244836125274445.\n",
      "[I 2024-06-17 22:26:55,126] Trial 305 finished with value: 0.17548060771779475 and parameters: {'n_clusters': 16, 'linkage': 'ward'}. Best is trial 208 with value: 0.32244836125274445.\n",
      "[I 2024-06-17 22:26:55,206] Trial 306 finished with value: 0.2315208890931619 and parameters: {'n_clusters': 124, 'linkage': 'average'}. Best is trial 208 with value: 0.32244836125274445.\n",
      "[I 2024-06-17 22:26:55,284] Trial 307 finished with value: 0.22333931204345855 and parameters: {'n_clusters': 117, 'linkage': 'average'}. Best is trial 208 with value: 0.32244836125274445.\n",
      "[I 2024-06-17 22:26:55,368] Trial 308 finished with value: 0.09940559526410246 and parameters: {'n_clusters': 29, 'linkage': 'single'}. Best is trial 208 with value: 0.32244836125274445.\n",
      "[I 2024-06-17 22:26:55,447] Trial 309 finished with value: 0.19512325137619457 and parameters: {'n_clusters': 25, 'linkage': 'ward'}. Best is trial 208 with value: 0.32244836125274445.\n",
      "[I 2024-06-17 22:26:55,527] Trial 310 finished with value: 0.17559516911786277 and parameters: {'n_clusters': 48, 'linkage': 'average'}. Best is trial 208 with value: 0.32244836125274445.\n",
      "[I 2024-06-17 22:26:55,609] Trial 311 finished with value: 0.172875497349511 and parameters: {'n_clusters': 20, 'linkage': 'average'}. Best is trial 208 with value: 0.32244836125274445.\n",
      "[I 2024-06-17 22:26:55,693] Trial 312 finished with value: -0.010255366309576523 and parameters: {'n_clusters': 107, 'linkage': 'single'}. Best is trial 208 with value: 0.32244836125274445.\n",
      "[I 2024-06-17 22:26:55,806] Trial 313 finished with value: 0.3135194413313812 and parameters: {'n_clusters': 137, 'linkage': 'ward'}. Best is trial 208 with value: 0.32244836125274445.\n",
      "[I 2024-06-17 22:26:55,896] Trial 314 finished with value: -0.04303919984186019 and parameters: {'n_clusters': 82, 'linkage': 'single'}. Best is trial 208 with value: 0.32244836125274445.\n",
      "[I 2024-06-17 22:26:55,983] Trial 315 finished with value: 0.23896763872392793 and parameters: {'n_clusters': 74, 'linkage': 'ward'}. Best is trial 208 with value: 0.32244836125274445.\n",
      "[I 2024-06-17 22:26:56,067] Trial 316 finished with value: 0.1340623404182051 and parameters: {'n_clusters': 27, 'linkage': 'complete'}. Best is trial 208 with value: 0.32244836125274445.\n",
      "[I 2024-06-17 22:26:56,155] Trial 317 finished with value: -0.04665126023634104 and parameters: {'n_clusters': 78, 'linkage': 'single'}. Best is trial 208 with value: 0.32244836125274445.\n",
      "[I 2024-06-17 22:26:56,236] Trial 318 finished with value: 0.23043322818745202 and parameters: {'n_clusters': 142, 'linkage': 'complete'}. Best is trial 208 with value: 0.32244836125274445.\n",
      "[I 2024-06-17 22:26:56,318] Trial 319 finished with value: 0.30270205279644824 and parameters: {'n_clusters': 132, 'linkage': 'ward'}. Best is trial 208 with value: 0.32244836125274445.\n",
      "[I 2024-06-17 22:26:56,400] Trial 320 finished with value: 0.1372938828938944 and parameters: {'n_clusters': 24, 'linkage': 'complete'}. Best is trial 208 with value: 0.32244836125274445.\n",
      "[I 2024-06-17 22:26:56,480] Trial 321 finished with value: 0.2937783766463804 and parameters: {'n_clusters': 123, 'linkage': 'ward'}. Best is trial 208 with value: 0.32244836125274445.\n",
      "[I 2024-06-17 22:26:56,562] Trial 322 finished with value: 0.22484977768132305 and parameters: {'n_clusters': 111, 'linkage': 'average'}. Best is trial 208 with value: 0.32244836125274445.\n",
      "[I 2024-06-17 22:26:56,660] Trial 323 finished with value: 0.2968413542701591 and parameters: {'n_clusters': 11, 'linkage': 'single'}. Best is trial 208 with value: 0.32244836125274445.\n",
      "[I 2024-06-17 22:26:56,807] Trial 324 finished with value: 0.217138780585134 and parameters: {'n_clusters': 116, 'linkage': 'complete'}. Best is trial 208 with value: 0.32244836125274445.\n",
      "[I 2024-06-17 22:26:56,928] Trial 325 finished with value: 0.31792560911284873 and parameters: {'n_clusters': 140, 'linkage': 'ward'}. Best is trial 208 with value: 0.32244836125274445.\n",
      "[I 2024-06-17 22:26:57,020] Trial 326 finished with value: -0.041687724770178694 and parameters: {'n_clusters': 71, 'linkage': 'single'}. Best is trial 208 with value: 0.32244836125274445.\n",
      "[I 2024-06-17 22:26:57,105] Trial 327 finished with value: 0.08417562018430957 and parameters: {'n_clusters': 129, 'linkage': 'single'}. Best is trial 208 with value: 0.32244836125274445.\n",
      "[I 2024-06-17 22:26:57,190] Trial 328 finished with value: 0.056120185004067805 and parameters: {'n_clusters': 125, 'linkage': 'single'}. Best is trial 208 with value: 0.32244836125274445.\n",
      "[I 2024-06-17 22:26:57,273] Trial 329 finished with value: 0.2877109385071184 and parameters: {'n_clusters': 115, 'linkage': 'ward'}. Best is trial 208 with value: 0.32244836125274445.\n",
      "[I 2024-06-17 22:26:57,356] Trial 330 finished with value: 0.2667444430375785 and parameters: {'n_clusters': 102, 'linkage': 'ward'}. Best is trial 208 with value: 0.32244836125274445.\n",
      "[I 2024-06-17 22:26:57,439] Trial 331 finished with value: 0.23295247413137007 and parameters: {'n_clusters': 63, 'linkage': 'ward'}. Best is trial 208 with value: 0.32244836125274445.\n",
      "[I 2024-06-17 22:26:57,522] Trial 332 finished with value: 0.24322579763260063 and parameters: {'n_clusters': 82, 'linkage': 'ward'}. Best is trial 208 with value: 0.32244836125274445.\n",
      "[I 2024-06-17 22:26:57,605] Trial 333 finished with value: 0.19340598769463999 and parameters: {'n_clusters': 31, 'linkage': 'ward'}. Best is trial 208 with value: 0.32244836125274445.\n",
      "[I 2024-06-17 22:26:57,688] Trial 334 finished with value: 0.2360660325492277 and parameters: {'n_clusters': 66, 'linkage': 'ward'}. Best is trial 208 with value: 0.32244836125274445.\n",
      "[I 2024-06-17 22:26:57,772] Trial 335 finished with value: 0.1340719779948371 and parameters: {'n_clusters': 29, 'linkage': 'complete'}. Best is trial 208 with value: 0.32244836125274445.\n",
      "[I 2024-06-17 22:26:57,855] Trial 336 finished with value: 0.1954580408099718 and parameters: {'n_clusters': 23, 'linkage': 'ward'}. Best is trial 208 with value: 0.32244836125274445.\n",
      "[I 2024-06-17 22:26:57,939] Trial 337 finished with value: 0.23355261425585142 and parameters: {'n_clusters': 65, 'linkage': 'ward'}. Best is trial 208 with value: 0.32244836125274445.\n",
      "[I 2024-06-17 22:26:58,028] Trial 338 finished with value: -0.027474646795153157 and parameters: {'n_clusters': 60, 'linkage': 'single'}. Best is trial 208 with value: 0.32244836125274445.\n",
      "[I 2024-06-17 22:26:58,115] Trial 339 finished with value: 0.21609792581497625 and parameters: {'n_clusters': 121, 'linkage': 'complete'}. Best is trial 208 with value: 0.32244836125274445.\n",
      "[I 2024-06-17 22:26:58,200] Trial 340 finished with value: 0.1898778738544965 and parameters: {'n_clusters': 56, 'linkage': 'average'}. Best is trial 208 with value: 0.32244836125274445.\n",
      "[I 2024-06-17 22:26:58,285] Trial 341 finished with value: 0.19747723662392355 and parameters: {'n_clusters': 30, 'linkage': 'ward'}. Best is trial 208 with value: 0.32244836125274445.\n",
      "[I 2024-06-17 22:26:58,370] Trial 342 finished with value: 0.20819440215575902 and parameters: {'n_clusters': 105, 'linkage': 'complete'}. Best is trial 208 with value: 0.32244836125274445.\n",
      "[I 2024-06-17 22:26:58,455] Trial 343 finished with value: 0.21160672791670568 and parameters: {'n_clusters': 84, 'linkage': 'complete'}. Best is trial 208 with value: 0.32244836125274445.\n",
      "[I 2024-06-17 22:26:58,543] Trial 344 finished with value: 0.18123086299169006 and parameters: {'n_clusters': 58, 'linkage': 'average'}. Best is trial 208 with value: 0.32244836125274445.\n",
      "[I 2024-06-17 22:26:58,629] Trial 345 finished with value: 0.19065488150261264 and parameters: {'n_clusters': 55, 'linkage': 'average'}. Best is trial 208 with value: 0.32244836125274445.\n",
      "[I 2024-06-17 22:26:58,725] Trial 346 finished with value: -0.012572321264651473 and parameters: {'n_clusters': 110, 'linkage': 'single'}. Best is trial 208 with value: 0.32244836125274445.\n",
      "[I 2024-06-17 22:26:58,814] Trial 347 finished with value: 0.2110599949670471 and parameters: {'n_clusters': 103, 'linkage': 'complete'}. Best is trial 208 with value: 0.32244836125274445.\n",
      "[I 2024-06-17 22:26:58,903] Trial 348 finished with value: 0.25379924928737624 and parameters: {'n_clusters': 91, 'linkage': 'ward'}. Best is trial 208 with value: 0.32244836125274445.\n",
      "[I 2024-06-17 22:26:58,994] Trial 349 finished with value: 0.15830804059525255 and parameters: {'n_clusters': 23, 'linkage': 'single'}. Best is trial 208 with value: 0.32244836125274445.\n",
      "[I 2024-06-17 22:26:59,105] Trial 350 finished with value: 0.1973127735574832 and parameters: {'n_clusters': 61, 'linkage': 'complete'}. Best is trial 208 with value: 0.32244836125274445.\n",
      "[I 2024-06-17 22:26:59,204] Trial 351 finished with value: -0.07744379671214285 and parameters: {'n_clusters': 56, 'linkage': 'single'}. Best is trial 208 with value: 0.32244836125274445.\n",
      "[I 2024-06-17 22:26:59,299] Trial 352 finished with value: 0.21811303345371058 and parameters: {'n_clusters': 113, 'linkage': 'complete'}. Best is trial 208 with value: 0.32244836125274445.\n",
      "[I 2024-06-17 22:26:59,389] Trial 353 finished with value: 0.21451426194275772 and parameters: {'n_clusters': 124, 'linkage': 'complete'}. Best is trial 208 with value: 0.32244836125274445.\n",
      "[I 2024-06-17 22:26:59,479] Trial 354 finished with value: 0.21856440845928934 and parameters: {'n_clusters': 41, 'linkage': 'ward'}. Best is trial 208 with value: 0.32244836125274445.\n",
      "[I 2024-06-17 22:26:59,569] Trial 355 finished with value: 0.20293051887570973 and parameters: {'n_clusters': 77, 'linkage': 'complete'}. Best is trial 208 with value: 0.32244836125274445.\n",
      "[I 2024-06-17 22:26:59,657] Trial 356 finished with value: 0.17899463078516822 and parameters: {'n_clusters': 50, 'linkage': 'complete'}. Best is trial 208 with value: 0.32244836125274445.\n",
      "[I 2024-06-17 22:26:59,745] Trial 357 finished with value: 0.21742433299416355 and parameters: {'n_clusters': 87, 'linkage': 'average'}. Best is trial 208 with value: 0.32244836125274445.\n",
      "[I 2024-06-17 22:26:59,838] Trial 358 finished with value: 0.057930653157176 and parameters: {'n_clusters': 144, 'linkage': 'single'}. Best is trial 208 with value: 0.32244836125274445.\n",
      "[I 2024-06-17 22:26:59,930] Trial 359 finished with value: 0.21803623538816605 and parameters: {'n_clusters': 135, 'linkage': 'complete'}. Best is trial 208 with value: 0.32244836125274445.\n",
      "[I 2024-06-17 22:27:00,023] Trial 360 finished with value: -0.0458522774608297 and parameters: {'n_clusters': 80, 'linkage': 'single'}. Best is trial 208 with value: 0.32244836125274445.\n",
      "[I 2024-06-17 22:27:00,121] Trial 361 finished with value: 0.22843230086935593 and parameters: {'n_clusters': 50, 'linkage': 'ward'}. Best is trial 208 with value: 0.32244836125274445.\n",
      "[I 2024-06-17 22:27:00,211] Trial 362 finished with value: 0.08715589325953375 and parameters: {'n_clusters': 132, 'linkage': 'single'}. Best is trial 208 with value: 0.32244836125274445.\n",
      "[I 2024-06-17 22:27:00,302] Trial 363 finished with value: 0.055762663031431715 and parameters: {'n_clusters': 139, 'linkage': 'single'}. Best is trial 208 with value: 0.32244836125274445.\n",
      "[I 2024-06-17 22:27:00,391] Trial 364 finished with value: 0.1616616647540269 and parameters: {'n_clusters': 38, 'linkage': 'average'}. Best is trial 208 with value: 0.32244836125274445.\n",
      "[I 2024-06-17 22:27:00,479] Trial 365 finished with value: 0.20779382085131243 and parameters: {'n_clusters': 76, 'linkage': 'average'}. Best is trial 208 with value: 0.32244836125274445.\n",
      "[I 2024-06-17 22:27:00,572] Trial 366 finished with value: -0.025645909379488165 and parameters: {'n_clusters': 113, 'linkage': 'single'}. Best is trial 208 with value: 0.32244836125274445.\n",
      "[I 2024-06-17 22:27:00,662] Trial 367 finished with value: 0.19696221034056152 and parameters: {'n_clusters': 69, 'linkage': 'complete'}. Best is trial 208 with value: 0.32244836125274445.\n",
      "[I 2024-06-17 22:27:00,753] Trial 368 finished with value: 0.17034797456196832 and parameters: {'n_clusters': 19, 'linkage': 'complete'}. Best is trial 208 with value: 0.32244836125274445.\n",
      "[I 2024-06-17 22:27:00,847] Trial 369 finished with value: 0.127104066568751 and parameters: {'n_clusters': 25, 'linkage': 'single'}. Best is trial 208 with value: 0.32244836125274445.\n",
      "[I 2024-06-17 22:27:00,936] Trial 370 finished with value: 0.20763286128479477 and parameters: {'n_clusters': 107, 'linkage': 'complete'}. Best is trial 208 with value: 0.32244836125274445.\n",
      "[I 2024-06-17 22:27:01,034] Trial 371 finished with value: 0.19366691591765245 and parameters: {'n_clusters': 22, 'linkage': 'ward'}. Best is trial 208 with value: 0.32244836125274445.\n",
      "[I 2024-06-17 22:27:01,146] Trial 372 finished with value: 0.23451613748801167 and parameters: {'n_clusters': 127, 'linkage': 'average'}. Best is trial 208 with value: 0.32244836125274445.\n",
      "[I 2024-06-17 22:27:01,257] Trial 373 finished with value: -0.027445195588072496 and parameters: {'n_clusters': 85, 'linkage': 'single'}. Best is trial 208 with value: 0.32244836125274445.\n",
      "[I 2024-06-17 22:27:01,374] Trial 374 finished with value: 0.2568370064765212 and parameters: {'n_clusters': 92, 'linkage': 'ward'}. Best is trial 208 with value: 0.32244836125274445.\n",
      "[I 2024-06-17 22:27:01,466] Trial 375 finished with value: 0.21793808860346364 and parameters: {'n_clusters': 114, 'linkage': 'complete'}. Best is trial 208 with value: 0.32244836125274445.\n",
      "[I 2024-06-17 22:27:01,557] Trial 376 finished with value: 0.2919699728486304 and parameters: {'n_clusters': 121, 'linkage': 'ward'}. Best is trial 208 with value: 0.32244836125274445.\n",
      "[I 2024-06-17 22:27:01,647] Trial 377 finished with value: 0.2210258612737301 and parameters: {'n_clusters': 126, 'linkage': 'complete'}. Best is trial 208 with value: 0.32244836125274445.\n",
      "[I 2024-06-17 22:27:01,737] Trial 378 finished with value: 0.1860018540443145 and parameters: {'n_clusters': 21, 'linkage': 'ward'}. Best is trial 208 with value: 0.32244836125274445.\n",
      "[I 2024-06-17 22:27:01,854] Trial 379 finished with value: 0.24025057171969064 and parameters: {'n_clusters': 129, 'linkage': 'average'}. Best is trial 208 with value: 0.32244836125274445.\n",
      "[I 2024-06-17 22:27:01,968] Trial 380 finished with value: 0.16950777389951255 and parameters: {'n_clusters': 37, 'linkage': 'complete'}. Best is trial 208 with value: 0.32244836125274445.\n",
      "[I 2024-06-17 22:27:02,065] Trial 381 finished with value: 0.22164695368688062 and parameters: {'n_clusters': 98, 'linkage': 'average'}. Best is trial 208 with value: 0.32244836125274445.\n",
      "[I 2024-06-17 22:27:02,158] Trial 382 finished with value: 0.1965617030825415 and parameters: {'n_clusters': 65, 'linkage': 'complete'}. Best is trial 208 with value: 0.32244836125274445.\n",
      "[I 2024-06-17 22:27:02,259] Trial 383 finished with value: 0.18073596425093819 and parameters: {'n_clusters': 52, 'linkage': 'complete'}. Best is trial 208 with value: 0.32244836125274445.\n",
      "[I 2024-06-17 22:27:02,362] Trial 384 finished with value: -0.025660852672419843 and parameters: {'n_clusters': 45, 'linkage': 'single'}. Best is trial 208 with value: 0.32244836125274445.\n",
      "[I 2024-06-17 22:27:02,457] Trial 385 finished with value: 0.1966138651934005 and parameters: {'n_clusters': 70, 'linkage': 'average'}. Best is trial 208 with value: 0.32244836125274445.\n",
      "[I 2024-06-17 22:27:02,555] Trial 386 finished with value: -0.03894495250452619 and parameters: {'n_clusters': 76, 'linkage': 'single'}. Best is trial 208 with value: 0.32244836125274445.\n",
      "[I 2024-06-17 22:27:02,650] Trial 387 finished with value: 0.19075359213176088 and parameters: {'n_clusters': 52, 'linkage': 'average'}. Best is trial 208 with value: 0.32244836125274445.\n",
      "[I 2024-06-17 22:27:02,768] Trial 388 finished with value: 0.3274548072143168 and parameters: {'n_clusters': 149, 'linkage': 'ward'}. Best is trial 388 with value: 0.3274548072143168.\n",
      "[I 2024-06-17 22:27:02,861] Trial 389 finished with value: 0.21543326441922983 and parameters: {'n_clusters': 111, 'linkage': 'complete'}. Best is trial 388 with value: 0.3274548072143168.\n",
      "[I 2024-06-17 22:27:02,955] Trial 390 finished with value: 0.2419591310996437 and parameters: {'n_clusters': 143, 'linkage': 'average'}. Best is trial 388 with value: 0.3274548072143168.\n",
      "[I 2024-06-17 22:27:03,050] Trial 391 finished with value: 0.2142385421611545 and parameters: {'n_clusters': 91, 'linkage': 'average'}. Best is trial 388 with value: 0.3274548072143168.\n",
      "[I 2024-06-17 22:27:03,145] Trial 392 finished with value: 0.16825399221343482 and parameters: {'n_clusters': 31, 'linkage': 'average'}. Best is trial 388 with value: 0.3274548072143168.\n",
      "[I 2024-06-17 22:27:03,239] Trial 393 finished with value: 0.20799627685263758 and parameters: {'n_clusters': 93, 'linkage': 'complete'}. Best is trial 388 with value: 0.3274548072143168.\n",
      "[I 2024-06-17 22:27:03,333] Trial 394 finished with value: 0.24361876308154695 and parameters: {'n_clusters': 81, 'linkage': 'ward'}. Best is trial 388 with value: 0.3274548072143168.\n",
      "[I 2024-06-17 22:27:03,427] Trial 395 finished with value: 0.2006565712312287 and parameters: {'n_clusters': 64, 'linkage': 'average'}. Best is trial 388 with value: 0.3274548072143168.\n",
      "[I 2024-06-17 22:27:03,526] Trial 396 finished with value: 0.16011282752800948 and parameters: {'n_clusters': 21, 'linkage': 'single'}. Best is trial 388 with value: 0.3274548072143168.\n",
      "[I 2024-06-17 22:27:03,621] Trial 397 finished with value: 0.22629517301916613 and parameters: {'n_clusters': 44, 'linkage': 'ward'}. Best is trial 388 with value: 0.3274548072143168.\n",
      "[I 2024-06-17 22:27:03,716] Trial 398 finished with value: 0.2721124162195737 and parameters: {'n_clusters': 104, 'linkage': 'ward'}. Best is trial 388 with value: 0.3274548072143168.\n",
      "[I 2024-06-17 22:27:03,825] Trial 399 finished with value: 0.19707899251221456 and parameters: {'n_clusters': 67, 'linkage': 'complete'}. Best is trial 388 with value: 0.3274548072143168.\n",
      "[I 2024-06-17 22:27:03,926] Trial 400 finished with value: -0.008060025912672244 and parameters: {'n_clusters': 100, 'linkage': 'single'}. Best is trial 388 with value: 0.3274548072143168.\n",
      "[I 2024-06-17 22:27:04,025] Trial 401 finished with value: 0.053492426697512814 and parameters: {'n_clusters': 141, 'linkage': 'single'}. Best is trial 388 with value: 0.3274548072143168.\n",
      "[I 2024-06-17 22:27:04,125] Trial 402 finished with value: 0.150477442468064 and parameters: {'n_clusters': 24, 'linkage': 'average'}. Best is trial 388 with value: 0.3274548072143168.\n",
      "[I 2024-06-17 22:27:04,249] Trial 403 finished with value: 0.1695687166982716 and parameters: {'n_clusters': 37, 'linkage': 'average'}. Best is trial 388 with value: 0.3274548072143168.\n",
      "[I 2024-06-17 22:27:04,356] Trial 404 finished with value: 0.20476442037998788 and parameters: {'n_clusters': 73, 'linkage': 'complete'}. Best is trial 388 with value: 0.3274548072143168.\n",
      "[I 2024-06-17 22:27:04,459] Trial 405 finished with value: 0.29781804119443905 and parameters: {'n_clusters': 129, 'linkage': 'ward'}. Best is trial 388 with value: 0.3274548072143168.\n",
      "[I 2024-06-17 22:27:04,593] Trial 406 finished with value: 0.21872172065777484 and parameters: {'n_clusters': 80, 'linkage': 'average'}. Best is trial 388 with value: 0.3274548072143168.\n",
      "[I 2024-06-17 22:27:04,723] Trial 407 finished with value: 0.1995954512403341 and parameters: {'n_clusters': 63, 'linkage': 'complete'}. Best is trial 388 with value: 0.3274548072143168.\n",
      "[I 2024-06-17 22:27:04,827] Trial 408 finished with value: 0.040970981688963834 and parameters: {'n_clusters': 150, 'linkage': 'single'}. Best is trial 388 with value: 0.3274548072143168.\n",
      "[I 2024-06-17 22:27:04,924] Trial 409 finished with value: 0.29249791828427407 and parameters: {'n_clusters': 122, 'linkage': 'ward'}. Best is trial 388 with value: 0.3274548072143168.\n",
      "[I 2024-06-17 22:27:05,024] Trial 410 finished with value: 0.232067711035336 and parameters: {'n_clusters': 64, 'linkage': 'ward'}. Best is trial 388 with value: 0.3274548072143168.\n",
      "[I 2024-06-17 22:27:05,120] Trial 411 finished with value: 0.21575502601728042 and parameters: {'n_clusters': 120, 'linkage': 'complete'}. Best is trial 388 with value: 0.3274548072143168.\n",
      "[I 2024-06-17 22:27:05,219] Trial 412 finished with value: 0.19173649995880052 and parameters: {'n_clusters': 53, 'linkage': 'average'}. Best is trial 388 with value: 0.3274548072143168.\n",
      "[I 2024-06-17 22:27:05,330] Trial 413 finished with value: 0.22831449937222204 and parameters: {'n_clusters': 140, 'linkage': 'complete'}. Best is trial 388 with value: 0.3274548072143168.\n",
      "[I 2024-06-17 22:27:05,465] Trial 414 finished with value: 0.2225486729669952 and parameters: {'n_clusters': 14, 'linkage': 'single'}. Best is trial 388 with value: 0.3274548072143168.\n",
      "[I 2024-06-17 22:27:05,571] Trial 415 finished with value: 0.23490918815355466 and parameters: {'n_clusters': 61, 'linkage': 'ward'}. Best is trial 388 with value: 0.3274548072143168.\n",
      "[I 2024-06-17 22:27:05,668] Trial 416 finished with value: 0.2085074141371235 and parameters: {'n_clusters': 100, 'linkage': 'complete'}. Best is trial 388 with value: 0.3274548072143168.\n",
      "[I 2024-06-17 22:27:05,770] Trial 417 finished with value: 0.17683213552998414 and parameters: {'n_clusters': 16, 'linkage': 'single'}. Best is trial 388 with value: 0.3274548072143168.\n",
      "[I 2024-06-17 22:27:05,868] Trial 418 finished with value: 0.21884508430736777 and parameters: {'n_clusters': 118, 'linkage': 'average'}. Best is trial 388 with value: 0.3274548072143168.\n",
      "[I 2024-06-17 22:27:05,967] Trial 419 finished with value: 0.20978572346447005 and parameters: {'n_clusters': 83, 'linkage': 'complete'}. Best is trial 388 with value: 0.3274548072143168.\n",
      "[I 2024-06-17 22:27:06,068] Trial 420 finished with value: -0.03953291927945552 and parameters: {'n_clusters': 72, 'linkage': 'single'}. Best is trial 388 with value: 0.3274548072143168.\n",
      "[I 2024-06-17 22:27:06,167] Trial 421 finished with value: 0.05017270754477789 and parameters: {'n_clusters': 126, 'linkage': 'single'}. Best is trial 388 with value: 0.3274548072143168.\n",
      "[I 2024-06-17 22:27:06,265] Trial 422 finished with value: 0.21574459736792392 and parameters: {'n_clusters': 88, 'linkage': 'average'}. Best is trial 388 with value: 0.3274548072143168.\n",
      "[I 2024-06-17 22:27:06,366] Trial 423 finished with value: -0.049381453674799805 and parameters: {'n_clusters': 90, 'linkage': 'single'}. Best is trial 388 with value: 0.3274548072143168.\n",
      "[I 2024-06-17 22:27:06,464] Trial 424 finished with value: 0.17461123005140133 and parameters: {'n_clusters': 18, 'linkage': 'ward'}. Best is trial 388 with value: 0.3274548072143168.\n",
      "[I 2024-06-17 22:27:06,571] Trial 425 finished with value: -0.048522956443303566 and parameters: {'n_clusters': 66, 'linkage': 'single'}. Best is trial 388 with value: 0.3274548072143168.\n",
      "[I 2024-06-17 22:27:06,673] Trial 426 finished with value: -0.027632469813273955 and parameters: {'n_clusters': 61, 'linkage': 'single'}. Best is trial 388 with value: 0.3274548072143168.\n",
      "[I 2024-06-17 22:27:06,771] Trial 427 finished with value: 0.2379601682964414 and parameters: {'n_clusters': 72, 'linkage': 'ward'}. Best is trial 388 with value: 0.3274548072143168.\n",
      "[I 2024-06-17 22:27:06,873] Trial 428 finished with value: -0.05157572933261451 and parameters: {'n_clusters': 67, 'linkage': 'single'}. Best is trial 388 with value: 0.3274548072143168.\n",
      "[I 2024-06-17 22:27:06,971] Trial 429 finished with value: 0.237422908102927 and parameters: {'n_clusters': 70, 'linkage': 'ward'}. Best is trial 388 with value: 0.3274548072143168.\n",
      "[I 2024-06-17 22:27:07,071] Trial 430 finished with value: 0.22819257932648418 and parameters: {'n_clusters': 53, 'linkage': 'ward'}. Best is trial 388 with value: 0.3274548072143168.\n",
      "[I 2024-06-17 22:27:07,174] Trial 431 finished with value: -0.003628250499849961 and parameters: {'n_clusters': 34, 'linkage': 'single'}. Best is trial 388 with value: 0.3274548072143168.\n",
      "[I 2024-06-17 22:27:07,273] Trial 432 finished with value: 0.20228157903755042 and parameters: {'n_clusters': 35, 'linkage': 'ward'}. Best is trial 388 with value: 0.3274548072143168.\n",
      "[I 2024-06-17 22:27:07,373] Trial 433 finished with value: 0.2886854383454541 and parameters: {'n_clusters': 116, 'linkage': 'ward'}. Best is trial 388 with value: 0.3274548072143168.\n",
      "[I 2024-06-17 22:27:07,477] Trial 434 finished with value: -0.03867495615215134 and parameters: {'n_clusters': 74, 'linkage': 'single'}. Best is trial 388 with value: 0.3274548072143168.\n",
      "[I 2024-06-17 22:27:07,578] Trial 435 finished with value: 0.1275663264838102 and parameters: {'n_clusters': 25, 'linkage': 'complete'}. Best is trial 388 with value: 0.3274548072143168.\n",
      "[I 2024-06-17 22:27:07,742] Trial 436 finished with value: 0.22067051401784102 and parameters: {'n_clusters': 132, 'linkage': 'complete'}. Best is trial 388 with value: 0.3274548072143168.\n",
      "[I 2024-06-17 22:27:07,847] Trial 437 finished with value: 0.32729777740951294 and parameters: {'n_clusters': 150, 'linkage': 'ward'}. Best is trial 388 with value: 0.3274548072143168.\n",
      "[I 2024-06-17 22:27:07,950] Trial 438 finished with value: 0.17832257392028153 and parameters: {'n_clusters': 11, 'linkage': 'ward'}. Best is trial 388 with value: 0.3274548072143168.\n",
      "[I 2024-06-17 22:27:08,052] Trial 439 finished with value: 0.20286714923064503 and parameters: {'n_clusters': 62, 'linkage': 'average'}. Best is trial 388 with value: 0.3274548072143168.\n",
      "[I 2024-06-17 22:27:08,153] Trial 440 finished with value: 0.19540436364531646 and parameters: {'n_clusters': 29, 'linkage': 'ward'}. Best is trial 388 with value: 0.3274548072143168.\n",
      "[I 2024-06-17 22:27:08,256] Trial 441 finished with value: -0.03078691478508301 and parameters: {'n_clusters': 86, 'linkage': 'single'}. Best is trial 388 with value: 0.3274548072143168.\n",
      "[I 2024-06-17 22:27:08,358] Trial 442 finished with value: 0.263869252519108 and parameters: {'n_clusters': 101, 'linkage': 'ward'}. Best is trial 388 with value: 0.3274548072143168.\n",
      "[I 2024-06-17 22:27:08,458] Trial 443 finished with value: 0.20313139238453612 and parameters: {'n_clusters': 78, 'linkage': 'complete'}. Best is trial 388 with value: 0.3274548072143168.\n",
      "[I 2024-06-17 22:27:08,560] Trial 444 finished with value: 0.23964384450953757 and parameters: {'n_clusters': 135, 'linkage': 'average'}. Best is trial 388 with value: 0.3274548072143168.\n",
      "[I 2024-06-17 22:27:08,660] Trial 445 finished with value: 0.19126593087822005 and parameters: {'n_clusters': 50, 'linkage': 'average'}. Best is trial 388 with value: 0.3274548072143168.\n",
      "[I 2024-06-17 22:27:08,766] Trial 446 finished with value: 0.2092464480761001 and parameters: {'n_clusters': 96, 'linkage': 'complete'}. Best is trial 388 with value: 0.3274548072143168.\n",
      "[I 2024-06-17 22:27:08,875] Trial 447 finished with value: 0.24094752720999904 and parameters: {'n_clusters': 144, 'linkage': 'average'}. Best is trial 388 with value: 0.3274548072143168.\n",
      "[I 2024-06-17 22:27:08,977] Trial 448 finished with value: 0.21763138450620376 and parameters: {'n_clusters': 101, 'linkage': 'average'}. Best is trial 388 with value: 0.3274548072143168.\n",
      "[I 2024-06-17 22:27:09,078] Trial 449 finished with value: 0.23476283928635186 and parameters: {'n_clusters': 126, 'linkage': 'average'}. Best is trial 388 with value: 0.3274548072143168.\n",
      "[I 2024-06-17 22:27:09,180] Trial 450 finished with value: 0.23001158971891578 and parameters: {'n_clusters': 54, 'linkage': 'ward'}. Best is trial 388 with value: 0.3274548072143168.\n",
      "[I 2024-06-17 22:27:09,283] Trial 451 finished with value: 0.2170410146875002 and parameters: {'n_clusters': 129, 'linkage': 'complete'}. Best is trial 388 with value: 0.3274548072143168.\n",
      "[I 2024-06-17 22:27:09,387] Trial 452 finished with value: 0.2418420948008218 and parameters: {'n_clusters': 142, 'linkage': 'average'}. Best is trial 388 with value: 0.3274548072143168.\n",
      "[I 2024-06-17 22:27:09,490] Trial 453 finished with value: 0.24805437685908638 and parameters: {'n_clusters': 88, 'linkage': 'ward'}. Best is trial 388 with value: 0.3274548072143168.\n",
      "[I 2024-06-17 22:27:09,640] Trial 454 finished with value: 0.23215144302942084 and parameters: {'n_clusters': 56, 'linkage': 'ward'}. Best is trial 388 with value: 0.3274548072143168.\n",
      "[I 2024-06-17 22:27:09,857] Trial 455 finished with value: 0.1337580321102011 and parameters: {'n_clusters': 18, 'linkage': 'single'}. Best is trial 388 with value: 0.3274548072143168.\n",
      "[I 2024-06-17 22:27:09,979] Trial 456 finished with value: 0.19411235017994075 and parameters: {'n_clusters': 27, 'linkage': 'ward'}. Best is trial 388 with value: 0.3274548072143168.\n",
      "[I 2024-06-17 22:27:10,084] Trial 457 finished with value: 0.19744219178304745 and parameters: {'n_clusters': 62, 'linkage': 'complete'}. Best is trial 388 with value: 0.3274548072143168.\n",
      "[I 2024-06-17 22:27:10,190] Trial 458 finished with value: 0.17392803188504752 and parameters: {'n_clusters': 47, 'linkage': 'average'}. Best is trial 388 with value: 0.3274548072143168.\n",
      "[I 2024-06-17 22:27:10,299] Trial 459 finished with value: -0.05231437651639213 and parameters: {'n_clusters': 89, 'linkage': 'single'}. Best is trial 388 with value: 0.3274548072143168.\n",
      "[I 2024-06-17 22:27:10,411] Trial 460 finished with value: -0.023953948706483333 and parameters: {'n_clusters': 59, 'linkage': 'single'}. Best is trial 388 with value: 0.3274548072143168.\n",
      "[I 2024-06-17 22:27:10,521] Trial 461 finished with value: 0.22566063117452448 and parameters: {'n_clusters': 115, 'linkage': 'average'}. Best is trial 388 with value: 0.3274548072143168.\n",
      "[I 2024-06-17 22:27:10,629] Trial 462 finished with value: 0.2109513316510278 and parameters: {'n_clusters': 83, 'linkage': 'average'}. Best is trial 388 with value: 0.3274548072143168.\n",
      "[I 2024-06-17 22:27:10,742] Trial 463 finished with value: 0.17451393497788079 and parameters: {'n_clusters': 16, 'linkage': 'complete'}. Best is trial 388 with value: 0.3274548072143168.\n",
      "[I 2024-06-17 22:27:10,847] Trial 464 finished with value: 0.24059959607711146 and parameters: {'n_clusters': 145, 'linkage': 'average'}. Best is trial 388 with value: 0.3274548072143168.\n",
      "[I 2024-06-17 22:27:10,953] Trial 465 finished with value: 0.14663841095437508 and parameters: {'n_clusters': 40, 'linkage': 'average'}. Best is trial 388 with value: 0.3274548072143168.\n",
      "[I 2024-06-17 22:27:11,061] Trial 466 finished with value: 0.2378273457559655 and parameters: {'n_clusters': 146, 'linkage': 'average'}. Best is trial 388 with value: 0.3274548072143168.\n",
      "[I 2024-06-17 22:27:11,200] Trial 467 finished with value: -0.027814167353891407 and parameters: {'n_clusters': 84, 'linkage': 'single'}. Best is trial 388 with value: 0.3274548072143168.\n",
      "[I 2024-06-17 22:27:11,309] Trial 468 finished with value: 0.05877099144512266 and parameters: {'n_clusters': 145, 'linkage': 'single'}. Best is trial 388 with value: 0.3274548072143168.\n",
      "[I 2024-06-17 22:27:11,429] Trial 469 finished with value: 0.057055262776866865 and parameters: {'n_clusters': 147, 'linkage': 'single'}. Best is trial 388 with value: 0.3274548072143168.\n",
      "[I 2024-06-17 22:27:11,561] Trial 470 finished with value: -0.03752522239680891 and parameters: {'n_clusters': 69, 'linkage': 'single'}. Best is trial 388 with value: 0.3274548072143168.\n",
      "[I 2024-06-17 22:27:11,679] Trial 471 finished with value: -0.028083090370363176 and parameters: {'n_clusters': 53, 'linkage': 'single'}. Best is trial 388 with value: 0.3274548072143168.\n",
      "[I 2024-06-17 22:27:11,798] Trial 472 finished with value: 0.21087738945323634 and parameters: {'n_clusters': 106, 'linkage': 'complete'}. Best is trial 388 with value: 0.3274548072143168.\n",
      "[I 2024-06-17 22:27:11,913] Trial 473 finished with value: 0.08482735984351052 and parameters: {'n_clusters': 133, 'linkage': 'single'}. Best is trial 388 with value: 0.3274548072143168.\n",
      "[I 2024-06-17 22:27:12,028] Trial 474 finished with value: -0.05008411483655074 and parameters: {'n_clusters': 68, 'linkage': 'single'}. Best is trial 388 with value: 0.3274548072143168.\n",
      "[I 2024-06-17 22:27:12,140] Trial 475 finished with value: 0.1266897729032656 and parameters: {'n_clusters': 26, 'linkage': 'single'}. Best is trial 388 with value: 0.3274548072143168.\n",
      "[I 2024-06-17 22:27:12,248] Trial 476 finished with value: 0.17466049688869262 and parameters: {'n_clusters': 47, 'linkage': 'complete'}. Best is trial 388 with value: 0.3274548072143168.\n",
      "[I 2024-06-17 22:27:12,358] Trial 477 finished with value: 0.17602041417909112 and parameters: {'n_clusters': 17, 'linkage': 'complete'}. Best is trial 388 with value: 0.3274548072143168.\n",
      "[I 2024-06-17 22:27:12,466] Trial 478 finished with value: 0.21658887884601227 and parameters: {'n_clusters': 106, 'linkage': 'average'}. Best is trial 388 with value: 0.3274548072143168.\n",
      "[I 2024-06-17 22:27:12,575] Trial 479 finished with value: 0.2942648567085289 and parameters: {'n_clusters': 124, 'linkage': 'ward'}. Best is trial 388 with value: 0.3274548072143168.\n",
      "[I 2024-06-17 22:27:12,684] Trial 480 finished with value: 0.20182401762192184 and parameters: {'n_clusters': 65, 'linkage': 'average'}. Best is trial 388 with value: 0.3274548072143168.\n",
      "[I 2024-06-17 22:27:12,796] Trial 481 finished with value: 0.27844389267338354 and parameters: {'n_clusters': 14, 'linkage': 'average'}. Best is trial 388 with value: 0.3274548072143168.\n",
      "[I 2024-06-17 22:27:12,905] Trial 482 finished with value: 0.21004024813878416 and parameters: {'n_clusters': 102, 'linkage': 'complete'}. Best is trial 388 with value: 0.3274548072143168.\n",
      "[I 2024-06-17 22:27:13,014] Trial 483 finished with value: 0.22936815618560363 and parameters: {'n_clusters': 51, 'linkage': 'ward'}. Best is trial 388 with value: 0.3274548072143168.\n",
      "[I 2024-06-17 22:27:13,124] Trial 484 finished with value: 0.16404085729227844 and parameters: {'n_clusters': 39, 'linkage': 'average'}. Best is trial 388 with value: 0.3274548072143168.\n",
      "[I 2024-06-17 22:27:13,234] Trial 485 finished with value: 0.17709862503461418 and parameters: {'n_clusters': 18, 'linkage': 'complete'}. Best is trial 388 with value: 0.3274548072143168.\n",
      "[I 2024-06-17 22:27:13,370] Trial 486 finished with value: 0.30733651320656863 and parameters: {'n_clusters': 135, 'linkage': 'ward'}. Best is trial 388 with value: 0.3274548072143168.\n",
      "[I 2024-06-17 22:27:13,480] Trial 487 finished with value: 0.22325685723376285 and parameters: {'n_clusters': 109, 'linkage': 'average'}. Best is trial 388 with value: 0.3274548072143168.\n",
      "[I 2024-06-17 22:27:13,627] Trial 488 finished with value: 0.20869905176945014 and parameters: {'n_clusters': 98, 'linkage': 'complete'}. Best is trial 388 with value: 0.3274548072143168.\n",
      "[I 2024-06-17 22:27:13,739] Trial 489 finished with value: 0.2197277071269907 and parameters: {'n_clusters': 99, 'linkage': 'average'}. Best is trial 388 with value: 0.3274548072143168.\n",
      "[I 2024-06-17 22:27:13,862] Trial 490 finished with value: 0.27803710038730967 and parameters: {'n_clusters': 111, 'linkage': 'ward'}. Best is trial 388 with value: 0.3274548072143168.\n",
      "[I 2024-06-17 22:27:13,972] Trial 491 finished with value: 0.2170163475926484 and parameters: {'n_clusters': 108, 'linkage': 'complete'}. Best is trial 388 with value: 0.3274548072143168.\n",
      "[I 2024-06-17 22:27:14,113] Trial 492 finished with value: 0.20050043297346282 and parameters: {'n_clusters': 64, 'linkage': 'complete'}. Best is trial 388 with value: 0.3274548072143168.\n",
      "[I 2024-06-17 22:27:14,262] Trial 493 finished with value: 0.19552405814399773 and parameters: {'n_clusters': 58, 'linkage': 'complete'}. Best is trial 388 with value: 0.3274548072143168.\n",
      "[I 2024-06-17 22:27:14,383] Trial 494 finished with value: 0.19534136261412807 and parameters: {'n_clusters': 68, 'linkage': 'complete'}. Best is trial 388 with value: 0.3274548072143168.\n",
      "[I 2024-06-17 22:27:14,494] Trial 495 finished with value: 0.1964023125967723 and parameters: {'n_clusters': 26, 'linkage': 'ward'}. Best is trial 388 with value: 0.3274548072143168.\n",
      "[I 2024-06-17 22:27:14,603] Trial 496 finished with value: 0.21177416239142763 and parameters: {'n_clusters': 93, 'linkage': 'average'}. Best is trial 388 with value: 0.3274548072143168.\n",
      "[I 2024-06-17 22:27:14,713] Trial 497 finished with value: 0.2900875009518571 and parameters: {'n_clusters': 117, 'linkage': 'ward'}. Best is trial 388 with value: 0.3274548072143168.\n",
      "[I 2024-06-17 22:27:14,827] Trial 498 finished with value: 0.2992267527701573 and parameters: {'n_clusters': 130, 'linkage': 'ward'}. Best is trial 388 with value: 0.3274548072143168.\n",
      "[I 2024-06-17 22:27:14,946] Trial 499 finished with value: 0.17488887130319175 and parameters: {'n_clusters': 49, 'linkage': 'complete'}. Best is trial 388 with value: 0.3274548072143168.\n",
      "[I 2024-06-17 22:27:15,063] Trial 500 finished with value: -0.040794489492446885 and parameters: {'n_clusters': 73, 'linkage': 'single'}. Best is trial 388 with value: 0.3274548072143168.\n",
      "[I 2024-06-17 22:27:15,180] Trial 501 finished with value: 0.24225429036201748 and parameters: {'n_clusters': 78, 'linkage': 'ward'}. Best is trial 388 with value: 0.3274548072143168.\n",
      "[I 2024-06-17 22:27:15,321] Trial 502 finished with value: 0.20978890262923017 and parameters: {'n_clusters': 86, 'linkage': 'complete'}. Best is trial 388 with value: 0.3274548072143168.\n",
      "[I 2024-06-17 22:27:15,430] Trial 503 finished with value: 0.2096149649630573 and parameters: {'n_clusters': 97, 'linkage': 'complete'}. Best is trial 388 with value: 0.3274548072143168.\n",
      "[I 2024-06-17 22:27:15,541] Trial 504 finished with value: 0.2033409790504555 and parameters: {'n_clusters': 63, 'linkage': 'average'}. Best is trial 388 with value: 0.3274548072143168.\n",
      "[I 2024-06-17 22:27:15,656] Trial 505 finished with value: 0.2313302071387184 and parameters: {'n_clusters': 123, 'linkage': 'average'}. Best is trial 388 with value: 0.3274548072143168.\n",
      "[I 2024-06-17 22:27:15,769] Trial 506 finished with value: 0.3248733999290201 and parameters: {'n_clusters': 148, 'linkage': 'ward'}. Best is trial 388 with value: 0.3274548072143168.\n",
      "[I 2024-06-17 22:27:15,880] Trial 507 finished with value: 0.25768360858638073 and parameters: {'n_clusters': 93, 'linkage': 'ward'}. Best is trial 388 with value: 0.3274548072143168.\n",
      "[I 2024-06-17 22:27:15,996] Trial 508 finished with value: 0.09729502744855044 and parameters: {'n_clusters': 28, 'linkage': 'single'}. Best is trial 388 with value: 0.3274548072143168.\n",
      "[I 2024-06-17 22:27:16,112] Trial 509 finished with value: 0.04538065334524469 and parameters: {'n_clusters': 33, 'linkage': 'single'}. Best is trial 388 with value: 0.3274548072143168.\n",
      "[I 2024-06-17 22:27:16,229] Trial 510 finished with value: 0.15835929015129016 and parameters: {'n_clusters': 22, 'linkage': 'single'}. Best is trial 388 with value: 0.3274548072143168.\n",
      "[I 2024-06-17 22:27:16,344] Trial 511 finished with value: -0.035435497766805976 and parameters: {'n_clusters': 122, 'linkage': 'single'}. Best is trial 388 with value: 0.3274548072143168.\n",
      "[I 2024-06-17 22:27:16,455] Trial 512 finished with value: 0.18227341524631058 and parameters: {'n_clusters': 53, 'linkage': 'complete'}. Best is trial 388 with value: 0.3274548072143168.\n",
      "[I 2024-06-17 22:27:16,568] Trial 513 finished with value: 0.2094359654236086 and parameters: {'n_clusters': 81, 'linkage': 'complete'}. Best is trial 388 with value: 0.3274548072143168.\n",
      "[I 2024-06-17 22:27:16,687] Trial 514 finished with value: -0.00694821297711969 and parameters: {'n_clusters': 98, 'linkage': 'single'}. Best is trial 388 with value: 0.3274548072143168.\n",
      "[I 2024-06-17 22:27:16,805] Trial 515 finished with value: 0.13809124747252388 and parameters: {'n_clusters': 19, 'linkage': 'single'}. Best is trial 388 with value: 0.3274548072143168.\n",
      "[I 2024-06-17 22:27:16,923] Trial 516 finished with value: 0.1479242001156871 and parameters: {'n_clusters': 21, 'linkage': 'complete'}. Best is trial 388 with value: 0.3274548072143168.\n",
      "[I 2024-06-17 22:27:17,036] Trial 517 finished with value: 0.3195233613669537 and parameters: {'n_clusters': 144, 'linkage': 'ward'}. Best is trial 388 with value: 0.3274548072143168.\n",
      "[I 2024-06-17 22:27:17,154] Trial 518 finished with value: 0.05887492554587057 and parameters: {'n_clusters': 146, 'linkage': 'single'}. Best is trial 388 with value: 0.3274548072143168.\n",
      "[I 2024-06-17 22:27:17,272] Trial 519 finished with value: 0.17569156757450227 and parameters: {'n_clusters': 36, 'linkage': 'average'}. Best is trial 388 with value: 0.3274548072143168.\n",
      "[I 2024-06-17 22:27:17,385] Trial 520 finished with value: 0.20971540722319007 and parameters: {'n_clusters': 90, 'linkage': 'complete'}. Best is trial 388 with value: 0.3274548072143168.\n",
      "[I 2024-06-17 22:27:17,501] Trial 521 finished with value: 0.2612660061425443 and parameters: {'n_clusters': 96, 'linkage': 'ward'}. Best is trial 388 with value: 0.3274548072143168.\n",
      "[I 2024-06-17 22:27:17,616] Trial 522 finished with value: 0.2217789479573064 and parameters: {'n_clusters': 95, 'linkage': 'average'}. Best is trial 388 with value: 0.3274548072143168.\n",
      "[I 2024-06-17 22:27:17,735] Trial 523 finished with value: 0.24353809578904562 and parameters: {'n_clusters': 84, 'linkage': 'ward'}. Best is trial 388 with value: 0.3274548072143168.\n",
      "[I 2024-06-17 22:27:17,852] Trial 524 finished with value: 0.05436585966019916 and parameters: {'n_clusters': 140, 'linkage': 'single'}. Best is trial 388 with value: 0.3274548072143168.\n",
      "[I 2024-06-17 22:27:18,001] Trial 525 finished with value: 0.2917053297000771 and parameters: {'n_clusters': 12, 'linkage': 'single'}. Best is trial 388 with value: 0.3274548072143168.\n",
      "[I 2024-06-17 22:27:18,119] Trial 526 finished with value: 0.06738110016804928 and parameters: {'n_clusters': 134, 'linkage': 'single'}. Best is trial 388 with value: 0.3274548072143168.\n",
      "[I 2024-06-17 22:27:18,235] Trial 527 finished with value: 0.16620039233422498 and parameters: {'n_clusters': 38, 'linkage': 'complete'}. Best is trial 388 with value: 0.3274548072143168.\n",
      "[I 2024-06-17 22:27:18,355] Trial 528 finished with value: -0.020967760020368 and parameters: {'n_clusters': 43, 'linkage': 'single'}. Best is trial 388 with value: 0.3274548072143168.\n",
      "[I 2024-06-17 22:27:18,498] Trial 529 finished with value: 0.24667850628628019 and parameters: {'n_clusters': 85, 'linkage': 'ward'}. Best is trial 388 with value: 0.3274548072143168.\n",
      "[I 2024-06-17 22:27:18,644] Trial 530 finished with value: 0.20797041195681462 and parameters: {'n_clusters': 77, 'linkage': 'average'}. Best is trial 388 with value: 0.3274548072143168.\n",
      "[I 2024-06-17 22:27:18,770] Trial 531 finished with value: 0.22481143826832206 and parameters: {'n_clusters': 122, 'linkage': 'average'}. Best is trial 388 with value: 0.3274548072143168.\n",
      "[I 2024-06-17 22:27:18,890] Trial 532 finished with value: 0.20791705115814693 and parameters: {'n_clusters': 75, 'linkage': 'average'}. Best is trial 388 with value: 0.3274548072143168.\n",
      "[I 2024-06-17 22:27:19,006] Trial 533 finished with value: 0.22327361792243564 and parameters: {'n_clusters': 43, 'linkage': 'ward'}. Best is trial 388 with value: 0.3274548072143168.\n",
      "[I 2024-06-17 22:27:19,124] Trial 534 finished with value: 0.19240884762415547 and parameters: {'n_clusters': 56, 'linkage': 'complete'}. Best is trial 388 with value: 0.3274548072143168.\n",
      "[I 2024-06-17 22:27:19,241] Trial 535 finished with value: 0.21735236668219218 and parameters: {'n_clusters': 119, 'linkage': 'complete'}. Best is trial 388 with value: 0.3274548072143168.\n",
      "[I 2024-06-17 22:27:19,358] Trial 536 finished with value: 0.18192511775951023 and parameters: {'n_clusters': 57, 'linkage': 'average'}. Best is trial 388 with value: 0.3274548072143168.\n",
      "[I 2024-06-17 22:27:19,476] Trial 537 finished with value: 0.17839405284953613 and parameters: {'n_clusters': 34, 'linkage': 'average'}. Best is trial 388 with value: 0.3274548072143168.\n",
      "[I 2024-06-17 22:27:19,595] Trial 538 finished with value: 0.12714130828539671 and parameters: {'n_clusters': 17, 'linkage': 'single'}. Best is trial 388 with value: 0.3274548072143168.\n",
      "[I 2024-06-17 22:27:19,717] Trial 539 finished with value: 0.20772633614940483 and parameters: {'n_clusters': 94, 'linkage': 'complete'}. Best is trial 388 with value: 0.3274548072143168.\n",
      "[I 2024-06-17 22:27:19,845] Trial 540 finished with value: 0.21220177114584043 and parameters: {'n_clusters': 92, 'linkage': 'average'}. Best is trial 388 with value: 0.3274548072143168.\n",
      "[I 2024-06-17 22:27:19,962] Trial 541 finished with value: 0.2216944255575408 and parameters: {'n_clusters': 138, 'linkage': 'complete'}. Best is trial 388 with value: 0.3274548072143168.\n",
      "[I 2024-06-17 22:27:20,088] Trial 542 finished with value: 0.15123476184956278 and parameters: {'n_clusters': 23, 'linkage': 'average'}. Best is trial 388 with value: 0.3274548072143168.\n",
      "[I 2024-06-17 22:27:20,208] Trial 543 finished with value: 0.23076232098528188 and parameters: {'n_clusters': 144, 'linkage': 'complete'}. Best is trial 388 with value: 0.3274548072143168.\n",
      "[I 2024-06-17 22:27:20,362] Trial 544 finished with value: 0.19933095960148067 and parameters: {'n_clusters': 34, 'linkage': 'ward'}. Best is trial 388 with value: 0.3274548072143168.\n",
      "[I 2024-06-17 22:27:20,480] Trial 545 finished with value: 0.21753784060941067 and parameters: {'n_clusters': 128, 'linkage': 'complete'}. Best is trial 388 with value: 0.3274548072143168.\n",
      "[I 2024-06-17 22:27:20,602] Trial 546 finished with value: -0.015784956227349215 and parameters: {'n_clusters': 36, 'linkage': 'single'}. Best is trial 388 with value: 0.3274548072143168.\n",
      "[I 2024-06-17 22:27:20,720] Trial 547 finished with value: 0.2751072902980719 and parameters: {'n_clusters': 107, 'linkage': 'ward'}. Best is trial 388 with value: 0.3274548072143168.\n",
      "[I 2024-06-17 22:27:20,868] Trial 548 finished with value: 0.14735821059107654 and parameters: {'n_clusters': 41, 'linkage': 'average'}. Best is trial 388 with value: 0.3274548072143168.\n",
      "[I 2024-06-17 22:27:20,989] Trial 549 finished with value: 0.2062575402499443 and parameters: {'n_clusters': 78, 'linkage': 'average'}. Best is trial 388 with value: 0.3274548072143168.\n",
      "[I 2024-06-17 22:27:21,116] Trial 550 finished with value: 0.18546643939299237 and parameters: {'n_clusters': 15, 'linkage': 'ward'}. Best is trial 388 with value: 0.3274548072143168.\n",
      "[I 2024-06-17 22:27:21,236] Trial 551 finished with value: 0.14707619790065307 and parameters: {'n_clusters': 45, 'linkage': 'average'}. Best is trial 388 with value: 0.3274548072143168.\n",
      "[I 2024-06-17 22:27:21,360] Trial 552 finished with value: 0.2385307652381419 and parameters: {'n_clusters': 136, 'linkage': 'average'}. Best is trial 388 with value: 0.3274548072143168.\n",
      "[I 2024-06-17 22:27:21,482] Trial 553 finished with value: -0.012675648012059278 and parameters: {'n_clusters': 97, 'linkage': 'single'}. Best is trial 388 with value: 0.3274548072143168.\n",
      "[I 2024-06-17 22:27:21,602] Trial 554 finished with value: 0.17941347658410034 and parameters: {'n_clusters': 59, 'linkage': 'average'}. Best is trial 388 with value: 0.3274548072143168.\n",
      "[I 2024-06-17 22:27:21,748] Trial 555 finished with value: 0.2327679263808043 and parameters: {'n_clusters': 58, 'linkage': 'ward'}. Best is trial 388 with value: 0.3274548072143168.\n",
      "[I 2024-06-17 22:27:21,872] Trial 556 finished with value: 0.21694284352360363 and parameters: {'n_clusters': 109, 'linkage': 'complete'}. Best is trial 388 with value: 0.3274548072143168.\n",
      "[I 2024-06-17 22:27:21,995] Trial 557 finished with value: 0.1582975350840369 and parameters: {'n_clusters': 34, 'linkage': 'complete'}. Best is trial 388 with value: 0.3274548072143168.\n",
      "[I 2024-06-17 22:27:22,116] Trial 558 finished with value: 0.30172233572304585 and parameters: {'n_clusters': 131, 'linkage': 'ward'}. Best is trial 388 with value: 0.3274548072143168.\n",
      "[I 2024-06-17 22:27:22,260] Trial 559 finished with value: 0.20980959295277052 and parameters: {'n_clusters': 85, 'linkage': 'complete'}. Best is trial 388 with value: 0.3274548072143168.\n",
      "[I 2024-06-17 22:27:22,381] Trial 560 finished with value: 0.21334115506165935 and parameters: {'n_clusters': 39, 'linkage': 'ward'}. Best is trial 388 with value: 0.3274548072143168.\n",
      "[I 2024-06-17 22:27:22,505] Trial 561 finished with value: 0.11004670176078468 and parameters: {'n_clusters': 27, 'linkage': 'single'}. Best is trial 388 with value: 0.3274548072143168.\n",
      "[I 2024-06-17 22:27:22,628] Trial 562 finished with value: 0.25036364699506936 and parameters: {'n_clusters': 89, 'linkage': 'ward'}. Best is trial 388 with value: 0.3274548072143168.\n",
      "[I 2024-06-17 22:27:22,759] Trial 563 finished with value: 0.2080835082276834 and parameters: {'n_clusters': 92, 'linkage': 'complete'}. Best is trial 388 with value: 0.3274548072143168.\n"
     ]
    }
   ],
   "source": [
    "# Executar o estudo do optuna para o modelo hierarquical aglomerative\n",
    "study_ag.optimize(hierarquical_aglomerative_objective, n_trials=600)"
   ]
  },
  {
   "cell_type": "code",
   "execution_count": 56,
   "metadata": {},
   "outputs": [
    {
     "name": "stdout",
     "output_type": "stream",
     "text": [
      "Melhores parâmetros para o modelo hierarquical aglomerative: \n",
      "n_clusters: 149\n",
      "linkage: ward\n"
     ]
    }
   ],
   "source": [
    "# Mostrar melhor configuração do optuna para o modelo hierarquical aglomerative\n",
    "best_params_ag = study_ag.best_params\n",
    "\n",
    "print(f'Melhores parâmetros para o modelo hierarquical aglomerative: ')\n",
    "print(f'n_clusters: {best_params_ag[\"n_clusters\"]}')\n",
    "print(f'linkage: {best_params_ag[\"linkage\"]}')"
   ]
  },
  {
   "cell_type": "code",
   "execution_count": 57,
   "metadata": {},
   "outputs": [
    {
     "data": {
      "text/plain": [
       "{'n_clusters': 149, 'linkage': 'ward'}"
      ]
     },
     "execution_count": 57,
     "metadata": {},
     "output_type": "execute_result"
    }
   ],
   "source": [
    "best_params_ag"
   ]
  },
  {
   "cell_type": "code",
   "execution_count": 58,
   "metadata": {},
   "outputs": [],
   "source": [
    "def hierarquical_divisive_objective(trial: optuna.Trial):\n",
    "    # Definir os hipermarametros a serem ajustados\n",
    "    n_clusters = trial.suggest_int('n_clusters', 10, 150)\n",
    "    \n",
    "    # Instanciar o modelo\n",
    "    hierarquical_model = BisectingKMeans(n_clusters=n_clusters)\n",
    "\n",
    "    # Treinar o modelo\n",
    "    y = hierarquical_model.fit_predict(X_transformed.toarray())\n",
    "\n",
    "    # Calcular o silhouette_score\n",
    "    silhouette_avg = silhouette_score(X_transformed, y)\n",
    "\n",
    "    return silhouette_avg"
   ]
  },
  {
   "cell_type": "code",
   "execution_count": 59,
   "metadata": {},
   "outputs": [
    {
     "name": "stderr",
     "output_type": "stream",
     "text": [
      "[I 2024-06-17 22:29:47,405] A new study created in memory with name: no-name-7fb0b9f6-9c5d-4807-a1a1-9769c5372c47\n"
     ]
    }
   ],
   "source": [
    "# Criar um estudo de otimização\n",
    "search_space_di = {\n",
    "    'n_clusters': range(10, 151),\n",
    "    'linkage': ['ward', 'average', 'complete', 'single']\n",
    "}\n",
    "\n",
    "sampler_di = optuna.samplers.GridSampler(search_space=search_space_di)\n",
    "\n",
    "study_di = optuna.create_study(direction='maximize', sampler=sampler_di)"
   ]
  },
  {
   "cell_type": "code",
   "execution_count": 60,
   "metadata": {},
   "outputs": [
    {
     "name": "stderr",
     "output_type": "stream",
     "text": [
      "[I 2024-06-17 22:30:18,076] Trial 0 finished with value: 0.18410687545467905 and parameters: {'n_clusters': 130}. Best is trial 0 with value: 0.18410687545467905.\n",
      "[I 2024-06-17 22:30:18,167] Trial 1 finished with value: 0.18158017746269967 and parameters: {'n_clusters': 132}. Best is trial 0 with value: 0.18410687545467905.\n",
      "[I 2024-06-17 22:30:18,234] Trial 2 finished with value: 0.19158311428487093 and parameters: {'n_clusters': 133}. Best is trial 2 with value: 0.19158311428487093.\n",
      "[I 2024-06-17 22:30:18,266] Trial 3 finished with value: 0.1422097642689954 and parameters: {'n_clusters': 11}. Best is trial 2 with value: 0.19158311428487093.\n",
      "[I 2024-06-17 22:30:18,297] Trial 4 finished with value: 0.14096542403986265 and parameters: {'n_clusters': 10}. Best is trial 2 with value: 0.19158311428487093.\n",
      "[I 2024-06-17 22:30:18,421] Trial 5 finished with value: 0.20133319839753155 and parameters: {'n_clusters': 123}. Best is trial 5 with value: 0.20133319839753155.\n",
      "[I 2024-06-17 22:30:18,544] Trial 6 finished with value: 0.15400158959001545 and parameters: {'n_clusters': 67}. Best is trial 5 with value: 0.20133319839753155.\n",
      "[I 2024-06-17 22:30:18,644] Trial 7 finished with value: 0.13940535217533281 and parameters: {'n_clusters': 13}. Best is trial 5 with value: 0.20133319839753155.\n",
      "[I 2024-06-17 22:30:18,825] Trial 8 finished with value: 0.20153024655024435 and parameters: {'n_clusters': 149}. Best is trial 8 with value: 0.20153024655024435.\n",
      "[I 2024-06-17 22:30:18,937] Trial 9 finished with value: 0.17469190001730672 and parameters: {'n_clusters': 113}. Best is trial 8 with value: 0.20153024655024435.\n",
      "[I 2024-06-17 22:30:19,031] Trial 10 finished with value: 0.16323098780418605 and parameters: {'n_clusters': 70}. Best is trial 8 with value: 0.20153024655024435.\n",
      "[I 2024-06-17 22:30:19,070] Trial 11 finished with value: 0.13475238979374599 and parameters: {'n_clusters': 28}. Best is trial 8 with value: 0.20153024655024435.\n",
      "[I 2024-06-17 22:30:19,131] Trial 12 finished with value: 0.15934087961693658 and parameters: {'n_clusters': 64}. Best is trial 8 with value: 0.20153024655024435.\n",
      "[I 2024-06-17 22:30:19,167] Trial 13 finished with value: 0.16205006125356955 and parameters: {'n_clusters': 15}. Best is trial 8 with value: 0.20153024655024435.\n",
      "[I 2024-06-17 22:30:19,228] Trial 14 finished with value: 0.1627951707161084 and parameters: {'n_clusters': 82}. Best is trial 8 with value: 0.20153024655024435.\n",
      "[I 2024-06-17 22:30:19,311] Trial 15 finished with value: 0.19513254877786698 and parameters: {'n_clusters': 126}. Best is trial 8 with value: 0.20153024655024435.\n",
      "[I 2024-06-17 22:30:19,367] Trial 16 finished with value: 0.15553189598891004 and parameters: {'n_clusters': 76}. Best is trial 8 with value: 0.20153024655024435.\n",
      "[I 2024-06-17 22:30:19,437] Trial 17 finished with value: 0.16540595914827444 and parameters: {'n_clusters': 107}. Best is trial 8 with value: 0.20153024655024435.\n",
      "[I 2024-06-17 22:30:19,496] Trial 18 finished with value: 0.16076599281255696 and parameters: {'n_clusters': 89}. Best is trial 8 with value: 0.20153024655024435.\n",
      "[I 2024-06-17 22:30:19,540] Trial 19 finished with value: 0.13438174096460612 and parameters: {'n_clusters': 31}. Best is trial 8 with value: 0.20153024655024435.\n",
      "[I 2024-06-17 22:30:19,603] Trial 20 finished with value: 0.14464767958949307 and parameters: {'n_clusters': 17}. Best is trial 8 with value: 0.20153024655024435.\n",
      "[I 2024-06-17 22:30:19,672] Trial 21 finished with value: 0.14075263509692282 and parameters: {'n_clusters': 29}. Best is trial 8 with value: 0.20153024655024435.\n",
      "[I 2024-06-17 22:30:19,727] Trial 22 finished with value: 0.1515182591369585 and parameters: {'n_clusters': 55}. Best is trial 8 with value: 0.20153024655024435.\n",
      "[I 2024-06-17 22:30:19,831] Trial 23 finished with value: 0.149864683367414 and parameters: {'n_clusters': 15}. Best is trial 8 with value: 0.20153024655024435.\n",
      "[I 2024-06-17 22:30:19,908] Trial 24 finished with value: 0.16030724549040454 and parameters: {'n_clusters': 59}. Best is trial 8 with value: 0.20153024655024435.\n",
      "[I 2024-06-17 22:30:19,978] Trial 25 finished with value: 0.15939566843246786 and parameters: {'n_clusters': 65}. Best is trial 8 with value: 0.20153024655024435.\n",
      "[I 2024-06-17 22:30:20,063] Trial 26 finished with value: 0.14789791709625097 and parameters: {'n_clusters': 57}. Best is trial 8 with value: 0.20153024655024435.\n",
      "[I 2024-06-17 22:30:20,135] Trial 27 finished with value: 0.18230434178467236 and parameters: {'n_clusters': 118}. Best is trial 8 with value: 0.20153024655024435.\n",
      "[I 2024-06-17 22:30:20,201] Trial 28 finished with value: 0.1802023073266802 and parameters: {'n_clusters': 103}. Best is trial 8 with value: 0.20153024655024435.\n",
      "[I 2024-06-17 22:30:20,278] Trial 29 finished with value: 0.21414307069461516 and parameters: {'n_clusters': 135}. Best is trial 29 with value: 0.21414307069461516.\n",
      "[I 2024-06-17 22:30:20,339] Trial 30 finished with value: 0.15214944790125154 and parameters: {'n_clusters': 79}. Best is trial 29 with value: 0.21414307069461516.\n",
      "[I 2024-06-17 22:30:20,406] Trial 31 finished with value: 0.14198760283447998 and parameters: {'n_clusters': 40}. Best is trial 29 with value: 0.21414307069461516.\n",
      "[I 2024-06-17 22:30:20,476] Trial 32 finished with value: 0.13602639771715613 and parameters: {'n_clusters': 79}. Best is trial 29 with value: 0.21414307069461516.\n",
      "[I 2024-06-17 22:30:20,529] Trial 33 finished with value: 0.12959336824242496 and parameters: {'n_clusters': 33}. Best is trial 29 with value: 0.21414307069461516.\n",
      "[I 2024-06-17 22:30:20,623] Trial 34 finished with value: 0.16512727432075636 and parameters: {'n_clusters': 65}. Best is trial 29 with value: 0.21414307069461516.\n",
      "[I 2024-06-17 22:30:20,833] Trial 35 finished with value: 0.20295335769957826 and parameters: {'n_clusters': 145}. Best is trial 29 with value: 0.21414307069461516.\n",
      "[I 2024-06-17 22:30:20,939] Trial 36 finished with value: 0.18425943709072728 and parameters: {'n_clusters': 121}. Best is trial 29 with value: 0.21414307069461516.\n",
      "[I 2024-06-17 22:30:21,029] Trial 37 finished with value: 0.16909714021066588 and parameters: {'n_clusters': 94}. Best is trial 29 with value: 0.21414307069461516.\n",
      "[I 2024-06-17 22:30:21,120] Trial 38 finished with value: 0.1752568046935294 and parameters: {'n_clusters': 87}. Best is trial 29 with value: 0.21414307069461516.\n",
      "[I 2024-06-17 22:30:21,196] Trial 39 finished with value: 0.1663916871382229 and parameters: {'n_clusters': 76}. Best is trial 29 with value: 0.21414307069461516.\n",
      "[I 2024-06-17 22:30:21,296] Trial 40 finished with value: 0.15892877288970558 and parameters: {'n_clusters': 89}. Best is trial 29 with value: 0.21414307069461516.\n",
      "[I 2024-06-17 22:30:21,360] Trial 41 finished with value: 0.17098352182097337 and parameters: {'n_clusters': 71}. Best is trial 29 with value: 0.21414307069461516.\n",
      "[I 2024-06-17 22:30:21,435] Trial 42 finished with value: 0.17379129442974317 and parameters: {'n_clusters': 127}. Best is trial 29 with value: 0.21414307069461516.\n",
      "[I 2024-06-17 22:30:21,480] Trial 43 finished with value: 0.14400211675753322 and parameters: {'n_clusters': 27}. Best is trial 29 with value: 0.21414307069461516.\n",
      "[I 2024-06-17 22:30:21,525] Trial 44 finished with value: 0.1236987428364924 and parameters: {'n_clusters': 24}. Best is trial 29 with value: 0.21414307069461516.\n",
      "[I 2024-06-17 22:30:21,675] Trial 45 finished with value: 0.1642259521076264 and parameters: {'n_clusters': 88}. Best is trial 29 with value: 0.21414307069461516.\n",
      "[I 2024-06-17 22:30:21,807] Trial 46 finished with value: 0.16424361650266353 and parameters: {'n_clusters': 80}. Best is trial 29 with value: 0.21414307069461516.\n",
      "[I 2024-06-17 22:30:21,884] Trial 47 finished with value: 0.18521024636344932 and parameters: {'n_clusters': 108}. Best is trial 29 with value: 0.21414307069461516.\n",
      "[I 2024-06-17 22:30:21,939] Trial 48 finished with value: 0.16423995014595288 and parameters: {'n_clusters': 54}. Best is trial 29 with value: 0.21414307069461516.\n",
      "[I 2024-06-17 22:30:22,018] Trial 49 finished with value: 0.13532187747275895 and parameters: {'n_clusters': 43}. Best is trial 29 with value: 0.21414307069461516.\n",
      "[I 2024-06-17 22:30:22,112] Trial 50 finished with value: 0.15075975425577687 and parameters: {'n_clusters': 95}. Best is trial 29 with value: 0.21414307069461516.\n",
      "[I 2024-06-17 22:30:22,173] Trial 51 finished with value: 0.15458889011642982 and parameters: {'n_clusters': 53}. Best is trial 29 with value: 0.21414307069461516.\n",
      "[I 2024-06-17 22:30:22,251] Trial 52 finished with value: 0.13879521089887828 and parameters: {'n_clusters': 41}. Best is trial 29 with value: 0.21414307069461516.\n",
      "[I 2024-06-17 22:30:22,318] Trial 53 finished with value: 0.15318553062430837 and parameters: {'n_clusters': 45}. Best is trial 29 with value: 0.21414307069461516.\n",
      "[I 2024-06-17 22:30:22,370] Trial 54 finished with value: 0.13856318687180255 and parameters: {'n_clusters': 26}. Best is trial 29 with value: 0.21414307069461516.\n",
      "[I 2024-06-17 22:30:22,519] Trial 55 finished with value: 0.2020619016618091 and parameters: {'n_clusters': 147}. Best is trial 29 with value: 0.21414307069461516.\n",
      "[I 2024-06-17 22:30:22,702] Trial 56 finished with value: 0.2063408974809325 and parameters: {'n_clusters': 143}. Best is trial 29 with value: 0.21414307069461516.\n",
      "[I 2024-06-17 22:30:22,955] Trial 57 finished with value: 0.20941321674660834 and parameters: {'n_clusters': 146}. Best is trial 29 with value: 0.21414307069461516.\n",
      "[I 2024-06-17 22:30:23,004] Trial 58 finished with value: 0.1561223641864676 and parameters: {'n_clusters': 20}. Best is trial 29 with value: 0.21414307069461516.\n",
      "[I 2024-06-17 22:30:23,061] Trial 59 finished with value: 0.13712377613768764 and parameters: {'n_clusters': 43}. Best is trial 29 with value: 0.21414307069461516.\n",
      "[I 2024-06-17 22:30:23,162] Trial 60 finished with value: 0.21651167095277896 and parameters: {'n_clusters': 145}. Best is trial 60 with value: 0.21651167095277896.\n",
      "[I 2024-06-17 22:30:23,227] Trial 61 finished with value: 0.14812701744338932 and parameters: {'n_clusters': 41}. Best is trial 60 with value: 0.21651167095277896.\n",
      "[I 2024-06-17 22:30:23,335] Trial 62 finished with value: 0.17951529279056883 and parameters: {'n_clusters': 123}. Best is trial 60 with value: 0.21651167095277896.\n",
      "[I 2024-06-17 22:30:23,386] Trial 63 finished with value: 0.13876665183902828 and parameters: {'n_clusters': 32}. Best is trial 60 with value: 0.21651167095277896.\n",
      "[I 2024-06-17 22:30:23,458] Trial 64 finished with value: 0.1912387986537663 and parameters: {'n_clusters': 121}. Best is trial 60 with value: 0.21651167095277896.\n",
      "[I 2024-06-17 22:30:23,634] Trial 65 finished with value: 0.16670066218479024 and parameters: {'n_clusters': 99}. Best is trial 60 with value: 0.21651167095277896.\n",
      "[I 2024-06-17 22:30:23,687] Trial 66 finished with value: 0.15217578132141593 and parameters: {'n_clusters': 14}. Best is trial 60 with value: 0.21651167095277896.\n",
      "[I 2024-06-17 22:30:23,782] Trial 67 finished with value: 0.14988583068205252 and parameters: {'n_clusters': 72}. Best is trial 60 with value: 0.21651167095277896.\n",
      "[I 2024-06-17 22:30:23,911] Trial 68 finished with value: 0.18358914428053486 and parameters: {'n_clusters': 118}. Best is trial 60 with value: 0.21651167095277896.\n",
      "[I 2024-06-17 22:30:23,978] Trial 69 finished with value: 0.16372196929863164 and parameters: {'n_clusters': 87}. Best is trial 60 with value: 0.21651167095277896.\n",
      "[I 2024-06-17 22:30:24,040] Trial 70 finished with value: 0.15343899184795856 and parameters: {'n_clusters': 50}. Best is trial 60 with value: 0.21651167095277896.\n",
      "[I 2024-06-17 22:30:24,238] Trial 71 finished with value: 0.16190285943747454 and parameters: {'n_clusters': 106}. Best is trial 60 with value: 0.21651167095277896.\n",
      "[I 2024-06-17 22:30:24,385] Trial 72 finished with value: 0.20110343941136488 and parameters: {'n_clusters': 127}. Best is trial 60 with value: 0.21651167095277896.\n",
      "[I 2024-06-17 22:30:24,470] Trial 73 finished with value: 0.20825066802626788 and parameters: {'n_clusters': 147}. Best is trial 60 with value: 0.21651167095277896.\n",
      "[I 2024-06-17 22:30:24,526] Trial 74 finished with value: 0.14014742246206568 and parameters: {'n_clusters': 46}. Best is trial 60 with value: 0.21651167095277896.\n",
      "[I 2024-06-17 22:30:24,618] Trial 75 finished with value: 0.19764427387785483 and parameters: {'n_clusters': 144}. Best is trial 60 with value: 0.21651167095277896.\n",
      "[I 2024-06-17 22:30:24,701] Trial 76 finished with value: 0.14712479717711915 and parameters: {'n_clusters': 26}. Best is trial 60 with value: 0.21651167095277896.\n",
      "[I 2024-06-17 22:30:24,753] Trial 77 finished with value: 0.1416358053812237 and parameters: {'n_clusters': 27}. Best is trial 60 with value: 0.21651167095277896.\n",
      "[I 2024-06-17 22:30:24,808] Trial 78 finished with value: 0.14853905328882375 and parameters: {'n_clusters': 35}. Best is trial 60 with value: 0.21651167095277896.\n",
      "[I 2024-06-17 22:30:24,889] Trial 79 finished with value: 0.15528970163971603 and parameters: {'n_clusters': 70}. Best is trial 60 with value: 0.21651167095277896.\n",
      "[I 2024-06-17 22:30:25,006] Trial 80 finished with value: 0.17329973108648325 and parameters: {'n_clusters': 87}. Best is trial 60 with value: 0.21651167095277896.\n",
      "[I 2024-06-17 22:30:25,087] Trial 81 finished with value: 0.15434493693672116 and parameters: {'n_clusters': 59}. Best is trial 60 with value: 0.21651167095277896.\n",
      "[I 2024-06-17 22:30:25,234] Trial 82 finished with value: 0.18462494432462453 and parameters: {'n_clusters': 102}. Best is trial 60 with value: 0.21651167095277896.\n",
      "[I 2024-06-17 22:30:25,306] Trial 83 finished with value: 0.14788826884820253 and parameters: {'n_clusters': 58}. Best is trial 60 with value: 0.21651167095277896.\n",
      "[I 2024-06-17 22:30:25,421] Trial 84 finished with value: 0.160982701653597 and parameters: {'n_clusters': 116}. Best is trial 60 with value: 0.21651167095277896.\n",
      "[I 2024-06-17 22:30:25,508] Trial 85 finished with value: 0.17752019928383908 and parameters: {'n_clusters': 85}. Best is trial 60 with value: 0.21651167095277896.\n",
      "[I 2024-06-17 22:30:25,642] Trial 86 finished with value: 0.21414479382336554 and parameters: {'n_clusters': 139}. Best is trial 60 with value: 0.21651167095277896.\n",
      "[I 2024-06-17 22:30:25,748] Trial 87 finished with value: 0.1472007497390666 and parameters: {'n_clusters': 44}. Best is trial 60 with value: 0.21651167095277896.\n",
      "[I 2024-06-17 22:30:25,841] Trial 88 finished with value: 0.16572630283076917 and parameters: {'n_clusters': 78}. Best is trial 60 with value: 0.21651167095277896.\n",
      "[I 2024-06-17 22:30:25,939] Trial 89 finished with value: 0.15289220434535641 and parameters: {'n_clusters': 72}. Best is trial 60 with value: 0.21651167095277896.\n",
      "[I 2024-06-17 22:30:26,043] Trial 90 finished with value: 0.1642217464694455 and parameters: {'n_clusters': 90}. Best is trial 60 with value: 0.21651167095277896.\n",
      "[I 2024-06-17 22:30:26,143] Trial 91 finished with value: 0.194296162646965 and parameters: {'n_clusters': 129}. Best is trial 60 with value: 0.21651167095277896.\n",
      "[I 2024-06-17 22:30:26,203] Trial 92 finished with value: 0.1396021992037259 and parameters: {'n_clusters': 30}. Best is trial 60 with value: 0.21651167095277896.\n",
      "[I 2024-06-17 22:30:26,289] Trial 93 finished with value: 0.1822264675204814 and parameters: {'n_clusters': 99}. Best is trial 60 with value: 0.21651167095277896.\n",
      "[I 2024-06-17 22:30:26,398] Trial 94 finished with value: 0.1931230179058662 and parameters: {'n_clusters': 140}. Best is trial 60 with value: 0.21651167095277896.\n",
      "[I 2024-06-17 22:30:26,506] Trial 95 finished with value: 0.16143224675379705 and parameters: {'n_clusters': 104}. Best is trial 60 with value: 0.21651167095277896.\n",
      "[I 2024-06-17 22:30:26,574] Trial 96 finished with value: 0.16069444978209488 and parameters: {'n_clusters': 57}. Best is trial 60 with value: 0.21651167095277896.\n",
      "[I 2024-06-17 22:30:26,648] Trial 97 finished with value: 0.17228879738408837 and parameters: {'n_clusters': 93}. Best is trial 60 with value: 0.21651167095277896.\n",
      "[I 2024-06-17 22:30:26,721] Trial 98 finished with value: 0.15028927387447305 and parameters: {'n_clusters': 80}. Best is trial 60 with value: 0.21651167095277896.\n",
      "[I 2024-06-17 22:30:26,811] Trial 99 finished with value: 0.1854576739129018 and parameters: {'n_clusters': 127}. Best is trial 60 with value: 0.21651167095277896.\n",
      "[I 2024-06-17 22:30:26,908] Trial 100 finished with value: 0.17075725674517028 and parameters: {'n_clusters': 136}. Best is trial 60 with value: 0.21651167095277896.\n",
      "[I 2024-06-17 22:30:27,000] Trial 101 finished with value: 0.20324773009104624 and parameters: {'n_clusters': 144}. Best is trial 60 with value: 0.21651167095277896.\n",
      "[I 2024-06-17 22:30:27,060] Trial 102 finished with value: 0.1227933616080762 and parameters: {'n_clusters': 20}. Best is trial 60 with value: 0.21651167095277896.\n",
      "[I 2024-06-17 22:30:27,151] Trial 103 finished with value: 0.19957320355502867 and parameters: {'n_clusters': 141}. Best is trial 60 with value: 0.21651167095277896.\n",
      "[I 2024-06-17 22:30:27,346] Trial 104 finished with value: 0.19430794850795094 and parameters: {'n_clusters': 147}. Best is trial 60 with value: 0.21651167095277896.\n",
      "[I 2024-06-17 22:30:27,547] Trial 105 finished with value: 0.18386841543511823 and parameters: {'n_clusters': 115}. Best is trial 60 with value: 0.21651167095277896.\n",
      "[I 2024-06-17 22:30:27,602] Trial 106 finished with value: 0.1378961817902338 and parameters: {'n_clusters': 19}. Best is trial 60 with value: 0.21651167095277896.\n",
      "[I 2024-06-17 22:30:27,661] Trial 107 finished with value: 0.16144740850143155 and parameters: {'n_clusters': 10}. Best is trial 60 with value: 0.21651167095277896.\n",
      "[I 2024-06-17 22:30:27,814] Trial 108 finished with value: 0.19310969112489673 and parameters: {'n_clusters': 134}. Best is trial 60 with value: 0.21651167095277896.\n",
      "[I 2024-06-17 22:30:27,893] Trial 109 finished with value: 0.15962949089917366 and parameters: {'n_clusters': 35}. Best is trial 60 with value: 0.21651167095277896.\n",
      "[I 2024-06-17 22:30:28,075] Trial 110 finished with value: 0.17795965015528553 and parameters: {'n_clusters': 92}. Best is trial 60 with value: 0.21651167095277896.\n",
      "[I 2024-06-17 22:30:28,171] Trial 111 finished with value: 0.20998956559692164 and parameters: {'n_clusters': 150}. Best is trial 60 with value: 0.21651167095277896.\n",
      "[I 2024-06-17 22:30:28,228] Trial 112 finished with value: 0.1397071696002019 and parameters: {'n_clusters': 33}. Best is trial 60 with value: 0.21651167095277896.\n",
      "[I 2024-06-17 22:30:28,330] Trial 113 finished with value: 0.13435456056737877 and parameters: {'n_clusters': 29}. Best is trial 60 with value: 0.21651167095277896.\n",
      "[I 2024-06-17 22:30:28,408] Trial 114 finished with value: 0.15416521677204267 and parameters: {'n_clusters': 51}. Best is trial 60 with value: 0.21651167095277896.\n",
      "[I 2024-06-17 22:30:28,574] Trial 115 finished with value: 0.1615680609678728 and parameters: {'n_clusters': 109}. Best is trial 60 with value: 0.21651167095277896.\n",
      "[I 2024-06-17 22:30:28,671] Trial 116 finished with value: 0.152798901229957 and parameters: {'n_clusters': 32}. Best is trial 60 with value: 0.21651167095277896.\n",
      "[I 2024-06-17 22:30:28,763] Trial 117 finished with value: 0.1566136749354661 and parameters: {'n_clusters': 91}. Best is trial 60 with value: 0.21651167095277896.\n",
      "[I 2024-06-17 22:30:28,849] Trial 118 finished with value: 0.17836891600308824 and parameters: {'n_clusters': 100}. Best is trial 60 with value: 0.21651167095277896.\n",
      "[I 2024-06-17 22:30:28,896] Trial 119 finished with value: 0.1393298357891423 and parameters: {'n_clusters': 15}. Best is trial 60 with value: 0.21651167095277896.\n",
      "[I 2024-06-17 22:30:29,010] Trial 120 finished with value: 0.18404454274486198 and parameters: {'n_clusters': 111}. Best is trial 60 with value: 0.21651167095277896.\n",
      "[I 2024-06-17 22:30:29,094] Trial 121 finished with value: 0.16439370483603769 and parameters: {'n_clusters': 20}. Best is trial 60 with value: 0.21651167095277896.\n",
      "[I 2024-06-17 22:30:29,238] Trial 122 finished with value: 0.17151523647642988 and parameters: {'n_clusters': 110}. Best is trial 60 with value: 0.21651167095277896.\n",
      "[I 2024-06-17 22:30:29,298] Trial 123 finished with value: 0.13935175433619382 and parameters: {'n_clusters': 14}. Best is trial 60 with value: 0.21651167095277896.\n",
      "[I 2024-06-17 22:30:29,389] Trial 124 finished with value: 0.18011793985460212 and parameters: {'n_clusters': 103}. Best is trial 60 with value: 0.21651167095277896.\n",
      "[I 2024-06-17 22:30:29,453] Trial 125 finished with value: 0.15659111214937257 and parameters: {'n_clusters': 39}. Best is trial 60 with value: 0.21651167095277896.\n",
      "[I 2024-06-17 22:30:29,563] Trial 126 finished with value: 0.1891073450819254 and parameters: {'n_clusters': 115}. Best is trial 60 with value: 0.21651167095277896.\n",
      "[I 2024-06-17 22:30:29,668] Trial 127 finished with value: 0.14055526798115167 and parameters: {'n_clusters': 31}. Best is trial 60 with value: 0.21651167095277896.\n",
      "[I 2024-06-17 22:30:29,749] Trial 128 finished with value: 0.18551882438733772 and parameters: {'n_clusters': 116}. Best is trial 60 with value: 0.21651167095277896.\n",
      "[I 2024-06-17 22:30:29,874] Trial 129 finished with value: 0.1922646205589348 and parameters: {'n_clusters': 138}. Best is trial 60 with value: 0.21651167095277896.\n",
      "[I 2024-06-17 22:30:29,941] Trial 130 finished with value: 0.1540978292589782 and parameters: {'n_clusters': 75}. Best is trial 60 with value: 0.21651167095277896.\n",
      "[I 2024-06-17 22:30:30,031] Trial 131 finished with value: 0.16226195254876677 and parameters: {'n_clusters': 69}. Best is trial 60 with value: 0.21651167095277896.\n",
      "[I 2024-06-17 22:30:30,106] Trial 132 finished with value: 0.13644664352929797 and parameters: {'n_clusters': 37}. Best is trial 60 with value: 0.21651167095277896.\n",
      "[I 2024-06-17 22:30:30,279] Trial 133 finished with value: 0.16007804690766428 and parameters: {'n_clusters': 56}. Best is trial 60 with value: 0.21651167095277896.\n",
      "[I 2024-06-17 22:30:30,360] Trial 134 finished with value: 0.14895687562302887 and parameters: {'n_clusters': 77}. Best is trial 60 with value: 0.21651167095277896.\n",
      "[I 2024-06-17 22:30:30,412] Trial 135 finished with value: 0.14336379429145057 and parameters: {'n_clusters': 17}. Best is trial 60 with value: 0.21651167095277896.\n",
      "[I 2024-06-17 22:30:30,501] Trial 136 finished with value: 0.16183157915919497 and parameters: {'n_clusters': 76}. Best is trial 60 with value: 0.21651167095277896.\n",
      "[I 2024-06-17 22:30:30,591] Trial 137 finished with value: 0.20360933282757224 and parameters: {'n_clusters': 130}. Best is trial 60 with value: 0.21651167095277896.\n",
      "[I 2024-06-17 22:30:30,739] Trial 138 finished with value: 0.15715016719425862 and parameters: {'n_clusters': 55}. Best is trial 60 with value: 0.21651167095277896.\n",
      "[I 2024-06-17 22:30:30,856] Trial 139 finished with value: 0.19786786328464506 and parameters: {'n_clusters': 131}. Best is trial 60 with value: 0.21651167095277896.\n",
      "[I 2024-06-17 22:30:30,924] Trial 140 finished with value: 0.14093131836179307 and parameters: {'n_clusters': 30}. Best is trial 60 with value: 0.21651167095277896.\n",
      "[I 2024-06-17 22:30:31,012] Trial 141 finished with value: 0.1652546095885703 and parameters: {'n_clusters': 89}. Best is trial 60 with value: 0.21651167095277896.\n",
      "[I 2024-06-17 22:30:31,098] Trial 142 finished with value: 0.17640025583368665 and parameters: {'n_clusters': 114}. Best is trial 60 with value: 0.21651167095277896.\n",
      "[I 2024-06-17 22:30:31,183] Trial 143 finished with value: 0.12276746358674132 and parameters: {'n_clusters': 28}. Best is trial 60 with value: 0.21651167095277896.\n",
      "[I 2024-06-17 22:30:31,324] Trial 144 finished with value: 0.1700921215182183 and parameters: {'n_clusters': 46}. Best is trial 60 with value: 0.21651167095277896.\n",
      "[I 2024-06-17 22:30:31,438] Trial 145 finished with value: 0.1852718078675908 and parameters: {'n_clusters': 133}. Best is trial 60 with value: 0.21651167095277896.\n",
      "[I 2024-06-17 22:30:31,543] Trial 146 finished with value: 0.20095337627152643 and parameters: {'n_clusters': 136}. Best is trial 60 with value: 0.21651167095277896.\n",
      "[I 2024-06-17 22:30:31,625] Trial 147 finished with value: 0.1573391783541223 and parameters: {'n_clusters': 67}. Best is trial 60 with value: 0.21651167095277896.\n",
      "[I 2024-06-17 22:30:31,682] Trial 148 finished with value: 0.1530782841077234 and parameters: {'n_clusters': 11}. Best is trial 60 with value: 0.21651167095277896.\n",
      "[I 2024-06-17 22:30:31,754] Trial 149 finished with value: 0.14750948927957952 and parameters: {'n_clusters': 58}. Best is trial 60 with value: 0.21651167095277896.\n",
      "[I 2024-06-17 22:30:31,845] Trial 150 finished with value: 0.1340739668033955 and parameters: {'n_clusters': 25}. Best is trial 60 with value: 0.21651167095277896.\n",
      "[I 2024-06-17 22:30:31,930] Trial 151 finished with value: 0.1650940635468918 and parameters: {'n_clusters': 85}. Best is trial 60 with value: 0.21651167095277896.\n",
      "[I 2024-06-17 22:30:32,026] Trial 152 finished with value: 0.1595886179999089 and parameters: {'n_clusters': 64}. Best is trial 60 with value: 0.21651167095277896.\n",
      "[I 2024-06-17 22:30:32,152] Trial 153 finished with value: 0.1541640884082027 and parameters: {'n_clusters': 105}. Best is trial 60 with value: 0.21651167095277896.\n",
      "[I 2024-06-17 22:30:32,308] Trial 154 finished with value: 0.16221213411421886 and parameters: {'n_clusters': 90}. Best is trial 60 with value: 0.21651167095277896.\n",
      "[I 2024-06-17 22:30:32,399] Trial 155 finished with value: 0.15929486074420024 and parameters: {'n_clusters': 74}. Best is trial 60 with value: 0.21651167095277896.\n",
      "[I 2024-06-17 22:30:32,489] Trial 156 finished with value: 0.14208458073136582 and parameters: {'n_clusters': 33}. Best is trial 60 with value: 0.21651167095277896.\n",
      "[I 2024-06-17 22:30:32,589] Trial 157 finished with value: 0.16140567931663816 and parameters: {'n_clusters': 75}. Best is trial 60 with value: 0.21651167095277896.\n",
      "[I 2024-06-17 22:30:32,668] Trial 158 finished with value: 0.16634890346227182 and parameters: {'n_clusters': 45}. Best is trial 60 with value: 0.21651167095277896.\n",
      "[I 2024-06-17 22:30:32,804] Trial 159 finished with value: 0.20293714957776166 and parameters: {'n_clusters': 136}. Best is trial 60 with value: 0.21651167095277896.\n",
      "[I 2024-06-17 22:30:32,886] Trial 160 finished with value: 0.13337369342237468 and parameters: {'n_clusters': 21}. Best is trial 60 with value: 0.21651167095277896.\n",
      "[I 2024-06-17 22:30:32,967] Trial 161 finished with value: 0.1286116634119118 and parameters: {'n_clusters': 16}. Best is trial 60 with value: 0.21651167095277896.\n",
      "[I 2024-06-17 22:30:33,045] Trial 162 finished with value: 0.13386758963975376 and parameters: {'n_clusters': 22}. Best is trial 60 with value: 0.21651167095277896.\n",
      "[I 2024-06-17 22:30:33,135] Trial 163 finished with value: 0.17155421362302942 and parameters: {'n_clusters': 77}. Best is trial 60 with value: 0.21651167095277896.\n",
      "[I 2024-06-17 22:30:33,203] Trial 164 finished with value: 0.11674584423428398 and parameters: {'n_clusters': 24}. Best is trial 60 with value: 0.21651167095277896.\n",
      "[I 2024-06-17 22:30:33,302] Trial 165 finished with value: 0.17243862518049818 and parameters: {'n_clusters': 83}. Best is trial 60 with value: 0.21651167095277896.\n",
      "[I 2024-06-17 22:30:33,389] Trial 166 finished with value: 0.1557306637654579 and parameters: {'n_clusters': 37}. Best is trial 60 with value: 0.21651167095277896.\n",
      "[I 2024-06-17 22:30:33,470] Trial 167 finished with value: 0.13446997766720561 and parameters: {'n_clusters': 41}. Best is trial 60 with value: 0.21651167095277896.\n",
      "[I 2024-06-17 22:30:33,568] Trial 168 finished with value: 0.18494850624419984 and parameters: {'n_clusters': 120}. Best is trial 60 with value: 0.21651167095277896.\n",
      "[I 2024-06-17 22:30:33,678] Trial 169 finished with value: 0.2003546953891893 and parameters: {'n_clusters': 149}. Best is trial 60 with value: 0.21651167095277896.\n",
      "[I 2024-06-17 22:30:33,767] Trial 170 finished with value: 0.18836758156176261 and parameters: {'n_clusters': 96}. Best is trial 60 with value: 0.21651167095277896.\n",
      "[I 2024-06-17 22:30:33,849] Trial 171 finished with value: 0.14371317424575075 and parameters: {'n_clusters': 43}. Best is trial 60 with value: 0.21651167095277896.\n",
      "[I 2024-06-17 22:30:33,963] Trial 172 finished with value: 0.16489704866745855 and parameters: {'n_clusters': 117}. Best is trial 60 with value: 0.21651167095277896.\n",
      "[I 2024-06-17 22:30:34,062] Trial 173 finished with value: 0.17701422438453263 and parameters: {'n_clusters': 99}. Best is trial 60 with value: 0.21651167095277896.\n",
      "[I 2024-06-17 22:30:34,132] Trial 174 finished with value: 0.14166475699033962 and parameters: {'n_clusters': 24}. Best is trial 60 with value: 0.21651167095277896.\n",
      "[I 2024-06-17 22:30:34,234] Trial 175 finished with value: 0.18524585128059612 and parameters: {'n_clusters': 104}. Best is trial 60 with value: 0.21651167095277896.\n",
      "[I 2024-06-17 22:30:34,356] Trial 176 finished with value: 0.14019072435209876 and parameters: {'n_clusters': 21}. Best is trial 60 with value: 0.21651167095277896.\n",
      "[I 2024-06-17 22:30:34,480] Trial 177 finished with value: 0.15723686984340907 and parameters: {'n_clusters': 56}. Best is trial 60 with value: 0.21651167095277896.\n",
      "[I 2024-06-17 22:30:34,585] Trial 178 finished with value: 0.16207506136936223 and parameters: {'n_clusters': 86}. Best is trial 60 with value: 0.21651167095277896.\n",
      "[I 2024-06-17 22:30:34,691] Trial 179 finished with value: 0.18006196469563457 and parameters: {'n_clusters': 139}. Best is trial 60 with value: 0.21651167095277896.\n",
      "[I 2024-06-17 22:30:34,822] Trial 180 finished with value: 0.16689758439009575 and parameters: {'n_clusters': 86}. Best is trial 60 with value: 0.21651167095277896.\n",
      "[I 2024-06-17 22:30:34,926] Trial 181 finished with value: 0.18045334854514966 and parameters: {'n_clusters': 112}. Best is trial 60 with value: 0.21651167095277896.\n",
      "[I 2024-06-17 22:30:35,027] Trial 182 finished with value: 0.19388056018104777 and parameters: {'n_clusters': 108}. Best is trial 60 with value: 0.21651167095277896.\n",
      "[I 2024-06-17 22:30:35,109] Trial 183 finished with value: 0.1484566041788747 and parameters: {'n_clusters': 52}. Best is trial 60 with value: 0.21651167095277896.\n",
      "[I 2024-06-17 22:30:35,231] Trial 184 finished with value: 0.1962267254216822 and parameters: {'n_clusters': 148}. Best is trial 60 with value: 0.21651167095277896.\n",
      "[I 2024-06-17 22:30:35,346] Trial 185 finished with value: 0.1693728265950411 and parameters: {'n_clusters': 107}. Best is trial 60 with value: 0.21651167095277896.\n",
      "[I 2024-06-17 22:30:35,446] Trial 186 finished with value: 0.15167564693649074 and parameters: {'n_clusters': 84}. Best is trial 60 with value: 0.21651167095277896.\n",
      "[I 2024-06-17 22:30:35,551] Trial 187 finished with value: 0.1744176674069691 and parameters: {'n_clusters': 102}. Best is trial 60 with value: 0.21651167095277896.\n",
      "[I 2024-06-17 22:30:35,670] Trial 188 finished with value: 0.211747739591392 and parameters: {'n_clusters': 143}. Best is trial 60 with value: 0.21651167095277896.\n",
      "[I 2024-06-17 22:30:35,739] Trial 189 finished with value: 0.14421159575031434 and parameters: {'n_clusters': 28}. Best is trial 60 with value: 0.21651167095277896.\n",
      "[I 2024-06-17 22:30:35,837] Trial 190 finished with value: 0.1580737688007115 and parameters: {'n_clusters': 65}. Best is trial 60 with value: 0.21651167095277896.\n",
      "[I 2024-06-17 22:30:35,969] Trial 191 finished with value: 0.19335054326892026 and parameters: {'n_clusters': 147}. Best is trial 60 with value: 0.21651167095277896.\n",
      "[I 2024-06-17 22:30:36,168] Trial 192 finished with value: 0.1722688488685299 and parameters: {'n_clusters': 122}. Best is trial 60 with value: 0.21651167095277896.\n",
      "[I 2024-06-17 22:30:36,259] Trial 193 finished with value: 0.16132193396893055 and parameters: {'n_clusters': 56}. Best is trial 60 with value: 0.21651167095277896.\n",
      "[I 2024-06-17 22:30:36,367] Trial 194 finished with value: 0.16953540320540944 and parameters: {'n_clusters': 109}. Best is trial 60 with value: 0.21651167095277896.\n",
      "[I 2024-06-17 22:30:36,457] Trial 195 finished with value: 0.14621708179500503 and parameters: {'n_clusters': 85}. Best is trial 60 with value: 0.21651167095277896.\n",
      "[I 2024-06-17 22:30:36,548] Trial 196 finished with value: 0.18512984446744046 and parameters: {'n_clusters': 125}. Best is trial 60 with value: 0.21651167095277896.\n",
      "[I 2024-06-17 22:30:36,630] Trial 197 finished with value: 0.14268748245303123 and parameters: {'n_clusters': 70}. Best is trial 60 with value: 0.21651167095277896.\n",
      "[I 2024-06-17 22:30:36,704] Trial 198 finished with value: 0.14167611456114526 and parameters: {'n_clusters': 39}. Best is trial 60 with value: 0.21651167095277896.\n",
      "[I 2024-06-17 22:30:36,803] Trial 199 finished with value: 0.2093853539286025 and parameters: {'n_clusters': 150}. Best is trial 60 with value: 0.21651167095277896.\n"
     ]
    }
   ],
   "source": [
    "# Executar o estudo do optuna para o modelo hierarquical divisive\n",
    "study_di.optimize(hierarquical_divisive_objective, n_trials=200)"
   ]
  },
  {
   "cell_type": "code",
   "execution_count": 66,
   "metadata": {},
   "outputs": [
    {
     "name": "stdout",
     "output_type": "stream",
     "text": [
      "Melhores parâmetros para o modelo hierarquical divisive: \n",
      "n_clusters: 145\n"
     ]
    }
   ],
   "source": [
    "# Mostrar melhor configuração do optuna para o modelo hierarquical divisive\n",
    "best_params_di = study_di.best_params\n",
    "\n",
    "print(f'Melhores parâmetros para o modelo hierarquical divisive: ')\n",
    "print(f'n_clusters: {best_params_di[\"n_clusters\"]}')"
   ]
  }
 ],
 "metadata": {
  "kernelspec": {
   "display_name": "formacao-ia-clusterizacao-hierarquica-GbuR_NKQ",
   "language": "python",
   "name": "python3"
  },
  "language_info": {
   "codemirror_mode": {
    "name": "ipython",
    "version": 3
   },
   "file_extension": ".py",
   "mimetype": "text/x-python",
   "name": "python",
   "nbconvert_exporter": "python",
   "pygments_lexer": "ipython3",
   "version": "3.12.3"
  }
 },
 "nbformat": 4,
 "nbformat_minor": 2
}
